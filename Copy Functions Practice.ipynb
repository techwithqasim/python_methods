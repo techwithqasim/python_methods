{
 "cells": [
  {
   "cell_type": "markdown",
   "id": "090c658d",
   "metadata": {},
   "source": [
    "# Shallow Copy and Deep Copy"
   ]
  },
  {
   "cell_type": "code",
   "execution_count": 129,
   "id": "31032ae4",
   "metadata": {},
   "outputs": [
    {
     "name": "stdout",
     "output_type": "stream",
     "text": [
      "Modifying the 'List3' nested list Index [2][0]\n",
      "Variable:\n",
      " [1, 2, ['Q', 4]]\n",
      "List2:\n",
      " [1, 2, ['Q', 4]]\n",
      "\n",
      "List3:\n",
      " [1, 2, ['Q', 4]]\n",
      "\n",
      "Modify the outer list append(5)\n",
      "Variable:\n",
      " [1, 2, ['Q', 4]]\n",
      "List2:\n",
      " [1, 2, ['Q', 4]]\n",
      "\n",
      "List3:\n",
      " [1, 2, ['Q', 4], 5]\n"
     ]
    }
   ],
   "source": [
    "List1 = [1, 2, [3, 4]] # list 1 a nested list\n",
    "List2 = List1 # list 2 ----->  which is an assignment that makes \"List2\" a reference to the same list object as \"List1\"\n",
    "# and \"new\" not a shallow copy for reference\n",
    "List3 = List1.copy() # list 3 acts as shallow copy in changes to inner list [3, 4] which remains a reference to \n",
    "#the same nested list within \"List1\" and \"List2\"\n",
    "\n",
    "print(\"Modifying the 'List3' nested list Index [2][0]\")\n",
    "List3[2][0] = 'Q'\n",
    "print(\"Variable:\\n\",List1)\n",
    "print(\"List2:\\n\",List2)\n",
    "print(\"\\nList3:\\n\",List3)\n",
    "\n",
    "print(\"\\nModify the outer list append(5)\")\n",
    "List3.append(5)\n",
    "print(\"Variable:\\n\",List1)\n",
    "print(\"List2:\\n\",List2)\n",
    "print(\"\\nList3:\\n\",List3)"
   ]
  },
  {
   "cell_type": "code",
   "execution_count": 130,
   "id": "3cc0dc8e",
   "metadata": {},
   "outputs": [
    {
     "name": "stdout",
     "output_type": "stream",
     "text": [
      "Modifying the 'List3' nested list Index [2]\n",
      "Variable:\n",
      " [1, 2, [3, 4]]\n",
      "List2:\n",
      " [1, 2, [3, 4]]\n",
      "\n",
      "List3:\n",
      " [1, 2, 'Q']\n",
      "\n",
      "Modify the outer list append(5)\n",
      "Variable:\n",
      " [1, 2, [3, 4]]\n",
      "List2:\n",
      " [1, 2, [3, 4]]\n",
      "\n",
      "List3:\n",
      " [1, 2, 'Q', 5]\n"
     ]
    }
   ],
   "source": [
    "List1 = [1, 2, [3, 4]] # list 1 a nested list\n",
    "List2 = List1 # list 2 ----->  which is an assignment that makes \"List2\" a reference to the same list object as \"List1\"\n",
    "# and \"new\" not a shallow copy for reference\n",
    "List3 = List1.copy() # list 3 is as acts deep copy in changes to list by single index\n",
    "\n",
    "print(\"Modifying the 'List3' nested list Index [2]\")\n",
    "List3[2] = 'Q'\n",
    "print(\"Variable:\\n\",List1)\n",
    "print(\"List2:\\n\",List2)\n",
    "print(\"\\nList3:\\n\",List3)\n",
    "\n",
    "print(\"\\nModify the outer list append(5)\")\n",
    "List3.append(5)\n",
    "print(\"Variable:\\n\",List1)\n",
    "print(\"List2:\\n\",List2)\n",
    "print(\"\\nList3:\\n\",List3)"
   ]
  },
  {
   "cell_type": "code",
   "execution_count": 1,
   "id": "56831aa3",
   "metadata": {},
   "outputs": [
    {
     "name": "stdout",
     "output_type": "stream",
     "text": [
      "Modifying the 'List3' nested list Index [1]\n",
      "Variable:\n",
      " [1, 2, [3, 4]]\n",
      "List2:\n",
      " [1, 2, [3, 4]]\n",
      "\n",
      "List3:\n",
      " [1, 'Q', [3, 4]]\n",
      "\n",
      "Modify the outer list append(5)\n",
      "Variable:\n",
      " [1, 2, [3, 4]]\n",
      "List2:\n",
      " [1, 2, [3, 4]]\n",
      "\n",
      "List3:\n",
      " [1, 'Q', [3, 4], 5]\n"
     ]
    }
   ],
   "source": [
    "List1 = [1, 2, [3, 4]] # list 1 a nested list\n",
    "List2 = List1 # list 2 ----->  which is an assignment that makes \"List2\" a reference to the same list object as \"List1\"\n",
    "# and \"new\" not a shallow copy for reference\n",
    "List3 = List1.copy() # list 3 is as acts deep copy in changes to list by single index\n",
    "\n",
    "print(\"Modifying the 'List3' nested list Index [1]\")\n",
    "List3[1] = 'Q'\n",
    "print(\"Variable:\\n\",List1)\n",
    "print(\"List2:\\n\",List2)\n",
    "print(\"\\nList3:\\n\",List3)\n",
    "\n",
    "print(\"\\nModify the outer list append(5)\")\n",
    "List3.append(5)\n",
    "print(\"Variable:\\n\",List1)\n",
    "print(\"List2:\\n\",List2)\n",
    "print(\"\\nList3:\\n\",List3)"
   ]
  },
  {
   "cell_type": "code",
   "execution_count": 132,
   "id": "a056ad9d",
   "metadata": {},
   "outputs": [
    {
     "name": "stdout",
     "output_type": "stream",
     "text": [
      "Modifying the 'List3' nested list Index [2][0]\n",
      "Variable:\n",
      " [1, 2, ['Q', 4]]\n",
      "List2:\n",
      " [1, 2, ['Q', 4]]\n",
      "\n",
      "List3:\n",
      " [1, 2, ['Q', 4]]\n",
      "\n",
      "Modify the outer list append(5)\n",
      "Variable:\n",
      " [1, 2, ['Q', 4]]\n",
      "List2:\n",
      " [1, 2, ['Q', 4]]\n",
      "\n",
      "List3:\n",
      " [1, 2, ['Q', 4], 5]\n"
     ]
    }
   ],
   "source": [
    "import copy # for copy Method 2\n",
    "List1 = [1, 2, [3, 4]] # list 1 a nested list\n",
    "List2 = List1 # list 2 ----->  which is an assignment that makes \"List2\" a reference to the same list object as \"List1\"\n",
    "# and \"new\" not a shallow copy for reference\n",
    "List3 = copy.copy(List1) # list 3 acts as shallow copy in changes to inner list [3, 4]\n",
    "\n",
    "print(\"Modifying the 'List3' nested list Index [2][0]\")\n",
    "List3[2][0] = 'Q'\n",
    "print(\"Variable:\\n\",List1)\n",
    "print(\"List2:\\n\",List2)\n",
    "print(\"\\nList3:\\n\",List3)\n",
    "\n",
    "print(\"\\nModify the outer list append(5)\")\n",
    "List3.append(5)\n",
    "print(\"Variable:\\n\",List1)\n",
    "print(\"List2:\\n\",List2)\n",
    "print(\"\\nList3:\\n\",List3)"
   ]
  },
  {
   "cell_type": "code",
   "execution_count": 133,
   "id": "9ea3b10e",
   "metadata": {},
   "outputs": [
    {
     "name": "stdout",
     "output_type": "stream",
     "text": [
      "Modifying the 'List3' nested list Index [2]\n",
      "Variable:\n",
      " [1, 2, [3, 4]]\n",
      "List2:\n",
      " [1, 2, [3, 4]]\n",
      "\n",
      "List3:\n",
      " [1, 2, 'Q']\n",
      "\n",
      "Modify the outer list append(5)\n",
      "Variable:\n",
      " [1, 2, [3, 4]]\n",
      "List2:\n",
      " [1, 2, [3, 4]]\n",
      "\n",
      "List3:\n",
      " [1, 2, 'Q', 5]\n"
     ]
    }
   ],
   "source": [
    "import copy # for copy Method 2\n",
    "List1 = [1, 2, [3, 4]] # list 1 a nested list\n",
    "List2 = List1 # list 2 ----->  which is an assignment that makes \"List2\" a reference to the same list object as \"List1\"\n",
    "# and \"new\" not a shallow copy for reference\n",
    "List3 = copy.copy(List1) # list 3 acts as shallow copy in changes to inner list [3, 4]\n",
    "\n",
    "print(\"Modifying the 'List3' nested list Index [2]\")\n",
    "List3[2] = 'Q'\n",
    "print(\"Variable:\\n\",List1)\n",
    "print(\"List2:\\n\",List2)\n",
    "print(\"\\nList3:\\n\",List3)\n",
    "\n",
    "print(\"\\nModify the outer list append(5)\")\n",
    "List3.append(5)\n",
    "print(\"Variable:\\n\",List1)\n",
    "print(\"List2:\\n\",List2)\n",
    "print(\"\\nList3:\\n\",List3)"
   ]
  },
  {
   "cell_type": "code",
   "execution_count": 134,
   "id": "4c9829fd",
   "metadata": {},
   "outputs": [
    {
     "name": "stdout",
     "output_type": "stream",
     "text": [
      "Modifying the 'List3' nested list Index [1]\n",
      "Variable:\n",
      " [1, 2, [3, 4]]\n",
      "List2:\n",
      " [1, 2, [3, 4]]\n",
      "\n",
      "List3:\n",
      " [1, 'Q', [3, 4]]\n",
      "\n",
      "Modify the outer list append(5)\n",
      "Variable:\n",
      " [1, 2, [3, 4]]\n",
      "List2:\n",
      " [1, 2, [3, 4]]\n",
      "\n",
      "List3:\n",
      " [1, 'Q', [3, 4], 5]\n"
     ]
    }
   ],
   "source": [
    "import copy # for copy Method 2\n",
    "List1 = [1, 2, [3, 4]] # list 1 a nested list\n",
    "List2 = List1 # list 2 ----->  which is an assignment that makes \"List2\" a reference to the same list object as \"List1\"\n",
    "# and \"new\" not a shallow copy for reference\n",
    "List3 = copy.copy(List1) # list 3 acts as shallow copy in changes to inner list [3, 4]\n",
    "\n",
    "print(\"Modifying the 'List3' nested list Index [1]\")\n",
    "List3[1] = 'Q'\n",
    "print(\"Variable:\\n\",List1)\n",
    "print(\"List2:\\n\",List2)\n",
    "print(\"\\nList3:\\n\",List3)\n",
    "\n",
    "print(\"\\nModify the outer list append(5)\")\n",
    "List3.append(5)\n",
    "print(\"Variable:\\n\",List1)\n",
    "print(\"List2:\\n\",List2)\n",
    "print(\"\\nList3:\\n\",List3)"
   ]
  },
  {
   "cell_type": "markdown",
   "id": "c6823a99",
   "metadata": {},
   "source": [
    "# True Deep Copy"
   ]
  },
  {
   "cell_type": "code",
   "execution_count": 137,
   "id": "fefeb2e0",
   "metadata": {},
   "outputs": [
    {
     "name": "stdout",
     "output_type": "stream",
     "text": [
      "Modifying the 'List3' nested list Index [1]\n",
      "Variable:\n",
      " [1, 2, [3, 4]]\n",
      "List2:\n",
      " [1, 2, [3, 4]]\n",
      "\n",
      "List3:\n",
      " [1, 2, ['Q', 4]]\n",
      "\n",
      "Modify the outer list append(5)\n",
      "Variable:\n",
      " [1, 2, [3, 4]]\n",
      "List2:\n",
      " [1, 2, [3, 4]]\n",
      "\n",
      "List3:\n",
      " [1, 2, ['Q', 4], 5]\n"
     ]
    }
   ],
   "source": [
    "import copy # for deepcopy\n",
    "List1 = [1, 2, [3, 4]] # list 1 a nested list\n",
    "List2 = List1 # list 2 ----->  which is an assignment that makes \"List2\" a reference to the same list object as \"List1\"\n",
    "# also \"new\" is not a shallow copy but none the less.\n",
    "List3 = copy.deepcopy(List1) # list 3 deep copy\n",
    "\n",
    "print(\"Modifying the 'List3' nested list Index [1]\")\n",
    "List3[2][0] = 'Q'\n",
    "print(\"Variable:\\n\",List1)\n",
    "print(\"List2:\\n\",List2)\n",
    "print(\"\\nList3:\\n\",List3)\n",
    "\n",
    "print(\"\\nModify the outer list append(5)\")\n",
    "List3.append(5)\n",
    "print(\"Variable:\\n\",List1)\n",
    "print(\"List2:\\n\",List2)\n",
    "print(\"\\nList3:\\n\",List3)"
   ]
  },
  {
   "cell_type": "code",
   "execution_count": 116,
   "id": "9ce66699",
   "metadata": {},
   "outputs": [
    {
     "name": "stdout",
     "output_type": "stream",
     "text": [
      "The original elements before deep copying\n",
      "1 2 [3, 5] 4 \r\n",
      "The new list of elements after deep copying \n",
      "1 2 [7, 5] 4 \r\n",
      "The original elements after deep copying\n",
      "1 2 [3, 5] 4 "
     ]
    }
   ],
   "source": [
    "import copy\n",
    "li1 = [1, 2, [3,5], 4]\n",
    "li2 = copy.deepcopy(li1)\n",
    "print (\"The original elements before deep copying\")\n",
    "for i in range(0,len(li1)):\n",
    "    print (li1[i],end=\" \")\n",
    "\n",
    "print(\"\\r\")\n",
    "li2[2][0] = 7\n",
    "print (\"The new list of elements after deep copying \")\n",
    "for i in range(0,len( li1)):\n",
    "    print (li2[i],end=\" \")\n",
    "\n",
    "print(\"\\r\")\n",
    "\n",
    "print (\"The original elements after deep copying\")\n",
    "for i in range(0,len( li1)):\n",
    "    print (li1[i],end=\" \")"
   ]
  },
  {
   "cell_type": "code",
   "execution_count": 117,
   "id": "74699864",
   "metadata": {},
   "outputs": [
    {
     "name": "stdout",
     "output_type": "stream",
     "text": [
      "The original elements before shallow copying\n",
      "1 2 [3, 5] 4 \r\n",
      "The original elements after shallow copying\n",
      "1 2 [7, 5] 4 "
     ]
    }
   ],
   "source": [
    "import copy\n",
    "li1 = [1, 2, [3,5], 4]\n",
    "li2 = copy.copy(li1)\n",
    "print (\"The original elements before shallow copying\")\n",
    "for i in range(0,len(li1)):\n",
    "\tprint (li1[i],end=\" \")\n",
    "\n",
    "print(\"\\r\")\n",
    "\n",
    "li2[2][0] = 7\n",
    "\n",
    "print (\"The original elements after shallow copying\")\n",
    "for i in range(0,len( li1)):\n",
    "\tprint (li1[i],end=\" \")"
   ]
  },
  {
   "cell_type": "code",
   "execution_count": 118,
   "id": "c1403d11",
   "metadata": {},
   "outputs": [
    {
     "name": "stdout",
     "output_type": "stream",
     "text": [
      "Count: 9\n",
      "Done\n"
     ]
    }
   ],
   "source": [
    "import time\n",
    "import sys\n",
    "\n",
    "# Example usage of carriage return to overwrite text in the console\n",
    "for i in range(10):\n",
    "    # Print the number and flush the output buffer\n",
    "    sys.stdout.write(f\"\\rCount: {i}\")\n",
    "    sys.stdout.flush()\n",
    "    time.sleep(1)\n",
    "\n",
    "print(\"\\nDone\")\n"
   ]
  },
  {
   "cell_type": "code",
   "execution_count": 1,
   "id": "fb88a1bd",
   "metadata": {},
   "outputs": [],
   "source": [
    "a = 1"
   ]
  },
  {
   "cell_type": "code",
   "execution_count": 2,
   "id": "12c3251c",
   "metadata": {},
   "outputs": [],
   "source": [
    "b=a"
   ]
  },
  {
   "cell_type": "code",
   "execution_count": 3,
   "id": "abe8f853",
   "metadata": {},
   "outputs": [
    {
     "data": {
      "text/plain": [
       "140729610965800"
      ]
     },
     "execution_count": 3,
     "metadata": {},
     "output_type": "execute_result"
    }
   ],
   "source": [
    "id(a)"
   ]
  },
  {
   "cell_type": "code",
   "execution_count": 4,
   "id": "ca5fdb7b",
   "metadata": {},
   "outputs": [
    {
     "data": {
      "text/plain": [
       "140729610965800"
      ]
     },
     "execution_count": 4,
     "metadata": {},
     "output_type": "execute_result"
    }
   ],
   "source": [
    "id(b)"
   ]
  },
  {
   "cell_type": "code",
   "execution_count": 8,
   "id": "3ab44eaf",
   "metadata": {},
   "outputs": [],
   "source": [
    "c= 11"
   ]
  },
  {
   "cell_type": "code",
   "execution_count": 9,
   "id": "a9ac1abd",
   "metadata": {},
   "outputs": [
    {
     "data": {
      "text/plain": [
       "140729610966120"
      ]
     },
     "execution_count": 9,
     "metadata": {},
     "output_type": "execute_result"
    }
   ],
   "source": [
    "id(c)"
   ]
  },
  {
   "cell_type": "code",
   "execution_count": 10,
   "id": "e6d5f2d3",
   "metadata": {},
   "outputs": [],
   "source": [
    "g = [1,2,[3,4]]"
   ]
  },
  {
   "cell_type": "code",
   "execution_count": 11,
   "id": "91b9f79b",
   "metadata": {},
   "outputs": [],
   "source": [
    "h = g"
   ]
  },
  {
   "cell_type": "code",
   "execution_count": 12,
   "id": "85e5d20d",
   "metadata": {},
   "outputs": [
    {
     "data": {
      "text/plain": [
       "2352672729216"
      ]
     },
     "execution_count": 12,
     "metadata": {},
     "output_type": "execute_result"
    }
   ],
   "source": [
    "id(g)"
   ]
  },
  {
   "cell_type": "code",
   "execution_count": 13,
   "id": "dc3a34b6",
   "metadata": {},
   "outputs": [
    {
     "data": {
      "text/plain": [
       "2352672729216"
      ]
     },
     "execution_count": 13,
     "metadata": {},
     "output_type": "execute_result"
    }
   ],
   "source": [
    "id(h)"
   ]
  },
  {
   "cell_type": "code",
   "execution_count": 15,
   "id": "4f79403e",
   "metadata": {},
   "outputs": [],
   "source": [
    "import copy\n",
    "i = copy.copy(g)"
   ]
  },
  {
   "cell_type": "code",
   "execution_count": 16,
   "id": "f53c2f4a",
   "metadata": {},
   "outputs": [
    {
     "data": {
      "text/plain": [
       "2352669838272"
      ]
     },
     "execution_count": 16,
     "metadata": {},
     "output_type": "execute_result"
    }
   ],
   "source": [
    "id(i)"
   ]
  },
  {
   "cell_type": "code",
   "execution_count": 17,
   "id": "c17b7afc",
   "metadata": {},
   "outputs": [],
   "source": [
    "j = copy.deepcopy(g)"
   ]
  },
  {
   "cell_type": "code",
   "execution_count": 18,
   "id": "8a963eea",
   "metadata": {},
   "outputs": [
    {
     "data": {
      "text/plain": [
       "2352690156032"
      ]
     },
     "execution_count": 18,
     "metadata": {},
     "output_type": "execute_result"
    }
   ],
   "source": [
    "id(j)"
   ]
  },
  {
   "cell_type": "code",
   "execution_count": null,
   "id": "f4584e4c",
   "metadata": {},
   "outputs": [],
   "source": []
  }
 ],
 "metadata": {
  "kernelspec": {
   "display_name": "Python 3 (ipykernel)",
   "language": "python",
   "name": "python3"
  },
  "language_info": {
   "codemirror_mode": {
    "name": "ipython",
    "version": 3
   },
   "file_extension": ".py",
   "mimetype": "text/x-python",
   "name": "python",
   "nbconvert_exporter": "python",
   "pygments_lexer": "ipython3",
   "version": "3.11.5"
  }
 },
 "nbformat": 4,
 "nbformat_minor": 5
}
