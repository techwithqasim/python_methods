{
 "cells": [
  {
   "cell_type": "markdown",
   "id": "7d2790da",
   "metadata": {},
   "source": [
    "# Python Keywords"
   ]
  },
  {
   "cell_type": "markdown",
   "id": "514142b1",
   "metadata": {},
   "source": [
    "## and -- A logical operator"
   ]
  },
  {
   "cell_type": "code",
   "execution_count": 1,
   "id": "8ca3e76f",
   "metadata": {},
   "outputs": [
    {
     "name": "stdout",
     "output_type": "stream",
     "text": [
      "True\n"
     ]
    }
   ],
   "source": [
    "# Return True if both statements are True:\n",
    "\n",
    "x = (5 > 3 and 5 < 10)\n",
    "\n",
    "print(x)"
   ]
  },
  {
   "cell_type": "code",
   "execution_count": 2,
   "id": "25506287",
   "metadata": {},
   "outputs": [
    {
     "name": "stdout",
     "output_type": "stream",
     "text": [
      "Both statements are True\n"
     ]
    }
   ],
   "source": [
    "# Using the and keyword in an if statement:\n",
    "\n",
    "if 5 > 3 and 5 < 10:\n",
    "  print(\"Both statements are True\")\n",
    "else:\n",
    "  print(\"At least one of the statements are False\")"
   ]
  },
  {
   "cell_type": "markdown",
   "id": "5ce7d2e7",
   "metadata": {},
   "source": [
    "## not -- A logical operator"
   ]
  },
  {
   "cell_type": "code",
   "execution_count": 3,
   "id": "ff0b4b7d",
   "metadata": {},
   "outputs": [
    {
     "name": "stdout",
     "output_type": "stream",
     "text": [
      "True\n"
     ]
    }
   ],
   "source": [
    "# Return True if the statement is not True:\n",
    "\n",
    "x = False\n",
    "\n",
    "print(not x)"
   ]
  },
  {
   "cell_type": "markdown",
   "id": "987abd19",
   "metadata": {},
   "source": [
    "## or -- A logical operator"
   ]
  },
  {
   "cell_type": "code",
   "execution_count": 4,
   "id": "4fb3d0bd",
   "metadata": {},
   "outputs": [
    {
     "name": "stdout",
     "output_type": "stream",
     "text": [
      "True\n"
     ]
    }
   ],
   "source": [
    "# Return True if one of the statements are True:\n",
    "\n",
    "x = (5 > 3 or 5 > 10)\n",
    "\n",
    "print(x)"
   ]
  },
  {
   "cell_type": "code",
   "execution_count": 5,
   "id": "db022307",
   "metadata": {},
   "outputs": [
    {
     "name": "stdout",
     "output_type": "stream",
     "text": [
      "At least one of the statements are True\n"
     ]
    }
   ],
   "source": [
    "# Using the or keyword in an if statement:\n",
    "\n",
    "if 5 > 3 or 5 > 10:\n",
    "  print(\"At least one of the statements are True\")\n",
    "else:\n",
    "  print(\"None of the statements are True\")"
   ]
  },
  {
   "cell_type": "markdown",
   "id": "fdf59c24",
   "metadata": {},
   "source": [
    "## as -- To create an alias"
   ]
  },
  {
   "cell_type": "code",
   "execution_count": 6,
   "id": "7d3716df",
   "metadata": {},
   "outputs": [
    {
     "name": "stdout",
     "output_type": "stream",
     "text": [
      "January\n"
     ]
    }
   ],
   "source": [
    "# Refer to the calendar module as c:\n",
    "\n",
    "import calendar as c\n",
    "\n",
    "print(c.month_name[1])"
   ]
  },
  {
   "cell_type": "markdown",
   "id": "4cd1ace3",
   "metadata": {},
   "source": [
    "## import -- To import a module"
   ]
  },
  {
   "cell_type": "code",
   "execution_count": 7,
   "id": "4871554a",
   "metadata": {},
   "outputs": [
    {
     "name": "stdout",
     "output_type": "stream",
     "text": [
      "2024-08-07 14:42:00.337039\n"
     ]
    }
   ],
   "source": [
    "# Import the datetime module and display the current date and time:\n",
    "\n",
    "import datetime\n",
    "\n",
    "x = datetime.datetime.now()\n",
    "print(x)"
   ]
  },
  {
   "cell_type": "markdown",
   "id": "139c94ac",
   "metadata": {},
   "source": [
    "## from -- To import specific parts of a module"
   ]
  },
  {
   "cell_type": "code",
   "execution_count": 8,
   "id": "048cf12a",
   "metadata": {},
   "outputs": [
    {
     "name": "stdout",
     "output_type": "stream",
     "text": [
      "15:00:00\n"
     ]
    }
   ],
   "source": [
    "# Import only the time section from the datetime module, and print the time as if it was 15:00:\n",
    "\n",
    "from datetime import time\n",
    "\n",
    "x = time(hour=15)\n",
    "\n",
    "print(x)"
   ]
  },
  {
   "cell_type": "markdown",
   "id": "b054509c",
   "metadata": {},
   "source": [
    "## assert -- For debugging"
   ]
  },
  {
   "cell_type": "code",
   "execution_count": 9,
   "id": "f41f6703",
   "metadata": {
    "scrolled": true
   },
   "outputs": [
    {
     "ename": "AssertionError",
     "evalue": "",
     "output_type": "error",
     "traceback": [
      "\u001b[1;31m---------------------------------------------------------------------------\u001b[0m",
      "\u001b[1;31mAssertionError\u001b[0m                            Traceback (most recent call last)",
      "Cell \u001b[1;32mIn[9], line 9\u001b[0m\n\u001b[0;32m      6\u001b[0m \u001b[38;5;28;01massert\u001b[39;00m x \u001b[38;5;241m==\u001b[39m \u001b[38;5;124m\"\u001b[39m\u001b[38;5;124mhello\u001b[39m\u001b[38;5;124m\"\u001b[39m\n\u001b[0;32m      8\u001b[0m \u001b[38;5;66;03m#if condition returns False, AssertionError is raised:\u001b[39;00m\n\u001b[1;32m----> 9\u001b[0m \u001b[38;5;28;01massert\u001b[39;00m x \u001b[38;5;241m==\u001b[39m \u001b[38;5;124m\"\u001b[39m\u001b[38;5;124mgoodbye\u001b[39m\u001b[38;5;124m\"\u001b[39m\n",
      "\u001b[1;31mAssertionError\u001b[0m: "
     ]
    }
   ],
   "source": [
    "# Test if a condition returns True:\n",
    "\n",
    "x = \"hello\"\n",
    "\n",
    "#if condition returns True, then nothing happens:\n",
    "assert x == \"hello\"\n",
    "\n",
    "#if condition returns False, AssertionError is raised:\n",
    "assert x == \"goodbye\""
   ]
  },
  {
   "cell_type": "code",
   "execution_count": 10,
   "id": "2275122c",
   "metadata": {},
   "outputs": [],
   "source": [
    "# Write a message if the condition is False:\n",
    "\n",
    "x = \"welcome\"\n",
    "\n",
    "#if condition returns False, AssertionError is raised:\n",
    "assert x != \"hello\", \"x should be 'hello'\""
   ]
  },
  {
   "cell_type": "markdown",
   "id": "20b7481f",
   "metadata": {},
   "source": [
    "## for -- To create a for loop"
   ]
  },
  {
   "cell_type": "code",
   "execution_count": 42,
   "id": "a166bf41",
   "metadata": {},
   "outputs": [
    {
     "name": "stdout",
     "output_type": "stream",
     "text": [
      "1\n",
      "2\n",
      "3\n",
      "4\n",
      "5\n",
      "6\n",
      "7\n",
      "8\n"
     ]
    }
   ],
   "source": [
    "# Print each number from 1 to 8:\n",
    "\n",
    "for x in range(1, 9):\n",
    "  print(x)"
   ]
  },
  {
   "cell_type": "code",
   "execution_count": 43,
   "id": "c760f222",
   "metadata": {},
   "outputs": [
    {
     "name": "stdout",
     "output_type": "stream",
     "text": [
      "apple\n",
      "banana\n",
      "cherry\n"
     ]
    }
   ],
   "source": [
    "# Loop through all items in a list:\n",
    "\n",
    "fruits = [\"apple\", \"banana\", \"cherry\"]\n",
    "\n",
    "for x in fruits:\n",
    "  print(x)"
   ]
  },
  {
   "cell_type": "markdown",
   "id": "dcba1781",
   "metadata": {},
   "source": [
    "## break -- To break out of a loop"
   ]
  },
  {
   "cell_type": "code",
   "execution_count": 11,
   "id": "0e0c6043",
   "metadata": {},
   "outputs": [
    {
     "name": "stdout",
     "output_type": "stream",
     "text": [
      "0\n",
      "1\n",
      "2\n",
      "3\n"
     ]
    }
   ],
   "source": [
    "# End the loop if i is larger than 3:\n",
    "\n",
    "for i in range(9):\n",
    "  if i > 3:\n",
    "    break\n",
    "  print(i)"
   ]
  },
  {
   "cell_type": "code",
   "execution_count": 12,
   "id": "8b4dbd83",
   "metadata": {},
   "outputs": [
    {
     "name": "stdout",
     "output_type": "stream",
     "text": [
      "1\n",
      "2\n",
      "3\n"
     ]
    }
   ],
   "source": [
    "# Break out of a while loop:\n",
    "\n",
    "i = 1\n",
    "while i < 9:\n",
    "  print(i)\n",
    "  if i == 3:\n",
    "    break\n",
    "  i += 1"
   ]
  },
  {
   "cell_type": "markdown",
   "id": "c1907018",
   "metadata": {},
   "source": [
    "## continue -- To continue to the next iteration of a loop"
   ]
  },
  {
   "cell_type": "code",
   "execution_count": 13,
   "id": "5aae0620",
   "metadata": {},
   "outputs": [
    {
     "name": "stdout",
     "output_type": "stream",
     "text": [
      "0\n",
      "1\n",
      "2\n",
      "4\n",
      "5\n",
      "6\n",
      "7\n",
      "8\n"
     ]
    }
   ],
   "source": [
    "# Skip the iteration if the variable i is 3, but continue with the next iteration:\n",
    "\n",
    "for i in range(9):\n",
    "  if i == 3:\n",
    "    continue\n",
    "  print(i)"
   ]
  },
  {
   "cell_type": "code",
   "execution_count": 14,
   "id": "4c3eb2ab",
   "metadata": {},
   "outputs": [
    {
     "name": "stdout",
     "output_type": "stream",
     "text": [
      "1\n",
      "2\n",
      "4\n",
      "5\n",
      "6\n",
      "7\n",
      "8\n",
      "9\n"
     ]
    }
   ],
   "source": [
    "# Use the continue keyword in a while loop:\n",
    "\n",
    "i = 0\n",
    "while i < 9:\n",
    "  i += 1\n",
    "  if i == 3:\n",
    "    continue\n",
    "  print(i)"
   ]
  },
  {
   "cell_type": "markdown",
   "id": "f742c0bc",
   "metadata": {},
   "source": [
    "## while -- To create a while loop"
   ]
  },
  {
   "cell_type": "code",
   "execution_count": 64,
   "id": "28c8166b",
   "metadata": {},
   "outputs": [
    {
     "name": "stdout",
     "output_type": "stream",
     "text": [
      "0\n",
      "1\n",
      "2\n",
      "3\n",
      "4\n",
      "5\n",
      "6\n",
      "7\n",
      "8\n"
     ]
    }
   ],
   "source": [
    "# Print x as long as x is less than 9:\n",
    "\n",
    "x = 0\n",
    "\n",
    "while x < 9:\n",
    "  print(x)\n",
    "  x = x + 1"
   ]
  },
  {
   "cell_type": "markdown",
   "id": "295a7668",
   "metadata": {},
   "source": [
    "## class -- To define a class"
   ]
  },
  {
   "cell_type": "code",
   "execution_count": 15,
   "id": "5e75beb8",
   "metadata": {},
   "outputs": [],
   "source": [
    "# Create a class named \"Person\":\n",
    "\n",
    "class Person:\n",
    "  name = \"John\"\n",
    "  age = 36"
   ]
  },
  {
   "cell_type": "code",
   "execution_count": 16,
   "id": "bae31e2a",
   "metadata": {},
   "outputs": [
    {
     "name": "stdout",
     "output_type": "stream",
     "text": [
      "John\n"
     ]
    }
   ],
   "source": [
    "# Create an object named p1, using the class from the example above:\n",
    "\n",
    "p1 = Person()\n",
    "\n",
    "print(p1.name)"
   ]
  },
  {
   "cell_type": "markdown",
   "id": "9f60f55b",
   "metadata": {},
   "source": [
    "## def -- To define a function"
   ]
  },
  {
   "cell_type": "code",
   "execution_count": 17,
   "id": "063b80e1",
   "metadata": {},
   "outputs": [
    {
     "name": "stdout",
     "output_type": "stream",
     "text": [
      "Hello from a function\n"
     ]
    }
   ],
   "source": [
    "# Create and execute a function:\n",
    "\n",
    "def my_function():\n",
    "  print(\"Hello from a function\")\n",
    "\n",
    "my_function()"
   ]
  },
  {
   "cell_type": "markdown",
   "id": "9ce8b2d6",
   "metadata": {},
   "source": [
    "## return -- To exit a function and return a value"
   ]
  },
  {
   "cell_type": "code",
   "execution_count": 62,
   "id": "344393bf",
   "metadata": {},
   "outputs": [
    {
     "name": "stdout",
     "output_type": "stream",
     "text": [
      "6\n"
     ]
    }
   ],
   "source": [
    "# Exit a function and return the sum:\n",
    "\n",
    "def myfunction():\n",
    "  return 3+3\n",
    "\n",
    "print(myfunction())"
   ]
  },
  {
   "cell_type": "code",
   "execution_count": 63,
   "id": "40ac99db",
   "metadata": {},
   "outputs": [
    {
     "name": "stdout",
     "output_type": "stream",
     "text": [
      "6\n"
     ]
    }
   ],
   "source": [
    "# Statements after the return line will not be executed:\n",
    "\n",
    "def myfunction():\n",
    "  return 3+3\n",
    "  print(\"Hello, World!\")\n",
    "\n",
    "print(myfunction())"
   ]
  },
  {
   "cell_type": "markdown",
   "id": "be3e25c1",
   "metadata": {},
   "source": [
    "## yield -- To return a list of values from a generator"
   ]
  },
  {
   "cell_type": "code",
   "execution_count": 67,
   "id": "cdd8ddb1",
   "metadata": {},
   "outputs": [
    {
     "name": "stdout",
     "output_type": "stream",
     "text": [
      "Hello\n",
      "51\n",
      "Good Bye\n"
     ]
    }
   ],
   "source": [
    "# Return three values from a function:\n",
    "\n",
    "def myFunc():\n",
    "  yield \"Hello\"\n",
    "  yield 51\n",
    "  yield \"Good Bye\"\n",
    "\n",
    "x = myFunc()\n",
    "\n",
    "for z in x:\n",
    "  print(z)"
   ]
  },
  {
   "cell_type": "markdown",
   "id": "a32f8f3e",
   "metadata": {},
   "source": [
    "## del -- To delete an object"
   ]
  },
  {
   "cell_type": "code",
   "execution_count": 18,
   "id": "6e659853",
   "metadata": {},
   "outputs": [
    {
     "ename": "NameError",
     "evalue": "name 'MyClass' is not defined",
     "output_type": "error",
     "traceback": [
      "\u001b[1;31m---------------------------------------------------------------------------\u001b[0m",
      "\u001b[1;31mNameError\u001b[0m                                 Traceback (most recent call last)",
      "Cell \u001b[1;32mIn[18], line 8\u001b[0m\n\u001b[0;32m      4\u001b[0m   name \u001b[38;5;241m=\u001b[39m \u001b[38;5;124m\"\u001b[39m\u001b[38;5;124mJohn\u001b[39m\u001b[38;5;124m\"\u001b[39m\n\u001b[0;32m      6\u001b[0m \u001b[38;5;28;01mdel\u001b[39;00m MyClass\n\u001b[1;32m----> 8\u001b[0m \u001b[38;5;28mprint\u001b[39m(MyClass)\n",
      "\u001b[1;31mNameError\u001b[0m: name 'MyClass' is not defined"
     ]
    }
   ],
   "source": [
    "# Delete an object:\n",
    "\n",
    "class MyClass:\n",
    "  name = \"John\"\n",
    "\n",
    "del MyClass\n",
    "\n",
    "print(MyClass)"
   ]
  },
  {
   "cell_type": "code",
   "execution_count": 19,
   "id": "d1f9e0fd",
   "metadata": {},
   "outputs": [
    {
     "ename": "NameError",
     "evalue": "name 'x' is not defined",
     "output_type": "error",
     "traceback": [
      "\u001b[1;31m---------------------------------------------------------------------------\u001b[0m",
      "\u001b[1;31mNameError\u001b[0m                                 Traceback (most recent call last)",
      "Cell \u001b[1;32mIn[19], line 7\u001b[0m\n\u001b[0;32m      3\u001b[0m x \u001b[38;5;241m=\u001b[39m \u001b[38;5;124m\"\u001b[39m\u001b[38;5;124mhello\u001b[39m\u001b[38;5;124m\"\u001b[39m\n\u001b[0;32m      5\u001b[0m \u001b[38;5;28;01mdel\u001b[39;00m x\n\u001b[1;32m----> 7\u001b[0m \u001b[38;5;28mprint\u001b[39m(x)\n",
      "\u001b[1;31mNameError\u001b[0m: name 'x' is not defined"
     ]
    }
   ],
   "source": [
    "# Delete a variable:\n",
    "\n",
    "x = \"hello\"\n",
    "\n",
    "del x\n",
    "\n",
    "print(x)"
   ]
  },
  {
   "cell_type": "code",
   "execution_count": 20,
   "id": "9ca95721",
   "metadata": {},
   "outputs": [
    {
     "name": "stdout",
     "output_type": "stream",
     "text": [
      "['banana', 'cherry']\n"
     ]
    }
   ],
   "source": [
    "# Delete the first item in a list:\n",
    "\n",
    "x = [\"apple\", \"banana\", \"cherry\"]\n",
    "\n",
    "del x[0]\n",
    "\n",
    "print(x)"
   ]
  },
  {
   "cell_type": "markdown",
   "id": "1aed5c5e",
   "metadata": {},
   "source": [
    "## if -- To make a conditional statement"
   ]
  },
  {
   "cell_type": "code",
   "execution_count": 22,
   "id": "7f03c400",
   "metadata": {},
   "outputs": [
    {
     "name": "stdout",
     "output_type": "stream",
     "text": [
      "YES\n"
     ]
    }
   ],
   "source": [
    "# Print \"YES\" if x larger than 3:\n",
    "\n",
    "x = 5\n",
    "if x > 3:\n",
    "  print(\"YES\")"
   ]
  },
  {
   "cell_type": "code",
   "execution_count": 23,
   "id": "c6a5a393",
   "metadata": {},
   "outputs": [
    {
     "name": "stdout",
     "output_type": "stream",
     "text": [
      "NO\n"
     ]
    }
   ],
   "source": [
    "# Print \"YES\" if x is larger than 6, otherwise print \"NO\":\n",
    "\n",
    "x = 5\n",
    "if x > 6:\n",
    "  print(\"YES\")\n",
    "else:\n",
    "  print(\"NO\")"
   ]
  },
  {
   "cell_type": "markdown",
   "id": "03821f06",
   "metadata": {},
   "source": [
    "## elif -- Used in conditional statements, same as else if"
   ]
  },
  {
   "cell_type": "code",
   "execution_count": 21,
   "id": "db2cef60",
   "metadata": {},
   "outputs": [
    {
     "name": "stdout",
     "output_type": "stream",
     "text": [
      "NO\n",
      "NO\n",
      "NO\n",
      "NO\n",
      "NO\n",
      "WHATEVER\n",
      "YES\n",
      "YES\n",
      "YES\n",
      "YES\n"
     ]
    }
   ],
   "source": [
    "# Print \"YES\" if the variable i is a positive number, print \"WHATEVER\" if i is 0, otherwise print \"NO\":\n",
    "\n",
    "for i in range(-5, 5):\n",
    "  if i > 0:\n",
    "    print(\"YES\")\n",
    "  elif i == 0:\n",
    "    print(\"WHATEVER\")\n",
    "  else:\n",
    "    print(\"NO\")"
   ]
  },
  {
   "cell_type": "markdown",
   "id": "0ac51e32",
   "metadata": {},
   "source": [
    "## else -- Used in conditional statements"
   ]
  },
  {
   "cell_type": "code",
   "execution_count": 24,
   "id": "34295f1d",
   "metadata": {},
   "outputs": [
    {
     "name": "stdout",
     "output_type": "stream",
     "text": [
      "NO\n"
     ]
    }
   ],
   "source": [
    "# Print \"YES\" if x larger than 3, otherwise print \"NO\":\n",
    "\n",
    "x = 2\n",
    "if x > 3:\n",
    "  print(\"YES\")\n",
    "else:\n",
    "  print(\"NO\")"
   ]
  },
  {
   "cell_type": "code",
   "execution_count": 28,
   "id": "14eb20ba",
   "metadata": {},
   "outputs": [
    {
     "name": "stdout",
     "output_type": "stream",
     "text": [
      "The 'Try' code was executed without raising any errors!\n"
     ]
    }
   ],
   "source": [
    "# Use the else keyword in a try...except block to define what to do if no errors were raised:\n",
    "\n",
    "x = 5\n",
    "\n",
    "try:\n",
    "  x > 10\n",
    "except:\n",
    "  print(\"Something went wrong\")\n",
    "else:\n",
    "  print(\"The 'Try' code was executed without raising any errors!\")"
   ]
  },
  {
   "cell_type": "markdown",
   "id": "2ce216e2",
   "metadata": {},
   "source": [
    "## try -- To make a try...except statement"
   ]
  },
  {
   "cell_type": "code",
   "execution_count": 29,
   "id": "5c32588a",
   "metadata": {},
   "outputs": [],
   "source": [
    "# Try a block of code, and decide what to to if it raises an error:\n",
    "\n",
    "try:\n",
    "  x > 3\n",
    "except:\n",
    "  print(\"Something went wrong\")"
   ]
  },
  {
   "cell_type": "code",
   "execution_count": 30,
   "id": "782a139c",
   "metadata": {},
   "outputs": [],
   "source": [
    "# Raise an error and stop the program when there is an error in the try block:\n",
    "\n",
    "try:\n",
    "  x > 3\n",
    "except:\n",
    "  Exception(\"Something went wrong\")"
   ]
  },
  {
   "cell_type": "markdown",
   "id": "51450946",
   "metadata": {},
   "source": [
    "## except -- Used with exceptions, what to do when an exception occurs"
   ]
  },
  {
   "cell_type": "code",
   "execution_count": 33,
   "id": "b0bede94",
   "metadata": {},
   "outputs": [],
   "source": [
    "# If the statement raises an error print \"Something went wrong\":\n",
    "\n",
    "try:\n",
    "  x > 3\n",
    "except:\n",
    "  print(\"Something went wrong\")"
   ]
  },
  {
   "cell_type": "code",
   "execution_count": 34,
   "id": "8352f52d",
   "metadata": {},
   "outputs": [
    {
     "name": "stdout",
     "output_type": "stream",
     "text": [
      "You are comparing values of different type\n"
     ]
    }
   ],
   "source": [
    "# Write one message if it is a NameError, and another if it is an TypeError:\n",
    "\n",
    "x = \"hello\"\n",
    "\n",
    "try:\n",
    "  x > 3\n",
    "except NameError:\n",
    "  print(\"You have a variable that is not defined.\")\n",
    "except TypeError:\n",
    "  print(\"You are comparing values of different type\")"
   ]
  },
  {
   "cell_type": "code",
   "execution_count": 35,
   "id": "e96ec3ff",
   "metadata": {},
   "outputs": [
    {
     "name": "stdout",
     "output_type": "stream",
     "text": [
      "Something else went wrong\n"
     ]
    }
   ],
   "source": [
    "# Try to execute a statement that raises an error, but none of the defined error types (in this case, a ZeroDivisionError):\n",
    "\n",
    "try:\n",
    "  x = 1/0\n",
    "except NameError:\n",
    "  print(\"You have a variable that is not defined.\")\n",
    "except TypeError:\n",
    "  print(\"You are comparing values of different type\")\n",
    "except:\n",
    "  print(\"Something else went wrong\")"
   ]
  },
  {
   "cell_type": "code",
   "execution_count": 36,
   "id": "e8fe6ae4",
   "metadata": {},
   "outputs": [
    {
     "name": "stdout",
     "output_type": "stream",
     "text": [
      "The 'Try' code was executed without raising any errors!\n"
     ]
    }
   ],
   "source": [
    "# Write a message if no errors were raised:\n",
    "\n",
    "x = 1\n",
    "\n",
    "try:\n",
    "  x > 10\n",
    "except NameError:\n",
    "  print(\"You have a variable that is not defined.\")\n",
    "except TypeError:\n",
    "  print(\"You are comparing values of different type\")\n",
    "else:\n",
    "  print(\"The 'Try' code was executed without raising any errors!\")"
   ]
  },
  {
   "cell_type": "markdown",
   "id": "0b60e378",
   "metadata": {},
   "source": [
    "## finally -- Used with exceptions, a block of code that will be executed no matter if there is an exception or not"
   ]
  },
  {
   "cell_type": "code",
   "execution_count": 37,
   "id": "1cf99c98",
   "metadata": {},
   "outputs": [
    {
     "name": "stdout",
     "output_type": "stream",
     "text": [
      "Nothing went wrong\n",
      "The try...except block is finished\n"
     ]
    }
   ],
   "source": [
    "# The finally block will always be executed, no matter if the try block raises an error or not:\n",
    "\n",
    "try:\n",
    "  x > 3\n",
    "except:\n",
    "  print(\"Something went wrong\")\n",
    "else:\n",
    "  print(\"Nothing went wrong\")\n",
    "finally:\n",
    "  print(\"The try...except block is finished\")"
   ]
  },
  {
   "cell_type": "markdown",
   "id": "18e76191",
   "metadata": {},
   "source": [
    "## False -- Boolean value, result of comparison operations"
   ]
  },
  {
   "cell_type": "code",
   "execution_count": 38,
   "id": "002f7461",
   "metadata": {},
   "outputs": [
    {
     "name": "stdout",
     "output_type": "stream",
     "text": [
      "False\n"
     ]
    }
   ],
   "source": [
    "# Print the result of the comparison \"5 is larger than 6\":\n",
    "\n",
    "print(5 > 6)"
   ]
  },
  {
   "cell_type": "code",
   "execution_count": 39,
   "id": "d5cdcd1d",
   "metadata": {},
   "outputs": [
    {
     "name": "stdout",
     "output_type": "stream",
     "text": [
      "False\n",
      "False\n",
      "False\n",
      "False\n",
      "False\n",
      "False\n",
      "False\n",
      "False\n",
      "False\n"
     ]
    },
    {
     "name": "stderr",
     "output_type": "stream",
     "text": [
      "<>:7: SyntaxWarning: \"is\" with a literal. Did you mean \"==\"?\n",
      "<>:15: SyntaxWarning: \"is not\" with a literal. Did you mean \"!=\"?\n",
      "<>:7: SyntaxWarning: \"is\" with a literal. Did you mean \"==\"?\n",
      "<>:15: SyntaxWarning: \"is not\" with a literal. Did you mean \"!=\"?\n",
      "C:\\Users\\muham\\AppData\\Local\\Temp\\ipykernel_6320\\1999129150.py:7: SyntaxWarning: \"is\" with a literal. Did you mean \"==\"?\n",
      "  print(\"hello\" is \"goodbye\")\n",
      "C:\\Users\\muham\\AppData\\Local\\Temp\\ipykernel_6320\\1999129150.py:15: SyntaxWarning: \"is not\" with a literal. Did you mean \"!=\"?\n",
      "  print(\"hello\" is not \"hello\")\n"
     ]
    }
   ],
   "source": [
    "# Other comparisons that returns False:\n",
    "\n",
    "print(5 > 6)\n",
    "\n",
    "print(4 in [1,2,3])\n",
    "\n",
    "print(\"hello\" is \"goodbye\")\n",
    "\n",
    "print(5 == 6)\n",
    "\n",
    "print(5 == 6 or 6 == 7)\n",
    "\n",
    "print(5 == 6 and 6 == 7)\n",
    "\n",
    "print(\"hello\" is not \"hello\")\n",
    "\n",
    "print(not(5 == 5))\n",
    "\n",
    "print(3 not in [1,2,3])"
   ]
  },
  {
   "cell_type": "markdown",
   "id": "605cba4c",
   "metadata": {},
   "source": [
    "## True -- Boolean value, result of comparison operations"
   ]
  },
  {
   "cell_type": "code",
   "execution_count": 40,
   "id": "b5930a67",
   "metadata": {},
   "outputs": [
    {
     "name": "stdout",
     "output_type": "stream",
     "text": [
      "True\n"
     ]
    }
   ],
   "source": [
    "# Print the result of the comparison \"7 is larger than 6\":\n",
    "\n",
    "print(7 > 6)"
   ]
  },
  {
   "cell_type": "code",
   "execution_count": 41,
   "id": "8cd3953d",
   "metadata": {},
   "outputs": [
    {
     "name": "stdout",
     "output_type": "stream",
     "text": [
      "True\n",
      "True\n",
      "True\n",
      "True\n",
      "True\n",
      "True\n",
      "True\n",
      "True\n",
      "True\n"
     ]
    },
    {
     "name": "stderr",
     "output_type": "stream",
     "text": [
      "<>:7: SyntaxWarning: \"is\" with a literal. Did you mean \"==\"?\n",
      "<>:15: SyntaxWarning: \"is not\" with a literal. Did you mean \"!=\"?\n",
      "<>:7: SyntaxWarning: \"is\" with a literal. Did you mean \"==\"?\n",
      "<>:15: SyntaxWarning: \"is not\" with a literal. Did you mean \"!=\"?\n",
      "C:\\Users\\muham\\AppData\\Local\\Temp\\ipykernel_6320\\971875945.py:7: SyntaxWarning: \"is\" with a literal. Did you mean \"==\"?\n",
      "  print(5 is 5)\n",
      "C:\\Users\\muham\\AppData\\Local\\Temp\\ipykernel_6320\\971875945.py:15: SyntaxWarning: \"is not\" with a literal. Did you mean \"!=\"?\n",
      "  print(\"hello\" is not \"goodbye\")\n"
     ]
    }
   ],
   "source": [
    "# Other comparisons that returns True:\n",
    "\n",
    "print(5 < 6)\n",
    "\n",
    "print(2 in [1,2,3])\n",
    "\n",
    "print(5 is 5)\n",
    "\n",
    "print(5 == 5)\n",
    "\n",
    "print(5 == 5 or 6 == 7)\n",
    "\n",
    "print(5 == 5 and 7 == 7)\n",
    "\n",
    "print(\"hello\" is not \"goodbye\")\n",
    "\n",
    "print(not(5 == 7))\n",
    "\n",
    "print(4 not in [1,2,3])"
   ]
  },
  {
   "cell_type": "markdown",
   "id": "c6bd2788",
   "metadata": {},
   "source": [
    "## global -- To declare a global variable"
   ]
  },
  {
   "cell_type": "code",
   "execution_count": 44,
   "id": "1001a4c2",
   "metadata": {},
   "outputs": [
    {
     "name": "stdout",
     "output_type": "stream",
     "text": [
      "hello\n"
     ]
    }
   ],
   "source": [
    "# Declare a global variable inside a function, and use it outside the function:\n",
    "\n",
    "#create a function:\n",
    "def myfunction():\n",
    "  global x\n",
    "  x = \"hello\"\n",
    "\n",
    "#execute the function:\n",
    "myfunction()\n",
    "\n",
    "#x should now be global, and accessible in the global scope.\n",
    "print(x)"
   ]
  },
  {
   "cell_type": "markdown",
   "id": "23d00dac",
   "metadata": {},
   "source": [
    "## nonlocal -- To declare a non-local variable"
   ]
  },
  {
   "cell_type": "code",
   "execution_count": 54,
   "id": "ea62a6fa",
   "metadata": {},
   "outputs": [
    {
     "name": "stdout",
     "output_type": "stream",
     "text": [
      "hello\n"
     ]
    }
   ],
   "source": [
    "# Make a function inside a function, which uses the variable x as a non local variable:\n",
    "\n",
    "def myfunc1():\n",
    "  x = \"John\"\n",
    "  def myfunc2():\n",
    "    nonlocal x\n",
    "    x = \"hello\"\n",
    "  myfunc2()\n",
    "  return x\n",
    "\n",
    "print(myfunc1())"
   ]
  },
  {
   "cell_type": "code",
   "execution_count": 55,
   "id": "82394bd1",
   "metadata": {},
   "outputs": [
    {
     "name": "stdout",
     "output_type": "stream",
     "text": [
      "John\n"
     ]
    }
   ],
   "source": [
    "# Same example as above, but without the nonlocal keyword:\n",
    "\n",
    "def myfunc1():\n",
    "  x = \"John\"\n",
    "  def myfunc2():\n",
    "    x = \"hello\"\n",
    "  myfunc2()\n",
    "  return x\n",
    "\n",
    "print(myfunc1())"
   ]
  },
  {
   "cell_type": "markdown",
   "id": "935e0604",
   "metadata": {},
   "source": [
    "## in -- To check if a value is present in a list, tuple, etc."
   ]
  },
  {
   "cell_type": "code",
   "execution_count": 45,
   "id": "ddf5d0f0",
   "metadata": {},
   "outputs": [
    {
     "name": "stdout",
     "output_type": "stream",
     "text": [
      "yes\n"
     ]
    }
   ],
   "source": [
    "# Check if \"banana\" is present in the list:\n",
    "\n",
    "fruits = [\"apple\", \"banana\", \"cherry\"]\n",
    "\n",
    "if \"banana\" in fruits:\n",
    "  print(\"yes\")"
   ]
  },
  {
   "cell_type": "code",
   "execution_count": 46,
   "id": "07271529",
   "metadata": {},
   "outputs": [
    {
     "name": "stdout",
     "output_type": "stream",
     "text": [
      "apple\n",
      "banana\n",
      "cherry\n"
     ]
    }
   ],
   "source": [
    "# Loop through a list and print the items:\n",
    "\n",
    "fruits = [\"apple\", \"banana\", \"cherry\"]\n",
    "\n",
    "for x in fruits:\n",
    "  print(x)"
   ]
  },
  {
   "cell_type": "markdown",
   "id": "487b70b9",
   "metadata": {},
   "source": [
    "## is -- To test if two variables are equal"
   ]
  },
  {
   "cell_type": "code",
   "execution_count": 47,
   "id": "5a083eae",
   "metadata": {},
   "outputs": [
    {
     "name": "stdout",
     "output_type": "stream",
     "text": [
      "True\n"
     ]
    }
   ],
   "source": [
    "# Check if two objects are the same object:\n",
    "\n",
    "x = [\"apple\", \"banana\", \"cherry\"]\n",
    "\n",
    "y = x\n",
    "\n",
    "print(x is y)"
   ]
  },
  {
   "cell_type": "code",
   "execution_count": 48,
   "id": "7a1d1f59",
   "metadata": {},
   "outputs": [
    {
     "name": "stdout",
     "output_type": "stream",
     "text": [
      "False\n"
     ]
    }
   ],
   "source": [
    "# Test two objects that are equal, but not the same object:\n",
    "\n",
    "x = [\"apple\", \"banana\", \"cherry\"]\n",
    "\n",
    "y = [\"apple\", \"banana\", \"cherry\"]\n",
    "\n",
    "print(x is y)"
   ]
  },
  {
   "cell_type": "markdown",
   "id": "ba8e81a2",
   "metadata": {},
   "source": [
    "## lambda -- To create an anonymous function"
   ]
  },
  {
   "cell_type": "code",
   "execution_count": 49,
   "id": "b4d6a665",
   "metadata": {},
   "outputs": [
    {
     "name": "stdout",
     "output_type": "stream",
     "text": [
      "15\n"
     ]
    }
   ],
   "source": [
    "# Create a function that adds 10 to any number you send:\n",
    "\n",
    "x = lambda a : a + 10\n",
    "\n",
    "print(x(5))"
   ]
  },
  {
   "cell_type": "code",
   "execution_count": 51,
   "id": "bfa5ff02",
   "metadata": {},
   "outputs": [
    {
     "name": "stdout",
     "output_type": "stream",
     "text": [
      "13\n"
     ]
    }
   ],
   "source": [
    "# A lambda function with three arguments:\n",
    "\n",
    "x = lambda a, b, c : a + b + c\n",
    "\n",
    "print(x(5, 6, 2))"
   ]
  },
  {
   "cell_type": "markdown",
   "id": "ee94a909",
   "metadata": {},
   "source": [
    "## None -- Represents a null value"
   ]
  },
  {
   "cell_type": "code",
   "execution_count": 52,
   "id": "9eba3f01",
   "metadata": {},
   "outputs": [
    {
     "name": "stdout",
     "output_type": "stream",
     "text": [
      "None\n"
     ]
    }
   ],
   "source": [
    "# Assign the value None to a variable:\n",
    "\n",
    "x = None\n",
    "\n",
    "print(x)"
   ]
  },
  {
   "cell_type": "code",
   "execution_count": 53,
   "id": "28237d42",
   "metadata": {},
   "outputs": [
    {
     "name": "stdout",
     "output_type": "stream",
     "text": [
      "None is not True, or False, None is just None...\n"
     ]
    }
   ],
   "source": [
    "# If you do a boolean if test, what will happen? Is None True or False:\n",
    "\n",
    "x = None\n",
    "\n",
    "if x:\n",
    "  print(\"Do you think None is True?\")\n",
    "elif x is False:\n",
    "  print (\"Do you think None is False?\")\n",
    "else:\n",
    "  print(\"None is not True, or False, None is just None...\")"
   ]
  },
  {
   "cell_type": "markdown",
   "id": "900b0165",
   "metadata": {},
   "source": [
    "## pass -- A null statement, a statement that will do nothing"
   ]
  },
  {
   "cell_type": "code",
   "execution_count": 56,
   "id": "f7a8870d",
   "metadata": {},
   "outputs": [],
   "source": [
    "# Create a placeholder for future code:\n",
    "\n",
    "for x in [0, 1, 2]:\n",
    "  pass"
   ]
  },
  {
   "cell_type": "code",
   "execution_count": 57,
   "id": "d667e35a",
   "metadata": {},
   "outputs": [],
   "source": [
    "# Using the pass keyword in a function definition:\n",
    "\n",
    "def myfunction():\n",
    "  pass"
   ]
  },
  {
   "cell_type": "code",
   "execution_count": 58,
   "id": "38bd334a",
   "metadata": {},
   "outputs": [],
   "source": [
    "# Using the pass keyword in a class definition:\n",
    "\n",
    "class Person:\n",
    "  pass"
   ]
  },
  {
   "cell_type": "code",
   "execution_count": 59,
   "id": "53acfbd0",
   "metadata": {},
   "outputs": [],
   "source": [
    "# Using the pass keyword in an if statement:\n",
    "\n",
    "a = 33\n",
    "b = 200\n",
    "\n",
    "if b > a:\n",
    "  pass"
   ]
  },
  {
   "cell_type": "markdown",
   "id": "a6d1229e",
   "metadata": {},
   "source": [
    "## raise -- To raise an exception"
   ]
  },
  {
   "cell_type": "code",
   "execution_count": 60,
   "id": "b41b4276",
   "metadata": {},
   "outputs": [
    {
     "ename": "Exception",
     "evalue": "Sorry, no numbers below zero",
     "output_type": "error",
     "traceback": [
      "\u001b[1;31m---------------------------------------------------------------------------\u001b[0m",
      "\u001b[1;31mException\u001b[0m                                 Traceback (most recent call last)",
      "Cell \u001b[1;32mIn[60], line 6\u001b[0m\n\u001b[0;32m      3\u001b[0m x \u001b[38;5;241m=\u001b[39m \u001b[38;5;241m-\u001b[39m\u001b[38;5;241m1\u001b[39m\n\u001b[0;32m      5\u001b[0m \u001b[38;5;28;01mif\u001b[39;00m x \u001b[38;5;241m<\u001b[39m \u001b[38;5;241m0\u001b[39m:\n\u001b[1;32m----> 6\u001b[0m   \u001b[38;5;28;01mraise\u001b[39;00m \u001b[38;5;167;01mException\u001b[39;00m(\u001b[38;5;124m\"\u001b[39m\u001b[38;5;124mSorry, no numbers below zero\u001b[39m\u001b[38;5;124m\"\u001b[39m)\n",
      "\u001b[1;31mException\u001b[0m: Sorry, no numbers below zero"
     ]
    }
   ],
   "source": [
    "# Raise an error and stop the program if x is lower than 0:\n",
    "\n",
    "x = -1\n",
    "\n",
    "if x < 0:\n",
    "  raise Exception(\"Sorry, no numbers below zero\")"
   ]
  },
  {
   "cell_type": "code",
   "execution_count": 61,
   "id": "b3f1d4b2",
   "metadata": {},
   "outputs": [
    {
     "ename": "TypeError",
     "evalue": "Only integers are allowed",
     "output_type": "error",
     "traceback": [
      "\u001b[1;31m---------------------------------------------------------------------------\u001b[0m",
      "\u001b[1;31mTypeError\u001b[0m                                 Traceback (most recent call last)",
      "Cell \u001b[1;32mIn[61], line 6\u001b[0m\n\u001b[0;32m      3\u001b[0m x \u001b[38;5;241m=\u001b[39m \u001b[38;5;124m\"\u001b[39m\u001b[38;5;124mhello\u001b[39m\u001b[38;5;124m\"\u001b[39m\n\u001b[0;32m      5\u001b[0m \u001b[38;5;28;01mif\u001b[39;00m \u001b[38;5;129;01mnot\u001b[39;00m \u001b[38;5;28mtype\u001b[39m(x) \u001b[38;5;129;01mis\u001b[39;00m \u001b[38;5;28mint\u001b[39m:\n\u001b[1;32m----> 6\u001b[0m   \u001b[38;5;28;01mraise\u001b[39;00m \u001b[38;5;167;01mTypeError\u001b[39;00m(\u001b[38;5;124m\"\u001b[39m\u001b[38;5;124mOnly integers are allowed\u001b[39m\u001b[38;5;124m\"\u001b[39m)\n",
      "\u001b[1;31mTypeError\u001b[0m: Only integers are allowed"
     ]
    }
   ],
   "source": [
    "# Raise a TypeError if x is not an integer:\n",
    "\n",
    "x = \"hello\"\n",
    "\n",
    "if not type(x) is int:\n",
    "  raise TypeError(\"Only integers are allowed\")"
   ]
  },
  {
   "cell_type": "markdown",
   "id": "3697f2f1",
   "metadata": {},
   "source": [
    "## with -- Used to simplify exception handling"
   ]
  },
  {
   "cell_type": "code",
   "execution_count": 65,
   "id": "c121648c",
   "metadata": {},
   "outputs": [],
   "source": [
    "# file handling\n",
    "\n",
    "# 1) without using with statement\n",
    "file = open('file_path', 'w')\n",
    "file.write('hello world !')\n",
    "file.close()\n",
    "\n",
    "# 2) without using with statement\n",
    "file = open('file_path', 'w')\n",
    "try:\n",
    "    file.write('hello world')\n",
    "finally:\n",
    "    file.close()"
   ]
  },
  {
   "cell_type": "code",
   "execution_count": 66,
   "id": "05bdb4ba",
   "metadata": {},
   "outputs": [],
   "source": [
    "# using with statement\n",
    "with open('file_path', 'w') as file:\n",
    "    file.write('hello world !')"
   ]
  },
  {
   "cell_type": "code",
   "execution_count": null,
   "id": "55e985d5",
   "metadata": {},
   "outputs": [],
   "source": []
  }
 ],
 "metadata": {
  "kernelspec": {
   "display_name": "Python 3 (ipykernel)",
   "language": "python",
   "name": "python3"
  },
  "language_info": {
   "codemirror_mode": {
    "name": "ipython",
    "version": 3
   },
   "file_extension": ".py",
   "mimetype": "text/x-python",
   "name": "python",
   "nbconvert_exporter": "python",
   "pygments_lexer": "ipython3",
   "version": "3.11.7"
  }
 },
 "nbformat": 4,
 "nbformat_minor": 5
}
