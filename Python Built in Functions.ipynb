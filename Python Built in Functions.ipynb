{
 "cells": [
  {
   "cell_type": "markdown",
   "id": "5b9ac322-5b6e-4c21-8b7e-bea26283642b",
   "metadata": {},
   "source": [
    "# Python Built in Functions"
   ]
  },
  {
   "cell_type": "markdown",
   "id": "5a901a73-9cf8-4017-85a3-2b81406a6d3f",
   "metadata": {
    "jp-MarkdownHeadingCollapsed": true
   },
   "source": [
    "## abs() -- Returns the absolute value of a number"
   ]
  },
  {
   "cell_type": "code",
   "execution_count": 1,
   "id": "f0f3b616-14aa-489e-81ab-2ad7355b7591",
   "metadata": {},
   "outputs": [
    {
     "name": "stdout",
     "output_type": "stream",
     "text": [
      "7.25\n"
     ]
    }
   ],
   "source": [
    "x = abs(-7.25)\n",
    "\n",
    "print (x)"
   ]
  },
  {
   "cell_type": "code",
   "execution_count": 3,
   "id": "262c4faa-f885-44f5-a6c3-7ddc4c676194",
   "metadata": {},
   "outputs": [
    {
     "name": "stdout",
     "output_type": "stream",
     "text": [
      "5.830951894845301\n"
     ]
    }
   ],
   "source": [
    "x = abs(3+5j)\n",
    "\n",
    "print(x)"
   ]
  },
  {
   "cell_type": "markdown",
   "id": "a120e0c5-757a-471e-a44b-1110929881be",
   "metadata": {
    "jp-MarkdownHeadingCollapsed": true
   },
   "source": [
    "## all() -- Returns True if all items in an iterable object are true"
   ]
  },
  {
   "cell_type": "code",
   "execution_count": 11,
   "id": "b68fee78-1b8a-483e-bfd4-e51c7b3f11f5",
   "metadata": {},
   "outputs": [
    {
     "name": "stdout",
     "output_type": "stream",
     "text": [
      "True\n"
     ]
    }
   ],
   "source": [
    "mylist = [True, True, True]\n",
    "x = all(mylist)\n",
    "\n",
    "print(x)"
   ]
  },
  {
   "cell_type": "code",
   "execution_count": 17,
   "id": "4591f8bd-f455-4891-bb3d-2e4a7f0c9cd9",
   "metadata": {},
   "outputs": [
    {
     "name": "stdout",
     "output_type": "stream",
     "text": [
      "False\n"
     ]
    }
   ],
   "source": [
    "mylist = [0, 1, 1]\n",
    "x = all(mylist)\n",
    "\n",
    "print(x)"
   ]
  },
  {
   "cell_type": "code",
   "execution_count": 13,
   "id": "10a81b75-1bd0-4dc5-a306-a2fc60bdb09b",
   "metadata": {},
   "outputs": [
    {
     "name": "stdout",
     "output_type": "stream",
     "text": [
      "False\n"
     ]
    }
   ],
   "source": [
    "mytuple = (0, True, False)\n",
    "x = all(mytuple)\n",
    "\n",
    "print(x)"
   ]
  },
  {
   "cell_type": "code",
   "execution_count": 14,
   "id": "d5123f7f-ad30-4fbc-8fb1-ffc1168a99b6",
   "metadata": {},
   "outputs": [
    {
     "name": "stdout",
     "output_type": "stream",
     "text": [
      "False\n"
     ]
    }
   ],
   "source": [
    "myset = {0, 1, 0}\n",
    "x = all(myset)\n",
    "\n",
    "print(x)"
   ]
  },
  {
   "cell_type": "code",
   "execution_count": 22,
   "id": "3bf3e28e-a23e-4960-ac64-c2dd6e58a22c",
   "metadata": {},
   "outputs": [
    {
     "name": "stdout",
     "output_type": "stream",
     "text": [
      "False\n"
     ]
    }
   ],
   "source": [
    "mydict = {0 : \"Apple\", 1 : \"Orange\"}\n",
    "x = all(mydict)\n",
    "\n",
    "print(x)"
   ]
  },
  {
   "cell_type": "markdown",
   "id": "24095f5e-93f4-46ee-8170-7c2e02d482d5",
   "metadata": {
    "jp-MarkdownHeadingCollapsed": true
   },
   "source": [
    "## any() -- Returns True if any item in an iterable object is true"
   ]
  },
  {
   "cell_type": "code",
   "execution_count": 24,
   "id": "3e191510-b356-4705-9095-082c26b22d87",
   "metadata": {},
   "outputs": [
    {
     "name": "stdout",
     "output_type": "stream",
     "text": [
      "True\n"
     ]
    }
   ],
   "source": [
    "mylist = [False, True, False]\n",
    "x = any(mylist)\n",
    "\n",
    "print(x)"
   ]
  },
  {
   "cell_type": "code",
   "execution_count": 26,
   "id": "730de3b8-e0dd-4234-8768-bf09a495ec22",
   "metadata": {},
   "outputs": [
    {
     "name": "stdout",
     "output_type": "stream",
     "text": [
      "True\n"
     ]
    }
   ],
   "source": [
    "mytuple = (0, 1, False)\n",
    "x = any(mytuple)\n",
    "\n",
    "print(x)"
   ]
  },
  {
   "cell_type": "code",
   "execution_count": 27,
   "id": "02c95c20-7364-4ce5-b0e9-29322b8ec89d",
   "metadata": {},
   "outputs": [
    {
     "name": "stdout",
     "output_type": "stream",
     "text": [
      "True\n"
     ]
    }
   ],
   "source": [
    "myset = {0, 1, 0}\n",
    "x = any(myset)\n",
    "\n",
    "print(x)"
   ]
  },
  {
   "cell_type": "code",
   "execution_count": 28,
   "id": "7a46b24e-4b85-49ed-a401-5b03732edea1",
   "metadata": {},
   "outputs": [
    {
     "name": "stdout",
     "output_type": "stream",
     "text": [
      "True\n"
     ]
    }
   ],
   "source": [
    "mydict = {0 : \"Apple\", 1 : \"Orange\"}\n",
    "x = any(mydict)\n",
    "\n",
    "print(x)"
   ]
  },
  {
   "cell_type": "markdown",
   "id": "8fcb035f-6148-4851-a539-18dcb66d0f48",
   "metadata": {
    "jp-MarkdownHeadingCollapsed": true
   },
   "source": [
    "## ascii() -- Returns a readable version of an object. Replaces none-ascii characters with escape character"
   ]
  },
  {
   "cell_type": "code",
   "execution_count": 29,
   "id": "f7d2fefa-6287-466e-95f6-376ceea5384f",
   "metadata": {},
   "outputs": [
    {
     "name": "stdout",
     "output_type": "stream",
     "text": [
      "'My name is St\\xe5le'\n"
     ]
    }
   ],
   "source": [
    "x = ascii(\"My name is Ståle\")\n",
    "\n",
    "print(x)"
   ]
  },
  {
   "cell_type": "markdown",
   "id": "226579cf-1ac1-4906-b215-0ded28ae1a65",
   "metadata": {
    "jp-MarkdownHeadingCollapsed": true
   },
   "source": [
    "## bin() -- Returns the binary version of a number (The result will always start with the prefix 0b)"
   ]
  },
  {
   "cell_type": "code",
   "execution_count": 30,
   "id": "5547402f-7aaf-4f16-852c-cc792a22c45f",
   "metadata": {},
   "outputs": [
    {
     "name": "stdout",
     "output_type": "stream",
     "text": [
      "0b100100\n"
     ]
    }
   ],
   "source": [
    "x = bin(36)\n",
    "\n",
    "print(x)"
   ]
  },
  {
   "cell_type": "markdown",
   "id": "f88e9e0f-064b-4179-9f96-e8ce2501329f",
   "metadata": {
    "jp-MarkdownHeadingCollapsed": true
   },
   "source": [
    "## bool() -- Returns the boolean value of the specified object"
   ]
  },
  {
   "cell_type": "code",
   "execution_count": 31,
   "id": "1323bbb8-08af-4744-b17c-c25a356ced8b",
   "metadata": {},
   "outputs": [
    {
     "name": "stdout",
     "output_type": "stream",
     "text": [
      "True\n"
     ]
    }
   ],
   "source": [
    "x = bool(1)\n",
    "\n",
    "print(x)"
   ]
  },
  {
   "cell_type": "markdown",
   "id": "87288287-1424-443a-bf04-b30c98b44899",
   "metadata": {
    "jp-MarkdownHeadingCollapsed": true
   },
   "source": [
    "## bytearray() -- Returns an array of bytes"
   ]
  },
  {
   "cell_type": "code",
   "execution_count": 33,
   "id": "b2a68c26-2fc0-4457-b221-1cecb884a8b0",
   "metadata": {},
   "outputs": [
    {
     "name": "stdout",
     "output_type": "stream",
     "text": [
      "bytearray(b'\\x00\\x00\\x00\\x00')\n"
     ]
    }
   ],
   "source": [
    "x = bytearray(4)\n",
    "\n",
    "print(x)"
   ]
  },
  {
   "cell_type": "code",
   "execution_count": 55,
   "id": "f34bbdf8-99e4-4fe9-a1b2-ec772a2b8888",
   "metadata": {},
   "outputs": [
    {
     "name": "stdout",
     "output_type": "stream",
     "text": [
      "bytearray(b'Q?sim')\n",
      "bytearray(b'Qsim')\n",
      "bytearray(b'Q\\\\N{LATIN SMALL LETTER A WITH RING ABOVE}sim')\n",
      "bytearray(b'Q&#229;sim')\n"
     ]
    }
   ],
   "source": [
    "w = bytearray(\"Qåsim\", 'ascii', errors='replace')\n",
    "\n",
    "print(w)\n",
    "\n",
    "x = bytearray(\"Qåsim\", 'ascii', errors='ignore')\n",
    "\n",
    "print(x)\n",
    "\n",
    "y = bytearray(\"Qåsim\", 'ascii', errors='namereplace')\n",
    "\n",
    "print(y)\n",
    "\n",
    "z = bytearray(\"Qåsim\", 'ascii', errors='xmlcharrefreplace')\n",
    "\n",
    "print(z)"
   ]
  },
  {
   "cell_type": "code",
   "execution_count": 56,
   "id": "ff90f3b0-30f4-4cfc-96ea-2d28851080db",
   "metadata": {},
   "outputs": [
    {
     "name": "stdout",
     "output_type": "stream",
     "text": [
      "bytearray(b'')\n"
     ]
    }
   ],
   "source": [
    "x = bytearray()\n",
    "\n",
    "print(x)"
   ]
  },
  {
   "cell_type": "markdown",
   "id": "227e320d-5662-45d5-b439-4d25c96519cb",
   "metadata": {
    "jp-MarkdownHeadingCollapsed": true
   },
   "source": [
    "## bytes() -- Returns a bytes object"
   ]
  },
  {
   "cell_type": "code",
   "execution_count": 57,
   "id": "78a8612c-515f-4953-a8df-a15eeebc6de6",
   "metadata": {},
   "outputs": [
    {
     "name": "stdout",
     "output_type": "stream",
     "text": [
      "b'\\x00\\x00\\x00\\x00'\n"
     ]
    }
   ],
   "source": [
    "x = bytes(4)\n",
    "\n",
    "print(x)"
   ]
  },
  {
   "cell_type": "code",
   "execution_count": 65,
   "id": "8071cc93-2a78-4722-bdfe-a235aa2dae41",
   "metadata": {},
   "outputs": [
    {
     "name": "stdout",
     "output_type": "stream",
     "text": [
      "b'Q?sim'\n",
      "b'Qsim'\n",
      "b'Q\\\\N{LATIN SMALL LETTER A WITH RING ABOVE}sim'\n",
      "b'Q&#229;sim'\n"
     ]
    }
   ],
   "source": [
    "w = bytes(\"Qåsim\", 'ascii', errors='replace')\n",
    "\n",
    "print(w)\n",
    "\n",
    "x = bytes(\"Qåsim\", 'ascii', errors='ignore')\n",
    "\n",
    "print(x)\n",
    "\n",
    "y = bytes(\"Qåsim\", 'ascii', errors='namereplace')\n",
    "\n",
    "print(y)\n",
    "\n",
    "z = bytes(\"Qåsim\", 'ascii', errors='xmlcharrefreplace')\n",
    "\n",
    "print(z)"
   ]
  },
  {
   "cell_type": "code",
   "execution_count": 66,
   "id": "ca694d02-66d5-4b30-8d7d-d0e6d5a2d96f",
   "metadata": {},
   "outputs": [
    {
     "name": "stdout",
     "output_type": "stream",
     "text": [
      "b''\n"
     ]
    }
   ],
   "source": [
    "x = bytes()\n",
    "\n",
    "print(x)"
   ]
  },
  {
   "cell_type": "markdown",
   "id": "c8ac1250-53cc-4f95-b35a-dde4ae326543",
   "metadata": {
    "jp-MarkdownHeadingCollapsed": true
   },
   "source": [
    "## callable() -- Returns True if the specified object is callable, otherwise False"
   ]
  },
  {
   "cell_type": "code",
   "execution_count": 69,
   "id": "23d1876e-5443-4bc9-98c0-9e98bb145221",
   "metadata": {},
   "outputs": [
    {
     "name": "stdout",
     "output_type": "stream",
     "text": [
      "True\n"
     ]
    }
   ],
   "source": [
    "def x():\n",
    "  a = 5\n",
    "\n",
    "print(callable(x))"
   ]
  },
  {
   "cell_type": "code",
   "execution_count": 70,
   "id": "b162cab8-ae58-4417-abad-49f52e161e67",
   "metadata": {},
   "outputs": [
    {
     "name": "stdout",
     "output_type": "stream",
     "text": [
      "False\n"
     ]
    }
   ],
   "source": [
    "x = 5\n",
    "\n",
    "print(callable(x))"
   ]
  },
  {
   "cell_type": "markdown",
   "id": "be5fe52b-fc14-47ab-8755-bf638957a177",
   "metadata": {
    "jp-MarkdownHeadingCollapsed": true
   },
   "source": [
    "## chr() -- Returns a character from the specified Unicode code."
   ]
  },
  {
   "cell_type": "code",
   "execution_count": 71,
   "id": "53c1fc72-77b6-43e7-bf24-120b87ca0fd2",
   "metadata": {},
   "outputs": [
    {
     "name": "stdout",
     "output_type": "stream",
     "text": [
      "a\n"
     ]
    }
   ],
   "source": [
    "x = chr(97)\n",
    "\n",
    "print(x)"
   ]
  },
  {
   "cell_type": "markdown",
   "id": "d0d39abd-3ae9-4be6-abf2-b8432776dd1b",
   "metadata": {
    "jp-MarkdownHeadingCollapsed": true
   },
   "source": [
    "## classmethod() -- Converts a method into a class method"
   ]
  },
  {
   "cell_type": "code",
   "execution_count": 76,
   "id": "1c504b8d-e67a-4e43-8d9f-dcf48e81fc69",
   "metadata": {},
   "outputs": [
    {
     "name": "stdout",
     "output_type": "stream",
     "text": [
      "Obtained Marks: 90\n"
     ]
    }
   ],
   "source": [
    "class Student:\n",
    "  marks = 0\n",
    "\n",
    "  def compute_marks(self, obtained_marks):\n",
    "    marks = obtained_marks\n",
    "    print('Obtained Marks:', marks)\n",
    "\n",
    "# convert compute_marks() to class method\n",
    "Student.print_marks = classmethod(Student.compute_marks)\n",
    "Student.print_marks(90)\n",
    "\n",
    "# Output: Obtained Marks: 90"
   ]
  },
  {
   "cell_type": "code",
   "execution_count": 77,
   "id": "af0b616c-ac71-4dc9-876e-df95f7b6f7e7",
   "metadata": {},
   "outputs": [
    {
     "name": "stdout",
     "output_type": "stream",
     "text": [
      "The age is: 25\n"
     ]
    }
   ],
   "source": [
    "class Person:\n",
    "    age = 25\n",
    "\n",
    "    def printAge(cls):\n",
    "        print('The age is:', cls.age)\n",
    "\n",
    "# create printAge class method\n",
    "Person.printAge = classmethod(Person.printAge)\n",
    "\n",
    "Person.printAge()"
   ]
  },
  {
   "cell_type": "raw",
   "id": "2a2b94d7-4d5e-413e-b240-59e947ef3702",
   "metadata": {},
   "source": [
    "classmethod(function)\n",
    "\n",
    "classmethod() is considered un-Pythonic so in newer Python versions, you can use the \n",
    "@classmethod decorator for classmethod definition.\n",
    "\n",
    "The syntax is:\n",
    "@classmethod\n",
    "def func(cls, args...)"
   ]
  },
  {
   "cell_type": "markdown",
   "id": "71a8915e-8952-4ca4-ae30-87284664ce2b",
   "metadata": {
    "jp-MarkdownHeadingCollapsed": true
   },
   "source": [
    "### Create factory method using class method"
   ]
  },
  {
   "cell_type": "code",
   "execution_count": 79,
   "id": "77ada129-960b-4557-a81b-35e896197bf5",
   "metadata": {},
   "outputs": [
    {
     "name": "stdout",
     "output_type": "stream",
     "text": [
      "Adam's age is: 19\n",
      "John's age is: 39\n"
     ]
    }
   ],
   "source": [
    "from datetime import date\n",
    "\n",
    "# random Person\n",
    "class Person:\n",
    "    def __init__(self, name, age):\n",
    "        self.name = name\n",
    "        self.age = age\n",
    "\n",
    "    @classmethod\n",
    "    def fromBirthYear(cls, name, birthYear):\n",
    "        return cls(name, date.today().year - birthYear)\n",
    "\n",
    "    def display(self):\n",
    "        print(self.name + \"'s age is: \" + str(self.age))\n",
    "\n",
    "person = Person('Adam', 19)\n",
    "person.display()\n",
    "\n",
    "person1 = Person.fromBirthYear('John',  1985)\n",
    "person1.display()"
   ]
  },
  {
   "cell_type": "markdown",
   "id": "2d3fd63c-6288-426a-b939-3fe660f5aaa3",
   "metadata": {},
   "source": [
    "### Correct instance creation in inheritance"
   ]
  },
  {
   "cell_type": "code",
   "execution_count": 83,
   "id": "48f7fdea-a2dd-4d89-9f26-6117b4241031",
   "metadata": {},
   "outputs": [
    {
     "name": "stdout",
     "output_type": "stream",
     "text": [
      "True\n",
      "False\n"
     ]
    }
   ],
   "source": [
    "from datetime import date\n",
    "\n",
    "# random Person\n",
    "class Person:\n",
    "    def __init__(self, name, age):\n",
    "        self.name = name\n",
    "        self.age = age\n",
    "\n",
    "    @staticmethod\n",
    "    def fromFathersAge(name, fatherAge, fatherPersonAgeDiff):\n",
    "        return Person(name, date.today().year - fatherAge + fatherPersonAgeDiff)\n",
    "\n",
    "    @classmethod\n",
    "    def fromBirthYear(cls, name, birthYear):\n",
    "        return cls(name, date.today().year - birthYear)\n",
    "\n",
    "    def display(self):\n",
    "        print(self.name + \"'s age is: \" + str(self.age))\n",
    "\n",
    "class Man(Person):\n",
    "    sex = 'Male'\n",
    "\n",
    "man = Man.fromBirthYear('John', 1985)\n",
    "print(isinstance(man, Man))\n",
    "\n",
    "man1 = Man.fromFathersAge('John', 1965, 20)\n",
    "print(isinstance(man1, Man))"
   ]
  },
  {
   "cell_type": "markdown",
   "id": "81e8e39f-de41-45bd-b753-2f0b1cd46975",
   "metadata": {
    "jp-MarkdownHeadingCollapsed": true
   },
   "source": [
    "## compile() -- Returns the specified source as an object, ready to be executed"
   ]
  },
  {
   "cell_type": "raw",
   "id": "676c7ee2-f416-487a-84ba-12e7bc481210",
   "metadata": {},
   "source": [
    "compile(source, filename, mode, flag, dont_inherit, optimize)"
   ]
  },
  {
   "cell_type": "code",
   "execution_count": 84,
   "id": "ec546181-f139-4925-b472-480724989761",
   "metadata": {},
   "outputs": [
    {
     "name": "stdout",
     "output_type": "stream",
     "text": [
      "55\n"
     ]
    }
   ],
   "source": [
    "x = compile('print(55)', 'test', 'eval')\n",
    "\n",
    "exec(x)"
   ]
  },
  {
   "cell_type": "code",
   "execution_count": 90,
   "id": "63c6a568-d83e-47e7-b237-13c8c054956c",
   "metadata": {},
   "outputs": [
    {
     "name": "stdout",
     "output_type": "stream",
     "text": [
      "55\n",
      "88\n"
     ]
    }
   ],
   "source": [
    "x = compile('print(55)\\nprint(88)', 'test', 'exec')\n",
    "\n",
    "exec(x)"
   ]
  },
  {
   "cell_type": "markdown",
   "id": "07b2cb45-e699-43d4-af04-1ff65ee6b9ea",
   "metadata": {
    "jp-MarkdownHeadingCollapsed": true
   },
   "source": [
    "## complex() -- Returns a complex number"
   ]
  },
  {
   "cell_type": "code",
   "execution_count": 92,
   "id": "84b0f840-e388-477b-8943-5b432a02f0d8",
   "metadata": {},
   "outputs": [
    {
     "name": "stdout",
     "output_type": "stream",
     "text": [
      "(3+5j)\n"
     ]
    }
   ],
   "source": [
    "x = complex(3, 5)\n",
    "\n",
    "print(x)"
   ]
  },
  {
   "cell_type": "code",
   "execution_count": 93,
   "id": "57c7e091-f2c8-45cd-a722-93ff6e519cbe",
   "metadata": {},
   "outputs": [
    {
     "name": "stdout",
     "output_type": "stream",
     "text": [
      "(3+5j)\n"
     ]
    }
   ],
   "source": [
    "x = complex('3+5j')\n",
    "\n",
    "print(x)"
   ]
  },
  {
   "cell_type": "markdown",
   "id": "7526001f-b5a4-4299-b2fe-dea9c36a17a2",
   "metadata": {
    "jp-MarkdownHeadingCollapsed": true
   },
   "source": [
    "## delattr() -- Deletes the specified attribute (property or method) from the specified object"
   ]
  },
  {
   "cell_type": "code",
   "execution_count": 116,
   "id": "3f7c36ef-a8a1-4f17-ba69-4c2556244600",
   "metadata": {},
   "outputs": [],
   "source": [
    "class Person:\n",
    "  name = \"John\"\n",
    "  age = 36\n",
    "  country = \"Norway\"\n",
    "\n",
    "delattr(Person, 'age')\n",
    "# The Person object will no longer contain an \"age\" property"
   ]
  },
  {
   "cell_type": "markdown",
   "id": "ba4cc399-ce87-444e-94f4-1203c25c900b",
   "metadata": {
    "jp-MarkdownHeadingCollapsed": true
   },
   "source": [
    "## dict() -- Returns a dictionary (Array)"
   ]
  },
  {
   "cell_type": "code",
   "execution_count": 95,
   "id": "08f64775-0ce6-4809-a6fe-999d27852ea0",
   "metadata": {},
   "outputs": [
    {
     "name": "stdout",
     "output_type": "stream",
     "text": [
      "{'name': 'John', 'age': 36, 'country': 'Norway'}\n"
     ]
    }
   ],
   "source": [
    "x = dict(name = \"John\", age = 36, country = \"Norway\")\n",
    "\n",
    "print(x)"
   ]
  },
  {
   "cell_type": "markdown",
   "id": "3d6c6b5e-de55-40a2-af09-735c7f0bf1f2",
   "metadata": {
    "jp-MarkdownHeadingCollapsed": true
   },
   "source": [
    "## dir() -- Returns a list of the specified object's properties and methods"
   ]
  },
  {
   "cell_type": "code",
   "execution_count": 96,
   "id": "7e0167ed-4cf7-49fa-be21-932ad5b2007a",
   "metadata": {},
   "outputs": [
    {
     "name": "stdout",
     "output_type": "stream",
     "text": [
      "['__class__', '__delattr__', '__dict__', '__dir__', '__doc__', '__eq__', '__format__', '__ge__', '__getattribute__', '__getstate__', '__gt__', '__hash__', '__init__', '__init_subclass__', '__le__', '__lt__', '__module__', '__ne__', '__new__', '__reduce__', '__reduce_ex__', '__repr__', '__setattr__', '__sizeof__', '__str__', '__subclasshook__', '__weakref__', 'age', 'country', 'name']\n"
     ]
    }
   ],
   "source": [
    "class Person:\n",
    "  name = \"John\"\n",
    "  age = 36\n",
    "  country = \"Norway\"\n",
    "\n",
    "print(dir(Person))"
   ]
  },
  {
   "cell_type": "markdown",
   "id": "d792adcb-1550-4886-8b4e-c0524caa1e89",
   "metadata": {
    "jp-MarkdownHeadingCollapsed": true
   },
   "source": [
    "## divmod() -- Returns the quotient and the remainder when argument1 is divided by argument2"
   ]
  },
  {
   "cell_type": "code",
   "execution_count": 97,
   "id": "572025af-e167-4b28-94b4-ec7d25527c73",
   "metadata": {},
   "outputs": [
    {
     "name": "stdout",
     "output_type": "stream",
     "text": [
      "(2, 1)\n"
     ]
    }
   ],
   "source": [
    "x = divmod(5, 2)\n",
    "\n",
    "print(x)"
   ]
  },
  {
   "cell_type": "markdown",
   "id": "1370a878-da4d-433a-a383-20e8228cf682",
   "metadata": {
    "jp-MarkdownHeadingCollapsed": true
   },
   "source": [
    "## enumerate() -- Takes a collection (e.g. a tuple) and returns it as an enumerate object"
   ]
  },
  {
   "cell_type": "code",
   "execution_count": 102,
   "id": "cd1a764f-5934-4070-b4a6-ea2d1e8efa86",
   "metadata": {},
   "outputs": [
    {
     "name": "stdout",
     "output_type": "stream",
     "text": [
      "[(0, 'apple'), (1, 'banana'), (2, 'cherry')]\n"
     ]
    }
   ],
   "source": [
    "# The enumerate() function adds a counter as the key of the enumerate object.\n",
    "x = ('apple', 'banana', 'cherry')\n",
    "y = enumerate(x)\n",
    "\n",
    "print(list(y))"
   ]
  },
  {
   "cell_type": "markdown",
   "id": "1043f961-2cca-4ef9-bf72-825419d438fe",
   "metadata": {
    "jp-MarkdownHeadingCollapsed": true
   },
   "source": [
    "## eval() -- Evaluates and executes an expression"
   ]
  },
  {
   "cell_type": "code",
   "execution_count": 105,
   "id": "0ac640d3-7897-49ce-94fe-2cf907d6893f",
   "metadata": {},
   "outputs": [
    {
     "name": "stdout",
     "output_type": "stream",
     "text": [
      "55\n"
     ]
    }
   ],
   "source": [
    "x = 'print(55)'\n",
    "eval(x)"
   ]
  },
  {
   "cell_type": "markdown",
   "id": "b4dd396c-7daf-444c-9a4c-d3c4cf3a509c",
   "metadata": {
    "jp-MarkdownHeadingCollapsed": true
   },
   "source": [
    "## exec() -- Executes the specified code (or object)"
   ]
  },
  {
   "cell_type": "code",
   "execution_count": 106,
   "id": "66548e8d-ac28-4dc4-b714-7e0d2e9a1c6c",
   "metadata": {},
   "outputs": [
    {
     "name": "stdout",
     "output_type": "stream",
     "text": [
      "John\n"
     ]
    }
   ],
   "source": [
    "x = 'name = \"John\"\\nprint(name)'\n",
    "exec(x)"
   ]
  },
  {
   "cell_type": "markdown",
   "id": "8f636dac-1d00-43a8-a8fd-9ba947d2876c",
   "metadata": {
    "jp-MarkdownHeadingCollapsed": true
   },
   "source": [
    "## filter() -- Use a filter function to exclude items in an iterable object"
   ]
  },
  {
   "cell_type": "code",
   "execution_count": 107,
   "id": "23668baa-5ab6-4ae5-aef0-2e60a89266f3",
   "metadata": {},
   "outputs": [
    {
     "name": "stdout",
     "output_type": "stream",
     "text": [
      "18\n",
      "24\n",
      "32\n"
     ]
    }
   ],
   "source": [
    "ages = [5, 12, 17, 18, 24, 32]\n",
    "\n",
    "def myFunc(x):\n",
    "  if x < 18:\n",
    "    return False\n",
    "  else:\n",
    "    return True\n",
    "\n",
    "adults = filter(myFunc, ages)\n",
    "\n",
    "for x in adults:\n",
    "  print(x)"
   ]
  },
  {
   "cell_type": "markdown",
   "id": "d40f4657-6f21-4967-9735-9af0b4361552",
   "metadata": {
    "jp-MarkdownHeadingCollapsed": true
   },
   "source": [
    "## float() -- Returns a floating point number"
   ]
  },
  {
   "cell_type": "code",
   "execution_count": 108,
   "id": "4573eced-15cb-4f57-8a4c-70d70a055225",
   "metadata": {},
   "outputs": [
    {
     "name": "stdout",
     "output_type": "stream",
     "text": [
      "3.0\n"
     ]
    }
   ],
   "source": [
    "x = float(3)\n",
    "\n",
    "print(x)"
   ]
  },
  {
   "cell_type": "code",
   "execution_count": 109,
   "id": "3be654d3-67d0-43c8-a336-d4b7be6e3c06",
   "metadata": {},
   "outputs": [
    {
     "name": "stdout",
     "output_type": "stream",
     "text": [
      "3.5\n"
     ]
    }
   ],
   "source": [
    "x = float(\"3.500\")\n",
    "\n",
    "print(x)"
   ]
  },
  {
   "cell_type": "markdown",
   "id": "fc9cc71e-3f02-4846-b1d9-1ba71cbe501a",
   "metadata": {
    "jp-MarkdownHeadingCollapsed": true
   },
   "source": [
    "## format() -- Formats a specified value"
   ]
  },
  {
   "cell_type": "markdown",
   "id": "baf3bdc0-ee08-4cba-aa50-5d98994effb8",
   "metadata": {
    "jp-MarkdownHeadingCollapsed": true
   },
   "source": [
    "### Formatting Types -- Inside the placeholders you can add a formatting type to format the result:"
   ]
  },
  {
   "cell_type": "raw",
   "id": "76419828-10a8-43ee-be9a-d5590fe69c3e",
   "metadata": {},
   "source": [
    "Syntax --> format(value, format)\n",
    "The format you want to format the value into.\n",
    "Legal values:\n",
    "'<' - Left aligns the result (within the available space)\n",
    "'>' - Right aligns the result (within the available space)\n",
    "'^' - Center aligns the result (within the available space)\n",
    "'=' - Places the sign to the left most position\n",
    "'+' - Use a plus sign to indicate if the result is positive or negative\n",
    "'-' - Use a minus sign for negative values only\n",
    "' ' - Use a leading space for positive numbers\n",
    "',' - Use a comma as a thousand separator\n",
    "'_' - Use a underscore as a thousand separator\n",
    "'b' - Binary format\n",
    "'c' - Converts the value into the corresponding unicode character\n",
    "'d' - Decimal format\n",
    "'e' - Scientific format, with a lower case e\n",
    "'E' - Scientific format, with an upper case E\n",
    "'f' - Fix point number format\n",
    "'F' - Fix point number format, upper case\n",
    "'g' - General format\n",
    "'G' - General format (using a upper case E for scientific notations)\n",
    "'o' - Octal format\n",
    "'x' - Hex format, lower case\n",
    "'X' - Hex format, upper case\n",
    "'n' - Number format\n",
    "'%' - Percentage format"
   ]
  },
  {
   "cell_type": "code",
   "execution_count": 110,
   "id": "a6edb297-adb1-4ada-84c8-d43f8b5415b3",
   "metadata": {},
   "outputs": [
    {
     "name": "stdout",
     "output_type": "stream",
     "text": [
      "50.000000%\n"
     ]
    }
   ],
   "source": [
    "x = format(0.5, '%')\n",
    "\n",
    "print(x)"
   ]
  },
  {
   "cell_type": "code",
   "execution_count": 112,
   "id": "f6ab8728-e011-4cff-9e59-d9ea40685367",
   "metadata": {},
   "outputs": [
    {
     "name": "stdout",
     "output_type": "stream",
     "text": [
      "ff\n"
     ]
    }
   ],
   "source": [
    "x = format(255, 'x')\n",
    "\n",
    "print(x)"
   ]
  },
  {
   "cell_type": "markdown",
   "id": "b5140b79-2afb-4e67-8ade-e9b223e1cd18",
   "metadata": {
    "jp-MarkdownHeadingCollapsed": true
   },
   "source": [
    "## frozenset() -- Returns a frozenset object"
   ]
  },
  {
   "cell_type": "code",
   "execution_count": 113,
   "id": "710c180f-5433-4771-a905-8e6dfd5ea7af",
   "metadata": {},
   "outputs": [
    {
     "name": "stdout",
     "output_type": "stream",
     "text": [
      "frozenset({'apple', 'cherry', 'banana'})\n"
     ]
    }
   ],
   "source": [
    "mylist = ['apple', 'banana', 'cherry']\n",
    "x = frozenset(mylist)\n",
    "print(x)"
   ]
  },
  {
   "cell_type": "code",
   "execution_count": 115,
   "id": "3295a921-328d-42b3-91e5-0c04625961c3",
   "metadata": {},
   "outputs": [
    {
     "ename": "TypeError",
     "evalue": "'frozenset' object does not support item assignment",
     "output_type": "error",
     "traceback": [
      "\u001b[1;31m---------------------------------------------------------------------------\u001b[0m",
      "\u001b[1;31mTypeError\u001b[0m                                 Traceback (most recent call last)",
      "Cell \u001b[1;32mIn[115], line 3\u001b[0m\n\u001b[0;32m      1\u001b[0m mylist \u001b[38;5;241m=\u001b[39m [\u001b[38;5;124m'\u001b[39m\u001b[38;5;124mapple\u001b[39m\u001b[38;5;124m'\u001b[39m, \u001b[38;5;124m'\u001b[39m\u001b[38;5;124mbanana\u001b[39m\u001b[38;5;124m'\u001b[39m, \u001b[38;5;124m'\u001b[39m\u001b[38;5;124mcherry\u001b[39m\u001b[38;5;124m'\u001b[39m]\n\u001b[0;32m      2\u001b[0m x \u001b[38;5;241m=\u001b[39m \u001b[38;5;28mfrozenset\u001b[39m(mylist)\n\u001b[1;32m----> 3\u001b[0m x[\u001b[38;5;241m1\u001b[39m] \u001b[38;5;241m=\u001b[39m \u001b[38;5;124m\"\u001b[39m\u001b[38;5;124mstrawberry\u001b[39m\u001b[38;5;124m\"\u001b[39m\n\u001b[0;32m      4\u001b[0m \u001b[38;5;28mprint\u001b[39m(x)\n",
      "\u001b[1;31mTypeError\u001b[0m: 'frozenset' object does not support item assignment"
     ]
    }
   ],
   "source": [
    "mylist = ['apple', 'banana', 'cherry']\n",
    "x = frozenset(mylist)\n",
    "x[1] = \"strawberry\"\n",
    "print(x)"
   ]
  },
  {
   "cell_type": "markdown",
   "id": "9d54aeec-8e18-4e69-b573-77a6195508d1",
   "metadata": {
    "jp-MarkdownHeadingCollapsed": true
   },
   "source": [
    "## getattr() -- Returns the value of the specified attribute (property or method)"
   ]
  },
  {
   "cell_type": "code",
   "execution_count": 117,
   "id": "335fcd08-b27c-491e-b10d-cb29203ffad2",
   "metadata": {},
   "outputs": [
    {
     "name": "stdout",
     "output_type": "stream",
     "text": [
      "36\n"
     ]
    }
   ],
   "source": [
    "class Person:\n",
    "  name = \"John\"\n",
    "  age = 36\n",
    "  country = \"Norway\"\n",
    "\n",
    "x = getattr(Person, 'age')\n",
    "\n",
    "print(x)"
   ]
  },
  {
   "cell_type": "code",
   "execution_count": 118,
   "id": "827c820f-9d24-438d-aa49-61d8cc1477ec",
   "metadata": {},
   "outputs": [
    {
     "name": "stdout",
     "output_type": "stream",
     "text": [
      "my message\n"
     ]
    }
   ],
   "source": [
    "class Person:\n",
    "  name = \"John\"\n",
    "  age = 36\n",
    "  country = \"Norway\"\n",
    "\n",
    "x = getattr(Person, 'page', 'my message')\n",
    "\n",
    "print(x)"
   ]
  },
  {
   "cell_type": "markdown",
   "id": "2d020a56-8c85-468f-a599-b7dda0e5ba18",
   "metadata": {
    "jp-MarkdownHeadingCollapsed": true
   },
   "source": [
    "## globals() -- Returns the current global symbol table as a dictionary"
   ]
  },
  {
   "cell_type": "markdown",
   "id": "cb7953a1-f6bb-4510-b818-1e676c54ed14",
   "metadata": {
    "jp-MarkdownHeadingCollapsed": true
   },
   "source": [
    "### Display the global symbol table:"
   ]
  },
  {
   "cell_type": "code",
   "execution_count": 119,
   "id": "72381cbc-5f8a-40a2-aafe-fd9b39104285",
   "metadata": {},
   "outputs": [
    {
     "name": "stdout",
     "output_type": "stream",
     "text": [
      "{'__name__': '__main__', '__doc__': 'Automatically created module for IPython interactive environment', '__package__': None, '__loader__': None, '__spec__': None, '__builtin__': <module 'builtins' (built-in)>, '__builtins__': <module 'builtins' (built-in)>, '_ih': ['', 'x = abs(-7.25)\\n\\nprint (x)', 'x = abs(3+5j)', 'x = abs(3+5j)\\n\\nprint(x)', 'mylist = [True, True, True]\\nx = all(mylist)', 'mylist = [True, True, True]\\nx = all(mylist)\\n\\nprint(X)', 'mylist = [True, True, True]\\nx = all(mylist)\\n\\nprint(x)', 'mylist = [0, 1, 1]\\nx = all(mylist)', 'mytuple = (0, True, False)\\nx = all(mytuple)', 'myset = {0, 1, 0}\\nx = all(myset)\\n\\nprint(x)', 'myset = {0, 1, 0}\\nx = all(myset)\\n\\nprint(x)', 'mylist = [True, True, True]\\nx = all(mylist)\\n\\nprint(x)', 'mylist = [0, 1, 1]\\nx = all(mylist)\\n\\nprint(x)', 'mytuple = (0, True, False)\\nx = all(mytuple)\\n\\nprint(x)', 'myset = {0, 1, 0}\\nx = all(myset)\\n\\nprint(x)', 'mydict = {0 : \"Apple\", 1 : \"Orange\"}\\nx = all(mydict)\\n\\nprint(x)', 'mylist = [1, 1, 1]\\nx = all(mylist)\\n\\nprint(x)', 'mylist = [0, 1, 1]\\nx = all(mylist)\\n\\nprint(x)', 'mydict = {0 : \"Apple\", 1 : \"Apple\"}\\nx = all(mydict)\\n\\nprint(x)', 'mydict = {0 : \"Apple\", 0: \"Orange\"}\\nx = all(mydict)\\n\\nprint(x)', 'mydict = {0 : \"Apple\", 0: \"Apple\"}\\nx = all(mydict)\\n\\nprint(x)', 'mydict = {0 : \"Apple\", 0 : \"Apple\"}\\nx = all(mydict)\\n\\nprint(x)', 'mydict = {0 : \"Apple\", 1 : \"Orange\"}\\nx = all(mydict)\\n\\nprint(x)', 'mylist = [False, True, False]\\nx = any(mylist)', 'mylist = [False, True, False]\\nx = any(mylist)\\n\\nprint(x)', 'mytuple = (0, 1, False)\\nx = any(mytuple', 'mytuple = (0, 1, False)\\nx = any(mytuple)\\n\\nprint(x)', 'myset = {0, 1, 0}\\nx = any(myset)\\n\\nprint(x)', 'mydict = {0 : \"Apple\", 1 : \"Orange\"}\\nx = any(mydict)\\n\\nprint(x)', 'x = ascii(\"My name is Ståle\")\\n\\nprint(x)', 'x = bin(36)\\n\\nprint(x)', 'x = bool(1)\\n\\nprint(x)', 'x = bytearray(4)', 'x = bytearray(4)\\n\\nprint(x)', 'x = bytearray()\\n\\nprint(x)', 'x = bytearray(\"google\", \\'utf-8\\')\\n\\nprint(x)', 'x = bytearray(\"google\", \\'ascii\\')\\n\\nprint(x)', 'x = bytearray(\"google\", ascii)\\n\\nprint(x)', 'x = bytearray(\"google\", \\'utf-8\\', \\'Not Found\\')\\n\\nprint(x)', 'x = bytearray(\"google\", utf-8, \\'Not Found\\')\\n\\nprint(x)', 'x = bytearray(\"google\", \\'utf-8\\', \\'Not Found\\')\\n\\nprint(x)', 'x = bytearray(\"Qåsim\", \\'utf-8\\', \\'Not Found\\')\\n\\nprint(x)', 'x = bytearray(\"Qåsim\", \\'utf-8\\')\\n\\nprint(x)', 'x = bytearray(\"Qåsim\", \\'utf-8\\', \\'strict\\')\\n\\nprint(x)', 'x = bytearray(\"Qåsim\", \\'utf-8\\', \\'ignore\\')\\n\\nprint(x)', 'x = bytearray(\"Qåsim\", \\'utf-8\\', errors=\\'ignore\\')\\n\\nprint(x)', 'x = bytearray(\"Qåsim\", \\'utf-8\\', errors=\\'replace\\')\\n\\nprint(x)', 'x = bytearray(\"Qåsim\", \\'ascii\\', errors=\\'replace\\')\\n\\nprint(x)', 'x = bytearray(\"Qåsim\", \\'ascii\\', errors=\\'ignore\\')\\n\\nprint(x)', 'x = bytearray(\"Qåsim\", \\'ascii\\', errors=\\'replace\\')\\n\\nprint(x)\\n\\ny = bytearray(\"Qåsim\", \\'ascii\\', errors=\\'ignore\\')\\n\\nprint(y)', 'x = bytearray(\"Qåsim\", \\'ascii\\', errors=\\'replace\\')\\n\\nprint(x)\\n\\ny = bytearray(\"Qåsim\", \\'ascii\\', errors=\\'ignore\\')\\n\\nprint(y)\\n\\nz = bytearray(\"Qåsim\", \\'ascii\\', errors=\\'ignore\\')\\n\\nprint(z)', 'x = bytearray(\"Qåsim\", \\'ascii\\', errors=\\'replace\\')\\n\\nprint(x)\\n\\ny = bytearray(\"Qåsim\", \\'ascii\\', errors=\\'ignore\\')\\n\\nprint(y)\\n\\nz = bytearray(\"Qåsim\", \\'ascii\\', errors=\\'strict\\')\\n\\nprint(z)', 'x = bytearray(\"Qåsim\", \\'ascii\\', errors=\\'replace\\')\\n\\nprint(x)\\n\\ny = bytearray(\"Qåsim\", \\'ascii\\', errors=\\'ignore\\')\\n\\nprint(y)\\n\\nz = bytearray(\"Qåsim\", \\'ascii\\', errors=\\'strict\\')\\n\\nprint(z)', 'x = bytearray(\"Qåsim\", \\'ascii\\', errors=\\'replace\\')\\n\\nprint(x)\\n\\ny = bytearray(\"Qåsim\", \\'ascii\\', errors=\\'ignore\\')\\n\\nprint(y)\\n\\nz = bytearray(\"Qåsim\", \\'ascii\\', errors=\\'strict\\')\\n\\nprint(z)\\n\\n\"Qåsim\".encode()', 'x = bytearray(\"Qåsim\", \\'ascii\\', errors=\\'replace\\')\\n\\nprint(x)\\n\\ny = bytearray(\"Qåsim\", \\'ascii\\', errors=\\'ignore\\')\\n\\nprint(y)\\n\\nz = bytearray(\"Qåsim\", \\'ascii\\', errors=\\'namereplace\\')\\n\\nprint(z)', 'w = bytearray(\"Qåsim\", \\'ascii\\', errors=\\'replace\\')\\n\\nprint(w)\\n\\nx = bytearray(\"Qåsim\", \\'ascii\\', errors=\\'ignore\\')\\n\\nprint(x)\\n\\ny = bytearray(\"Qåsim\", \\'ascii\\', errors=\\'namereplace\\')\\n\\nprint(y)\\n\\nz = bytearray(\"Qåsim\", \\'ascii\\', errors=\\'xmlcharrefreplace\\')\\n\\nprint(z)', 'x = bytearray()\\n\\nprint(x)', 'x = bytes(4)\\n\\nprint(x)', 'w = byte(\"Qåsim\", \\'ascii\\', errors=\\'replace\\')\\n\\nprint(w)\\n\\nx = byte(\"Qåsim\", \\'ascii\\', errors=\\'ignore\\')\\n\\nprint(x)\\n\\ny = byte(\"Qåsim\", \\'ascii\\', errors=\\'namereplace\\')\\n\\nprint(y)\\n\\nz = byte(\"Qåsim\", \\'ascii\\', errors=\\'xmlcharrefreplace\\')\\n\\nprint(z)', 'w = byte(\"Qåsim\", \\'ascii\\', errors=\\'replace\\')\\n\\nprint(w)\\n\\nx = byte(\"Qåsim\", \\'ascii\\', errors=\\'ignore\\')\\n\\nprint(x)\\n\\ny = byte(\"Qåsim\", \\'ascii\\', errors=\\'namereplace\\')\\n\\nprint(y)\\n\\nz = byte(\"Qåsim\", \\'ascii\\', errors=\\'xmlcharrefreplace\\')\\n\\nprint(z)', 'w = byte(\"Qåsim\", \\'ascii\\', errors=\\'replace\\')\\n\\nprint(w)\\n\\nx = byte(\"Qåsim\", \\'ascii\\', errors=\\'ignore\\')\\n\\nprint(x)\\n\\ny = byte(\"Qåsim\", \\'ascii\\', errors=\\'namereplace\\')\\n\\nprint(y)\\n\\nz = byte(\"Qåsim\", \\'ascii\\', errors=\\'xmlcharrefreplace\\')\\n\\nprint(z)', 'x = byte()\\n\\nprint(x)', 'x = byte()\\n\\nprint(x)', 'x = byte(x)\\n\\nprint(x)', 'message = \\'Python is fun\\'\\nw = byte(message, \\'ascii\\', errors=\\'replace\\')\\n\\nprint(w)\\n\\nx = byte(\"Qåsim\", \\'ascii\\', errors=\\'ignore\\')\\n\\nprint(x)\\n\\ny = byte(\"Qåsim\", \\'ascii\\', errors=\\'namereplace\\')\\n\\nprint(y)\\n\\nz = byte(\"Qåsim\", \\'ascii\\', errors=\\'xmlcharrefreplace\\')\\n\\nprint(z)', 'w = bytes(\"Qåsim\", \\'ascii\\', errors=\\'replace\\')\\n\\nprint(w)\\n\\nx = bytes(\"Qåsim\", \\'ascii\\', errors=\\'ignore\\')\\n\\nprint(x)\\n\\ny = bytes(\"Qåsim\", \\'ascii\\', errors=\\'namereplace\\')\\n\\nprint(y)\\n\\nz = bytes(\"Qåsim\", \\'ascii\\', errors=\\'xmlcharrefreplace\\')\\n\\nprint(z)', 'x = bytes()\\n\\nprint(x)', 'def x():\\n  a = 5\\n\\nprint(callable(x))', 'x = 5\\n\\nprint(callable(x))', 'def x():\\n  a = 5\\n\\nprint(callable(x))', 'x = 5\\n\\nprint(callable(x))', 'x = chr(97)\\n\\nprint(x)', \"class Student:\\n  marks = 0\\n\\n  def compute_marks(self, obtained_marks):\\n    marks = obtained_marks\\n    print('Obtained Marks:', marks)\\n\\n# convert compute_marks() to class method\\nStudent.print_marks = classmethod(Student.compute_marks)\\nStudent.print_marks(88)\\n\\n# Output: Obtained Marks: 88\", \"class Student:\\n  marks = 0\\n\\n  def compute_marks(self, obtained_marks):\\n    marks = obtained_marks\\n    print('Obtained Marks:', marks)\\n\\n# convert compute_marks() to class method\\nStudentmk2 = classmethod(Student.compute_marks)\\nStudentmk2(88)\\n\\n# Output: Obtained Marks: 88\", \"class Student:\\n  marks = 0\\n\\n  def compute_marks(self, obtained_marks):\\n    marks = obtained_marks\\n    print('Obtained Marks:', marks)\\n\\n# convert compute_marks() to class method\\nStudent.mk2 = classmethod(Student.compute_marks)\\nStudent.mk2(88)\\n\\n# Output: Obtained Marks: 88\", \"class Student:\\n  marks = 0\\n\\n  def compute_marks(self, obtained_marks):\\n    marks = obtained_marks\\n    print('Obtained Marks:', marks)\\n\\n# convert compute_marks() to class method\\nStudent.print_marks = classmethod(Student.compute_marks)\\nStudent.print_marks(90)\\n\\n# Output: Obtained Marks: 90\", \"class Student:\\n  marks = 0\\n\\n  def compute_marks(self, obtained_marks):\\n    marks = obtained_marks\\n    print('Obtained Marks:', marks)\\n\\n# convert compute_marks() to class method\\nStudent.print_marks = classmethod(Student.compute_marks)\\nStudent.print_marks(90)\\n\\n# Output: Obtained Marks: 90\", \"class Person:\\n    age = 25\\n\\n    def printAge(cls):\\n        print('The age is:', cls.age)\\n\\n# create printAge class method\\nPerson.printAge = classmethod(Person.printAge)\\n\\nPerson.printAge()\", 'from datetime import date\\n\\n# random Person\\nclass Person:\\n    def __init__(self, name, age):\\n        self.name = name\\n        self.age = age\\n\\n    @classmethod\\n    def fromBirthYear(cls, name, birthYear):\\n        return cls(name, date.today().year - birthYear)\\n\\n    def display(self):\\n        print(self.name + \"\\'s age is: \" + str(self.age))\\n\\nperson = Person(\\'Adam\\', 19)\\nperson.display()\\n\\nperson1 = Person.fromBirthYear(\\'John\\',  1985)\\nperson1.display()', 'from datetime import date\\n\\n# random Person\\nclass Person:\\n    def __init__(self, name, age):\\n        self.name = name\\n        self.age = age\\n\\n    @classmethod\\n    def fromBirthYear(cls, name, birthYear):\\n        return cls(name, date.today().year - birthYear)\\n\\n    def display(self):\\n        print(self.name + \"\\'s age is: \" + str(self.age))\\n\\nperson = Person(\\'Adam\\', 19)\\nperson.display()\\n\\nperson1 = Person.fromBirthYear(\\'John\\',  1985)\\nperson1.display()', 'from datetime import date\\n\\n# random Person\\nclass Person:\\n    def __init__(self, name, age):\\n        self.name = name\\n        self.age = age\\n\\n    @staticmethod\\n    def fromFathersAge(name, fatherAge, fatherPersonAgeDiff):\\n        return Person(name, date.today().year - fatherAge + fatherPersonAgeDiff)\\n\\n    @classmethod\\n    def fromBirthYear(cls, name, birthYear):\\n        return cls(name, date.today().year - birthYear)\\n\\n    def display(self):\\n        print(self.name + \"\\'s age is: \" + str(self.age))\\n\\nclass Man(Person):\\n    sex = \\'Male\\'\\n\\nman = Man.fromBirthYear(\\'John\\', 1985)\\nprint(isinstance(man, Man))\\n\\nman1 = Man.fromFathersAge(\\'John\\', 1965, 20)\\nprint(isinstance(man1, Man))', 'from datetime import date\\n\\n# random Person\\nclass Person:\\n    def __init__(self, name, age):\\n        self.name = name\\n        self.age = age\\n\\n    @staticmethod\\n    def fromFathersAge(name, fatherAge, fatherPersonAgeDiff):\\n        return Person(name, date.today().year - fatherAge + fatherPersonAgeDiff)\\n\\n    @classmethod\\n    def fromBirthYear(cls, name, birthYear):\\n        return cls(name, date.today().year - birthYear)\\n\\n    def display(self):\\n        print(self.name + \"\\'s age is: \" + str(self.age))\\n\\nclass Man(Person):\\n    sex = \\'Male\\'\\n\\nman = Man.fromBirthYear(\\'John\\', 1985)\\nprint(isinstance(man, Man))\\n\\nman1 = Man.fromFathersAge(\\'John\\', 1965, 20)\\nprint(isinstance(man1, Man))\\nprint(man)\\nprint(man1)', 'from datetime import date\\n\\n# random Person\\nclass Person:\\n    def __init__(self, name, age):\\n        self.name = name\\n        self.age = age\\n\\n    @staticmethod\\n    def fromFathersAge(name, fatherAge, fatherPersonAgeDiff):\\n        return Person(name, date.today().year - fatherAge + fatherPersonAgeDiff)\\n\\n    @classmethod\\n    def fromBirthYear(cls, name, birthYear):\\n        return cls(name, date.today().year - birthYear)\\n\\n    def display(self):\\n        print(self.name + \"\\'s age is: \" + str(self.age))\\n\\nclass Man(Person):\\n    sex = \\'Male\\'\\n\\nman = Man.fromBirthYear(\\'John\\', 1985)\\nprint(isinstance(man, Man))\\n\\nman1 = Man.fromFathersAge(\\'John\\', 1965, 20)\\nprint(isinstance(man1, Man))\\nprint(man())\\nprint(man1)', 'from datetime import date\\n\\n# random Person\\nclass Person:\\n    def __init__(self, name, age):\\n        self.name = name\\n        self.age = age\\n\\n    @staticmethod\\n    def fromFathersAge(name, fatherAge, fatherPersonAgeDiff):\\n        return Person(name, date.today().year - fatherAge + fatherPersonAgeDiff)\\n\\n    @classmethod\\n    def fromBirthYear(cls, name, birthYear):\\n        return cls(name, date.today().year - birthYear)\\n\\n    def display(self):\\n        print(self.name + \"\\'s age is: \" + str(self.age))\\n\\nclass Man(Person):\\n    sex = \\'Male\\'\\n\\nman = Man.fromBirthYear(\\'John\\', 1985)\\nprint(isinstance(man, Man))\\n\\nman1 = Man.fromFathersAge(\\'John\\', 1965, 20)\\nprint(isinstance(man1, Man))', \"x = compile('print(55)', 'test', 'eval')\\n\\nexec(x)\", \"x = compile('print(55)\\\\nprint(88)', 'test', 'exec')\\n\\nexec(x)\", \"x = compile('print(55)\\\\nprint(88)', 'test', 'exec')\\n\\nsingle(x)\", \"x = compile('print(55)\\\\nprint(88)', 'test', 'exec')\\n\\neval(x)\", \"x = compile('print(55)\\\\nprint(88)', 'test', 'exec')\\n\\nexec(x)\", \"x = compile('print(55)\\\\nprint(88)', 'test', 'exec')\\n\\nprint(x)\", \"x = compile('print(55)\\\\nprint(88)', 'test', 'exec')\\n\\nexec(x)\", 'x = complex(3, 5)', 'x = complex(3, 5)\\n\\nprint(x)', \"x = complex('3+5j')\\n\\nprint(x)\", 'class Person:\\n  name = \"John\"\\n  age = 36\\n  country = \"Norway\"\\n\\ndelattr(Person, \\'age\\')', 'x = dict(name = \"John\", age = 36, country = \"Norway\")\\n\\nprint(x)', 'class Person:\\n  name = \"John\"\\n  age = 36\\n  country = \"Norway\"\\n\\nprint(dir(Person))', 'x = divmod(5, 2)\\n\\nprint(x)', \"x = ('apple', 'banana', 'cherry')\\ny = enumerate(x)\", \"x = ('apple', 'banana', 'cherry')\\ny = enumerate(x)\\n\\nprint(y)\", \"x = ('apple', 'banana', 'cherry')\\ny = enumerate(x)\\n\\nprint(list(y))\", '# The enumerate() function adds a counter as the key of the enumerate object.', \"# The enumerate() function adds a counter as the key of the enumerate object.\\nx = ('apple', 'banana', 'cherry')\\ny = enumerate(x)\\n\\nprint(list(y))\", \"x = 'print(55)'\\neval(x)\", \"x = 'print(55)'\\nexec(x)\", \"x = 'print(55)'\\neval(x)\", 'x = \\'name = \"John\"\\\\nprint(name)\\'\\nexec(x)', 'ages = [5, 12, 17, 18, 24, 32]\\n\\ndef myFunc(x):\\n  if x < 18:\\n    return False\\n  else:\\n    return True\\n\\nadults = filter(myFunc, ages)\\n\\nfor x in adults:\\n  print(x)', 'x = float(3)\\n\\nprint(x)', 'x = float(\"3.500\")\\n\\nprint(x)', \"x = format(0.5, '%')\\n\\nprint(x)\", \"x = format(255, 'x')\", \"x = format(255, 'x')\\n\\nprint(x)\", \"mylist = ['apple', 'banana', 'cherry']\\nx = frozenset(mylist)\\nprint(x)\", 'mylist = [\\'apple\\', \\'banana\\', \\'cherry\\']\\nx = frozenset(mylist)\\nx[1] = \"strawberry\"', 'mylist = [\\'apple\\', \\'banana\\', \\'cherry\\']\\nx = frozenset(mylist)\\nx[1] = \"strawberry\"\\nprint(x)', 'class Person:\\n  name = \"John\"\\n  age = 36\\n  country = \"Norway\"\\n\\ndelattr(Person, \\'age\\')\\n# The Person object will no longer contain an \"age\" property', 'class Person:\\n  name = \"John\"\\n  age = 36\\n  country = \"Norway\"\\n\\nx = getattr(Person, \\'age\\')\\n\\nprint(x)', 'class Person:\\n  name = \"John\"\\n  age = 36\\n  country = \"Norway\"\\n\\nx = getattr(Person, \\'page\\', \\'my message\\')\\n\\nprint(x)', 'x = globals()\\nprint(x)'], '_oh': {}, '_dh': [WindowsPath('E:/Python_Programming/N/Practice')], 'In': ['', 'x = abs(-7.25)\\n\\nprint (x)', 'x = abs(3+5j)', 'x = abs(3+5j)\\n\\nprint(x)', 'mylist = [True, True, True]\\nx = all(mylist)', 'mylist = [True, True, True]\\nx = all(mylist)\\n\\nprint(X)', 'mylist = [True, True, True]\\nx = all(mylist)\\n\\nprint(x)', 'mylist = [0, 1, 1]\\nx = all(mylist)', 'mytuple = (0, True, False)\\nx = all(mytuple)', 'myset = {0, 1, 0}\\nx = all(myset)\\n\\nprint(x)', 'myset = {0, 1, 0}\\nx = all(myset)\\n\\nprint(x)', 'mylist = [True, True, True]\\nx = all(mylist)\\n\\nprint(x)', 'mylist = [0, 1, 1]\\nx = all(mylist)\\n\\nprint(x)', 'mytuple = (0, True, False)\\nx = all(mytuple)\\n\\nprint(x)', 'myset = {0, 1, 0}\\nx = all(myset)\\n\\nprint(x)', 'mydict = {0 : \"Apple\", 1 : \"Orange\"}\\nx = all(mydict)\\n\\nprint(x)', 'mylist = [1, 1, 1]\\nx = all(mylist)\\n\\nprint(x)', 'mylist = [0, 1, 1]\\nx = all(mylist)\\n\\nprint(x)', 'mydict = {0 : \"Apple\", 1 : \"Apple\"}\\nx = all(mydict)\\n\\nprint(x)', 'mydict = {0 : \"Apple\", 0: \"Orange\"}\\nx = all(mydict)\\n\\nprint(x)', 'mydict = {0 : \"Apple\", 0: \"Apple\"}\\nx = all(mydict)\\n\\nprint(x)', 'mydict = {0 : \"Apple\", 0 : \"Apple\"}\\nx = all(mydict)\\n\\nprint(x)', 'mydict = {0 : \"Apple\", 1 : \"Orange\"}\\nx = all(mydict)\\n\\nprint(x)', 'mylist = [False, True, False]\\nx = any(mylist)', 'mylist = [False, True, False]\\nx = any(mylist)\\n\\nprint(x)', 'mytuple = (0, 1, False)\\nx = any(mytuple', 'mytuple = (0, 1, False)\\nx = any(mytuple)\\n\\nprint(x)', 'myset = {0, 1, 0}\\nx = any(myset)\\n\\nprint(x)', 'mydict = {0 : \"Apple\", 1 : \"Orange\"}\\nx = any(mydict)\\n\\nprint(x)', 'x = ascii(\"My name is Ståle\")\\n\\nprint(x)', 'x = bin(36)\\n\\nprint(x)', 'x = bool(1)\\n\\nprint(x)', 'x = bytearray(4)', 'x = bytearray(4)\\n\\nprint(x)', 'x = bytearray()\\n\\nprint(x)', 'x = bytearray(\"google\", \\'utf-8\\')\\n\\nprint(x)', 'x = bytearray(\"google\", \\'ascii\\')\\n\\nprint(x)', 'x = bytearray(\"google\", ascii)\\n\\nprint(x)', 'x = bytearray(\"google\", \\'utf-8\\', \\'Not Found\\')\\n\\nprint(x)', 'x = bytearray(\"google\", utf-8, \\'Not Found\\')\\n\\nprint(x)', 'x = bytearray(\"google\", \\'utf-8\\', \\'Not Found\\')\\n\\nprint(x)', 'x = bytearray(\"Qåsim\", \\'utf-8\\', \\'Not Found\\')\\n\\nprint(x)', 'x = bytearray(\"Qåsim\", \\'utf-8\\')\\n\\nprint(x)', 'x = bytearray(\"Qåsim\", \\'utf-8\\', \\'strict\\')\\n\\nprint(x)', 'x = bytearray(\"Qåsim\", \\'utf-8\\', \\'ignore\\')\\n\\nprint(x)', 'x = bytearray(\"Qåsim\", \\'utf-8\\', errors=\\'ignore\\')\\n\\nprint(x)', 'x = bytearray(\"Qåsim\", \\'utf-8\\', errors=\\'replace\\')\\n\\nprint(x)', 'x = bytearray(\"Qåsim\", \\'ascii\\', errors=\\'replace\\')\\n\\nprint(x)', 'x = bytearray(\"Qåsim\", \\'ascii\\', errors=\\'ignore\\')\\n\\nprint(x)', 'x = bytearray(\"Qåsim\", \\'ascii\\', errors=\\'replace\\')\\n\\nprint(x)\\n\\ny = bytearray(\"Qåsim\", \\'ascii\\', errors=\\'ignore\\')\\n\\nprint(y)', 'x = bytearray(\"Qåsim\", \\'ascii\\', errors=\\'replace\\')\\n\\nprint(x)\\n\\ny = bytearray(\"Qåsim\", \\'ascii\\', errors=\\'ignore\\')\\n\\nprint(y)\\n\\nz = bytearray(\"Qåsim\", \\'ascii\\', errors=\\'ignore\\')\\n\\nprint(z)', 'x = bytearray(\"Qåsim\", \\'ascii\\', errors=\\'replace\\')\\n\\nprint(x)\\n\\ny = bytearray(\"Qåsim\", \\'ascii\\', errors=\\'ignore\\')\\n\\nprint(y)\\n\\nz = bytearray(\"Qåsim\", \\'ascii\\', errors=\\'strict\\')\\n\\nprint(z)', 'x = bytearray(\"Qåsim\", \\'ascii\\', errors=\\'replace\\')\\n\\nprint(x)\\n\\ny = bytearray(\"Qåsim\", \\'ascii\\', errors=\\'ignore\\')\\n\\nprint(y)\\n\\nz = bytearray(\"Qåsim\", \\'ascii\\', errors=\\'strict\\')\\n\\nprint(z)', 'x = bytearray(\"Qåsim\", \\'ascii\\', errors=\\'replace\\')\\n\\nprint(x)\\n\\ny = bytearray(\"Qåsim\", \\'ascii\\', errors=\\'ignore\\')\\n\\nprint(y)\\n\\nz = bytearray(\"Qåsim\", \\'ascii\\', errors=\\'strict\\')\\n\\nprint(z)\\n\\n\"Qåsim\".encode()', 'x = bytearray(\"Qåsim\", \\'ascii\\', errors=\\'replace\\')\\n\\nprint(x)\\n\\ny = bytearray(\"Qåsim\", \\'ascii\\', errors=\\'ignore\\')\\n\\nprint(y)\\n\\nz = bytearray(\"Qåsim\", \\'ascii\\', errors=\\'namereplace\\')\\n\\nprint(z)', 'w = bytearray(\"Qåsim\", \\'ascii\\', errors=\\'replace\\')\\n\\nprint(w)\\n\\nx = bytearray(\"Qåsim\", \\'ascii\\', errors=\\'ignore\\')\\n\\nprint(x)\\n\\ny = bytearray(\"Qåsim\", \\'ascii\\', errors=\\'namereplace\\')\\n\\nprint(y)\\n\\nz = bytearray(\"Qåsim\", \\'ascii\\', errors=\\'xmlcharrefreplace\\')\\n\\nprint(z)', 'x = bytearray()\\n\\nprint(x)', 'x = bytes(4)\\n\\nprint(x)', 'w = byte(\"Qåsim\", \\'ascii\\', errors=\\'replace\\')\\n\\nprint(w)\\n\\nx = byte(\"Qåsim\", \\'ascii\\', errors=\\'ignore\\')\\n\\nprint(x)\\n\\ny = byte(\"Qåsim\", \\'ascii\\', errors=\\'namereplace\\')\\n\\nprint(y)\\n\\nz = byte(\"Qåsim\", \\'ascii\\', errors=\\'xmlcharrefreplace\\')\\n\\nprint(z)', 'w = byte(\"Qåsim\", \\'ascii\\', errors=\\'replace\\')\\n\\nprint(w)\\n\\nx = byte(\"Qåsim\", \\'ascii\\', errors=\\'ignore\\')\\n\\nprint(x)\\n\\ny = byte(\"Qåsim\", \\'ascii\\', errors=\\'namereplace\\')\\n\\nprint(y)\\n\\nz = byte(\"Qåsim\", \\'ascii\\', errors=\\'xmlcharrefreplace\\')\\n\\nprint(z)', 'w = byte(\"Qåsim\", \\'ascii\\', errors=\\'replace\\')\\n\\nprint(w)\\n\\nx = byte(\"Qåsim\", \\'ascii\\', errors=\\'ignore\\')\\n\\nprint(x)\\n\\ny = byte(\"Qåsim\", \\'ascii\\', errors=\\'namereplace\\')\\n\\nprint(y)\\n\\nz = byte(\"Qåsim\", \\'ascii\\', errors=\\'xmlcharrefreplace\\')\\n\\nprint(z)', 'x = byte()\\n\\nprint(x)', 'x = byte()\\n\\nprint(x)', 'x = byte(x)\\n\\nprint(x)', 'message = \\'Python is fun\\'\\nw = byte(message, \\'ascii\\', errors=\\'replace\\')\\n\\nprint(w)\\n\\nx = byte(\"Qåsim\", \\'ascii\\', errors=\\'ignore\\')\\n\\nprint(x)\\n\\ny = byte(\"Qåsim\", \\'ascii\\', errors=\\'namereplace\\')\\n\\nprint(y)\\n\\nz = byte(\"Qåsim\", \\'ascii\\', errors=\\'xmlcharrefreplace\\')\\n\\nprint(z)', 'w = bytes(\"Qåsim\", \\'ascii\\', errors=\\'replace\\')\\n\\nprint(w)\\n\\nx = bytes(\"Qåsim\", \\'ascii\\', errors=\\'ignore\\')\\n\\nprint(x)\\n\\ny = bytes(\"Qåsim\", \\'ascii\\', errors=\\'namereplace\\')\\n\\nprint(y)\\n\\nz = bytes(\"Qåsim\", \\'ascii\\', errors=\\'xmlcharrefreplace\\')\\n\\nprint(z)', 'x = bytes()\\n\\nprint(x)', 'def x():\\n  a = 5\\n\\nprint(callable(x))', 'x = 5\\n\\nprint(callable(x))', 'def x():\\n  a = 5\\n\\nprint(callable(x))', 'x = 5\\n\\nprint(callable(x))', 'x = chr(97)\\n\\nprint(x)', \"class Student:\\n  marks = 0\\n\\n  def compute_marks(self, obtained_marks):\\n    marks = obtained_marks\\n    print('Obtained Marks:', marks)\\n\\n# convert compute_marks() to class method\\nStudent.print_marks = classmethod(Student.compute_marks)\\nStudent.print_marks(88)\\n\\n# Output: Obtained Marks: 88\", \"class Student:\\n  marks = 0\\n\\n  def compute_marks(self, obtained_marks):\\n    marks = obtained_marks\\n    print('Obtained Marks:', marks)\\n\\n# convert compute_marks() to class method\\nStudentmk2 = classmethod(Student.compute_marks)\\nStudentmk2(88)\\n\\n# Output: Obtained Marks: 88\", \"class Student:\\n  marks = 0\\n\\n  def compute_marks(self, obtained_marks):\\n    marks = obtained_marks\\n    print('Obtained Marks:', marks)\\n\\n# convert compute_marks() to class method\\nStudent.mk2 = classmethod(Student.compute_marks)\\nStudent.mk2(88)\\n\\n# Output: Obtained Marks: 88\", \"class Student:\\n  marks = 0\\n\\n  def compute_marks(self, obtained_marks):\\n    marks = obtained_marks\\n    print('Obtained Marks:', marks)\\n\\n# convert compute_marks() to class method\\nStudent.print_marks = classmethod(Student.compute_marks)\\nStudent.print_marks(90)\\n\\n# Output: Obtained Marks: 90\", \"class Student:\\n  marks = 0\\n\\n  def compute_marks(self, obtained_marks):\\n    marks = obtained_marks\\n    print('Obtained Marks:', marks)\\n\\n# convert compute_marks() to class method\\nStudent.print_marks = classmethod(Student.compute_marks)\\nStudent.print_marks(90)\\n\\n# Output: Obtained Marks: 90\", \"class Person:\\n    age = 25\\n\\n    def printAge(cls):\\n        print('The age is:', cls.age)\\n\\n# create printAge class method\\nPerson.printAge = classmethod(Person.printAge)\\n\\nPerson.printAge()\", 'from datetime import date\\n\\n# random Person\\nclass Person:\\n    def __init__(self, name, age):\\n        self.name = name\\n        self.age = age\\n\\n    @classmethod\\n    def fromBirthYear(cls, name, birthYear):\\n        return cls(name, date.today().year - birthYear)\\n\\n    def display(self):\\n        print(self.name + \"\\'s age is: \" + str(self.age))\\n\\nperson = Person(\\'Adam\\', 19)\\nperson.display()\\n\\nperson1 = Person.fromBirthYear(\\'John\\',  1985)\\nperson1.display()', 'from datetime import date\\n\\n# random Person\\nclass Person:\\n    def __init__(self, name, age):\\n        self.name = name\\n        self.age = age\\n\\n    @classmethod\\n    def fromBirthYear(cls, name, birthYear):\\n        return cls(name, date.today().year - birthYear)\\n\\n    def display(self):\\n        print(self.name + \"\\'s age is: \" + str(self.age))\\n\\nperson = Person(\\'Adam\\', 19)\\nperson.display()\\n\\nperson1 = Person.fromBirthYear(\\'John\\',  1985)\\nperson1.display()', 'from datetime import date\\n\\n# random Person\\nclass Person:\\n    def __init__(self, name, age):\\n        self.name = name\\n        self.age = age\\n\\n    @staticmethod\\n    def fromFathersAge(name, fatherAge, fatherPersonAgeDiff):\\n        return Person(name, date.today().year - fatherAge + fatherPersonAgeDiff)\\n\\n    @classmethod\\n    def fromBirthYear(cls, name, birthYear):\\n        return cls(name, date.today().year - birthYear)\\n\\n    def display(self):\\n        print(self.name + \"\\'s age is: \" + str(self.age))\\n\\nclass Man(Person):\\n    sex = \\'Male\\'\\n\\nman = Man.fromBirthYear(\\'John\\', 1985)\\nprint(isinstance(man, Man))\\n\\nman1 = Man.fromFathersAge(\\'John\\', 1965, 20)\\nprint(isinstance(man1, Man))', 'from datetime import date\\n\\n# random Person\\nclass Person:\\n    def __init__(self, name, age):\\n        self.name = name\\n        self.age = age\\n\\n    @staticmethod\\n    def fromFathersAge(name, fatherAge, fatherPersonAgeDiff):\\n        return Person(name, date.today().year - fatherAge + fatherPersonAgeDiff)\\n\\n    @classmethod\\n    def fromBirthYear(cls, name, birthYear):\\n        return cls(name, date.today().year - birthYear)\\n\\n    def display(self):\\n        print(self.name + \"\\'s age is: \" + str(self.age))\\n\\nclass Man(Person):\\n    sex = \\'Male\\'\\n\\nman = Man.fromBirthYear(\\'John\\', 1985)\\nprint(isinstance(man, Man))\\n\\nman1 = Man.fromFathersAge(\\'John\\', 1965, 20)\\nprint(isinstance(man1, Man))\\nprint(man)\\nprint(man1)', 'from datetime import date\\n\\n# random Person\\nclass Person:\\n    def __init__(self, name, age):\\n        self.name = name\\n        self.age = age\\n\\n    @staticmethod\\n    def fromFathersAge(name, fatherAge, fatherPersonAgeDiff):\\n        return Person(name, date.today().year - fatherAge + fatherPersonAgeDiff)\\n\\n    @classmethod\\n    def fromBirthYear(cls, name, birthYear):\\n        return cls(name, date.today().year - birthYear)\\n\\n    def display(self):\\n        print(self.name + \"\\'s age is: \" + str(self.age))\\n\\nclass Man(Person):\\n    sex = \\'Male\\'\\n\\nman = Man.fromBirthYear(\\'John\\', 1985)\\nprint(isinstance(man, Man))\\n\\nman1 = Man.fromFathersAge(\\'John\\', 1965, 20)\\nprint(isinstance(man1, Man))\\nprint(man())\\nprint(man1)', 'from datetime import date\\n\\n# random Person\\nclass Person:\\n    def __init__(self, name, age):\\n        self.name = name\\n        self.age = age\\n\\n    @staticmethod\\n    def fromFathersAge(name, fatherAge, fatherPersonAgeDiff):\\n        return Person(name, date.today().year - fatherAge + fatherPersonAgeDiff)\\n\\n    @classmethod\\n    def fromBirthYear(cls, name, birthYear):\\n        return cls(name, date.today().year - birthYear)\\n\\n    def display(self):\\n        print(self.name + \"\\'s age is: \" + str(self.age))\\n\\nclass Man(Person):\\n    sex = \\'Male\\'\\n\\nman = Man.fromBirthYear(\\'John\\', 1985)\\nprint(isinstance(man, Man))\\n\\nman1 = Man.fromFathersAge(\\'John\\', 1965, 20)\\nprint(isinstance(man1, Man))', \"x = compile('print(55)', 'test', 'eval')\\n\\nexec(x)\", \"x = compile('print(55)\\\\nprint(88)', 'test', 'exec')\\n\\nexec(x)\", \"x = compile('print(55)\\\\nprint(88)', 'test', 'exec')\\n\\nsingle(x)\", \"x = compile('print(55)\\\\nprint(88)', 'test', 'exec')\\n\\neval(x)\", \"x = compile('print(55)\\\\nprint(88)', 'test', 'exec')\\n\\nexec(x)\", \"x = compile('print(55)\\\\nprint(88)', 'test', 'exec')\\n\\nprint(x)\", \"x = compile('print(55)\\\\nprint(88)', 'test', 'exec')\\n\\nexec(x)\", 'x = complex(3, 5)', 'x = complex(3, 5)\\n\\nprint(x)', \"x = complex('3+5j')\\n\\nprint(x)\", 'class Person:\\n  name = \"John\"\\n  age = 36\\n  country = \"Norway\"\\n\\ndelattr(Person, \\'age\\')', 'x = dict(name = \"John\", age = 36, country = \"Norway\")\\n\\nprint(x)', 'class Person:\\n  name = \"John\"\\n  age = 36\\n  country = \"Norway\"\\n\\nprint(dir(Person))', 'x = divmod(5, 2)\\n\\nprint(x)', \"x = ('apple', 'banana', 'cherry')\\ny = enumerate(x)\", \"x = ('apple', 'banana', 'cherry')\\ny = enumerate(x)\\n\\nprint(y)\", \"x = ('apple', 'banana', 'cherry')\\ny = enumerate(x)\\n\\nprint(list(y))\", '# The enumerate() function adds a counter as the key of the enumerate object.', \"# The enumerate() function adds a counter as the key of the enumerate object.\\nx = ('apple', 'banana', 'cherry')\\ny = enumerate(x)\\n\\nprint(list(y))\", \"x = 'print(55)'\\neval(x)\", \"x = 'print(55)'\\nexec(x)\", \"x = 'print(55)'\\neval(x)\", 'x = \\'name = \"John\"\\\\nprint(name)\\'\\nexec(x)', 'ages = [5, 12, 17, 18, 24, 32]\\n\\ndef myFunc(x):\\n  if x < 18:\\n    return False\\n  else:\\n    return True\\n\\nadults = filter(myFunc, ages)\\n\\nfor x in adults:\\n  print(x)', 'x = float(3)\\n\\nprint(x)', 'x = float(\"3.500\")\\n\\nprint(x)', \"x = format(0.5, '%')\\n\\nprint(x)\", \"x = format(255, 'x')\", \"x = format(255, 'x')\\n\\nprint(x)\", \"mylist = ['apple', 'banana', 'cherry']\\nx = frozenset(mylist)\\nprint(x)\", 'mylist = [\\'apple\\', \\'banana\\', \\'cherry\\']\\nx = frozenset(mylist)\\nx[1] = \"strawberry\"', 'mylist = [\\'apple\\', \\'banana\\', \\'cherry\\']\\nx = frozenset(mylist)\\nx[1] = \"strawberry\"\\nprint(x)', 'class Person:\\n  name = \"John\"\\n  age = 36\\n  country = \"Norway\"\\n\\ndelattr(Person, \\'age\\')\\n# The Person object will no longer contain an \"age\" property', 'class Person:\\n  name = \"John\"\\n  age = 36\\n  country = \"Norway\"\\n\\nx = getattr(Person, \\'age\\')\\n\\nprint(x)', 'class Person:\\n  name = \"John\"\\n  age = 36\\n  country = \"Norway\"\\n\\nx = getattr(Person, \\'page\\', \\'my message\\')\\n\\nprint(x)', 'x = globals()\\nprint(x)'], 'Out': {}, 'get_ipython': <bound method InteractiveShell.get_ipython of <ipykernel.zmqshell.ZMQInteractiveShell object at 0x0000026B378E8490>>, 'exit': <IPython.core.autocall.ZMQExitAutocall object at 0x0000026B378F4D10>, 'quit': <IPython.core.autocall.ZMQExitAutocall object at 0x0000026B378F4D10>, 'open': <function open at 0x0000026B358CE2A0>, '_': '', '__': '', '___': '', '__session__': 'E:\\\\Python_Programming\\\\N\\\\Practice\\\\Untitled.ipynb', '_i': 'class Person:\\n  name = \"John\"\\n  age = 36\\n  country = \"Norway\"\\n\\nx = getattr(Person, \\'page\\', \\'my message\\')\\n\\nprint(x)', '_ii': 'class Person:\\n  name = \"John\"\\n  age = 36\\n  country = \"Norway\"\\n\\nx = getattr(Person, \\'age\\')\\n\\nprint(x)', '_iii': 'class Person:\\n  name = \"John\"\\n  age = 36\\n  country = \"Norway\"\\n\\ndelattr(Person, \\'age\\')\\n# The Person object will no longer contain an \"age\" property', '_i1': 'x = abs(-7.25)\\n\\nprint (x)', 'x': {...}, '_i2': 'x = abs(3+5j)', '_i3': 'x = abs(3+5j)\\n\\nprint(x)', '_i4': 'mylist = [True, True, True]\\nx = all(mylist)', 'mylist': ['apple', 'banana', 'cherry'], '_i5': 'mylist = [True, True, True]\\nx = all(mylist)\\n\\nprint(X)', '_i6': 'mylist = [True, True, True]\\nx = all(mylist)\\n\\nprint(x)', '_i7': 'mylist = [0, 1, 1]\\nx = all(mylist)', '_i8': 'mytuple = (0, True, False)\\nx = all(mytuple)', 'mytuple': (0, 1, False), '_i9': 'myset = {0, 1, 0}\\nx = all(myset)\\n\\nprint(x)', 'myset': {0, 1}, '_i10': 'myset = {0, 1, 0}\\nx = all(myset)\\n\\nprint(x)', '_i11': 'mylist = [True, True, True]\\nx = all(mylist)\\n\\nprint(x)', '_i12': 'mylist = [0, 1, 1]\\nx = all(mylist)\\n\\nprint(x)', '_i13': 'mytuple = (0, True, False)\\nx = all(mytuple)\\n\\nprint(x)', '_i14': 'myset = {0, 1, 0}\\nx = all(myset)\\n\\nprint(x)', '_i15': 'mydict = {0 : \"Apple\", 1 : \"Orange\"}\\nx = all(mydict)\\n\\nprint(x)', 'mydict': {0: 'Apple', 1: 'Orange'}, '_i16': 'mylist = [1, 1, 1]\\nx = all(mylist)\\n\\nprint(x)', '_i17': 'mylist = [0, 1, 1]\\nx = all(mylist)\\n\\nprint(x)', '_i18': 'mydict = {0 : \"Apple\", 1 : \"Apple\"}\\nx = all(mydict)\\n\\nprint(x)', '_i19': 'mydict = {0 : \"Apple\", 0: \"Orange\"}\\nx = all(mydict)\\n\\nprint(x)', '_i20': 'mydict = {0 : \"Apple\", 0: \"Apple\"}\\nx = all(mydict)\\n\\nprint(x)', '_i21': 'mydict = {0 : \"Apple\", 0 : \"Apple\"}\\nx = all(mydict)\\n\\nprint(x)', '_i22': 'mydict = {0 : \"Apple\", 1 : \"Orange\"}\\nx = all(mydict)\\n\\nprint(x)', '_i23': 'mylist = [False, True, False]\\nx = any(mylist)', '_i24': 'mylist = [False, True, False]\\nx = any(mylist)\\n\\nprint(x)', '_i25': 'mytuple = (0, 1, False)\\nx = any(mytuple', '_i26': 'mytuple = (0, 1, False)\\nx = any(mytuple)\\n\\nprint(x)', '_i27': 'myset = {0, 1, 0}\\nx = any(myset)\\n\\nprint(x)', '_i28': 'mydict = {0 : \"Apple\", 1 : \"Orange\"}\\nx = any(mydict)\\n\\nprint(x)', '_i29': 'x = ascii(\"My name is Ståle\")\\n\\nprint(x)', '_i30': 'x = bin(36)\\n\\nprint(x)', '_i31': 'x = bool(1)\\n\\nprint(x)', '_i32': 'x = bytearray(4)', '_i33': 'x = bytearray(4)\\n\\nprint(x)', '_i34': 'x = bytearray()\\n\\nprint(x)', '_i35': 'x = bytearray(\"google\", \\'utf-8\\')\\n\\nprint(x)', '_i36': 'x = bytearray(\"google\", \\'ascii\\')\\n\\nprint(x)', '_i37': 'x = bytearray(\"google\", ascii)\\n\\nprint(x)', '_i38': 'x = bytearray(\"google\", \\'utf-8\\', \\'Not Found\\')\\n\\nprint(x)', '_i39': 'x = bytearray(\"google\", utf-8, \\'Not Found\\')\\n\\nprint(x)', '_i40': 'x = bytearray(\"google\", \\'utf-8\\', \\'Not Found\\')\\n\\nprint(x)', '_i41': 'x = bytearray(\"Qåsim\", \\'utf-8\\', \\'Not Found\\')\\n\\nprint(x)', '_i42': 'x = bytearray(\"Qåsim\", \\'utf-8\\')\\n\\nprint(x)', '_i43': 'x = bytearray(\"Qåsim\", \\'utf-8\\', \\'strict\\')\\n\\nprint(x)', '_i44': 'x = bytearray(\"Qåsim\", \\'utf-8\\', \\'ignore\\')\\n\\nprint(x)', '_i45': 'x = bytearray(\"Qåsim\", \\'utf-8\\', errors=\\'ignore\\')\\n\\nprint(x)', '_i46': 'x = bytearray(\"Qåsim\", \\'utf-8\\', errors=\\'replace\\')\\n\\nprint(x)', '_i47': 'x = bytearray(\"Qåsim\", \\'ascii\\', errors=\\'replace\\')\\n\\nprint(x)', '_i48': 'x = bytearray(\"Qåsim\", \\'ascii\\', errors=\\'ignore\\')\\n\\nprint(x)', '_i49': 'x = bytearray(\"Qåsim\", \\'ascii\\', errors=\\'replace\\')\\n\\nprint(x)\\n\\ny = bytearray(\"Qåsim\", \\'ascii\\', errors=\\'ignore\\')\\n\\nprint(y)', 'y': <enumerate object at 0x0000026B387D0CC0>, '_i50': 'x = bytearray(\"Qåsim\", \\'ascii\\', errors=\\'replace\\')\\n\\nprint(x)\\n\\ny = bytearray(\"Qåsim\", \\'ascii\\', errors=\\'ignore\\')\\n\\nprint(y)\\n\\nz = bytearray(\"Qåsim\", \\'ascii\\', errors=\\'ignore\\')\\n\\nprint(z)', 'z': b'Q&#229;sim', '_i51': 'x = bytearray(\"Qåsim\", \\'ascii\\', errors=\\'replace\\')\\n\\nprint(x)\\n\\ny = bytearray(\"Qåsim\", \\'ascii\\', errors=\\'ignore\\')\\n\\nprint(y)\\n\\nz = bytearray(\"Qåsim\", \\'ascii\\', errors=\\'strict\\')\\n\\nprint(z)', '_i52': 'x = bytearray(\"Qåsim\", \\'ascii\\', errors=\\'replace\\')\\n\\nprint(x)\\n\\ny = bytearray(\"Qåsim\", \\'ascii\\', errors=\\'ignore\\')\\n\\nprint(y)\\n\\nz = bytearray(\"Qåsim\", \\'ascii\\', errors=\\'strict\\')\\n\\nprint(z)', '_i53': 'x = bytearray(\"Qåsim\", \\'ascii\\', errors=\\'replace\\')\\n\\nprint(x)\\n\\ny = bytearray(\"Qåsim\", \\'ascii\\', errors=\\'ignore\\')\\n\\nprint(y)\\n\\nz = bytearray(\"Qåsim\", \\'ascii\\', errors=\\'strict\\')\\n\\nprint(z)\\n\\n\"Qåsim\".encode()', '_i54': 'x = bytearray(\"Qåsim\", \\'ascii\\', errors=\\'replace\\')\\n\\nprint(x)\\n\\ny = bytearray(\"Qåsim\", \\'ascii\\', errors=\\'ignore\\')\\n\\nprint(y)\\n\\nz = bytearray(\"Qåsim\", \\'ascii\\', errors=\\'namereplace\\')\\n\\nprint(z)', '_i55': 'w = bytearray(\"Qåsim\", \\'ascii\\', errors=\\'replace\\')\\n\\nprint(w)\\n\\nx = bytearray(\"Qåsim\", \\'ascii\\', errors=\\'ignore\\')\\n\\nprint(x)\\n\\ny = bytearray(\"Qåsim\", \\'ascii\\', errors=\\'namereplace\\')\\n\\nprint(y)\\n\\nz = bytearray(\"Qåsim\", \\'ascii\\', errors=\\'xmlcharrefreplace\\')\\n\\nprint(z)', 'w': b'Q?sim', '_i56': 'x = bytearray()\\n\\nprint(x)', '_i57': 'x = bytes(4)\\n\\nprint(x)', '_i58': 'w = byte(\"Qåsim\", \\'ascii\\', errors=\\'replace\\')\\n\\nprint(w)\\n\\nx = byte(\"Qåsim\", \\'ascii\\', errors=\\'ignore\\')\\n\\nprint(x)\\n\\ny = byte(\"Qåsim\", \\'ascii\\', errors=\\'namereplace\\')\\n\\nprint(y)\\n\\nz = byte(\"Qåsim\", \\'ascii\\', errors=\\'xmlcharrefreplace\\')\\n\\nprint(z)', '_i59': 'w = byte(\"Qåsim\", \\'ascii\\', errors=\\'replace\\')\\n\\nprint(w)\\n\\nx = byte(\"Qåsim\", \\'ascii\\', errors=\\'ignore\\')\\n\\nprint(x)\\n\\ny = byte(\"Qåsim\", \\'ascii\\', errors=\\'namereplace\\')\\n\\nprint(y)\\n\\nz = byte(\"Qåsim\", \\'ascii\\', errors=\\'xmlcharrefreplace\\')\\n\\nprint(z)', '_i60': 'w = byte(\"Qåsim\", \\'ascii\\', errors=\\'replace\\')\\n\\nprint(w)\\n\\nx = byte(\"Qåsim\", \\'ascii\\', errors=\\'ignore\\')\\n\\nprint(x)\\n\\ny = byte(\"Qåsim\", \\'ascii\\', errors=\\'namereplace\\')\\n\\nprint(y)\\n\\nz = byte(\"Qåsim\", \\'ascii\\', errors=\\'xmlcharrefreplace\\')\\n\\nprint(z)', '_i61': 'x = byte()\\n\\nprint(x)', '_i62': 'x = byte()\\n\\nprint(x)', '_i63': 'x = byte(x)\\n\\nprint(x)', '_i64': 'message = \\'Python is fun\\'\\nw = byte(message, \\'ascii\\', errors=\\'replace\\')\\n\\nprint(w)\\n\\nx = byte(\"Qåsim\", \\'ascii\\', errors=\\'ignore\\')\\n\\nprint(x)\\n\\ny = byte(\"Qåsim\", \\'ascii\\', errors=\\'namereplace\\')\\n\\nprint(y)\\n\\nz = byte(\"Qåsim\", \\'ascii\\', errors=\\'xmlcharrefreplace\\')\\n\\nprint(z)', 'message': 'Python is fun', '_i65': 'w = bytes(\"Qåsim\", \\'ascii\\', errors=\\'replace\\')\\n\\nprint(w)\\n\\nx = bytes(\"Qåsim\", \\'ascii\\', errors=\\'ignore\\')\\n\\nprint(x)\\n\\ny = bytes(\"Qåsim\", \\'ascii\\', errors=\\'namereplace\\')\\n\\nprint(y)\\n\\nz = bytes(\"Qåsim\", \\'ascii\\', errors=\\'xmlcharrefreplace\\')\\n\\nprint(z)', '_i66': 'x = bytes()\\n\\nprint(x)', '_i67': 'def x():\\n  a = 5\\n\\nprint(callable(x))', '_i68': 'x = 5\\n\\nprint(callable(x))', '_i69': 'def x():\\n  a = 5\\n\\nprint(callable(x))', '_i70': 'x = 5\\n\\nprint(callable(x))', '_i71': 'x = chr(97)\\n\\nprint(x)', '_i72': \"class Student:\\n  marks = 0\\n\\n  def compute_marks(self, obtained_marks):\\n    marks = obtained_marks\\n    print('Obtained Marks:', marks)\\n\\n# convert compute_marks() to class method\\nStudent.print_marks = classmethod(Student.compute_marks)\\nStudent.print_marks(88)\\n\\n# Output: Obtained Marks: 88\", 'Student': <class '__main__.Student'>, '_i73': \"class Student:\\n  marks = 0\\n\\n  def compute_marks(self, obtained_marks):\\n    marks = obtained_marks\\n    print('Obtained Marks:', marks)\\n\\n# convert compute_marks() to class method\\nStudentmk2 = classmethod(Student.compute_marks)\\nStudentmk2(88)\\n\\n# Output: Obtained Marks: 88\", 'Studentmk2': <classmethod(<function Student.compute_marks at 0x0000026B386F07C0>)>, '_i74': \"class Student:\\n  marks = 0\\n\\n  def compute_marks(self, obtained_marks):\\n    marks = obtained_marks\\n    print('Obtained Marks:', marks)\\n\\n# convert compute_marks() to class method\\nStudent.mk2 = classmethod(Student.compute_marks)\\nStudent.mk2(88)\\n\\n# Output: Obtained Marks: 88\", '_i75': \"class Student:\\n  marks = 0\\n\\n  def compute_marks(self, obtained_marks):\\n    marks = obtained_marks\\n    print('Obtained Marks:', marks)\\n\\n# convert compute_marks() to class method\\nStudent.print_marks = classmethod(Student.compute_marks)\\nStudent.print_marks(90)\\n\\n# Output: Obtained Marks: 90\", '_i76': \"class Student:\\n  marks = 0\\n\\n  def compute_marks(self, obtained_marks):\\n    marks = obtained_marks\\n    print('Obtained Marks:', marks)\\n\\n# convert compute_marks() to class method\\nStudent.print_marks = classmethod(Student.compute_marks)\\nStudent.print_marks(90)\\n\\n# Output: Obtained Marks: 90\", '_i77': \"class Person:\\n    age = 25\\n\\n    def printAge(cls):\\n        print('The age is:', cls.age)\\n\\n# create printAge class method\\nPerson.printAge = classmethod(Person.printAge)\\n\\nPerson.printAge()\", 'Person': <class '__main__.Person'>, '_i78': 'from datetime import date\\n\\n# random Person\\nclass Person:\\n    def __init__(self, name, age):\\n        self.name = name\\n        self.age = age\\n\\n    @classmethod\\n    def fromBirthYear(cls, name, birthYear):\\n        return cls(name, date.today().year - birthYear)\\n\\n    def display(self):\\n        print(self.name + \"\\'s age is: \" + str(self.age))\\n\\nperson = Person(\\'Adam\\', 19)\\nperson.display()\\n\\nperson1 = Person.fromBirthYear(\\'John\\',  1985)\\nperson1.display()', 'date': <class 'datetime.date'>, 'person': <__main__.Person object at 0x0000026B387AFF10>, 'person1': <__main__.Person object at 0x0000026B387EFED0>, '_i79': 'from datetime import date\\n\\n# random Person\\nclass Person:\\n    def __init__(self, name, age):\\n        self.name = name\\n        self.age = age\\n\\n    @classmethod\\n    def fromBirthYear(cls, name, birthYear):\\n        return cls(name, date.today().year - birthYear)\\n\\n    def display(self):\\n        print(self.name + \"\\'s age is: \" + str(self.age))\\n\\nperson = Person(\\'Adam\\', 19)\\nperson.display()\\n\\nperson1 = Person.fromBirthYear(\\'John\\',  1985)\\nperson1.display()', '_i80': 'from datetime import date\\n\\n# random Person\\nclass Person:\\n    def __init__(self, name, age):\\n        self.name = name\\n        self.age = age\\n\\n    @staticmethod\\n    def fromFathersAge(name, fatherAge, fatherPersonAgeDiff):\\n        return Person(name, date.today().year - fatherAge + fatherPersonAgeDiff)\\n\\n    @classmethod\\n    def fromBirthYear(cls, name, birthYear):\\n        return cls(name, date.today().year - birthYear)\\n\\n    def display(self):\\n        print(self.name + \"\\'s age is: \" + str(self.age))\\n\\nclass Man(Person):\\n    sex = \\'Male\\'\\n\\nman = Man.fromBirthYear(\\'John\\', 1985)\\nprint(isinstance(man, Man))\\n\\nman1 = Man.fromFathersAge(\\'John\\', 1965, 20)\\nprint(isinstance(man1, Man))', 'Man': <class '__main__.Man'>, 'man': <__main__.Man object at 0x0000026B387CCE10>, 'man1': <__main__.Person object at 0x0000026B387B4190>, '_i81': 'from datetime import date\\n\\n# random Person\\nclass Person:\\n    def __init__(self, name, age):\\n        self.name = name\\n        self.age = age\\n\\n    @staticmethod\\n    def fromFathersAge(name, fatherAge, fatherPersonAgeDiff):\\n        return Person(name, date.today().year - fatherAge + fatherPersonAgeDiff)\\n\\n    @classmethod\\n    def fromBirthYear(cls, name, birthYear):\\n        return cls(name, date.today().year - birthYear)\\n\\n    def display(self):\\n        print(self.name + \"\\'s age is: \" + str(self.age))\\n\\nclass Man(Person):\\n    sex = \\'Male\\'\\n\\nman = Man.fromBirthYear(\\'John\\', 1985)\\nprint(isinstance(man, Man))\\n\\nman1 = Man.fromFathersAge(\\'John\\', 1965, 20)\\nprint(isinstance(man1, Man))\\nprint(man)\\nprint(man1)', '_i82': 'from datetime import date\\n\\n# random Person\\nclass Person:\\n    def __init__(self, name, age):\\n        self.name = name\\n        self.age = age\\n\\n    @staticmethod\\n    def fromFathersAge(name, fatherAge, fatherPersonAgeDiff):\\n        return Person(name, date.today().year - fatherAge + fatherPersonAgeDiff)\\n\\n    @classmethod\\n    def fromBirthYear(cls, name, birthYear):\\n        return cls(name, date.today().year - birthYear)\\n\\n    def display(self):\\n        print(self.name + \"\\'s age is: \" + str(self.age))\\n\\nclass Man(Person):\\n    sex = \\'Male\\'\\n\\nman = Man.fromBirthYear(\\'John\\', 1985)\\nprint(isinstance(man, Man))\\n\\nman1 = Man.fromFathersAge(\\'John\\', 1965, 20)\\nprint(isinstance(man1, Man))\\nprint(man())\\nprint(man1)', '_i83': 'from datetime import date\\n\\n# random Person\\nclass Person:\\n    def __init__(self, name, age):\\n        self.name = name\\n        self.age = age\\n\\n    @staticmethod\\n    def fromFathersAge(name, fatherAge, fatherPersonAgeDiff):\\n        return Person(name, date.today().year - fatherAge + fatherPersonAgeDiff)\\n\\n    @classmethod\\n    def fromBirthYear(cls, name, birthYear):\\n        return cls(name, date.today().year - birthYear)\\n\\n    def display(self):\\n        print(self.name + \"\\'s age is: \" + str(self.age))\\n\\nclass Man(Person):\\n    sex = \\'Male\\'\\n\\nman = Man.fromBirthYear(\\'John\\', 1985)\\nprint(isinstance(man, Man))\\n\\nman1 = Man.fromFathersAge(\\'John\\', 1965, 20)\\nprint(isinstance(man1, Man))', '_i84': \"x = compile('print(55)', 'test', 'eval')\\n\\nexec(x)\", '_i85': \"x = compile('print(55)\\\\nprint(88)', 'test', 'exec')\\n\\nexec(x)\", '_i86': \"x = compile('print(55)\\\\nprint(88)', 'test', 'exec')\\n\\nsingle(x)\", '_i87': \"x = compile('print(55)\\\\nprint(88)', 'test', 'exec')\\n\\neval(x)\", '_i88': \"x = compile('print(55)\\\\nprint(88)', 'test', 'exec')\\n\\nexec(x)\", '_i89': \"x = compile('print(55)\\\\nprint(88)', 'test', 'exec')\\n\\nprint(x)\", '_i90': \"x = compile('print(55)\\\\nprint(88)', 'test', 'exec')\\n\\nexec(x)\", '_i91': 'x = complex(3, 5)', '_i92': 'x = complex(3, 5)\\n\\nprint(x)', '_i93': \"x = complex('3+5j')\\n\\nprint(x)\", '_i94': 'class Person:\\n  name = \"John\"\\n  age = 36\\n  country = \"Norway\"\\n\\ndelattr(Person, \\'age\\')', '_i95': 'x = dict(name = \"John\", age = 36, country = \"Norway\")\\n\\nprint(x)', '_i96': 'class Person:\\n  name = \"John\"\\n  age = 36\\n  country = \"Norway\"\\n\\nprint(dir(Person))', '_i97': 'x = divmod(5, 2)\\n\\nprint(x)', '_i98': \"x = ('apple', 'banana', 'cherry')\\ny = enumerate(x)\", '_i99': \"x = ('apple', 'banana', 'cherry')\\ny = enumerate(x)\\n\\nprint(y)\", '_i100': \"x = ('apple', 'banana', 'cherry')\\ny = enumerate(x)\\n\\nprint(list(y))\", '_i101': '# The enumerate() function adds a counter as the key of the enumerate object.', '_i102': \"# The enumerate() function adds a counter as the key of the enumerate object.\\nx = ('apple', 'banana', 'cherry')\\ny = enumerate(x)\\n\\nprint(list(y))\", '_i103': \"x = 'print(55)'\\neval(x)\", '_i104': \"x = 'print(55)'\\nexec(x)\", '_i105': \"x = 'print(55)'\\neval(x)\", '_i106': 'x = \\'name = \"John\"\\\\nprint(name)\\'\\nexec(x)', 'name': 'John', '_i107': 'ages = [5, 12, 17, 18, 24, 32]\\n\\ndef myFunc(x):\\n  if x < 18:\\n    return False\\n  else:\\n    return True\\n\\nadults = filter(myFunc, ages)\\n\\nfor x in adults:\\n  print(x)', 'ages': [5, 12, 17, 18, 24, 32], 'myFunc': <function myFunc at 0x0000026B386F2200>, 'adults': <filter object at 0x0000026B37B67E20>, '_i108': 'x = float(3)\\n\\nprint(x)', '_i109': 'x = float(\"3.500\")\\n\\nprint(x)', '_i110': \"x = format(0.5, '%')\\n\\nprint(x)\", '_i111': \"x = format(255, 'x')\", '_i112': \"x = format(255, 'x')\\n\\nprint(x)\", '_i113': \"mylist = ['apple', 'banana', 'cherry']\\nx = frozenset(mylist)\\nprint(x)\", '_i114': 'mylist = [\\'apple\\', \\'banana\\', \\'cherry\\']\\nx = frozenset(mylist)\\nx[1] = \"strawberry\"', '_i115': 'mylist = [\\'apple\\', \\'banana\\', \\'cherry\\']\\nx = frozenset(mylist)\\nx[1] = \"strawberry\"\\nprint(x)', '_i116': 'class Person:\\n  name = \"John\"\\n  age = 36\\n  country = \"Norway\"\\n\\ndelattr(Person, \\'age\\')\\n# The Person object will no longer contain an \"age\" property', '_i117': 'class Person:\\n  name = \"John\"\\n  age = 36\\n  country = \"Norway\"\\n\\nx = getattr(Person, \\'age\\')\\n\\nprint(x)', '_i118': 'class Person:\\n  name = \"John\"\\n  age = 36\\n  country = \"Norway\"\\n\\nx = getattr(Person, \\'page\\', \\'my message\\')\\n\\nprint(x)', '_i119': 'x = globals()\\nprint(x)'}\n"
     ]
    }
   ],
   "source": [
    "x = globals()\n",
    "print(x)"
   ]
  },
  {
   "cell_type": "markdown",
   "id": "5892931e-1d30-4b47-b966-b95a959ffc7b",
   "metadata": {
    "jp-MarkdownHeadingCollapsed": true
   },
   "source": [
    "### Get the filename of the current program:"
   ]
  },
  {
   "cell_type": "code",
   "execution_count": 120,
   "id": "eee97f90-b556-43af-86f2-bc912452b9cc",
   "metadata": {},
   "outputs": [
    {
     "ename": "KeyError",
     "evalue": "'__file__'",
     "output_type": "error",
     "traceback": [
      "\u001b[1;31m---------------------------------------------------------------------------\u001b[0m",
      "\u001b[1;31mKeyError\u001b[0m                                  Traceback (most recent call last)",
      "Cell \u001b[1;32mIn[120], line 2\u001b[0m\n\u001b[0;32m      1\u001b[0m x \u001b[38;5;241m=\u001b[39m \u001b[38;5;28mglobals\u001b[39m()\n\u001b[1;32m----> 2\u001b[0m \u001b[38;5;28mprint\u001b[39m(x[\u001b[38;5;124m\"\u001b[39m\u001b[38;5;124m__file__\u001b[39m\u001b[38;5;124m\"\u001b[39m])\n",
      "\u001b[1;31mKeyError\u001b[0m: '__file__'"
     ]
    }
   ],
   "source": [
    "x = globals()\n",
    "print(x[\"__file__\"])"
   ]
  },
  {
   "cell_type": "markdown",
   "id": "259f4c1c-9166-4fca-b7b3-e4b39c492146",
   "metadata": {
    "jp-MarkdownHeadingCollapsed": true
   },
   "source": [
    "## hasattr() -- Returns True if the specified object has the specified attribute (property/method)"
   ]
  },
  {
   "cell_type": "code",
   "execution_count": 121,
   "id": "bb1fbd36-0ef3-40ad-98ed-4da59a64a180",
   "metadata": {},
   "outputs": [
    {
     "name": "stdout",
     "output_type": "stream",
     "text": [
      "True\n"
     ]
    }
   ],
   "source": [
    "class Person:\n",
    "  name = \"John\"\n",
    "  age = 36\n",
    "  country = \"Norway\"\n",
    "\n",
    "x = hasattr(Person, 'age')\n",
    "\n",
    "print(x)"
   ]
  },
  {
   "cell_type": "markdown",
   "id": "c51d2a94-0605-44a6-81ed-04c46a420fd8",
   "metadata": {
    "jp-MarkdownHeadingCollapsed": true
   },
   "source": [
    "## hash() -- Returns the hash value of a specified object"
   ]
  },
  {
   "cell_type": "code",
   "execution_count": 125,
   "id": "fcc4f353-1d59-44dc-94e4-b1455a833afe",
   "metadata": {},
   "outputs": [
    {
     "name": "stdout",
     "output_type": "stream",
     "text": [
      "Hash for 181 is: 181\n",
      "Hash for 181.23 is: 530343892119126197\n",
      "Hash for Python is: -8034376921411781681\n"
     ]
    }
   ],
   "source": [
    "# hash for integer unchanged\n",
    "print('Hash for 181 is:', hash(181))\n",
    "\n",
    "# hash for decimal\n",
    "print('Hash for 181.23 is:',hash(181.23))\n",
    "\n",
    "# hash for string\n",
    "print('Hash for Python is:', hash('Python'))"
   ]
  },
  {
   "cell_type": "code",
   "execution_count": 126,
   "id": "07206948-a2d8-4b70-9b89-f1e900691d12",
   "metadata": {},
   "outputs": [
    {
     "name": "stdout",
     "output_type": "stream",
     "text": [
      "The hash is: -5372391804666868025\n"
     ]
    }
   ],
   "source": [
    "# tuple of vowels\n",
    "vowels = ('a', 'e', 'i', 'o', 'u')\n",
    "\n",
    "print('The hash is:', hash(vowels))"
   ]
  },
  {
   "cell_type": "markdown",
   "id": "e5ba6bd6-3ea0-4883-bf36-ef73f01f2f38",
   "metadata": {
    "jp-MarkdownHeadingCollapsed": true
   },
   "source": [
    "## help() -- Executes the built-in help system"
   ]
  },
  {
   "cell_type": "code",
   "execution_count": 136,
   "id": "7402abfa-750d-4d5b-8f61-44321da875d4",
   "metadata": {},
   "outputs": [
    {
     "name": "stdout",
     "output_type": "stream",
     "text": [
      "Welcome to Python 3.11's help utility! If this is your first time using\n",
      "Python, you should definitely check out the tutorial at\n",
      "https://docs.python.org/3.11/tutorial/.\n",
      "\n",
      "Enter the name of any module, keyword, or topic to get help on writing\n",
      "Python programs and using Python modules.  To get a list of available\n",
      "modules, keywords, symbols, or topics, enter \"modules\", \"keywords\",\n",
      "\"symbols\", or \"topics\".\n",
      "\n",
      "Each module also comes with a one-line summary of what it does; to list\n",
      "the modules whose name or summary contain a given string such as \"spam\",\n",
      "enter \"modules spam\".\n",
      "\n",
      "To quit this help utility and return to the interpreter,\n",
      "enter \"q\" or \"quit\".\n",
      "\n"
     ]
    },
    {
     "name": "stdin",
     "output_type": "stream",
     "text": [
      "help>  True\n"
     ]
    },
    {
     "name": "stdout",
     "output_type": "stream",
     "text": [
      "Help on bool object:\n",
      "\n",
      "class bool(int)\n",
      " |  bool(x) -> bool\n",
      " |  \n",
      " |  Returns True when the argument x is true, False otherwise.\n",
      " |  The builtins True and False are the only two instances of the class bool.\n",
      " |  The class bool is a subclass of the class int, and cannot be subclassed.\n",
      " |  \n",
      " |  Method resolution order:\n",
      " |      bool\n",
      " |      int\n",
      " |      object\n",
      " |  \n",
      " |  Methods defined here:\n",
      " |  \n",
      " |  __and__(self, value, /)\n",
      " |      Return self&value.\n",
      " |  \n",
      " |  __or__(self, value, /)\n",
      " |      Return self|value.\n",
      " |  \n",
      " |  __rand__(self, value, /)\n",
      " |      Return value&self.\n",
      " |  \n",
      " |  __repr__(self, /)\n",
      " |      Return repr(self).\n",
      " |  \n",
      " |  __ror__(self, value, /)\n",
      " |      Return value|self.\n",
      " |  \n",
      " |  __rxor__(self, value, /)\n",
      " |      Return value^self.\n",
      " |  \n",
      " |  __xor__(self, value, /)\n",
      " |      Return self^value.\n",
      " |  \n",
      " |  ----------------------------------------------------------------------\n",
      " |  Static methods defined here:\n",
      " |  \n",
      " |  __new__(*args, **kwargs) from builtins.type\n",
      " |      Create and return a new object.  See help(type) for accurate signature.\n",
      " |  \n",
      " |  ----------------------------------------------------------------------\n",
      " |  Methods inherited from int:\n",
      " |  \n",
      " |  __abs__(self, /)\n",
      " |      abs(self)\n",
      " |  \n",
      " |  __add__(self, value, /)\n",
      " |      Return self+value.\n",
      " |  \n",
      " |  __bool__(self, /)\n",
      " |      True if self else False\n",
      " |  \n",
      " |  __ceil__(...)\n",
      " |      Ceiling of an Integral returns itself.\n",
      " |  \n",
      " |  __divmod__(self, value, /)\n",
      " |      Return divmod(self, value).\n",
      " |  \n",
      " |  __eq__(self, value, /)\n",
      " |      Return self==value.\n",
      " |  \n",
      " |  __float__(self, /)\n",
      " |      float(self)\n",
      " |  \n",
      " |  __floor__(...)\n",
      " |      Flooring an Integral returns itself.\n",
      " |  \n",
      " |  __floordiv__(self, value, /)\n",
      " |      Return self//value.\n",
      " |  \n",
      " |  __format__(self, format_spec, /)\n",
      " |      Default object formatter.\n",
      " |  \n",
      " |  __ge__(self, value, /)\n",
      " |      Return self>=value.\n",
      " |  \n",
      " |  __getattribute__(self, name, /)\n",
      " |      Return getattr(self, name).\n",
      " |  \n",
      " |  __getnewargs__(self, /)\n",
      " |  \n",
      " |  __gt__(self, value, /)\n",
      " |      Return self>value.\n",
      " |  \n",
      " |  __hash__(self, /)\n",
      " |      Return hash(self).\n",
      " |  \n",
      " |  __index__(self, /)\n",
      " |      Return self converted to an integer, if self is suitable for use as an index into a list.\n",
      " |  \n",
      " |  __int__(self, /)\n",
      " |      int(self)\n",
      " |  \n",
      " |  __invert__(self, /)\n",
      " |      ~self\n",
      " |  \n",
      " |  __le__(self, value, /)\n",
      " |      Return self<=value.\n",
      " |  \n",
      " |  __lshift__(self, value, /)\n",
      " |      Return self<<value.\n",
      " |  \n",
      " |  __lt__(self, value, /)\n",
      " |      Return self<value.\n",
      " |  \n",
      " |  __mod__(self, value, /)\n",
      " |      Return self%value.\n",
      " |  \n",
      " |  __mul__(self, value, /)\n",
      " |      Return self*value.\n",
      " |  \n",
      " |  __ne__(self, value, /)\n",
      " |      Return self!=value.\n",
      " |  \n",
      " |  __neg__(self, /)\n",
      " |      -self\n",
      " |  \n",
      " |  __pos__(self, /)\n",
      " |      +self\n",
      " |  \n",
      " |  __pow__(self, value, mod=None, /)\n",
      " |      Return pow(self, value, mod).\n",
      " |  \n",
      " |  __radd__(self, value, /)\n",
      " |      Return value+self.\n",
      " |  \n",
      " |  __rdivmod__(self, value, /)\n",
      " |      Return divmod(value, self).\n",
      " |  \n",
      " |  __rfloordiv__(self, value, /)\n",
      " |      Return value//self.\n",
      " |  \n",
      " |  __rlshift__(self, value, /)\n",
      " |      Return value<<self.\n",
      " |  \n",
      " |  __rmod__(self, value, /)\n",
      " |      Return value%self.\n",
      " |  \n",
      " |  __rmul__(self, value, /)\n",
      " |      Return value*self.\n",
      " |  \n",
      " |  __round__(...)\n",
      " |      Rounding an Integral returns itself.\n",
      " |      \n",
      " |      Rounding with an ndigits argument also returns an integer.\n",
      " |  \n",
      " |  __rpow__(self, value, mod=None, /)\n",
      " |      Return pow(value, self, mod).\n",
      " |  \n",
      " |  __rrshift__(self, value, /)\n",
      " |      Return value>>self.\n",
      " |  \n",
      " |  __rshift__(self, value, /)\n",
      " |      Return self>>value.\n",
      " |  \n",
      " |  __rsub__(self, value, /)\n",
      " |      Return value-self.\n",
      " |  \n",
      " |  __rtruediv__(self, value, /)\n",
      " |      Return value/self.\n",
      " |  \n",
      " |  __sizeof__(self, /)\n",
      " |      Returns size in memory, in bytes.\n",
      " |  \n",
      " |  __sub__(self, value, /)\n",
      " |      Return self-value.\n",
      " |  \n",
      " |  __truediv__(self, value, /)\n",
      " |      Return self/value.\n",
      " |  \n",
      " |  __trunc__(...)\n",
      " |      Truncating an Integral returns itself.\n",
      " |  \n",
      " |  as_integer_ratio(self, /)\n",
      " |      Return integer ratio.\n",
      " |      \n",
      " |      Return a pair of integers, whose ratio is exactly equal to the original int\n",
      " |      and with a positive denominator.\n",
      " |      \n",
      " |      >>> (10).as_integer_ratio()\n",
      " |      (10, 1)\n",
      " |      >>> (-10).as_integer_ratio()\n",
      " |      (-10, 1)\n",
      " |      >>> (0).as_integer_ratio()\n",
      " |      (0, 1)\n",
      " |  \n",
      " |  bit_count(self, /)\n",
      " |      Number of ones in the binary representation of the absolute value of self.\n",
      " |      \n",
      " |      Also known as the population count.\n",
      " |      \n",
      " |      >>> bin(13)\n",
      " |      '0b1101'\n",
      " |      >>> (13).bit_count()\n",
      " |      3\n",
      " |  \n",
      " |  bit_length(self, /)\n",
      " |      Number of bits necessary to represent self in binary.\n",
      " |      \n",
      " |      >>> bin(37)\n",
      " |      '0b100101'\n",
      " |      >>> (37).bit_length()\n",
      " |      6\n",
      " |  \n",
      " |  conjugate(...)\n",
      " |      Returns self, the complex conjugate of any int.\n",
      " |  \n",
      " |  to_bytes(self, /, length=1, byteorder='big', *, signed=False)\n",
      " |      Return an array of bytes representing an integer.\n",
      " |      \n",
      " |      length\n",
      " |        Length of bytes object to use.  An OverflowError is raised if the\n",
      " |        integer is not representable with the given number of bytes.  Default\n",
      " |        is length 1.\n",
      " |      byteorder\n",
      " |        The byte order used to represent the integer.  If byteorder is 'big',\n",
      " |        the most significant byte is at the beginning of the byte array.  If\n",
      " |        byteorder is 'little', the most significant byte is at the end of the\n",
      " |        byte array.  To request the native byte order of the host system, use\n",
      " |        `sys.byteorder' as the byte order value.  Default is to use 'big'.\n",
      " |      signed\n",
      " |        Determines whether two's complement is used to represent the integer.\n",
      " |        If signed is False and a negative integer is given, an OverflowError\n",
      " |        is raised.\n",
      " |  \n",
      " |  ----------------------------------------------------------------------\n",
      " |  Class methods inherited from int:\n",
      " |  \n",
      " |  from_bytes(bytes, byteorder='big', *, signed=False) from builtins.type\n",
      " |      Return the integer represented by the given array of bytes.\n",
      " |      \n",
      " |      bytes\n",
      " |        Holds the array of bytes to convert.  The argument must either\n",
      " |        support the buffer protocol or be an iterable object producing bytes.\n",
      " |        Bytes and bytearray are examples of built-in objects that support the\n",
      " |        buffer protocol.\n",
      " |      byteorder\n",
      " |        The byte order used to represent the integer.  If byteorder is 'big',\n",
      " |        the most significant byte is at the beginning of the byte array.  If\n",
      " |        byteorder is 'little', the most significant byte is at the end of the\n",
      " |        byte array.  To request the native byte order of the host system, use\n",
      " |        `sys.byteorder' as the byte order value.  Default is to use 'big'.\n",
      " |      signed\n",
      " |        Indicates whether two's complement is used to represent the integer.\n",
      " |  \n",
      " |  ----------------------------------------------------------------------\n",
      " |  Data descriptors inherited from int:\n",
      " |  \n",
      " |  denominator\n",
      " |      the denominator of a rational number in lowest terms\n",
      " |  \n",
      " |  imag\n",
      " |      the imaginary part of a complex number\n",
      " |  \n",
      " |  numerator\n",
      " |      the numerator of a rational number in lowest terms\n",
      " |  \n",
      " |  real\n",
      " |      the real part of a complex number\n",
      "\n"
     ]
    },
    {
     "name": "stdin",
     "output_type": "stream",
     "text": [
      "help>  'print'\n"
     ]
    },
    {
     "name": "stdout",
     "output_type": "stream",
     "text": [
      "Help on built-in function print in module builtins:\n",
      "\n",
      "print(*args, sep=' ', end='\\n', file=None, flush=False)\n",
      "    Prints the values to a stream, or to sys.stdout by default.\n",
      "    \n",
      "    sep\n",
      "      string inserted between values, default a space.\n",
      "    end\n",
      "      string appended after the last value, default a newline.\n",
      "    file\n",
      "      a file-like object (stream); defaults to the current sys.stdout.\n",
      "    flush\n",
      "      whether to forcibly flush the stream.\n",
      "\n"
     ]
    },
    {
     "name": "stdin",
     "output_type": "stream",
     "text": [
      "help>  print\n"
     ]
    },
    {
     "name": "stdout",
     "output_type": "stream",
     "text": [
      "Help on built-in function print in module builtins:\n",
      "\n",
      "print(*args, sep=' ', end='\\n', file=None, flush=False)\n",
      "    Prints the values to a stream, or to sys.stdout by default.\n",
      "    \n",
      "    sep\n",
      "      string inserted between values, default a space.\n",
      "    end\n",
      "      string appended after the last value, default a newline.\n",
      "    file\n",
      "      a file-like object (stream); defaults to the current sys.stdout.\n",
      "    flush\n",
      "      whether to forcibly flush the stream.\n",
      "\n"
     ]
    },
    {
     "name": "stdin",
     "output_type": "stream",
     "text": [
      "help>  quit\n"
     ]
    },
    {
     "name": "stdout",
     "output_type": "stream",
     "text": [
      "\n",
      "You are now leaving help and returning to the Python interpreter.\n",
      "If you want to ask for help on a particular object directly from the\n",
      "interpreter, you can type \"help(object)\".  Executing \"help('string')\"\n",
      "has the same effect as typing a particular string at the help> prompt.\n"
     ]
    }
   ],
   "source": [
    "# help(list)\n",
    "# help(dict)\n",
    "# help(print)\n",
    "# help([1, 2, 3])\n",
    "\n",
    "\n",
    "# help('random thing')\n",
    "# help('print')\n",
    "# help('def')\n",
    "# from math import * \n",
    "# help('math.pow')\n",
    "\n",
    "help()\n",
    "# True\n",
    "# 'print'\n",
    "# print\n",
    "# quit"
   ]
  },
  {
   "cell_type": "markdown",
   "id": "924d3987-08be-445c-83ec-c0a755b55832",
   "metadata": {
    "jp-MarkdownHeadingCollapsed": true
   },
   "source": [
    "## hex() -- Converts a number into a hexadecimal value"
   ]
  },
  {
   "cell_type": "code",
   "execution_count": 122,
   "id": "7ca2417f-fce3-432b-9ba2-9a66d062c622",
   "metadata": {},
   "outputs": [
    {
     "name": "stdout",
     "output_type": "stream",
     "text": [
      "0xff\n"
     ]
    }
   ],
   "source": [
    "x = hex(255)\n",
    "\n",
    "print(x)"
   ]
  },
  {
   "cell_type": "markdown",
   "id": "7d4ade9a-b6b7-4430-a406-4a76eabed16f",
   "metadata": {
    "jp-MarkdownHeadingCollapsed": true
   },
   "source": [
    "## id() -- Returns the id of an object"
   ]
  },
  {
   "cell_type": "code",
   "execution_count": 138,
   "id": "b3856b1b-1edb-41ea-a782-6cb1a85eda87",
   "metadata": {},
   "outputs": [
    {
     "name": "stdout",
     "output_type": "stream",
     "text": [
      "2659531633344\n"
     ]
    }
   ],
   "source": [
    "x = ('apple', 'banana', 'cherry')\n",
    "y = id(x)\n",
    "print(y)"
   ]
  },
  {
   "cell_type": "markdown",
   "id": "7c56057a-8c56-4c32-8a4a-8a05b307f919",
   "metadata": {
    "jp-MarkdownHeadingCollapsed": true
   },
   "source": [
    "## input() -- Allowing user input"
   ]
  },
  {
   "cell_type": "code",
   "execution_count": 141,
   "id": "519f7db4-7dff-4c0b-89e3-1410f315948d",
   "metadata": {},
   "outputs": [
    {
     "name": "stdout",
     "output_type": "stream",
     "text": [
      "Enter your name:\n"
     ]
    },
    {
     "name": "stdin",
     "output_type": "stream",
     "text": [
      " Qasim\n"
     ]
    },
    {
     "name": "stdout",
     "output_type": "stream",
     "text": [
      "Hello, Qasim\n"
     ]
    }
   ],
   "source": [
    "# Ask for the user's name and print it:\n",
    "\n",
    "print('Enter your name:')\n",
    "x = input()\n",
    "print('Hello, ' + x)"
   ]
  },
  {
   "cell_type": "code",
   "execution_count": 142,
   "id": "4d7a0503-f3b0-499f-8c15-62bdc47a4f43",
   "metadata": {},
   "outputs": [
    {
     "name": "stdin",
     "output_type": "stream",
     "text": [
      "Enter your name: Qasim\n"
     ]
    },
    {
     "name": "stdout",
     "output_type": "stream",
     "text": [
      "Hello, Qasim\n"
     ]
    }
   ],
   "source": [
    "# Use the prompt parameter to write a message before the input:\n",
    "\n",
    "x = input('Enter your name:')\n",
    "print('Hello, ' + x)"
   ]
  },
  {
   "cell_type": "markdown",
   "id": "f1ae071d-d669-41de-b500-c1b72079e040",
   "metadata": {
    "jp-MarkdownHeadingCollapsed": true
   },
   "source": [
    "## int() -- Returns an integer number"
   ]
  },
  {
   "cell_type": "code",
   "execution_count": 143,
   "id": "a94bb33c-248f-40fb-a8ed-8f3def418e1a",
   "metadata": {},
   "outputs": [
    {
     "name": "stdout",
     "output_type": "stream",
     "text": [
      "3\n"
     ]
    }
   ],
   "source": [
    "x = int(3.5)\n",
    "\n",
    "print(x)"
   ]
  },
  {
   "cell_type": "code",
   "execution_count": 144,
   "id": "9b27ffc6-a6d1-4af6-868f-6ab31b9ab6c1",
   "metadata": {},
   "outputs": [
    {
     "name": "stdout",
     "output_type": "stream",
     "text": [
      "12\n"
     ]
    }
   ],
   "source": [
    "x = int(\"12\")\n",
    "\n",
    "print(x)"
   ]
  },
  {
   "cell_type": "markdown",
   "id": "51fdcd55-759f-4f18-9a3e-0e1fb0563945",
   "metadata": {
    "jp-MarkdownHeadingCollapsed": true
   },
   "source": [
    "## isinstance() -- Returns True if a specified object is an instance of a specified object"
   ]
  },
  {
   "cell_type": "code",
   "execution_count": 145,
   "id": "5f89d6d6-61dd-4b07-afb9-edc67a7633ff",
   "metadata": {},
   "outputs": [
    {
     "name": "stdout",
     "output_type": "stream",
     "text": [
      "True\n"
     ]
    }
   ],
   "source": [
    "x = isinstance(5, int)\n",
    "print(x)"
   ]
  },
  {
   "cell_type": "code",
   "execution_count": 146,
   "id": "06613c64-977b-4e68-b38d-2a1325500f90",
   "metadata": {},
   "outputs": [
    {
     "name": "stdout",
     "output_type": "stream",
     "text": [
      "True\n"
     ]
    }
   ],
   "source": [
    "x = isinstance(\"Hello\", (float, int, str, list, dict, tuple))\n",
    "print(x)"
   ]
  },
  {
   "cell_type": "code",
   "execution_count": 148,
   "id": "dba1ea57-1c58-409a-b725-64cdc272c809",
   "metadata": {},
   "outputs": [
    {
     "name": "stdout",
     "output_type": "stream",
     "text": [
      "True\n"
     ]
    }
   ],
   "source": [
    "class myObj:\n",
    "  name = \"John\"\n",
    "\n",
    "y = myObj()\n",
    "\n",
    "x = isinstance(y, myObj)\n",
    "\n",
    "print(x)"
   ]
  },
  {
   "cell_type": "markdown",
   "id": "cabba838-6ae5-44eb-975d-112e1905e63c",
   "metadata": {
    "jp-MarkdownHeadingCollapsed": true
   },
   "source": [
    "## issubclass() -- Returns True if a specified class is a subclass of a specified object"
   ]
  },
  {
   "cell_type": "code",
   "execution_count": 149,
   "id": "e0eda3df-3f89-4514-99ae-72d583fa9224",
   "metadata": {},
   "outputs": [
    {
     "name": "stdout",
     "output_type": "stream",
     "text": [
      "True\n"
     ]
    }
   ],
   "source": [
    "class myAge:\n",
    "  age = 36\n",
    "\n",
    "class myObj(myAge):\n",
    "  name = \"John\"\n",
    "  age = myAge\n",
    "\n",
    "x = issubclass(myObj, myAge)\n",
    "\n",
    "print(x)"
   ]
  },
  {
   "cell_type": "markdown",
   "id": "50d53272-4bc0-46e2-8384-a18b86a610d4",
   "metadata": {
    "jp-MarkdownHeadingCollapsed": true
   },
   "source": [
    "## iter() -- Returns an iterator object"
   ]
  },
  {
   "cell_type": "code",
   "execution_count": 152,
   "id": "4c85b99d-41f5-4ca5-8d25-f26357eaf51f",
   "metadata": {},
   "outputs": [
    {
     "name": "stdout",
     "output_type": "stream",
     "text": [
      "apple\n",
      "banana\n",
      "cherry\n"
     ]
    }
   ],
   "source": [
    "# Create an iterator object, and print the items:\n",
    "\n",
    "x = iter([\"apple\", \"banana\", \"cherry\"])\n",
    "print(next(x))\n",
    "print(next(x))\n",
    "print(next(x))"
   ]
  },
  {
   "cell_type": "markdown",
   "id": "c63ba63d-b324-4eee-8948-d2b9e04446ff",
   "metadata": {
    "jp-MarkdownHeadingCollapsed": true
   },
   "source": [
    "## len() -- Returns the length of an object"
   ]
  },
  {
   "cell_type": "code",
   "execution_count": 153,
   "id": "363bae01-9bf5-4e1f-99cf-a569638ed2da",
   "metadata": {},
   "outputs": [
    {
     "name": "stdout",
     "output_type": "stream",
     "text": [
      "3\n"
     ]
    }
   ],
   "source": [
    "mylist = [\"apple\", \"banana\", \"cherry\"]\n",
    "x = len(mylist)\n",
    "\n",
    "print(x)"
   ]
  },
  {
   "cell_type": "code",
   "execution_count": 154,
   "id": "35eef3bd-9ad8-4260-b40e-58e395699807",
   "metadata": {},
   "outputs": [
    {
     "name": "stdout",
     "output_type": "stream",
     "text": [
      "5\n"
     ]
    }
   ],
   "source": [
    "mylist = \"Hello\"\n",
    "x = len(mylist)\n",
    "\n",
    "print(x)"
   ]
  },
  {
   "cell_type": "markdown",
   "id": "238eaa24-46c0-4438-b98a-eb3f06e80052",
   "metadata": {
    "jp-MarkdownHeadingCollapsed": true
   },
   "source": [
    "## list() -- Returns a list"
   ]
  },
  {
   "cell_type": "code",
   "execution_count": 155,
   "id": "ce72b945-8452-456f-b6d4-83d4ebc2631f",
   "metadata": {},
   "outputs": [
    {
     "name": "stdout",
     "output_type": "stream",
     "text": [
      "['apple', 'banana', 'cherry']\n"
     ]
    }
   ],
   "source": [
    "x = list(('apple', 'banana', 'cherry'))\n",
    "\n",
    "print(x)"
   ]
  },
  {
   "cell_type": "markdown",
   "id": "afb0cad4-f3f3-4bc5-897d-15c9cafb452a",
   "metadata": {
    "jp-MarkdownHeadingCollapsed": true
   },
   "source": [
    "## locals() -- Returns an updated dictionary of the current local symbol table"
   ]
  },
  {
   "cell_type": "code",
   "execution_count": 157,
   "id": "1e427f38-dfe6-4cad-9727-cd37dd055b17",
   "metadata": {},
   "outputs": [
    {
     "name": "stdout",
     "output_type": "stream",
     "text": [
      "{'__name__': '__main__', '__doc__': 'Automatically created module for IPython interactive environment', '__package__': None, '__loader__': None, '__spec__': None, '__builtin__': <module 'builtins' (built-in)>, '__builtins__': <module 'builtins' (built-in)>, '_ih': ['', 'x = abs(-7.25)\\n\\nprint (x)', 'x = abs(3+5j)', 'x = abs(3+5j)\\n\\nprint(x)', 'mylist = [True, True, True]\\nx = all(mylist)', 'mylist = [True, True, True]\\nx = all(mylist)\\n\\nprint(X)', 'mylist = [True, True, True]\\nx = all(mylist)\\n\\nprint(x)', 'mylist = [0, 1, 1]\\nx = all(mylist)', 'mytuple = (0, True, False)\\nx = all(mytuple)', 'myset = {0, 1, 0}\\nx = all(myset)\\n\\nprint(x)', 'myset = {0, 1, 0}\\nx = all(myset)\\n\\nprint(x)', 'mylist = [True, True, True]\\nx = all(mylist)\\n\\nprint(x)', 'mylist = [0, 1, 1]\\nx = all(mylist)\\n\\nprint(x)', 'mytuple = (0, True, False)\\nx = all(mytuple)\\n\\nprint(x)', 'myset = {0, 1, 0}\\nx = all(myset)\\n\\nprint(x)', 'mydict = {0 : \"Apple\", 1 : \"Orange\"}\\nx = all(mydict)\\n\\nprint(x)', 'mylist = [1, 1, 1]\\nx = all(mylist)\\n\\nprint(x)', 'mylist = [0, 1, 1]\\nx = all(mylist)\\n\\nprint(x)', 'mydict = {0 : \"Apple\", 1 : \"Apple\"}\\nx = all(mydict)\\n\\nprint(x)', 'mydict = {0 : \"Apple\", 0: \"Orange\"}\\nx = all(mydict)\\n\\nprint(x)', 'mydict = {0 : \"Apple\", 0: \"Apple\"}\\nx = all(mydict)\\n\\nprint(x)', 'mydict = {0 : \"Apple\", 0 : \"Apple\"}\\nx = all(mydict)\\n\\nprint(x)', 'mydict = {0 : \"Apple\", 1 : \"Orange\"}\\nx = all(mydict)\\n\\nprint(x)', 'mylist = [False, True, False]\\nx = any(mylist)', 'mylist = [False, True, False]\\nx = any(mylist)\\n\\nprint(x)', 'mytuple = (0, 1, False)\\nx = any(mytuple', 'mytuple = (0, 1, False)\\nx = any(mytuple)\\n\\nprint(x)', 'myset = {0, 1, 0}\\nx = any(myset)\\n\\nprint(x)', 'mydict = {0 : \"Apple\", 1 : \"Orange\"}\\nx = any(mydict)\\n\\nprint(x)', 'x = ascii(\"My name is Ståle\")\\n\\nprint(x)', 'x = bin(36)\\n\\nprint(x)', 'x = bool(1)\\n\\nprint(x)', 'x = bytearray(4)', 'x = bytearray(4)\\n\\nprint(x)', 'x = bytearray()\\n\\nprint(x)', 'x = bytearray(\"google\", \\'utf-8\\')\\n\\nprint(x)', 'x = bytearray(\"google\", \\'ascii\\')\\n\\nprint(x)', 'x = bytearray(\"google\", ascii)\\n\\nprint(x)', 'x = bytearray(\"google\", \\'utf-8\\', \\'Not Found\\')\\n\\nprint(x)', 'x = bytearray(\"google\", utf-8, \\'Not Found\\')\\n\\nprint(x)', 'x = bytearray(\"google\", \\'utf-8\\', \\'Not Found\\')\\n\\nprint(x)', 'x = bytearray(\"Qåsim\", \\'utf-8\\', \\'Not Found\\')\\n\\nprint(x)', 'x = bytearray(\"Qåsim\", \\'utf-8\\')\\n\\nprint(x)', 'x = bytearray(\"Qåsim\", \\'utf-8\\', \\'strict\\')\\n\\nprint(x)', 'x = bytearray(\"Qåsim\", \\'utf-8\\', \\'ignore\\')\\n\\nprint(x)', 'x = bytearray(\"Qåsim\", \\'utf-8\\', errors=\\'ignore\\')\\n\\nprint(x)', 'x = bytearray(\"Qåsim\", \\'utf-8\\', errors=\\'replace\\')\\n\\nprint(x)', 'x = bytearray(\"Qåsim\", \\'ascii\\', errors=\\'replace\\')\\n\\nprint(x)', 'x = bytearray(\"Qåsim\", \\'ascii\\', errors=\\'ignore\\')\\n\\nprint(x)', 'x = bytearray(\"Qåsim\", \\'ascii\\', errors=\\'replace\\')\\n\\nprint(x)\\n\\ny = bytearray(\"Qåsim\", \\'ascii\\', errors=\\'ignore\\')\\n\\nprint(y)', 'x = bytearray(\"Qåsim\", \\'ascii\\', errors=\\'replace\\')\\n\\nprint(x)\\n\\ny = bytearray(\"Qåsim\", \\'ascii\\', errors=\\'ignore\\')\\n\\nprint(y)\\n\\nz = bytearray(\"Qåsim\", \\'ascii\\', errors=\\'ignore\\')\\n\\nprint(z)', 'x = bytearray(\"Qåsim\", \\'ascii\\', errors=\\'replace\\')\\n\\nprint(x)\\n\\ny = bytearray(\"Qåsim\", \\'ascii\\', errors=\\'ignore\\')\\n\\nprint(y)\\n\\nz = bytearray(\"Qåsim\", \\'ascii\\', errors=\\'strict\\')\\n\\nprint(z)', 'x = bytearray(\"Qåsim\", \\'ascii\\', errors=\\'replace\\')\\n\\nprint(x)\\n\\ny = bytearray(\"Qåsim\", \\'ascii\\', errors=\\'ignore\\')\\n\\nprint(y)\\n\\nz = bytearray(\"Qåsim\", \\'ascii\\', errors=\\'strict\\')\\n\\nprint(z)', 'x = bytearray(\"Qåsim\", \\'ascii\\', errors=\\'replace\\')\\n\\nprint(x)\\n\\ny = bytearray(\"Qåsim\", \\'ascii\\', errors=\\'ignore\\')\\n\\nprint(y)\\n\\nz = bytearray(\"Qåsim\", \\'ascii\\', errors=\\'strict\\')\\n\\nprint(z)\\n\\n\"Qåsim\".encode()', 'x = bytearray(\"Qåsim\", \\'ascii\\', errors=\\'replace\\')\\n\\nprint(x)\\n\\ny = bytearray(\"Qåsim\", \\'ascii\\', errors=\\'ignore\\')\\n\\nprint(y)\\n\\nz = bytearray(\"Qåsim\", \\'ascii\\', errors=\\'namereplace\\')\\n\\nprint(z)', 'w = bytearray(\"Qåsim\", \\'ascii\\', errors=\\'replace\\')\\n\\nprint(w)\\n\\nx = bytearray(\"Qåsim\", \\'ascii\\', errors=\\'ignore\\')\\n\\nprint(x)\\n\\ny = bytearray(\"Qåsim\", \\'ascii\\', errors=\\'namereplace\\')\\n\\nprint(y)\\n\\nz = bytearray(\"Qåsim\", \\'ascii\\', errors=\\'xmlcharrefreplace\\')\\n\\nprint(z)', 'x = bytearray()\\n\\nprint(x)', 'x = bytes(4)\\n\\nprint(x)', 'w = byte(\"Qåsim\", \\'ascii\\', errors=\\'replace\\')\\n\\nprint(w)\\n\\nx = byte(\"Qåsim\", \\'ascii\\', errors=\\'ignore\\')\\n\\nprint(x)\\n\\ny = byte(\"Qåsim\", \\'ascii\\', errors=\\'namereplace\\')\\n\\nprint(y)\\n\\nz = byte(\"Qåsim\", \\'ascii\\', errors=\\'xmlcharrefreplace\\')\\n\\nprint(z)', 'w = byte(\"Qåsim\", \\'ascii\\', errors=\\'replace\\')\\n\\nprint(w)\\n\\nx = byte(\"Qåsim\", \\'ascii\\', errors=\\'ignore\\')\\n\\nprint(x)\\n\\ny = byte(\"Qåsim\", \\'ascii\\', errors=\\'namereplace\\')\\n\\nprint(y)\\n\\nz = byte(\"Qåsim\", \\'ascii\\', errors=\\'xmlcharrefreplace\\')\\n\\nprint(z)', 'w = byte(\"Qåsim\", \\'ascii\\', errors=\\'replace\\')\\n\\nprint(w)\\n\\nx = byte(\"Qåsim\", \\'ascii\\', errors=\\'ignore\\')\\n\\nprint(x)\\n\\ny = byte(\"Qåsim\", \\'ascii\\', errors=\\'namereplace\\')\\n\\nprint(y)\\n\\nz = byte(\"Qåsim\", \\'ascii\\', errors=\\'xmlcharrefreplace\\')\\n\\nprint(z)', 'x = byte()\\n\\nprint(x)', 'x = byte()\\n\\nprint(x)', 'x = byte(x)\\n\\nprint(x)', 'message = \\'Python is fun\\'\\nw = byte(message, \\'ascii\\', errors=\\'replace\\')\\n\\nprint(w)\\n\\nx = byte(\"Qåsim\", \\'ascii\\', errors=\\'ignore\\')\\n\\nprint(x)\\n\\ny = byte(\"Qåsim\", \\'ascii\\', errors=\\'namereplace\\')\\n\\nprint(y)\\n\\nz = byte(\"Qåsim\", \\'ascii\\', errors=\\'xmlcharrefreplace\\')\\n\\nprint(z)', 'w = bytes(\"Qåsim\", \\'ascii\\', errors=\\'replace\\')\\n\\nprint(w)\\n\\nx = bytes(\"Qåsim\", \\'ascii\\', errors=\\'ignore\\')\\n\\nprint(x)\\n\\ny = bytes(\"Qåsim\", \\'ascii\\', errors=\\'namereplace\\')\\n\\nprint(y)\\n\\nz = bytes(\"Qåsim\", \\'ascii\\', errors=\\'xmlcharrefreplace\\')\\n\\nprint(z)', 'x = bytes()\\n\\nprint(x)', 'def x():\\n  a = 5\\n\\nprint(callable(x))', 'x = 5\\n\\nprint(callable(x))', 'def x():\\n  a = 5\\n\\nprint(callable(x))', 'x = 5\\n\\nprint(callable(x))', 'x = chr(97)\\n\\nprint(x)', \"class Student:\\n  marks = 0\\n\\n  def compute_marks(self, obtained_marks):\\n    marks = obtained_marks\\n    print('Obtained Marks:', marks)\\n\\n# convert compute_marks() to class method\\nStudent.print_marks = classmethod(Student.compute_marks)\\nStudent.print_marks(88)\\n\\n# Output: Obtained Marks: 88\", \"class Student:\\n  marks = 0\\n\\n  def compute_marks(self, obtained_marks):\\n    marks = obtained_marks\\n    print('Obtained Marks:', marks)\\n\\n# convert compute_marks() to class method\\nStudentmk2 = classmethod(Student.compute_marks)\\nStudentmk2(88)\\n\\n# Output: Obtained Marks: 88\", \"class Student:\\n  marks = 0\\n\\n  def compute_marks(self, obtained_marks):\\n    marks = obtained_marks\\n    print('Obtained Marks:', marks)\\n\\n# convert compute_marks() to class method\\nStudent.mk2 = classmethod(Student.compute_marks)\\nStudent.mk2(88)\\n\\n# Output: Obtained Marks: 88\", \"class Student:\\n  marks = 0\\n\\n  def compute_marks(self, obtained_marks):\\n    marks = obtained_marks\\n    print('Obtained Marks:', marks)\\n\\n# convert compute_marks() to class method\\nStudent.print_marks = classmethod(Student.compute_marks)\\nStudent.print_marks(90)\\n\\n# Output: Obtained Marks: 90\", \"class Student:\\n  marks = 0\\n\\n  def compute_marks(self, obtained_marks):\\n    marks = obtained_marks\\n    print('Obtained Marks:', marks)\\n\\n# convert compute_marks() to class method\\nStudent.print_marks = classmethod(Student.compute_marks)\\nStudent.print_marks(90)\\n\\n# Output: Obtained Marks: 90\", \"class Person:\\n    age = 25\\n\\n    def printAge(cls):\\n        print('The age is:', cls.age)\\n\\n# create printAge class method\\nPerson.printAge = classmethod(Person.printAge)\\n\\nPerson.printAge()\", 'from datetime import date\\n\\n# random Person\\nclass Person:\\n    def __init__(self, name, age):\\n        self.name = name\\n        self.age = age\\n\\n    @classmethod\\n    def fromBirthYear(cls, name, birthYear):\\n        return cls(name, date.today().year - birthYear)\\n\\n    def display(self):\\n        print(self.name + \"\\'s age is: \" + str(self.age))\\n\\nperson = Person(\\'Adam\\', 19)\\nperson.display()\\n\\nperson1 = Person.fromBirthYear(\\'John\\',  1985)\\nperson1.display()', 'from datetime import date\\n\\n# random Person\\nclass Person:\\n    def __init__(self, name, age):\\n        self.name = name\\n        self.age = age\\n\\n    @classmethod\\n    def fromBirthYear(cls, name, birthYear):\\n        return cls(name, date.today().year - birthYear)\\n\\n    def display(self):\\n        print(self.name + \"\\'s age is: \" + str(self.age))\\n\\nperson = Person(\\'Adam\\', 19)\\nperson.display()\\n\\nperson1 = Person.fromBirthYear(\\'John\\',  1985)\\nperson1.display()', 'from datetime import date\\n\\n# random Person\\nclass Person:\\n    def __init__(self, name, age):\\n        self.name = name\\n        self.age = age\\n\\n    @staticmethod\\n    def fromFathersAge(name, fatherAge, fatherPersonAgeDiff):\\n        return Person(name, date.today().year - fatherAge + fatherPersonAgeDiff)\\n\\n    @classmethod\\n    def fromBirthYear(cls, name, birthYear):\\n        return cls(name, date.today().year - birthYear)\\n\\n    def display(self):\\n        print(self.name + \"\\'s age is: \" + str(self.age))\\n\\nclass Man(Person):\\n    sex = \\'Male\\'\\n\\nman = Man.fromBirthYear(\\'John\\', 1985)\\nprint(isinstance(man, Man))\\n\\nman1 = Man.fromFathersAge(\\'John\\', 1965, 20)\\nprint(isinstance(man1, Man))', 'from datetime import date\\n\\n# random Person\\nclass Person:\\n    def __init__(self, name, age):\\n        self.name = name\\n        self.age = age\\n\\n    @staticmethod\\n    def fromFathersAge(name, fatherAge, fatherPersonAgeDiff):\\n        return Person(name, date.today().year - fatherAge + fatherPersonAgeDiff)\\n\\n    @classmethod\\n    def fromBirthYear(cls, name, birthYear):\\n        return cls(name, date.today().year - birthYear)\\n\\n    def display(self):\\n        print(self.name + \"\\'s age is: \" + str(self.age))\\n\\nclass Man(Person):\\n    sex = \\'Male\\'\\n\\nman = Man.fromBirthYear(\\'John\\', 1985)\\nprint(isinstance(man, Man))\\n\\nman1 = Man.fromFathersAge(\\'John\\', 1965, 20)\\nprint(isinstance(man1, Man))\\nprint(man)\\nprint(man1)', 'from datetime import date\\n\\n# random Person\\nclass Person:\\n    def __init__(self, name, age):\\n        self.name = name\\n        self.age = age\\n\\n    @staticmethod\\n    def fromFathersAge(name, fatherAge, fatherPersonAgeDiff):\\n        return Person(name, date.today().year - fatherAge + fatherPersonAgeDiff)\\n\\n    @classmethod\\n    def fromBirthYear(cls, name, birthYear):\\n        return cls(name, date.today().year - birthYear)\\n\\n    def display(self):\\n        print(self.name + \"\\'s age is: \" + str(self.age))\\n\\nclass Man(Person):\\n    sex = \\'Male\\'\\n\\nman = Man.fromBirthYear(\\'John\\', 1985)\\nprint(isinstance(man, Man))\\n\\nman1 = Man.fromFathersAge(\\'John\\', 1965, 20)\\nprint(isinstance(man1, Man))\\nprint(man())\\nprint(man1)', 'from datetime import date\\n\\n# random Person\\nclass Person:\\n    def __init__(self, name, age):\\n        self.name = name\\n        self.age = age\\n\\n    @staticmethod\\n    def fromFathersAge(name, fatherAge, fatherPersonAgeDiff):\\n        return Person(name, date.today().year - fatherAge + fatherPersonAgeDiff)\\n\\n    @classmethod\\n    def fromBirthYear(cls, name, birthYear):\\n        return cls(name, date.today().year - birthYear)\\n\\n    def display(self):\\n        print(self.name + \"\\'s age is: \" + str(self.age))\\n\\nclass Man(Person):\\n    sex = \\'Male\\'\\n\\nman = Man.fromBirthYear(\\'John\\', 1985)\\nprint(isinstance(man, Man))\\n\\nman1 = Man.fromFathersAge(\\'John\\', 1965, 20)\\nprint(isinstance(man1, Man))', \"x = compile('print(55)', 'test', 'eval')\\n\\nexec(x)\", \"x = compile('print(55)\\\\nprint(88)', 'test', 'exec')\\n\\nexec(x)\", \"x = compile('print(55)\\\\nprint(88)', 'test', 'exec')\\n\\nsingle(x)\", \"x = compile('print(55)\\\\nprint(88)', 'test', 'exec')\\n\\neval(x)\", \"x = compile('print(55)\\\\nprint(88)', 'test', 'exec')\\n\\nexec(x)\", \"x = compile('print(55)\\\\nprint(88)', 'test', 'exec')\\n\\nprint(x)\", \"x = compile('print(55)\\\\nprint(88)', 'test', 'exec')\\n\\nexec(x)\", 'x = complex(3, 5)', 'x = complex(3, 5)\\n\\nprint(x)', \"x = complex('3+5j')\\n\\nprint(x)\", 'class Person:\\n  name = \"John\"\\n  age = 36\\n  country = \"Norway\"\\n\\ndelattr(Person, \\'age\\')', 'x = dict(name = \"John\", age = 36, country = \"Norway\")\\n\\nprint(x)', 'class Person:\\n  name = \"John\"\\n  age = 36\\n  country = \"Norway\"\\n\\nprint(dir(Person))', 'x = divmod(5, 2)\\n\\nprint(x)', \"x = ('apple', 'banana', 'cherry')\\ny = enumerate(x)\", \"x = ('apple', 'banana', 'cherry')\\ny = enumerate(x)\\n\\nprint(y)\", \"x = ('apple', 'banana', 'cherry')\\ny = enumerate(x)\\n\\nprint(list(y))\", '# The enumerate() function adds a counter as the key of the enumerate object.', \"# The enumerate() function adds a counter as the key of the enumerate object.\\nx = ('apple', 'banana', 'cherry')\\ny = enumerate(x)\\n\\nprint(list(y))\", \"x = 'print(55)'\\neval(x)\", \"x = 'print(55)'\\nexec(x)\", \"x = 'print(55)'\\neval(x)\", 'x = \\'name = \"John\"\\\\nprint(name)\\'\\nexec(x)', 'ages = [5, 12, 17, 18, 24, 32]\\n\\ndef myFunc(x):\\n  if x < 18:\\n    return False\\n  else:\\n    return True\\n\\nadults = filter(myFunc, ages)\\n\\nfor x in adults:\\n  print(x)', 'x = float(3)\\n\\nprint(x)', 'x = float(\"3.500\")\\n\\nprint(x)', \"x = format(0.5, '%')\\n\\nprint(x)\", \"x = format(255, 'x')\", \"x = format(255, 'x')\\n\\nprint(x)\", \"mylist = ['apple', 'banana', 'cherry']\\nx = frozenset(mylist)\\nprint(x)\", 'mylist = [\\'apple\\', \\'banana\\', \\'cherry\\']\\nx = frozenset(mylist)\\nx[1] = \"strawberry\"', 'mylist = [\\'apple\\', \\'banana\\', \\'cherry\\']\\nx = frozenset(mylist)\\nx[1] = \"strawberry\"\\nprint(x)', 'class Person:\\n  name = \"John\"\\n  age = 36\\n  country = \"Norway\"\\n\\ndelattr(Person, \\'age\\')\\n# The Person object will no longer contain an \"age\" property', 'class Person:\\n  name = \"John\"\\n  age = 36\\n  country = \"Norway\"\\n\\nx = getattr(Person, \\'age\\')\\n\\nprint(x)', 'class Person:\\n  name = \"John\"\\n  age = 36\\n  country = \"Norway\"\\n\\nx = getattr(Person, \\'page\\', \\'my message\\')\\n\\nprint(x)', 'x = globals()\\nprint(x)', 'x = globals()\\nprint(x[\"__file__\"])', 'class Person:\\n  name = \"John\"\\n  age = 36\\n  country = \"Norway\"\\n\\nx = hasattr(Person, \\'age\\')\\n\\nprint(x)', 'x = hex(255)\\n\\nprint(x)', \"# hash for integer unchanged\\nprint('Hash for 181 is:', hash(181))\\n\\n# hash for decimal\\nprint('Hash for 181.23 is:',hash(181.23))\\n\\n# hash for string\\nprint('Hash for Python is:', hash('Python'))\", \"# tuple of vowels\\nvowels = ('a', 'e', 'i', 'o', 'u')\\n\\nprint('The hash is:', hash(vowels))\", \"# hash for integer unchanged\\nprint('Hash for 181 is:', hash(181))\\n\\n# hash for decimal\\nprint('Hash for 181.23 is:',hash(181.23))\\n\\n# hash for string\\nprint('Hash for Python is:', hash('Python'))\", \"# tuple of vowels\\nvowels = ('a', 'e', 'i', 'o', 'u')\\n\\nprint('The hash is:', hash(vowels))\", 'help(list)', \"help(list)\\n# help(dict)\\n# help(print)\\n# help([1, 2, 3])\\n\\n\\n# help('random thing')\\n# help('print')\\n# help('def')\\n# from math import * \\n# help('math.pow')\\n\\n# help()\\n# True\\n# 'print'\\n# print\\n# quit\", \"# help(list)\\nhelp(dict)\\n# help(print)\\n# help([1, 2, 3])\\n\\n\\n# help('random thing')\\n# help('print')\\n# help('def')\\n# from math import * \\n# help('math.pow')\\n\\n# help()\\n# True\\n# 'print'\\n# print\\n# quit\", \"# help(list)\\n# help(dict)\\nhelp(print)\\n# help([1, 2, 3])\\n\\n\\n# help('random thing')\\n# help('print')\\n# help('def')\\n# from math import * \\n# help('math.pow')\\n\\n# help()\\n# True\\n# 'print'\\n# print\\n# quit\", \"# help(list)\\n# help(dict)\\n# help(print)\\nhelp([1, 2, 3])\\n\\n\\n# help('random thing')\\n# help('print')\\n# help('def')\\n# from math import * \\n# help('math.pow')\\n\\n# help()\\n# True\\n# 'print'\\n# print\\n# quit\", \"# help(list)\\n# help(dict)\\n# help(print)\\n# help([1, 2, 3])\\n\\n\\nhelp('random thing')\\n# help('print')\\n# help('def')\\n# from math import * \\n# help('math.pow')\\n\\n# help()\\n# True\\n# 'print'\\n# print\\n# quit\", \"# help(list)\\n# help(dict)\\n# help(print)\\n# help([1, 2, 3])\\n\\n\\n# help('random thing')\\nhelp('print')\\n# help('def')\\n# from math import * \\n# help('math.pow')\\n\\n# help()\\n# True\\n# 'print'\\n# print\\n# quit\", \"# help(list)\\n# help(dict)\\n# help(print)\\n# help([1, 2, 3])\\n\\n\\n# help('random thing')\\n# help('print')\\nhelp('def')\\n# from math import * \\n# help('math.pow')\\n\\n# help()\\n# True\\n# 'print'\\n# print\\n# quit\", \"# help(list)\\n# help(dict)\\n# help(print)\\n# help([1, 2, 3])\\n\\n\\n# help('random thing')\\n# help('print')\\n# help('def')\\nfrom math import * \\nhelp('math.pow')\\n\\n# help()\\n# True\\n# 'print'\\n# print\\n# quit\", \"# help(list)\\n# help(dict)\\n# help(print)\\n# help([1, 2, 3])\\n\\n\\n# help('random thing')\\n# help('print')\\n# help('def')\\n# from math import * \\n# help('math.pow')\\n\\nhelp()\\n# True\\n# 'print'\\n# print\\n# quit\", \"x = ('apple', 'banana', 'cherry')\\ny = id(x)\", \"x = ('apple', 'banana', 'cherry')\\ny = id(x)\\nprint(y)\", \"print('Enter your name:')\\nx = input()\\nprint('Hello, ' + x)\", \"# Ask for the user's name and print it:\\nprint('Enter your name:')\\nx = input()\\nprint('Hello, ' + x)\", \"# Ask for the user's name and print it:\\n\\nprint('Enter your name:')\\nx = input()\\nprint('Hello, ' + x)\", \"# Use the prompt parameter to write a message before the input:\\n\\nx = input('Enter your name:')\\nprint('Hello, ' + x)\", 'x = int(3.5)\\n\\nprint(x)', 'x = int(\"12\")\\n\\nprint(x)', 'x = isinstance(5, int)\\nprint(x)', 'x = isinstance(\"Hello\", (float, int, str, list, dict, tuple))\\nprint(x)', 'class myObj:\\n  name = \"John\"\\n\\ny = myObj()\\n\\nx = isinstance(y, myObj)', 'class myObj:\\n  name = \"John\"\\n\\ny = myObj()\\n\\nx = isinstance(y, myObj)\\n\\nprint(x)', 'class myAge:\\n  age = 36\\n\\nclass myObj(myAge):\\n  name = \"John\"\\n  age = myAge\\n\\nx = issubclass(myObj, myAge)\\n\\nprint(x)', '# Create an iterator object, and print the items:\\n\\nx = iter([\"apple\", \"banana\", \"cherry\"])\\nprint(next(x))\\nprint(next(x))\\nprint(next(x))', '# Create an iterator object, and print the items:\\n\\nx = iter([\"apple\", \"banana\", \"cherry\"])\\nprint(next(x))\\nprint(next(x))\\nprint(next(x))\\nprint(x)', '# Create an iterator object, and print the items:\\n\\nx = iter([\"apple\", \"banana\", \"cherry\"])\\nprint(next(x))\\nprint(next(x))\\nprint(next(x))', 'mylist = [\"apple\", \"banana\", \"cherry\"]\\nx = len(mylist)\\n\\nprint(x)', 'mylist = \"Hello\"\\nx = len(mylist)\\n\\nprint(x)', \"x = list(('apple', 'banana', 'cherry'))\\n\\nprint(x)\", 'x = locals()\\nprint(x)', '# Display the local symbol table:\\n\\nx = locals()\\nprint(x)'], '_oh': {}, '_dh': [WindowsPath('E:/Python_Programming/N/Practice')], 'In': ['', 'x = abs(-7.25)\\n\\nprint (x)', 'x = abs(3+5j)', 'x = abs(3+5j)\\n\\nprint(x)', 'mylist = [True, True, True]\\nx = all(mylist)', 'mylist = [True, True, True]\\nx = all(mylist)\\n\\nprint(X)', 'mylist = [True, True, True]\\nx = all(mylist)\\n\\nprint(x)', 'mylist = [0, 1, 1]\\nx = all(mylist)', 'mytuple = (0, True, False)\\nx = all(mytuple)', 'myset = {0, 1, 0}\\nx = all(myset)\\n\\nprint(x)', 'myset = {0, 1, 0}\\nx = all(myset)\\n\\nprint(x)', 'mylist = [True, True, True]\\nx = all(mylist)\\n\\nprint(x)', 'mylist = [0, 1, 1]\\nx = all(mylist)\\n\\nprint(x)', 'mytuple = (0, True, False)\\nx = all(mytuple)\\n\\nprint(x)', 'myset = {0, 1, 0}\\nx = all(myset)\\n\\nprint(x)', 'mydict = {0 : \"Apple\", 1 : \"Orange\"}\\nx = all(mydict)\\n\\nprint(x)', 'mylist = [1, 1, 1]\\nx = all(mylist)\\n\\nprint(x)', 'mylist = [0, 1, 1]\\nx = all(mylist)\\n\\nprint(x)', 'mydict = {0 : \"Apple\", 1 : \"Apple\"}\\nx = all(mydict)\\n\\nprint(x)', 'mydict = {0 : \"Apple\", 0: \"Orange\"}\\nx = all(mydict)\\n\\nprint(x)', 'mydict = {0 : \"Apple\", 0: \"Apple\"}\\nx = all(mydict)\\n\\nprint(x)', 'mydict = {0 : \"Apple\", 0 : \"Apple\"}\\nx = all(mydict)\\n\\nprint(x)', 'mydict = {0 : \"Apple\", 1 : \"Orange\"}\\nx = all(mydict)\\n\\nprint(x)', 'mylist = [False, True, False]\\nx = any(mylist)', 'mylist = [False, True, False]\\nx = any(mylist)\\n\\nprint(x)', 'mytuple = (0, 1, False)\\nx = any(mytuple', 'mytuple = (0, 1, False)\\nx = any(mytuple)\\n\\nprint(x)', 'myset = {0, 1, 0}\\nx = any(myset)\\n\\nprint(x)', 'mydict = {0 : \"Apple\", 1 : \"Orange\"}\\nx = any(mydict)\\n\\nprint(x)', 'x = ascii(\"My name is Ståle\")\\n\\nprint(x)', 'x = bin(36)\\n\\nprint(x)', 'x = bool(1)\\n\\nprint(x)', 'x = bytearray(4)', 'x = bytearray(4)\\n\\nprint(x)', 'x = bytearray()\\n\\nprint(x)', 'x = bytearray(\"google\", \\'utf-8\\')\\n\\nprint(x)', 'x = bytearray(\"google\", \\'ascii\\')\\n\\nprint(x)', 'x = bytearray(\"google\", ascii)\\n\\nprint(x)', 'x = bytearray(\"google\", \\'utf-8\\', \\'Not Found\\')\\n\\nprint(x)', 'x = bytearray(\"google\", utf-8, \\'Not Found\\')\\n\\nprint(x)', 'x = bytearray(\"google\", \\'utf-8\\', \\'Not Found\\')\\n\\nprint(x)', 'x = bytearray(\"Qåsim\", \\'utf-8\\', \\'Not Found\\')\\n\\nprint(x)', 'x = bytearray(\"Qåsim\", \\'utf-8\\')\\n\\nprint(x)', 'x = bytearray(\"Qåsim\", \\'utf-8\\', \\'strict\\')\\n\\nprint(x)', 'x = bytearray(\"Qåsim\", \\'utf-8\\', \\'ignore\\')\\n\\nprint(x)', 'x = bytearray(\"Qåsim\", \\'utf-8\\', errors=\\'ignore\\')\\n\\nprint(x)', 'x = bytearray(\"Qåsim\", \\'utf-8\\', errors=\\'replace\\')\\n\\nprint(x)', 'x = bytearray(\"Qåsim\", \\'ascii\\', errors=\\'replace\\')\\n\\nprint(x)', 'x = bytearray(\"Qåsim\", \\'ascii\\', errors=\\'ignore\\')\\n\\nprint(x)', 'x = bytearray(\"Qåsim\", \\'ascii\\', errors=\\'replace\\')\\n\\nprint(x)\\n\\ny = bytearray(\"Qåsim\", \\'ascii\\', errors=\\'ignore\\')\\n\\nprint(y)', 'x = bytearray(\"Qåsim\", \\'ascii\\', errors=\\'replace\\')\\n\\nprint(x)\\n\\ny = bytearray(\"Qåsim\", \\'ascii\\', errors=\\'ignore\\')\\n\\nprint(y)\\n\\nz = bytearray(\"Qåsim\", \\'ascii\\', errors=\\'ignore\\')\\n\\nprint(z)', 'x = bytearray(\"Qåsim\", \\'ascii\\', errors=\\'replace\\')\\n\\nprint(x)\\n\\ny = bytearray(\"Qåsim\", \\'ascii\\', errors=\\'ignore\\')\\n\\nprint(y)\\n\\nz = bytearray(\"Qåsim\", \\'ascii\\', errors=\\'strict\\')\\n\\nprint(z)', 'x = bytearray(\"Qåsim\", \\'ascii\\', errors=\\'replace\\')\\n\\nprint(x)\\n\\ny = bytearray(\"Qåsim\", \\'ascii\\', errors=\\'ignore\\')\\n\\nprint(y)\\n\\nz = bytearray(\"Qåsim\", \\'ascii\\', errors=\\'strict\\')\\n\\nprint(z)', 'x = bytearray(\"Qåsim\", \\'ascii\\', errors=\\'replace\\')\\n\\nprint(x)\\n\\ny = bytearray(\"Qåsim\", \\'ascii\\', errors=\\'ignore\\')\\n\\nprint(y)\\n\\nz = bytearray(\"Qåsim\", \\'ascii\\', errors=\\'strict\\')\\n\\nprint(z)\\n\\n\"Qåsim\".encode()', 'x = bytearray(\"Qåsim\", \\'ascii\\', errors=\\'replace\\')\\n\\nprint(x)\\n\\ny = bytearray(\"Qåsim\", \\'ascii\\', errors=\\'ignore\\')\\n\\nprint(y)\\n\\nz = bytearray(\"Qåsim\", \\'ascii\\', errors=\\'namereplace\\')\\n\\nprint(z)', 'w = bytearray(\"Qåsim\", \\'ascii\\', errors=\\'replace\\')\\n\\nprint(w)\\n\\nx = bytearray(\"Qåsim\", \\'ascii\\', errors=\\'ignore\\')\\n\\nprint(x)\\n\\ny = bytearray(\"Qåsim\", \\'ascii\\', errors=\\'namereplace\\')\\n\\nprint(y)\\n\\nz = bytearray(\"Qåsim\", \\'ascii\\', errors=\\'xmlcharrefreplace\\')\\n\\nprint(z)', 'x = bytearray()\\n\\nprint(x)', 'x = bytes(4)\\n\\nprint(x)', 'w = byte(\"Qåsim\", \\'ascii\\', errors=\\'replace\\')\\n\\nprint(w)\\n\\nx = byte(\"Qåsim\", \\'ascii\\', errors=\\'ignore\\')\\n\\nprint(x)\\n\\ny = byte(\"Qåsim\", \\'ascii\\', errors=\\'namereplace\\')\\n\\nprint(y)\\n\\nz = byte(\"Qåsim\", \\'ascii\\', errors=\\'xmlcharrefreplace\\')\\n\\nprint(z)', 'w = byte(\"Qåsim\", \\'ascii\\', errors=\\'replace\\')\\n\\nprint(w)\\n\\nx = byte(\"Qåsim\", \\'ascii\\', errors=\\'ignore\\')\\n\\nprint(x)\\n\\ny = byte(\"Qåsim\", \\'ascii\\', errors=\\'namereplace\\')\\n\\nprint(y)\\n\\nz = byte(\"Qåsim\", \\'ascii\\', errors=\\'xmlcharrefreplace\\')\\n\\nprint(z)', 'w = byte(\"Qåsim\", \\'ascii\\', errors=\\'replace\\')\\n\\nprint(w)\\n\\nx = byte(\"Qåsim\", \\'ascii\\', errors=\\'ignore\\')\\n\\nprint(x)\\n\\ny = byte(\"Qåsim\", \\'ascii\\', errors=\\'namereplace\\')\\n\\nprint(y)\\n\\nz = byte(\"Qåsim\", \\'ascii\\', errors=\\'xmlcharrefreplace\\')\\n\\nprint(z)', 'x = byte()\\n\\nprint(x)', 'x = byte()\\n\\nprint(x)', 'x = byte(x)\\n\\nprint(x)', 'message = \\'Python is fun\\'\\nw = byte(message, \\'ascii\\', errors=\\'replace\\')\\n\\nprint(w)\\n\\nx = byte(\"Qåsim\", \\'ascii\\', errors=\\'ignore\\')\\n\\nprint(x)\\n\\ny = byte(\"Qåsim\", \\'ascii\\', errors=\\'namereplace\\')\\n\\nprint(y)\\n\\nz = byte(\"Qåsim\", \\'ascii\\', errors=\\'xmlcharrefreplace\\')\\n\\nprint(z)', 'w = bytes(\"Qåsim\", \\'ascii\\', errors=\\'replace\\')\\n\\nprint(w)\\n\\nx = bytes(\"Qåsim\", \\'ascii\\', errors=\\'ignore\\')\\n\\nprint(x)\\n\\ny = bytes(\"Qåsim\", \\'ascii\\', errors=\\'namereplace\\')\\n\\nprint(y)\\n\\nz = bytes(\"Qåsim\", \\'ascii\\', errors=\\'xmlcharrefreplace\\')\\n\\nprint(z)', 'x = bytes()\\n\\nprint(x)', 'def x():\\n  a = 5\\n\\nprint(callable(x))', 'x = 5\\n\\nprint(callable(x))', 'def x():\\n  a = 5\\n\\nprint(callable(x))', 'x = 5\\n\\nprint(callable(x))', 'x = chr(97)\\n\\nprint(x)', \"class Student:\\n  marks = 0\\n\\n  def compute_marks(self, obtained_marks):\\n    marks = obtained_marks\\n    print('Obtained Marks:', marks)\\n\\n# convert compute_marks() to class method\\nStudent.print_marks = classmethod(Student.compute_marks)\\nStudent.print_marks(88)\\n\\n# Output: Obtained Marks: 88\", \"class Student:\\n  marks = 0\\n\\n  def compute_marks(self, obtained_marks):\\n    marks = obtained_marks\\n    print('Obtained Marks:', marks)\\n\\n# convert compute_marks() to class method\\nStudentmk2 = classmethod(Student.compute_marks)\\nStudentmk2(88)\\n\\n# Output: Obtained Marks: 88\", \"class Student:\\n  marks = 0\\n\\n  def compute_marks(self, obtained_marks):\\n    marks = obtained_marks\\n    print('Obtained Marks:', marks)\\n\\n# convert compute_marks() to class method\\nStudent.mk2 = classmethod(Student.compute_marks)\\nStudent.mk2(88)\\n\\n# Output: Obtained Marks: 88\", \"class Student:\\n  marks = 0\\n\\n  def compute_marks(self, obtained_marks):\\n    marks = obtained_marks\\n    print('Obtained Marks:', marks)\\n\\n# convert compute_marks() to class method\\nStudent.print_marks = classmethod(Student.compute_marks)\\nStudent.print_marks(90)\\n\\n# Output: Obtained Marks: 90\", \"class Student:\\n  marks = 0\\n\\n  def compute_marks(self, obtained_marks):\\n    marks = obtained_marks\\n    print('Obtained Marks:', marks)\\n\\n# convert compute_marks() to class method\\nStudent.print_marks = classmethod(Student.compute_marks)\\nStudent.print_marks(90)\\n\\n# Output: Obtained Marks: 90\", \"class Person:\\n    age = 25\\n\\n    def printAge(cls):\\n        print('The age is:', cls.age)\\n\\n# create printAge class method\\nPerson.printAge = classmethod(Person.printAge)\\n\\nPerson.printAge()\", 'from datetime import date\\n\\n# random Person\\nclass Person:\\n    def __init__(self, name, age):\\n        self.name = name\\n        self.age = age\\n\\n    @classmethod\\n    def fromBirthYear(cls, name, birthYear):\\n        return cls(name, date.today().year - birthYear)\\n\\n    def display(self):\\n        print(self.name + \"\\'s age is: \" + str(self.age))\\n\\nperson = Person(\\'Adam\\', 19)\\nperson.display()\\n\\nperson1 = Person.fromBirthYear(\\'John\\',  1985)\\nperson1.display()', 'from datetime import date\\n\\n# random Person\\nclass Person:\\n    def __init__(self, name, age):\\n        self.name = name\\n        self.age = age\\n\\n    @classmethod\\n    def fromBirthYear(cls, name, birthYear):\\n        return cls(name, date.today().year - birthYear)\\n\\n    def display(self):\\n        print(self.name + \"\\'s age is: \" + str(self.age))\\n\\nperson = Person(\\'Adam\\', 19)\\nperson.display()\\n\\nperson1 = Person.fromBirthYear(\\'John\\',  1985)\\nperson1.display()', 'from datetime import date\\n\\n# random Person\\nclass Person:\\n    def __init__(self, name, age):\\n        self.name = name\\n        self.age = age\\n\\n    @staticmethod\\n    def fromFathersAge(name, fatherAge, fatherPersonAgeDiff):\\n        return Person(name, date.today().year - fatherAge + fatherPersonAgeDiff)\\n\\n    @classmethod\\n    def fromBirthYear(cls, name, birthYear):\\n        return cls(name, date.today().year - birthYear)\\n\\n    def display(self):\\n        print(self.name + \"\\'s age is: \" + str(self.age))\\n\\nclass Man(Person):\\n    sex = \\'Male\\'\\n\\nman = Man.fromBirthYear(\\'John\\', 1985)\\nprint(isinstance(man, Man))\\n\\nman1 = Man.fromFathersAge(\\'John\\', 1965, 20)\\nprint(isinstance(man1, Man))', 'from datetime import date\\n\\n# random Person\\nclass Person:\\n    def __init__(self, name, age):\\n        self.name = name\\n        self.age = age\\n\\n    @staticmethod\\n    def fromFathersAge(name, fatherAge, fatherPersonAgeDiff):\\n        return Person(name, date.today().year - fatherAge + fatherPersonAgeDiff)\\n\\n    @classmethod\\n    def fromBirthYear(cls, name, birthYear):\\n        return cls(name, date.today().year - birthYear)\\n\\n    def display(self):\\n        print(self.name + \"\\'s age is: \" + str(self.age))\\n\\nclass Man(Person):\\n    sex = \\'Male\\'\\n\\nman = Man.fromBirthYear(\\'John\\', 1985)\\nprint(isinstance(man, Man))\\n\\nman1 = Man.fromFathersAge(\\'John\\', 1965, 20)\\nprint(isinstance(man1, Man))\\nprint(man)\\nprint(man1)', 'from datetime import date\\n\\n# random Person\\nclass Person:\\n    def __init__(self, name, age):\\n        self.name = name\\n        self.age = age\\n\\n    @staticmethod\\n    def fromFathersAge(name, fatherAge, fatherPersonAgeDiff):\\n        return Person(name, date.today().year - fatherAge + fatherPersonAgeDiff)\\n\\n    @classmethod\\n    def fromBirthYear(cls, name, birthYear):\\n        return cls(name, date.today().year - birthYear)\\n\\n    def display(self):\\n        print(self.name + \"\\'s age is: \" + str(self.age))\\n\\nclass Man(Person):\\n    sex = \\'Male\\'\\n\\nman = Man.fromBirthYear(\\'John\\', 1985)\\nprint(isinstance(man, Man))\\n\\nman1 = Man.fromFathersAge(\\'John\\', 1965, 20)\\nprint(isinstance(man1, Man))\\nprint(man())\\nprint(man1)', 'from datetime import date\\n\\n# random Person\\nclass Person:\\n    def __init__(self, name, age):\\n        self.name = name\\n        self.age = age\\n\\n    @staticmethod\\n    def fromFathersAge(name, fatherAge, fatherPersonAgeDiff):\\n        return Person(name, date.today().year - fatherAge + fatherPersonAgeDiff)\\n\\n    @classmethod\\n    def fromBirthYear(cls, name, birthYear):\\n        return cls(name, date.today().year - birthYear)\\n\\n    def display(self):\\n        print(self.name + \"\\'s age is: \" + str(self.age))\\n\\nclass Man(Person):\\n    sex = \\'Male\\'\\n\\nman = Man.fromBirthYear(\\'John\\', 1985)\\nprint(isinstance(man, Man))\\n\\nman1 = Man.fromFathersAge(\\'John\\', 1965, 20)\\nprint(isinstance(man1, Man))', \"x = compile('print(55)', 'test', 'eval')\\n\\nexec(x)\", \"x = compile('print(55)\\\\nprint(88)', 'test', 'exec')\\n\\nexec(x)\", \"x = compile('print(55)\\\\nprint(88)', 'test', 'exec')\\n\\nsingle(x)\", \"x = compile('print(55)\\\\nprint(88)', 'test', 'exec')\\n\\neval(x)\", \"x = compile('print(55)\\\\nprint(88)', 'test', 'exec')\\n\\nexec(x)\", \"x = compile('print(55)\\\\nprint(88)', 'test', 'exec')\\n\\nprint(x)\", \"x = compile('print(55)\\\\nprint(88)', 'test', 'exec')\\n\\nexec(x)\", 'x = complex(3, 5)', 'x = complex(3, 5)\\n\\nprint(x)', \"x = complex('3+5j')\\n\\nprint(x)\", 'class Person:\\n  name = \"John\"\\n  age = 36\\n  country = \"Norway\"\\n\\ndelattr(Person, \\'age\\')', 'x = dict(name = \"John\", age = 36, country = \"Norway\")\\n\\nprint(x)', 'class Person:\\n  name = \"John\"\\n  age = 36\\n  country = \"Norway\"\\n\\nprint(dir(Person))', 'x = divmod(5, 2)\\n\\nprint(x)', \"x = ('apple', 'banana', 'cherry')\\ny = enumerate(x)\", \"x = ('apple', 'banana', 'cherry')\\ny = enumerate(x)\\n\\nprint(y)\", \"x = ('apple', 'banana', 'cherry')\\ny = enumerate(x)\\n\\nprint(list(y))\", '# The enumerate() function adds a counter as the key of the enumerate object.', \"# The enumerate() function adds a counter as the key of the enumerate object.\\nx = ('apple', 'banana', 'cherry')\\ny = enumerate(x)\\n\\nprint(list(y))\", \"x = 'print(55)'\\neval(x)\", \"x = 'print(55)'\\nexec(x)\", \"x = 'print(55)'\\neval(x)\", 'x = \\'name = \"John\"\\\\nprint(name)\\'\\nexec(x)', 'ages = [5, 12, 17, 18, 24, 32]\\n\\ndef myFunc(x):\\n  if x < 18:\\n    return False\\n  else:\\n    return True\\n\\nadults = filter(myFunc, ages)\\n\\nfor x in adults:\\n  print(x)', 'x = float(3)\\n\\nprint(x)', 'x = float(\"3.500\")\\n\\nprint(x)', \"x = format(0.5, '%')\\n\\nprint(x)\", \"x = format(255, 'x')\", \"x = format(255, 'x')\\n\\nprint(x)\", \"mylist = ['apple', 'banana', 'cherry']\\nx = frozenset(mylist)\\nprint(x)\", 'mylist = [\\'apple\\', \\'banana\\', \\'cherry\\']\\nx = frozenset(mylist)\\nx[1] = \"strawberry\"', 'mylist = [\\'apple\\', \\'banana\\', \\'cherry\\']\\nx = frozenset(mylist)\\nx[1] = \"strawberry\"\\nprint(x)', 'class Person:\\n  name = \"John\"\\n  age = 36\\n  country = \"Norway\"\\n\\ndelattr(Person, \\'age\\')\\n# The Person object will no longer contain an \"age\" property', 'class Person:\\n  name = \"John\"\\n  age = 36\\n  country = \"Norway\"\\n\\nx = getattr(Person, \\'age\\')\\n\\nprint(x)', 'class Person:\\n  name = \"John\"\\n  age = 36\\n  country = \"Norway\"\\n\\nx = getattr(Person, \\'page\\', \\'my message\\')\\n\\nprint(x)', 'x = globals()\\nprint(x)', 'x = globals()\\nprint(x[\"__file__\"])', 'class Person:\\n  name = \"John\"\\n  age = 36\\n  country = \"Norway\"\\n\\nx = hasattr(Person, \\'age\\')\\n\\nprint(x)', 'x = hex(255)\\n\\nprint(x)', \"# hash for integer unchanged\\nprint('Hash for 181 is:', hash(181))\\n\\n# hash for decimal\\nprint('Hash for 181.23 is:',hash(181.23))\\n\\n# hash for string\\nprint('Hash for Python is:', hash('Python'))\", \"# tuple of vowels\\nvowels = ('a', 'e', 'i', 'o', 'u')\\n\\nprint('The hash is:', hash(vowels))\", \"# hash for integer unchanged\\nprint('Hash for 181 is:', hash(181))\\n\\n# hash for decimal\\nprint('Hash for 181.23 is:',hash(181.23))\\n\\n# hash for string\\nprint('Hash for Python is:', hash('Python'))\", \"# tuple of vowels\\nvowels = ('a', 'e', 'i', 'o', 'u')\\n\\nprint('The hash is:', hash(vowels))\", 'help(list)', \"help(list)\\n# help(dict)\\n# help(print)\\n# help([1, 2, 3])\\n\\n\\n# help('random thing')\\n# help('print')\\n# help('def')\\n# from math import * \\n# help('math.pow')\\n\\n# help()\\n# True\\n# 'print'\\n# print\\n# quit\", \"# help(list)\\nhelp(dict)\\n# help(print)\\n# help([1, 2, 3])\\n\\n\\n# help('random thing')\\n# help('print')\\n# help('def')\\n# from math import * \\n# help('math.pow')\\n\\n# help()\\n# True\\n# 'print'\\n# print\\n# quit\", \"# help(list)\\n# help(dict)\\nhelp(print)\\n# help([1, 2, 3])\\n\\n\\n# help('random thing')\\n# help('print')\\n# help('def')\\n# from math import * \\n# help('math.pow')\\n\\n# help()\\n# True\\n# 'print'\\n# print\\n# quit\", \"# help(list)\\n# help(dict)\\n# help(print)\\nhelp([1, 2, 3])\\n\\n\\n# help('random thing')\\n# help('print')\\n# help('def')\\n# from math import * \\n# help('math.pow')\\n\\n# help()\\n# True\\n# 'print'\\n# print\\n# quit\", \"# help(list)\\n# help(dict)\\n# help(print)\\n# help([1, 2, 3])\\n\\n\\nhelp('random thing')\\n# help('print')\\n# help('def')\\n# from math import * \\n# help('math.pow')\\n\\n# help()\\n# True\\n# 'print'\\n# print\\n# quit\", \"# help(list)\\n# help(dict)\\n# help(print)\\n# help([1, 2, 3])\\n\\n\\n# help('random thing')\\nhelp('print')\\n# help('def')\\n# from math import * \\n# help('math.pow')\\n\\n# help()\\n# True\\n# 'print'\\n# print\\n# quit\", \"# help(list)\\n# help(dict)\\n# help(print)\\n# help([1, 2, 3])\\n\\n\\n# help('random thing')\\n# help('print')\\nhelp('def')\\n# from math import * \\n# help('math.pow')\\n\\n# help()\\n# True\\n# 'print'\\n# print\\n# quit\", \"# help(list)\\n# help(dict)\\n# help(print)\\n# help([1, 2, 3])\\n\\n\\n# help('random thing')\\n# help('print')\\n# help('def')\\nfrom math import * \\nhelp('math.pow')\\n\\n# help()\\n# True\\n# 'print'\\n# print\\n# quit\", \"# help(list)\\n# help(dict)\\n# help(print)\\n# help([1, 2, 3])\\n\\n\\n# help('random thing')\\n# help('print')\\n# help('def')\\n# from math import * \\n# help('math.pow')\\n\\nhelp()\\n# True\\n# 'print'\\n# print\\n# quit\", \"x = ('apple', 'banana', 'cherry')\\ny = id(x)\", \"x = ('apple', 'banana', 'cherry')\\ny = id(x)\\nprint(y)\", \"print('Enter your name:')\\nx = input()\\nprint('Hello, ' + x)\", \"# Ask for the user's name and print it:\\nprint('Enter your name:')\\nx = input()\\nprint('Hello, ' + x)\", \"# Ask for the user's name and print it:\\n\\nprint('Enter your name:')\\nx = input()\\nprint('Hello, ' + x)\", \"# Use the prompt parameter to write a message before the input:\\n\\nx = input('Enter your name:')\\nprint('Hello, ' + x)\", 'x = int(3.5)\\n\\nprint(x)', 'x = int(\"12\")\\n\\nprint(x)', 'x = isinstance(5, int)\\nprint(x)', 'x = isinstance(\"Hello\", (float, int, str, list, dict, tuple))\\nprint(x)', 'class myObj:\\n  name = \"John\"\\n\\ny = myObj()\\n\\nx = isinstance(y, myObj)', 'class myObj:\\n  name = \"John\"\\n\\ny = myObj()\\n\\nx = isinstance(y, myObj)\\n\\nprint(x)', 'class myAge:\\n  age = 36\\n\\nclass myObj(myAge):\\n  name = \"John\"\\n  age = myAge\\n\\nx = issubclass(myObj, myAge)\\n\\nprint(x)', '# Create an iterator object, and print the items:\\n\\nx = iter([\"apple\", \"banana\", \"cherry\"])\\nprint(next(x))\\nprint(next(x))\\nprint(next(x))', '# Create an iterator object, and print the items:\\n\\nx = iter([\"apple\", \"banana\", \"cherry\"])\\nprint(next(x))\\nprint(next(x))\\nprint(next(x))\\nprint(x)', '# Create an iterator object, and print the items:\\n\\nx = iter([\"apple\", \"banana\", \"cherry\"])\\nprint(next(x))\\nprint(next(x))\\nprint(next(x))', 'mylist = [\"apple\", \"banana\", \"cherry\"]\\nx = len(mylist)\\n\\nprint(x)', 'mylist = \"Hello\"\\nx = len(mylist)\\n\\nprint(x)', \"x = list(('apple', 'banana', 'cherry'))\\n\\nprint(x)\", 'x = locals()\\nprint(x)', '# Display the local symbol table:\\n\\nx = locals()\\nprint(x)'], 'Out': {}, 'get_ipython': <bound method InteractiveShell.get_ipython of <ipykernel.zmqshell.ZMQInteractiveShell object at 0x0000026B378E8490>>, 'exit': <IPython.core.autocall.ZMQExitAutocall object at 0x0000026B378F4D10>, 'quit': <IPython.core.autocall.ZMQExitAutocall object at 0x0000026B378F4D10>, 'open': <function open at 0x0000026B358CE2A0>, '_': '', '__': '', '___': '', '__session__': 'E:\\\\Python_Programming\\\\N\\\\Practice\\\\Untitled.ipynb', '_i': 'x = locals()\\nprint(x)', '_ii': \"x = list(('apple', 'banana', 'cherry'))\\n\\nprint(x)\", '_iii': 'mylist = \"Hello\"\\nx = len(mylist)\\n\\nprint(x)', '_i1': 'x = abs(-7.25)\\n\\nprint (x)', 'x': {...}, '_i2': 'x = abs(3+5j)', '_i3': 'x = abs(3+5j)\\n\\nprint(x)', '_i4': 'mylist = [True, True, True]\\nx = all(mylist)', 'mylist': 'Hello', '_i5': 'mylist = [True, True, True]\\nx = all(mylist)\\n\\nprint(X)', '_i6': 'mylist = [True, True, True]\\nx = all(mylist)\\n\\nprint(x)', '_i7': 'mylist = [0, 1, 1]\\nx = all(mylist)', '_i8': 'mytuple = (0, True, False)\\nx = all(mytuple)', 'mytuple': (0, 1, False), '_i9': 'myset = {0, 1, 0}\\nx = all(myset)\\n\\nprint(x)', 'myset': {0, 1}, '_i10': 'myset = {0, 1, 0}\\nx = all(myset)\\n\\nprint(x)', '_i11': 'mylist = [True, True, True]\\nx = all(mylist)\\n\\nprint(x)', '_i12': 'mylist = [0, 1, 1]\\nx = all(mylist)\\n\\nprint(x)', '_i13': 'mytuple = (0, True, False)\\nx = all(mytuple)\\n\\nprint(x)', '_i14': 'myset = {0, 1, 0}\\nx = all(myset)\\n\\nprint(x)', '_i15': 'mydict = {0 : \"Apple\", 1 : \"Orange\"}\\nx = all(mydict)\\n\\nprint(x)', 'mydict': {0: 'Apple', 1: 'Orange'}, '_i16': 'mylist = [1, 1, 1]\\nx = all(mylist)\\n\\nprint(x)', '_i17': 'mylist = [0, 1, 1]\\nx = all(mylist)\\n\\nprint(x)', '_i18': 'mydict = {0 : \"Apple\", 1 : \"Apple\"}\\nx = all(mydict)\\n\\nprint(x)', '_i19': 'mydict = {0 : \"Apple\", 0: \"Orange\"}\\nx = all(mydict)\\n\\nprint(x)', '_i20': 'mydict = {0 : \"Apple\", 0: \"Apple\"}\\nx = all(mydict)\\n\\nprint(x)', '_i21': 'mydict = {0 : \"Apple\", 0 : \"Apple\"}\\nx = all(mydict)\\n\\nprint(x)', '_i22': 'mydict = {0 : \"Apple\", 1 : \"Orange\"}\\nx = all(mydict)\\n\\nprint(x)', '_i23': 'mylist = [False, True, False]\\nx = any(mylist)', '_i24': 'mylist = [False, True, False]\\nx = any(mylist)\\n\\nprint(x)', '_i25': 'mytuple = (0, 1, False)\\nx = any(mytuple', '_i26': 'mytuple = (0, 1, False)\\nx = any(mytuple)\\n\\nprint(x)', '_i27': 'myset = {0, 1, 0}\\nx = any(myset)\\n\\nprint(x)', '_i28': 'mydict = {0 : \"Apple\", 1 : \"Orange\"}\\nx = any(mydict)\\n\\nprint(x)', '_i29': 'x = ascii(\"My name is Ståle\")\\n\\nprint(x)', '_i30': 'x = bin(36)\\n\\nprint(x)', '_i31': 'x = bool(1)\\n\\nprint(x)', '_i32': 'x = bytearray(4)', '_i33': 'x = bytearray(4)\\n\\nprint(x)', '_i34': 'x = bytearray()\\n\\nprint(x)', '_i35': 'x = bytearray(\"google\", \\'utf-8\\')\\n\\nprint(x)', '_i36': 'x = bytearray(\"google\", \\'ascii\\')\\n\\nprint(x)', '_i37': 'x = bytearray(\"google\", ascii)\\n\\nprint(x)', '_i38': 'x = bytearray(\"google\", \\'utf-8\\', \\'Not Found\\')\\n\\nprint(x)', '_i39': 'x = bytearray(\"google\", utf-8, \\'Not Found\\')\\n\\nprint(x)', '_i40': 'x = bytearray(\"google\", \\'utf-8\\', \\'Not Found\\')\\n\\nprint(x)', '_i41': 'x = bytearray(\"Qåsim\", \\'utf-8\\', \\'Not Found\\')\\n\\nprint(x)', '_i42': 'x = bytearray(\"Qåsim\", \\'utf-8\\')\\n\\nprint(x)', '_i43': 'x = bytearray(\"Qåsim\", \\'utf-8\\', \\'strict\\')\\n\\nprint(x)', '_i44': 'x = bytearray(\"Qåsim\", \\'utf-8\\', \\'ignore\\')\\n\\nprint(x)', '_i45': 'x = bytearray(\"Qåsim\", \\'utf-8\\', errors=\\'ignore\\')\\n\\nprint(x)', '_i46': 'x = bytearray(\"Qåsim\", \\'utf-8\\', errors=\\'replace\\')\\n\\nprint(x)', '_i47': 'x = bytearray(\"Qåsim\", \\'ascii\\', errors=\\'replace\\')\\n\\nprint(x)', '_i48': 'x = bytearray(\"Qåsim\", \\'ascii\\', errors=\\'ignore\\')\\n\\nprint(x)', '_i49': 'x = bytearray(\"Qåsim\", \\'ascii\\', errors=\\'replace\\')\\n\\nprint(x)\\n\\ny = bytearray(\"Qåsim\", \\'ascii\\', errors=\\'ignore\\')\\n\\nprint(y)', 'y': <__main__.myObj object at 0x0000026B387FEB90>, '_i50': 'x = bytearray(\"Qåsim\", \\'ascii\\', errors=\\'replace\\')\\n\\nprint(x)\\n\\ny = bytearray(\"Qåsim\", \\'ascii\\', errors=\\'ignore\\')\\n\\nprint(y)\\n\\nz = bytearray(\"Qåsim\", \\'ascii\\', errors=\\'ignore\\')\\n\\nprint(z)', 'z': b'Q&#229;sim', '_i51': 'x = bytearray(\"Qåsim\", \\'ascii\\', errors=\\'replace\\')\\n\\nprint(x)\\n\\ny = bytearray(\"Qåsim\", \\'ascii\\', errors=\\'ignore\\')\\n\\nprint(y)\\n\\nz = bytearray(\"Qåsim\", \\'ascii\\', errors=\\'strict\\')\\n\\nprint(z)', '_i52': 'x = bytearray(\"Qåsim\", \\'ascii\\', errors=\\'replace\\')\\n\\nprint(x)\\n\\ny = bytearray(\"Qåsim\", \\'ascii\\', errors=\\'ignore\\')\\n\\nprint(y)\\n\\nz = bytearray(\"Qåsim\", \\'ascii\\', errors=\\'strict\\')\\n\\nprint(z)', '_i53': 'x = bytearray(\"Qåsim\", \\'ascii\\', errors=\\'replace\\')\\n\\nprint(x)\\n\\ny = bytearray(\"Qåsim\", \\'ascii\\', errors=\\'ignore\\')\\n\\nprint(y)\\n\\nz = bytearray(\"Qåsim\", \\'ascii\\', errors=\\'strict\\')\\n\\nprint(z)\\n\\n\"Qåsim\".encode()', '_i54': 'x = bytearray(\"Qåsim\", \\'ascii\\', errors=\\'replace\\')\\n\\nprint(x)\\n\\ny = bytearray(\"Qåsim\", \\'ascii\\', errors=\\'ignore\\')\\n\\nprint(y)\\n\\nz = bytearray(\"Qåsim\", \\'ascii\\', errors=\\'namereplace\\')\\n\\nprint(z)', '_i55': 'w = bytearray(\"Qåsim\", \\'ascii\\', errors=\\'replace\\')\\n\\nprint(w)\\n\\nx = bytearray(\"Qåsim\", \\'ascii\\', errors=\\'ignore\\')\\n\\nprint(x)\\n\\ny = bytearray(\"Qåsim\", \\'ascii\\', errors=\\'namereplace\\')\\n\\nprint(y)\\n\\nz = bytearray(\"Qåsim\", \\'ascii\\', errors=\\'xmlcharrefreplace\\')\\n\\nprint(z)', 'w': b'Q?sim', '_i56': 'x = bytearray()\\n\\nprint(x)', '_i57': 'x = bytes(4)\\n\\nprint(x)', '_i58': 'w = byte(\"Qåsim\", \\'ascii\\', errors=\\'replace\\')\\n\\nprint(w)\\n\\nx = byte(\"Qåsim\", \\'ascii\\', errors=\\'ignore\\')\\n\\nprint(x)\\n\\ny = byte(\"Qåsim\", \\'ascii\\', errors=\\'namereplace\\')\\n\\nprint(y)\\n\\nz = byte(\"Qåsim\", \\'ascii\\', errors=\\'xmlcharrefreplace\\')\\n\\nprint(z)', '_i59': 'w = byte(\"Qåsim\", \\'ascii\\', errors=\\'replace\\')\\n\\nprint(w)\\n\\nx = byte(\"Qåsim\", \\'ascii\\', errors=\\'ignore\\')\\n\\nprint(x)\\n\\ny = byte(\"Qåsim\", \\'ascii\\', errors=\\'namereplace\\')\\n\\nprint(y)\\n\\nz = byte(\"Qåsim\", \\'ascii\\', errors=\\'xmlcharrefreplace\\')\\n\\nprint(z)', '_i60': 'w = byte(\"Qåsim\", \\'ascii\\', errors=\\'replace\\')\\n\\nprint(w)\\n\\nx = byte(\"Qåsim\", \\'ascii\\', errors=\\'ignore\\')\\n\\nprint(x)\\n\\ny = byte(\"Qåsim\", \\'ascii\\', errors=\\'namereplace\\')\\n\\nprint(y)\\n\\nz = byte(\"Qåsim\", \\'ascii\\', errors=\\'xmlcharrefreplace\\')\\n\\nprint(z)', '_i61': 'x = byte()\\n\\nprint(x)', '_i62': 'x = byte()\\n\\nprint(x)', '_i63': 'x = byte(x)\\n\\nprint(x)', '_i64': 'message = \\'Python is fun\\'\\nw = byte(message, \\'ascii\\', errors=\\'replace\\')\\n\\nprint(w)\\n\\nx = byte(\"Qåsim\", \\'ascii\\', errors=\\'ignore\\')\\n\\nprint(x)\\n\\ny = byte(\"Qåsim\", \\'ascii\\', errors=\\'namereplace\\')\\n\\nprint(y)\\n\\nz = byte(\"Qåsim\", \\'ascii\\', errors=\\'xmlcharrefreplace\\')\\n\\nprint(z)', 'message': 'Python is fun', '_i65': 'w = bytes(\"Qåsim\", \\'ascii\\', errors=\\'replace\\')\\n\\nprint(w)\\n\\nx = bytes(\"Qåsim\", \\'ascii\\', errors=\\'ignore\\')\\n\\nprint(x)\\n\\ny = bytes(\"Qåsim\", \\'ascii\\', errors=\\'namereplace\\')\\n\\nprint(y)\\n\\nz = bytes(\"Qåsim\", \\'ascii\\', errors=\\'xmlcharrefreplace\\')\\n\\nprint(z)', '_i66': 'x = bytes()\\n\\nprint(x)', '_i67': 'def x():\\n  a = 5\\n\\nprint(callable(x))', '_i68': 'x = 5\\n\\nprint(callable(x))', '_i69': 'def x():\\n  a = 5\\n\\nprint(callable(x))', '_i70': 'x = 5\\n\\nprint(callable(x))', '_i71': 'x = chr(97)\\n\\nprint(x)', '_i72': \"class Student:\\n  marks = 0\\n\\n  def compute_marks(self, obtained_marks):\\n    marks = obtained_marks\\n    print('Obtained Marks:', marks)\\n\\n# convert compute_marks() to class method\\nStudent.print_marks = classmethod(Student.compute_marks)\\nStudent.print_marks(88)\\n\\n# Output: Obtained Marks: 88\", 'Student': <class '__main__.Student'>, '_i73': \"class Student:\\n  marks = 0\\n\\n  def compute_marks(self, obtained_marks):\\n    marks = obtained_marks\\n    print('Obtained Marks:', marks)\\n\\n# convert compute_marks() to class method\\nStudentmk2 = classmethod(Student.compute_marks)\\nStudentmk2(88)\\n\\n# Output: Obtained Marks: 88\", 'Studentmk2': <classmethod(<function Student.compute_marks at 0x0000026B386F07C0>)>, '_i74': \"class Student:\\n  marks = 0\\n\\n  def compute_marks(self, obtained_marks):\\n    marks = obtained_marks\\n    print('Obtained Marks:', marks)\\n\\n# convert compute_marks() to class method\\nStudent.mk2 = classmethod(Student.compute_marks)\\nStudent.mk2(88)\\n\\n# Output: Obtained Marks: 88\", '_i75': \"class Student:\\n  marks = 0\\n\\n  def compute_marks(self, obtained_marks):\\n    marks = obtained_marks\\n    print('Obtained Marks:', marks)\\n\\n# convert compute_marks() to class method\\nStudent.print_marks = classmethod(Student.compute_marks)\\nStudent.print_marks(90)\\n\\n# Output: Obtained Marks: 90\", '_i76': \"class Student:\\n  marks = 0\\n\\n  def compute_marks(self, obtained_marks):\\n    marks = obtained_marks\\n    print('Obtained Marks:', marks)\\n\\n# convert compute_marks() to class method\\nStudent.print_marks = classmethod(Student.compute_marks)\\nStudent.print_marks(90)\\n\\n# Output: Obtained Marks: 90\", '_i77': \"class Person:\\n    age = 25\\n\\n    def printAge(cls):\\n        print('The age is:', cls.age)\\n\\n# create printAge class method\\nPerson.printAge = classmethod(Person.printAge)\\n\\nPerson.printAge()\", 'Person': <class '__main__.Person'>, '_i78': 'from datetime import date\\n\\n# random Person\\nclass Person:\\n    def __init__(self, name, age):\\n        self.name = name\\n        self.age = age\\n\\n    @classmethod\\n    def fromBirthYear(cls, name, birthYear):\\n        return cls(name, date.today().year - birthYear)\\n\\n    def display(self):\\n        print(self.name + \"\\'s age is: \" + str(self.age))\\n\\nperson = Person(\\'Adam\\', 19)\\nperson.display()\\n\\nperson1 = Person.fromBirthYear(\\'John\\',  1985)\\nperson1.display()', 'date': <class 'datetime.date'>, 'person': <__main__.Person object at 0x0000026B387AFF10>, 'person1': <__main__.Person object at 0x0000026B387EFED0>, '_i79': 'from datetime import date\\n\\n# random Person\\nclass Person:\\n    def __init__(self, name, age):\\n        self.name = name\\n        self.age = age\\n\\n    @classmethod\\n    def fromBirthYear(cls, name, birthYear):\\n        return cls(name, date.today().year - birthYear)\\n\\n    def display(self):\\n        print(self.name + \"\\'s age is: \" + str(self.age))\\n\\nperson = Person(\\'Adam\\', 19)\\nperson.display()\\n\\nperson1 = Person.fromBirthYear(\\'John\\',  1985)\\nperson1.display()', '_i80': 'from datetime import date\\n\\n# random Person\\nclass Person:\\n    def __init__(self, name, age):\\n        self.name = name\\n        self.age = age\\n\\n    @staticmethod\\n    def fromFathersAge(name, fatherAge, fatherPersonAgeDiff):\\n        return Person(name, date.today().year - fatherAge + fatherPersonAgeDiff)\\n\\n    @classmethod\\n    def fromBirthYear(cls, name, birthYear):\\n        return cls(name, date.today().year - birthYear)\\n\\n    def display(self):\\n        print(self.name + \"\\'s age is: \" + str(self.age))\\n\\nclass Man(Person):\\n    sex = \\'Male\\'\\n\\nman = Man.fromBirthYear(\\'John\\', 1985)\\nprint(isinstance(man, Man))\\n\\nman1 = Man.fromFathersAge(\\'John\\', 1965, 20)\\nprint(isinstance(man1, Man))', 'Man': <class '__main__.Man'>, 'man': <__main__.Man object at 0x0000026B387CCE10>, 'man1': <__main__.Person object at 0x0000026B387B4190>, '_i81': 'from datetime import date\\n\\n# random Person\\nclass Person:\\n    def __init__(self, name, age):\\n        self.name = name\\n        self.age = age\\n\\n    @staticmethod\\n    def fromFathersAge(name, fatherAge, fatherPersonAgeDiff):\\n        return Person(name, date.today().year - fatherAge + fatherPersonAgeDiff)\\n\\n    @classmethod\\n    def fromBirthYear(cls, name, birthYear):\\n        return cls(name, date.today().year - birthYear)\\n\\n    def display(self):\\n        print(self.name + \"\\'s age is: \" + str(self.age))\\n\\nclass Man(Person):\\n    sex = \\'Male\\'\\n\\nman = Man.fromBirthYear(\\'John\\', 1985)\\nprint(isinstance(man, Man))\\n\\nman1 = Man.fromFathersAge(\\'John\\', 1965, 20)\\nprint(isinstance(man1, Man))\\nprint(man)\\nprint(man1)', '_i82': 'from datetime import date\\n\\n# random Person\\nclass Person:\\n    def __init__(self, name, age):\\n        self.name = name\\n        self.age = age\\n\\n    @staticmethod\\n    def fromFathersAge(name, fatherAge, fatherPersonAgeDiff):\\n        return Person(name, date.today().year - fatherAge + fatherPersonAgeDiff)\\n\\n    @classmethod\\n    def fromBirthYear(cls, name, birthYear):\\n        return cls(name, date.today().year - birthYear)\\n\\n    def display(self):\\n        print(self.name + \"\\'s age is: \" + str(self.age))\\n\\nclass Man(Person):\\n    sex = \\'Male\\'\\n\\nman = Man.fromBirthYear(\\'John\\', 1985)\\nprint(isinstance(man, Man))\\n\\nman1 = Man.fromFathersAge(\\'John\\', 1965, 20)\\nprint(isinstance(man1, Man))\\nprint(man())\\nprint(man1)', '_i83': 'from datetime import date\\n\\n# random Person\\nclass Person:\\n    def __init__(self, name, age):\\n        self.name = name\\n        self.age = age\\n\\n    @staticmethod\\n    def fromFathersAge(name, fatherAge, fatherPersonAgeDiff):\\n        return Person(name, date.today().year - fatherAge + fatherPersonAgeDiff)\\n\\n    @classmethod\\n    def fromBirthYear(cls, name, birthYear):\\n        return cls(name, date.today().year - birthYear)\\n\\n    def display(self):\\n        print(self.name + \"\\'s age is: \" + str(self.age))\\n\\nclass Man(Person):\\n    sex = \\'Male\\'\\n\\nman = Man.fromBirthYear(\\'John\\', 1985)\\nprint(isinstance(man, Man))\\n\\nman1 = Man.fromFathersAge(\\'John\\', 1965, 20)\\nprint(isinstance(man1, Man))', '_i84': \"x = compile('print(55)', 'test', 'eval')\\n\\nexec(x)\", '_i85': \"x = compile('print(55)\\\\nprint(88)', 'test', 'exec')\\n\\nexec(x)\", '_i86': \"x = compile('print(55)\\\\nprint(88)', 'test', 'exec')\\n\\nsingle(x)\", '_i87': \"x = compile('print(55)\\\\nprint(88)', 'test', 'exec')\\n\\neval(x)\", '_i88': \"x = compile('print(55)\\\\nprint(88)', 'test', 'exec')\\n\\nexec(x)\", '_i89': \"x = compile('print(55)\\\\nprint(88)', 'test', 'exec')\\n\\nprint(x)\", '_i90': \"x = compile('print(55)\\\\nprint(88)', 'test', 'exec')\\n\\nexec(x)\", '_i91': 'x = complex(3, 5)', '_i92': 'x = complex(3, 5)\\n\\nprint(x)', '_i93': \"x = complex('3+5j')\\n\\nprint(x)\", '_i94': 'class Person:\\n  name = \"John\"\\n  age = 36\\n  country = \"Norway\"\\n\\ndelattr(Person, \\'age\\')', '_i95': 'x = dict(name = \"John\", age = 36, country = \"Norway\")\\n\\nprint(x)', '_i96': 'class Person:\\n  name = \"John\"\\n  age = 36\\n  country = \"Norway\"\\n\\nprint(dir(Person))', '_i97': 'x = divmod(5, 2)\\n\\nprint(x)', '_i98': \"x = ('apple', 'banana', 'cherry')\\ny = enumerate(x)\", '_i99': \"x = ('apple', 'banana', 'cherry')\\ny = enumerate(x)\\n\\nprint(y)\", '_i100': \"x = ('apple', 'banana', 'cherry')\\ny = enumerate(x)\\n\\nprint(list(y))\", '_i101': '# The enumerate() function adds a counter as the key of the enumerate object.', '_i102': \"# The enumerate() function adds a counter as the key of the enumerate object.\\nx = ('apple', 'banana', 'cherry')\\ny = enumerate(x)\\n\\nprint(list(y))\", '_i103': \"x = 'print(55)'\\neval(x)\", '_i104': \"x = 'print(55)'\\nexec(x)\", '_i105': \"x = 'print(55)'\\neval(x)\", '_i106': 'x = \\'name = \"John\"\\\\nprint(name)\\'\\nexec(x)', 'name': 'John', '_i107': 'ages = [5, 12, 17, 18, 24, 32]\\n\\ndef myFunc(x):\\n  if x < 18:\\n    return False\\n  else:\\n    return True\\n\\nadults = filter(myFunc, ages)\\n\\nfor x in adults:\\n  print(x)', 'ages': [5, 12, 17, 18, 24, 32], 'myFunc': <function myFunc at 0x0000026B386F2200>, 'adults': <filter object at 0x0000026B37B67E20>, '_i108': 'x = float(3)\\n\\nprint(x)', '_i109': 'x = float(\"3.500\")\\n\\nprint(x)', '_i110': \"x = format(0.5, '%')\\n\\nprint(x)\", '_i111': \"x = format(255, 'x')\", '_i112': \"x = format(255, 'x')\\n\\nprint(x)\", '_i113': \"mylist = ['apple', 'banana', 'cherry']\\nx = frozenset(mylist)\\nprint(x)\", '_i114': 'mylist = [\\'apple\\', \\'banana\\', \\'cherry\\']\\nx = frozenset(mylist)\\nx[1] = \"strawberry\"', '_i115': 'mylist = [\\'apple\\', \\'banana\\', \\'cherry\\']\\nx = frozenset(mylist)\\nx[1] = \"strawberry\"\\nprint(x)', '_i116': 'class Person:\\n  name = \"John\"\\n  age = 36\\n  country = \"Norway\"\\n\\ndelattr(Person, \\'age\\')\\n# The Person object will no longer contain an \"age\" property', '_i117': 'class Person:\\n  name = \"John\"\\n  age = 36\\n  country = \"Norway\"\\n\\nx = getattr(Person, \\'age\\')\\n\\nprint(x)', '_i118': 'class Person:\\n  name = \"John\"\\n  age = 36\\n  country = \"Norway\"\\n\\nx = getattr(Person, \\'page\\', \\'my message\\')\\n\\nprint(x)', '_i119': 'x = globals()\\nprint(x)', '_i120': 'x = globals()\\nprint(x[\"__file__\"])', '_i121': 'class Person:\\n  name = \"John\"\\n  age = 36\\n  country = \"Norway\"\\n\\nx = hasattr(Person, \\'age\\')\\n\\nprint(x)', '_i122': 'x = hex(255)\\n\\nprint(x)', '_i123': \"# hash for integer unchanged\\nprint('Hash for 181 is:', hash(181))\\n\\n# hash for decimal\\nprint('Hash for 181.23 is:',hash(181.23))\\n\\n# hash for string\\nprint('Hash for Python is:', hash('Python'))\", '_i124': \"# tuple of vowels\\nvowels = ('a', 'e', 'i', 'o', 'u')\\n\\nprint('The hash is:', hash(vowels))\", 'vowels': ('a', 'e', 'i', 'o', 'u'), '_i125': \"# hash for integer unchanged\\nprint('Hash for 181 is:', hash(181))\\n\\n# hash for decimal\\nprint('Hash for 181.23 is:',hash(181.23))\\n\\n# hash for string\\nprint('Hash for Python is:', hash('Python'))\", '_i126': \"# tuple of vowels\\nvowels = ('a', 'e', 'i', 'o', 'u')\\n\\nprint('The hash is:', hash(vowels))\", '_i127': 'help(list)', '_i128': \"help(list)\\n# help(dict)\\n# help(print)\\n# help([1, 2, 3])\\n\\n\\n# help('random thing')\\n# help('print')\\n# help('def')\\n# from math import * \\n# help('math.pow')\\n\\n# help()\\n# True\\n# 'print'\\n# print\\n# quit\", '_i129': \"# help(list)\\nhelp(dict)\\n# help(print)\\n# help([1, 2, 3])\\n\\n\\n# help('random thing')\\n# help('print')\\n# help('def')\\n# from math import * \\n# help('math.pow')\\n\\n# help()\\n# True\\n# 'print'\\n# print\\n# quit\", '_i130': \"# help(list)\\n# help(dict)\\nhelp(print)\\n# help([1, 2, 3])\\n\\n\\n# help('random thing')\\n# help('print')\\n# help('def')\\n# from math import * \\n# help('math.pow')\\n\\n# help()\\n# True\\n# 'print'\\n# print\\n# quit\", '_i131': \"# help(list)\\n# help(dict)\\n# help(print)\\nhelp([1, 2, 3])\\n\\n\\n# help('random thing')\\n# help('print')\\n# help('def')\\n# from math import * \\n# help('math.pow')\\n\\n# help()\\n# True\\n# 'print'\\n# print\\n# quit\", '_i132': \"# help(list)\\n# help(dict)\\n# help(print)\\n# help([1, 2, 3])\\n\\n\\nhelp('random thing')\\n# help('print')\\n# help('def')\\n# from math import * \\n# help('math.pow')\\n\\n# help()\\n# True\\n# 'print'\\n# print\\n# quit\", '_i133': \"# help(list)\\n# help(dict)\\n# help(print)\\n# help([1, 2, 3])\\n\\n\\n# help('random thing')\\nhelp('print')\\n# help('def')\\n# from math import * \\n# help('math.pow')\\n\\n# help()\\n# True\\n# 'print'\\n# print\\n# quit\", '_i134': \"# help(list)\\n# help(dict)\\n# help(print)\\n# help([1, 2, 3])\\n\\n\\n# help('random thing')\\n# help('print')\\nhelp('def')\\n# from math import * \\n# help('math.pow')\\n\\n# help()\\n# True\\n# 'print'\\n# print\\n# quit\", '_i135': \"# help(list)\\n# help(dict)\\n# help(print)\\n# help([1, 2, 3])\\n\\n\\n# help('random thing')\\n# help('print')\\n# help('def')\\nfrom math import * \\nhelp('math.pow')\\n\\n# help()\\n# True\\n# 'print'\\n# print\\n# quit\", 'acos': <built-in function acos>, 'acosh': <built-in function acosh>, 'asin': <built-in function asin>, 'asinh': <built-in function asinh>, 'atan': <built-in function atan>, 'atan2': <built-in function atan2>, 'atanh': <built-in function atanh>, 'cbrt': <built-in function cbrt>, 'ceil': <built-in function ceil>, 'copysign': <built-in function copysign>, 'cos': <built-in function cos>, 'cosh': <built-in function cosh>, 'degrees': <built-in function degrees>, 'dist': <built-in function dist>, 'erf': <built-in function erf>, 'erfc': <built-in function erfc>, 'exp': <built-in function exp>, 'exp2': <built-in function exp2>, 'expm1': <built-in function expm1>, 'fabs': <built-in function fabs>, 'factorial': <built-in function factorial>, 'floor': <built-in function floor>, 'fmod': <built-in function fmod>, 'frexp': <built-in function frexp>, 'fsum': <built-in function fsum>, 'gamma': <built-in function gamma>, 'gcd': <built-in function gcd>, 'hypot': <built-in function hypot>, 'isclose': <built-in function isclose>, 'isfinite': <built-in function isfinite>, 'isinf': <built-in function isinf>, 'isnan': <built-in function isnan>, 'isqrt': <built-in function isqrt>, 'lcm': <built-in function lcm>, 'ldexp': <built-in function ldexp>, 'lgamma': <built-in function lgamma>, 'log': <built-in function log>, 'log1p': <built-in function log1p>, 'log10': <built-in function log10>, 'log2': <built-in function log2>, 'modf': <built-in function modf>, 'pow': <built-in function pow>, 'radians': <built-in function radians>, 'remainder': <built-in function remainder>, 'sin': <built-in function sin>, 'sinh': <built-in function sinh>, 'sqrt': <built-in function sqrt>, 'tan': <built-in function tan>, 'tanh': <built-in function tanh>, 'trunc': <built-in function trunc>, 'prod': <built-in function prod>, 'perm': <built-in function perm>, 'comb': <built-in function comb>, 'nextafter': <built-in function nextafter>, 'ulp': <built-in function ulp>, 'pi': 3.141592653589793, 'e': 2.718281828459045, 'tau': 6.283185307179586, 'inf': inf, 'nan': nan, '_i136': \"# help(list)\\n# help(dict)\\n# help(print)\\n# help([1, 2, 3])\\n\\n\\n# help('random thing')\\n# help('print')\\n# help('def')\\n# from math import * \\n# help('math.pow')\\n\\nhelp()\\n# True\\n# 'print'\\n# print\\n# quit\", '_i137': \"x = ('apple', 'banana', 'cherry')\\ny = id(x)\", '_i138': \"x = ('apple', 'banana', 'cherry')\\ny = id(x)\\nprint(y)\", '_i139': \"print('Enter your name:')\\nx = input()\\nprint('Hello, ' + x)\", '_i140': \"# Ask for the user's name and print it:\\nprint('Enter your name:')\\nx = input()\\nprint('Hello, ' + x)\", '_i141': \"# Ask for the user's name and print it:\\n\\nprint('Enter your name:')\\nx = input()\\nprint('Hello, ' + x)\", '_i142': \"# Use the prompt parameter to write a message before the input:\\n\\nx = input('Enter your name:')\\nprint('Hello, ' + x)\", '_i143': 'x = int(3.5)\\n\\nprint(x)', '_i144': 'x = int(\"12\")\\n\\nprint(x)', '_i145': 'x = isinstance(5, int)\\nprint(x)', '_i146': 'x = isinstance(\"Hello\", (float, int, str, list, dict, tuple))\\nprint(x)', '_i147': 'class myObj:\\n  name = \"John\"\\n\\ny = myObj()\\n\\nx = isinstance(y, myObj)', 'myObj': <class '__main__.myObj'>, '_i148': 'class myObj:\\n  name = \"John\"\\n\\ny = myObj()\\n\\nx = isinstance(y, myObj)\\n\\nprint(x)', '_i149': 'class myAge:\\n  age = 36\\n\\nclass myObj(myAge):\\n  name = \"John\"\\n  age = myAge\\n\\nx = issubclass(myObj, myAge)\\n\\nprint(x)', 'myAge': <class '__main__.myAge'>, '_i150': '# Create an iterator object, and print the items:\\n\\nx = iter([\"apple\", \"banana\", \"cherry\"])\\nprint(next(x))\\nprint(next(x))\\nprint(next(x))', '_i151': '# Create an iterator object, and print the items:\\n\\nx = iter([\"apple\", \"banana\", \"cherry\"])\\nprint(next(x))\\nprint(next(x))\\nprint(next(x))\\nprint(x)', '_i152': '# Create an iterator object, and print the items:\\n\\nx = iter([\"apple\", \"banana\", \"cherry\"])\\nprint(next(x))\\nprint(next(x))\\nprint(next(x))', '_i153': 'mylist = [\"apple\", \"banana\", \"cherry\"]\\nx = len(mylist)\\n\\nprint(x)', '_i154': 'mylist = \"Hello\"\\nx = len(mylist)\\n\\nprint(x)', '_i155': \"x = list(('apple', 'banana', 'cherry'))\\n\\nprint(x)\", '_i156': 'x = locals()\\nprint(x)', '_i157': '# Display the local symbol table:\\n\\nx = locals()\\nprint(x)'}\n"
     ]
    }
   ],
   "source": [
    "# Display the local symbol table:\n",
    "\n",
    "x = locals()\n",
    "print(x)"
   ]
  },
  {
   "cell_type": "code",
   "execution_count": 158,
   "id": "2501c6f4-a9ac-4ea1-b9d3-62b7a51d5aba",
   "metadata": {},
   "outputs": [
    {
     "ename": "KeyError",
     "evalue": "'__file__'",
     "output_type": "error",
     "traceback": [
      "\u001b[1;31m---------------------------------------------------------------------------\u001b[0m",
      "\u001b[1;31mKeyError\u001b[0m                                  Traceback (most recent call last)",
      "Cell \u001b[1;32mIn[158], line 4\u001b[0m\n\u001b[0;32m      1\u001b[0m \u001b[38;5;66;03m# Get the filename of the current program:\u001b[39;00m\n\u001b[0;32m      3\u001b[0m x \u001b[38;5;241m=\u001b[39m \u001b[38;5;28mlocals\u001b[39m()\n\u001b[1;32m----> 4\u001b[0m \u001b[38;5;28mprint\u001b[39m(x[\u001b[38;5;124m\"\u001b[39m\u001b[38;5;124m__file__\u001b[39m\u001b[38;5;124m\"\u001b[39m])\n",
      "\u001b[1;31mKeyError\u001b[0m: '__file__'"
     ]
    }
   ],
   "source": [
    "# Get the filename of the current program:\n",
    "\n",
    "x = locals()\n",
    "print(x[\"__file__\"])"
   ]
  },
  {
   "cell_type": "markdown",
   "id": "4b9454d8-86dd-462f-b9fc-49ddb04d31bb",
   "metadata": {
    "jp-MarkdownHeadingCollapsed": true
   },
   "source": [
    "## map() -- Returns the specified iterator with the specified function applied to each item"
   ]
  },
  {
   "cell_type": "code",
   "execution_count": 160,
   "id": "d98eb2c3-9a8c-4bb6-876c-4b420781f74a",
   "metadata": {},
   "outputs": [
    {
     "name": "stdout",
     "output_type": "stream",
     "text": [
      "[5, 6, 6]\n"
     ]
    }
   ],
   "source": [
    "# Calculate the length of each word in the tuple:\n",
    "\n",
    "def myfunc(n):\n",
    "  return len(n)\n",
    "\n",
    "x = map(myfunc, ('apple', 'banana', 'cherry'))\n",
    "\n",
    "#convert the map into a list, for readability:\n",
    "print(list(x))"
   ]
  },
  {
   "cell_type": "code",
   "execution_count": 162,
   "id": "03084170-9532-42c2-b48a-24412de4ebf4",
   "metadata": {},
   "outputs": [
    {
     "name": "stdout",
     "output_type": "stream",
     "text": [
      "['appleorange', 'bananalemon', 'cherrypineapple']\n"
     ]
    }
   ],
   "source": [
    "# Make new fruits by sending two iterable objects into the function:\n",
    "\n",
    "def myfunc(a, b):\n",
    "  return a + b\n",
    "\n",
    "x = map(myfunc, ('apple', 'banana', 'cherry'), ('orange', 'lemon', 'pineapple'))\n",
    "\n",
    "#convert the map into a list, for readability:\n",
    "print(list(x))"
   ]
  },
  {
   "cell_type": "markdown",
   "id": "93121e82-3449-4d7a-8d66-9ea3ce730852",
   "metadata": {
    "jp-MarkdownHeadingCollapsed": true
   },
   "source": [
    "## max() -- Returns the largest item in an iterable"
   ]
  },
  {
   "cell_type": "code",
   "execution_count": 164,
   "id": "50a02ed3-d4e3-43e7-b523-e75aaf96af7f",
   "metadata": {},
   "outputs": [
    {
     "name": "stdout",
     "output_type": "stream",
     "text": [
      "10\n"
     ]
    }
   ],
   "source": [
    "# Return the largest number:\n",
    "\n",
    "x = max(5, 10)\n",
    "\n",
    "print(x)"
   ]
  },
  {
   "cell_type": "code",
   "execution_count": 165,
   "id": "d01929ca-e913-4d12-9bd6-f7ecb8c472f5",
   "metadata": {},
   "outputs": [
    {
     "name": "stdout",
     "output_type": "stream",
     "text": [
      "Vicky\n"
     ]
    }
   ],
   "source": [
    "# Return the name with the highest value, ordered alphabetically:\n",
    "\n",
    "x = max(\"Mike\", \"John\", \"Vicky\")\n",
    "\n",
    "print(x)"
   ]
  },
  {
   "cell_type": "code",
   "execution_count": 167,
   "id": "afc63d86-8398-46f3-94c2-0db8823d0f6f",
   "metadata": {},
   "outputs": [
    {
     "name": "stdout",
     "output_type": "stream",
     "text": [
      "9\n"
     ]
    }
   ],
   "source": [
    "# Return the item in a tuple with the highest value:\n",
    "\n",
    "a = (1, 5, 3, 9)\n",
    "x = max(a)\n",
    "\n",
    "print(x)"
   ]
  },
  {
   "cell_type": "markdown",
   "id": "8e57ac5b-01be-483c-b3c3-82bafbaebe9e",
   "metadata": {
    "jp-MarkdownHeadingCollapsed": true
   },
   "source": [
    "## memoryview() -- Returns a memory view object"
   ]
  },
  {
   "cell_type": "code",
   "execution_count": 168,
   "id": "7c846cd5-95e4-4273-b270-9302ec3ff529",
   "metadata": {},
   "outputs": [
    {
     "name": "stdout",
     "output_type": "stream",
     "text": [
      "<memory at 0x0000026B38627400>\n",
      "72\n",
      "101\n"
     ]
    }
   ],
   "source": [
    "# Create and print a memoryview object:\n",
    "\n",
    "x = memoryview(b\"Hello\")\n",
    "\n",
    "print(x)\n",
    "\n",
    "# return the Unicode of the first character\n",
    "print(x[0])\n",
    "\n",
    "# return the Unicode of the second character\n",
    "print(x[1])"
   ]
  },
  {
   "cell_type": "markdown",
   "id": "81b373b4-6fa1-42d1-a957-7c4a93b5c10e",
   "metadata": {
    "jp-MarkdownHeadingCollapsed": true
   },
   "source": [
    "## min() -- Returns the smallest item in an iterable"
   ]
  },
  {
   "cell_type": "code",
   "execution_count": 169,
   "id": "80d62fbc-045f-4c5a-877f-a7638c199551",
   "metadata": {},
   "outputs": [
    {
     "name": "stdout",
     "output_type": "stream",
     "text": [
      "5\n"
     ]
    }
   ],
   "source": [
    "# Return the lowest number:\n",
    "\n",
    "x = min(5, 10)\n",
    "\n",
    "print(x)"
   ]
  },
  {
   "cell_type": "code",
   "execution_count": 170,
   "id": "3020c80d-331c-4cde-8444-b8c26f1a7f3d",
   "metadata": {},
   "outputs": [
    {
     "name": "stdout",
     "output_type": "stream",
     "text": [
      "John\n"
     ]
    }
   ],
   "source": [
    "# Return the name with the lowest value, ordered alphabetically:\n",
    "\n",
    "x = min(\"Mike\", \"John\", \"Vicky\")\n",
    "\n",
    "print(x)"
   ]
  },
  {
   "cell_type": "code",
   "execution_count": 171,
   "id": "237a8618-535c-42d5-a4da-2e72e4da45e4",
   "metadata": {},
   "outputs": [
    {
     "name": "stdout",
     "output_type": "stream",
     "text": [
      "1\n"
     ]
    }
   ],
   "source": [
    "# Return the item in a tuple with the lowest value:\n",
    "\n",
    "a = (1, 5, 3, 9)\n",
    "x = min(a)\n",
    "\n",
    "print(x)"
   ]
  },
  {
   "cell_type": "markdown",
   "id": "e867653c-3340-4b42-b6a8-d30608f6fcc5",
   "metadata": {
    "jp-MarkdownHeadingCollapsed": true
   },
   "source": [
    "## next() -- Returns the next item in an iterable"
   ]
  },
  {
   "cell_type": "code",
   "execution_count": 173,
   "id": "84c82329-407d-4b47-a2b2-4051f981135a",
   "metadata": {},
   "outputs": [
    {
     "name": "stdout",
     "output_type": "stream",
     "text": [
      "apple\n",
      "banana\n",
      "cherry\n"
     ]
    }
   ],
   "source": [
    "# Create an iterator, and print the items one by one:\n",
    "\n",
    "mylist = iter([\"apple\", \"banana\", \"cherry\"])\n",
    "x = next(mylist)\n",
    "print(x)\n",
    "x = next(mylist)\n",
    "print(x)\n",
    "x = next(mylist)\n",
    "print(x)"
   ]
  },
  {
   "cell_type": "code",
   "execution_count": 174,
   "id": "a32e4649-3d9c-49be-825a-8a19c8787abd",
   "metadata": {},
   "outputs": [
    {
     "name": "stdout",
     "output_type": "stream",
     "text": [
      "apple\n",
      "banana\n",
      "cherry\n",
      "orange\n"
     ]
    }
   ],
   "source": [
    "# Return a default value when the iterator has reached to its end:\n",
    "\n",
    "mylist = iter([\"apple\", \"banana\", \"cherry\"])\n",
    "x = next(mylist, \"orange\")\n",
    "print(x)\n",
    "x = next(mylist, \"orange\")\n",
    "print(x)\n",
    "x = next(mylist, \"orange\")\n",
    "print(x)\n",
    "x = next(mylist, \"orange\")\n",
    "print(x)"
   ]
  },
  {
   "cell_type": "markdown",
   "id": "44741adb-4f83-4da9-b2f3-f83a2a6a7922",
   "metadata": {
    "jp-MarkdownHeadingCollapsed": true
   },
   "source": [
    "## object() -- Returns a new objectses."
   ]
  },
  {
   "cell_type": "raw",
   "id": "b5229932-2ec4-4cb8-b648-6ff7352a78d6",
   "metadata": {},
   "source": [
    "--- Syntax --> object()\n",
    "--- The object() function returns an empty object.\n",
    "--- You cannot add new properties or methods to this object.\n",
    "--- This object is the base for all classes, it holds the built-in properties and methods which are default for all classes."
   ]
  },
  {
   "cell_type": "code",
   "execution_count": 177,
   "id": "00a4caad-d12e-40fc-8606-6f84bc50bcef",
   "metadata": {},
   "outputs": [
    {
     "name": "stdout",
     "output_type": "stream",
     "text": [
      "['__class__', '__delattr__', '__dir__', '__doc__', '__eq__', '__format__', '__ge__', '__getattribute__', '__getstate__', '__gt__', '__hash__', '__init__', '__init_subclass__', '__le__', '__lt__', '__ne__', '__new__', '__reduce__', '__reduce_ex__', '__repr__', '__setattr__', '__sizeof__', '__str__', '__subclasshook__']\n"
     ]
    }
   ],
   "source": [
    "# Create an empty object:\n",
    "\n",
    "x = object()\n",
    "\n",
    "print(dir(x))"
   ]
  },
  {
   "cell_type": "markdown",
   "id": "d0e950c4-a1e2-4056-aa5c-d24f07dd3ae1",
   "metadata": {
    "jp-MarkdownHeadingCollapsed": true
   },
   "source": [
    "## oct() -- Converts a number into an octal"
   ]
  },
  {
   "cell_type": "raw",
   "id": "7e8b764a-3aae-40c9-a322-5b1e5b3e3fca",
   "metadata": {},
   "source": [
    "-- The oct() function converts an integer into an octal string.\n",
    "\n",
    "-- Octal strings in Python are prefixed with 0o."
   ]
  },
  {
   "cell_type": "code",
   "execution_count": 180,
   "id": "d02242f9-1fef-4065-b77d-6feb6702601e",
   "metadata": {},
   "outputs": [
    {
     "name": "stdout",
     "output_type": "stream",
     "text": [
      "0o14\n"
     ]
    }
   ],
   "source": [
    "# Convert the number 12 into an octal value:\n",
    "\n",
    "x = oct(12)\n",
    "\n",
    "print(x)"
   ]
  },
  {
   "cell_type": "markdown",
   "id": "7ff92ae5-d951-4b9c-9857-d9481afaa908",
   "metadata": {
    "jp-MarkdownHeadingCollapsed": true
   },
   "source": [
    "## open() -- Opens a file and returns a file object"
   ]
  },
  {
   "cell_type": "raw",
   "id": "6cb88ccc-38af-453e-a38f-9a2b215b929e",
   "metadata": {},
   "source": [
    "A string, define which mode you want to open the file in:\n",
    "\n",
    "\"r\" - Read - Default value. Opens a file for reading, error if the file does not exist\n",
    "\n",
    "\"a\" - Append - Opens a file for appending, creates the file if it does not exist\n",
    "\n",
    "\"w\" - Write - Opens a file for writing, creates the file if it does not exist\n",
    "\n",
    "\"x\" - Create - Creates the specified file, returns an error if the file exist\n",
    "\n",
    "In addition you can specify if the file should be handled as binary or text mode\n",
    "\n",
    "\"t\" - Text - Default value. Text mode\n",
    "\n",
    "\"b\" - Binary - Binary mode (e.g. images)"
   ]
  },
  {
   "cell_type": "code",
   "execution_count": 1,
   "id": "d79f1972-afcc-42e4-8631-c6358d460fc6",
   "metadata": {},
   "outputs": [
    {
     "name": "stdout",
     "output_type": "stream",
     "text": [
      "1\n",
      "2\n",
      "3\n",
      "4\n",
      "5\n"
     ]
    }
   ],
   "source": [
    "f = open(\"./dataset/demofile.txt\", \"r\")\n",
    "print(f.read())"
   ]
  },
  {
   "cell_type": "markdown",
   "id": "bd8b7ee3-444e-4737-8772-830c91aaaae3",
   "metadata": {
    "jp-MarkdownHeadingCollapsed": true
   },
   "source": [
    "## ord() -- Convert an integer representing the Unicode of the specified character"
   ]
  },
  {
   "cell_type": "code",
   "execution_count": 1,
   "id": "78cde1ed-9b11-431f-a42e-4a2ea40c9c32",
   "metadata": {},
   "outputs": [
    {
     "name": "stdout",
     "output_type": "stream",
     "text": [
      "104\n"
     ]
    }
   ],
   "source": [
    "# Return the integer that represents the character \"h\":\n",
    "\n",
    "x = ord(\"h\")\n",
    "\n",
    "print(x)"
   ]
  },
  {
   "cell_type": "markdown",
   "id": "bfaf1d29-8e14-4c51-a7b2-0f9832f3879e",
   "metadata": {
    "jp-MarkdownHeadingCollapsed": true
   },
   "source": [
    "## pow() -- Returns the value of x to the power of y"
   ]
  },
  {
   "cell_type": "raw",
   "id": "cccdf3e4-7361-4f31-8fdb-5e6a298b4dff",
   "metadata": {},
   "source": [
    "The pow() function returns the value of x to the power of y (xy).\n",
    "\n",
    "If a third parameter is present, it returns x to the power of y, modulus z."
   ]
  },
  {
   "cell_type": "code",
   "execution_count": 2,
   "id": "17a59136-557a-4c52-ad3a-19c5ada4ad3c",
   "metadata": {},
   "outputs": [
    {
     "name": "stdout",
     "output_type": "stream",
     "text": [
      "64\n"
     ]
    }
   ],
   "source": [
    "# Return the value of 4 to the power of 3 (same as 4 * 4 * 4):\n",
    "\n",
    "x = pow(4, 3)\n",
    "\n",
    "print(x)"
   ]
  },
  {
   "cell_type": "code",
   "execution_count": 13,
   "id": "5bec5629-1290-421c-b0ca-75312f1e9de0",
   "metadata": {},
   "outputs": [
    {
     "name": "stdout",
     "output_type": "stream",
     "text": [
      "4\n"
     ]
    }
   ],
   "source": [
    "# Return the value of 4 to the power of 3, modulus 5 (same as (4 * 4 * 4) % 5):\n",
    "\n",
    "x = pow(4, 3, 5)\n",
    "\n",
    "print(x)"
   ]
  },
  {
   "cell_type": "markdown",
   "id": "e43314e8-dcca-48f1-b570-3d6f56106263",
   "metadata": {
    "jp-MarkdownHeadingCollapsed": true
   },
   "source": [
    "## print() -- Prints to the standard output device"
   ]
  },
  {
   "cell_type": "raw",
   "id": "9f2c59b8-2e43-4c47-9f06-137ce1070af8",
   "metadata": {},
   "source": [
    "-- Syntax --> print(object(s), sep=separator, end=end, file=file, flush=flush)\n",
    "\n",
    "-- The print() function prints the specified message to the screen, or other standard output device.\n",
    "\n",
    "-- The message can be a string, or any other object, the object will be converted into a string before written to the screen.\n",
    "\n",
    "-- object(s) -------- Any object, and as many as you like. Will be converted to string before printed\n",
    "-- sep='separator' -- Optional. Specify how to separate the objects, if there is more than one. Default is ' '\n",
    "-- end='end' -------- Optional. Specify what to print at the end. Default is '\\n' (line feed)\n",
    "-- file\tOptional. --- An object with a write method. Default is sys.stdout\n",
    "-- flush ------------ Optional. A Boolean, specifying if the output is flushed (True) or buffered (False). Default is False"
   ]
  },
  {
   "cell_type": "code",
   "execution_count": 17,
   "id": "932b4f3d-03ed-4a7d-a3a2-8d98aa40bbb5",
   "metadata": {},
   "outputs": [
    {
     "name": "stdout",
     "output_type": "stream",
     "text": [
      "Hello World\n"
     ]
    }
   ],
   "source": [
    "# Print a message onto the screen:\n",
    "\n",
    "print(\"Hello World\")"
   ]
  },
  {
   "cell_type": "code",
   "execution_count": 25,
   "id": "0a7961d2-352d-4e10-9627-33f5f8900037",
   "metadata": {},
   "outputs": [
    {
     "name": "stdout",
     "output_type": "stream",
     "text": [
      "Hello how are you?\n"
     ]
    }
   ],
   "source": [
    "# Print more than one object:\n",
    "\n",
    "print(\"Hello\", \"how are you?\")"
   ]
  },
  {
   "cell_type": "code",
   "execution_count": 26,
   "id": "9a45f80b-9778-4d19-9a36-86ff4044f429",
   "metadata": {},
   "outputs": [
    {
     "name": "stdout",
     "output_type": "stream",
     "text": [
      "('apple', 'banana', 'cherry')\n"
     ]
    }
   ],
   "source": [
    "# Print a tuple:\n",
    "\n",
    "x = (\"apple\", \"banana\", \"cherry\")\n",
    "print(x)"
   ]
  },
  {
   "cell_type": "code",
   "execution_count": 32,
   "id": "65e5e313-7647-40ab-ba99-69aa2ef6fea1",
   "metadata": {},
   "outputs": [
    {
     "name": "stdout",
     "output_type": "stream",
     "text": [
      "Hello---how are you?\n"
     ]
    }
   ],
   "source": [
    "# Print two messages, and specify the separator:\n",
    "\n",
    "print(\"Hello\", \"how are you?\", sep=\"---\")"
   ]
  },
  {
   "cell_type": "markdown",
   "id": "1ad2a064-9362-429b-a52a-4ee40b4a7c58",
   "metadata": {
    "jp-MarkdownHeadingCollapsed": true
   },
   "source": [
    "## property() -- Gets, sets, deletes a property"
   ]
  },
  {
   "cell_type": "raw",
   "id": "8ccbf8d5-658a-400b-92c8-7c11c6764e46",
   "metadata": {},
   "source": [
    "Syntax --> property(fget=None, fset=None, fdel=None, doc=None)\n",
    "\n",
    "-- fget (optional) - Function for getting the attribute value. Defaults to None.\n",
    "-- fset (optional) - Function for setting the attribute value. Defaults to None.\n",
    "-- fdel (optional) - Function for deleting the attribute value. Defaults to None.\n",
    "-- doc (optional) - A string that contains the documentation (docstring) for the attribute. Defaults to None."
   ]
  },
  {
   "cell_type": "code",
   "execution_count": 39,
   "id": "56dc8eb1-b0f4-426e-9637-29de196ee161",
   "metadata": {},
   "outputs": [
    {
     "name": "stdout",
     "output_type": "stream",
     "text": [
      "Getting name\n",
      "Adam\n",
      "Setting name to John\n",
      "Deleting name\n"
     ]
    }
   ],
   "source": [
    "# Create attribute with getter, setter, and deleter\n",
    "\n",
    "class Person:\n",
    "    def __init__(self, name):\n",
    "        self._name = name\n",
    "\n",
    "    def get_name(self):\n",
    "        print('Getting name')\n",
    "        return self._name\n",
    "\n",
    "    def set_name(self, value):\n",
    "        print('Setting name to ' + value)\n",
    "        self._name = value\n",
    "\n",
    "    def del_name(self):\n",
    "        print('Deleting name')\n",
    "        del self._name\n",
    "\n",
    "    # Set property to use get_name, set_name\n",
    "    # and del_name methods\n",
    "    name = property(get_name, set_name, del_name, 'Name property')\n",
    "\n",
    "p = Person('Adam') # get_name function, Name set to \"Adam\"\n",
    "print(p.name) # Name e.g. \"Adam\" is printed\n",
    "p.name = 'John' # Changing Name to \"John\"\n",
    "del p.name # Deleting Name"
   ]
  },
  {
   "cell_type": "code",
   "execution_count": 48,
   "id": "4eef3930-e993-4869-bc08-17a156184a65",
   "metadata": {},
   "outputs": [
    {
     "name": "stdout",
     "output_type": "stream",
     "text": [
      "Getting name\n",
      "The name is: Adam\n",
      "Setting name to John\n",
      "Deleting name\n"
     ]
    }
   ],
   "source": [
    "# Skipping the, name = property step!\n",
    "# Using @property decorator\n",
    "class Person:\n",
    "    def __init__(self, name):\n",
    "        self._name = name\n",
    "\n",
    "    @property\n",
    "    def name(self):\n",
    "        print('Getting name')\n",
    "        return self._name\n",
    "\n",
    "    @name.setter\n",
    "    def name(self, value):\n",
    "        print('Setting name to ' + value)\n",
    "        self._name = value\n",
    "\n",
    "    @name.deleter\n",
    "    def name(self):\n",
    "        print('Deleting name')\n",
    "        del self._name\n",
    "\n",
    "p = Person('Adam') # get_name function, Name set to \"Adam\"\n",
    "print('The name is:', p.name) # Name e.g. \"Adam\" is printed\n",
    "p.name = 'John' # Changing Name to \"John\"\n",
    "del p.name # Deleting Name"
   ]
  },
  {
   "cell_type": "markdown",
   "id": "fcd252aa-99e0-477d-ab1b-5efa592018bf",
   "metadata": {
    "jp-MarkdownHeadingCollapsed": true
   },
   "source": [
    "## range() -- Returns a sequence of numbers, starting from 0 and increments by 1 (by default)"
   ]
  },
  {
   "cell_type": "raw",
   "id": "481d2213-ab0b-4cb0-8ac4-b5059f8739db",
   "metadata": {},
   "source": [
    "Syntax --> range(start, stop, step)"
   ]
  },
  {
   "cell_type": "code",
   "execution_count": 49,
   "id": "7a0f299d-125a-4f8a-b43c-2897a1d781c6",
   "metadata": {},
   "outputs": [
    {
     "name": "stdout",
     "output_type": "stream",
     "text": [
      "0\n",
      "1\n",
      "2\n",
      "3\n",
      "4\n",
      "5\n"
     ]
    }
   ],
   "source": [
    "# Create a sequence of numbers from 0 to 5, and print each item in the sequence:\n",
    "\n",
    "x = range(6)\n",
    "for n in x:\n",
    "  print(n)"
   ]
  },
  {
   "cell_type": "code",
   "execution_count": 50,
   "id": "0f5c249d-6a3b-4244-962d-a6f4771a6df1",
   "metadata": {},
   "outputs": [
    {
     "name": "stdout",
     "output_type": "stream",
     "text": [
      "3\n",
      "4\n",
      "5\n"
     ]
    }
   ],
   "source": [
    "# Create a sequence of numbers from 3 to 5, and print each item in the sequence:\n",
    "\n",
    "x = range(3, 6)\n",
    "for n in x:\n",
    "  print(n)"
   ]
  },
  {
   "cell_type": "code",
   "execution_count": 51,
   "id": "79c38af2-7504-4ce4-a429-95a9b2e13f66",
   "metadata": {},
   "outputs": [
    {
     "name": "stdout",
     "output_type": "stream",
     "text": [
      "3\n",
      "5\n",
      "7\n",
      "9\n",
      "11\n",
      "13\n",
      "15\n",
      "17\n",
      "19\n"
     ]
    }
   ],
   "source": [
    "# Create a sequence of numbers from 3 to 19, but increment by 2 instead of 1:\n",
    "\n",
    "x = range(3, 20, 2)\n",
    "for n in x:\n",
    "  print(n)"
   ]
  },
  {
   "cell_type": "markdown",
   "id": "1205c765-979a-4c72-8406-de86e6c190c5",
   "metadata": {
    "jp-MarkdownHeadingCollapsed": true
   },
   "source": [
    "## repr() -- Returns a readable version of an object"
   ]
  },
  {
   "cell_type": "code",
   "execution_count": 54,
   "id": "f6f482ba-abfc-46cc-addd-dfe88091aa15",
   "metadata": {},
   "outputs": [
    {
     "name": "stdout",
     "output_type": "stream",
     "text": [
      "[1, 2, 3, 4, 5]\n"
     ]
    }
   ],
   "source": [
    "numbers = [1, 2, 3, 4, 5]\n",
    "\n",
    "# create a printable representation of the list\n",
    "printable_numbers = repr(numbers)\n",
    "print(printable_numbers)"
   ]
  },
  {
   "cell_type": "code",
   "execution_count": 59,
   "id": "196be2c7-4f28-43ad-b5a5-87405a9817ba",
   "metadata": {},
   "outputs": [
    {
     "name": "stdout",
     "output_type": "stream",
     "text": [
      "'Hello Adam'\n"
     ]
    }
   ],
   "source": [
    "# Implement __repr__() for custom objects\n",
    "\n",
    "class Person:\n",
    "    name = 'Adam'\n",
    "\n",
    "    def __repr__(self):\n",
    "        return repr('Hello ' + self.name )\n",
    "\n",
    "print(repr(Person()))"
   ]
  },
  {
   "cell_type": "code",
   "execution_count": 55,
   "id": "43fb1482-cec4-42a0-b048-7e97289a0bc6",
   "metadata": {},
   "outputs": [
    {
     "name": "stdout",
     "output_type": "stream",
     "text": [
      "'Hello, world!'\n"
     ]
    }
   ],
   "source": [
    "# A simple example with a string\n",
    "s = \"Hello, world!\"\n",
    "print(repr(s))  # Output: 'Hello, world!'"
   ]
  },
  {
   "cell_type": "code",
   "execution_count": 58,
   "id": "3f73100a-759a-4497-aeaf-20a8c0305670",
   "metadata": {},
   "outputs": [
    {
     "name": "stdout",
     "output_type": "stream",
     "text": [
      "MyClass(value=42)\n"
     ]
    }
   ],
   "source": [
    "# A more complex example with a custom class\n",
    "class MyClass:\n",
    "    def __init__(self, value):\n",
    "        self.value = value\n",
    "    \n",
    "    def __repr__(self):\n",
    "        return f\"MyClass(value={self.value!r})\"\n",
    "\n",
    "obj = MyClass(42)\n",
    "print(repr(obj))  # Output: MyClass(value=42)"
   ]
  },
  {
   "cell_type": "markdown",
   "id": "9211372a-6391-4d09-8ebe-fb77f7278808",
   "metadata": {
    "jp-MarkdownHeadingCollapsed": true
   },
   "source": [
    "## reversed() -- Returns a reversed iterator"
   ]
  },
  {
   "cell_type": "code",
   "execution_count": 60,
   "id": "076de66d-036c-4db0-bb27-6069d69e5591",
   "metadata": {},
   "outputs": [
    {
     "name": "stdout",
     "output_type": "stream",
     "text": [
      "d\n",
      "c\n",
      "b\n",
      "a\n"
     ]
    }
   ],
   "source": [
    "# Reverse the sequence of a list, and print each item:\n",
    "\n",
    "alph = [\"a\", \"b\", \"c\", \"d\"]\n",
    "ralph = reversed(alph)\n",
    "for x in ralph:\n",
    "  print(x)"
   ]
  },
  {
   "cell_type": "markdown",
   "id": "61d296e6-b8d5-428e-8060-281a1e38fe98",
   "metadata": {
    "jp-MarkdownHeadingCollapsed": true
   },
   "source": [
    "## round() -- Rounds a numbers"
   ]
  },
  {
   "cell_type": "raw",
   "id": "bb8664a2-aaf0-4a4b-920f-7739c540a4d9",
   "metadata": {},
   "source": [
    "Syntax --> round(number, digits)"
   ]
  },
  {
   "cell_type": "code",
   "execution_count": 61,
   "id": "07ca4a61-0150-46d3-bc9c-3e8c214ac6dc",
   "metadata": {},
   "outputs": [
    {
     "name": "stdout",
     "output_type": "stream",
     "text": [
      "5.77\n"
     ]
    }
   ],
   "source": [
    "# Round a number to only two decimals:\n",
    "\n",
    "x = round(5.76543, 2)\n",
    "print(x)"
   ]
  },
  {
   "cell_type": "code",
   "execution_count": 62,
   "id": "20eb9c2f-a92f-4110-a131-456481dc027f",
   "metadata": {},
   "outputs": [
    {
     "name": "stdout",
     "output_type": "stream",
     "text": [
      "6\n"
     ]
    }
   ],
   "source": [
    "# Round to the nearest integer:\n",
    "\n",
    "x = round(5.76543)\n",
    "print(x)"
   ]
  },
  {
   "cell_type": "markdown",
   "id": "6c13f073-6b91-4b3d-bb12-a95ba472a17b",
   "metadata": {
    "jp-MarkdownHeadingCollapsed": true
   },
   "source": [
    "## set() -- Returns a new set object"
   ]
  },
  {
   "cell_type": "code",
   "execution_count": 63,
   "id": "f5def009-78e7-4ca7-bedc-00724b2115fc",
   "metadata": {},
   "outputs": [
    {
     "name": "stdout",
     "output_type": "stream",
     "text": [
      "{'apple', 'cherry', 'banana'}\n"
     ]
    }
   ],
   "source": [
    "# Create a set containing fruit names:\n",
    "\n",
    "x = set(('apple', 'banana', 'cherry'))\n",
    "\n",
    "\n",
    "print(x)\n",
    "\n",
    "# Note: the set list is unordered, so the result will display the items in a random order."
   ]
  },
  {
   "cell_type": "markdown",
   "id": "c69e01ae-98e2-49f5-8b13-cc340e99df31",
   "metadata": {
    "jp-MarkdownHeadingCollapsed": true
   },
   "source": [
    "## setattr() -- Sets an attribute (property/method) of an object"
   ]
  },
  {
   "cell_type": "code",
   "execution_count": 64,
   "id": "17576c12-aacb-4d5f-9560-9d4ef05e225e",
   "metadata": {},
   "outputs": [
    {
     "name": "stdout",
     "output_type": "stream",
     "text": [
      "40\n"
     ]
    }
   ],
   "source": [
    "# Change the value of the \"age\" property of the \"person\" object:\n",
    "\n",
    "class Person:\n",
    "  name = \"John\"\n",
    "  age = 36\n",
    "  country = \"Norway\"\n",
    "\n",
    "setattr(Person, 'age', 40)\n",
    "\n",
    "# The age property will now have the value: 40\n",
    "\n",
    "x = getattr(Person, 'age')\n",
    "\n",
    "print(x)"
   ]
  },
  {
   "cell_type": "markdown",
   "id": "d11a4e2b-22f7-4a43-8dc1-50006995f483",
   "metadata": {
    "jp-MarkdownHeadingCollapsed": true
   },
   "source": [
    "## slice() -- Returns a slice object"
   ]
  },
  {
   "cell_type": "code",
   "execution_count": 65,
   "id": "6934862e-b2c7-463f-b813-78171469132e",
   "metadata": {},
   "outputs": [
    {
     "name": "stdout",
     "output_type": "stream",
     "text": [
      "('a', 'b')\n"
     ]
    }
   ],
   "source": [
    "# Create a tuple and a slice object. Use the slice object to get only the two first items of the tuple:\n",
    "\n",
    "a = (\"a\", \"b\", \"c\", \"d\", \"e\", \"f\", \"g\", \"h\")\n",
    "x = slice(2)\n",
    "print(a[x])"
   ]
  },
  {
   "cell_type": "code",
   "execution_count": 66,
   "id": "5337f152-c1c6-4920-aa2a-27ed5a815e64",
   "metadata": {},
   "outputs": [
    {
     "name": "stdout",
     "output_type": "stream",
     "text": [
      "('d', 'e')\n"
     ]
    }
   ],
   "source": [
    "# Create a tuple and a slice object. Start the slice object at position 3, and slice to position 5, and return the result:\n",
    "\n",
    "a = (\"a\", \"b\", \"c\", \"d\", \"e\", \"f\", \"g\", \"h\")\n",
    "x = slice(3, 5)\n",
    "print(a[x])"
   ]
  },
  {
   "cell_type": "code",
   "execution_count": 67,
   "id": "9ffb6d93-9901-435d-a153-032e4c53cc4b",
   "metadata": {},
   "outputs": [
    {
     "name": "stdout",
     "output_type": "stream",
     "text": [
      "('a', 'd', 'g')\n"
     ]
    }
   ],
   "source": [
    "# Create a tuple and a slice object. Use the step parameter to return every third item:\n",
    "\n",
    "a = (\"a\", \"b\", \"c\", \"d\", \"e\", \"f\", \"g\", \"h\")\n",
    "x = slice(0, 8, 3)\n",
    "print(a[x])"
   ]
  },
  {
   "cell_type": "markdown",
   "id": "46d73eba-32ce-4d5f-8db9-14624c65157c",
   "metadata": {
    "jp-MarkdownHeadingCollapsed": true
   },
   "source": [
    "## sorted() -- Returns a sorted list"
   ]
  },
  {
   "cell_type": "code",
   "execution_count": 68,
   "id": "c5e28ccf-76f2-4018-84f1-e272f52ef229",
   "metadata": {},
   "outputs": [
    {
     "name": "stdout",
     "output_type": "stream",
     "text": [
      "['a', 'b', 'c', 'd', 'e', 'f', 'g', 'h']\n"
     ]
    }
   ],
   "source": [
    "# Sort a tuple:\n",
    "\n",
    "a = (\"b\", \"g\", \"a\", \"d\", \"f\", \"c\", \"h\", \"e\")\n",
    "x = sorted(a)\n",
    "print(x)"
   ]
  },
  {
   "cell_type": "code",
   "execution_count": 70,
   "id": "12a03f33-9c0a-469c-a753-b75e28c4e27e",
   "metadata": {},
   "outputs": [
    {
     "name": "stdout",
     "output_type": "stream",
     "text": [
      "[1, 2, 11]\n"
     ]
    }
   ],
   "source": [
    "# Sort numeric:\n",
    "\n",
    "a = (1, 11, 2)\n",
    "x = sorted(a)\n",
    "print(x)"
   ]
  },
  {
   "cell_type": "code",
   "execution_count": 71,
   "id": "e2d57555-0ef7-4449-b4ff-78edbad1173f",
   "metadata": {},
   "outputs": [
    {
     "name": "stdout",
     "output_type": "stream",
     "text": [
      "['a', 'b', 'c', 'd', 'e', 'f', 'g', 'h']\n"
     ]
    }
   ],
   "source": [
    "# Sort ascending:\n",
    "\n",
    "a = (\"h\", \"b\", \"a\", \"c\", \"f\", \"d\", \"e\", \"g\")\n",
    "x = sorted(a)\n",
    "print(x)"
   ]
  },
  {
   "cell_type": "code",
   "execution_count": 72,
   "id": "8a98e10f-2944-4805-a0d5-d807776b55e7",
   "metadata": {},
   "outputs": [
    {
     "name": "stdout",
     "output_type": "stream",
     "text": [
      "['h', 'g', 'f', 'e', 'd', 'c', 'b', 'a']\n"
     ]
    }
   ],
   "source": [
    "# Sort descending:\n",
    "\n",
    "a = (\"h\", \"b\", \"a\", \"c\", \"f\", \"d\", \"e\", \"g\")\n",
    "x = sorted(a, reverse=True)\n",
    "print(x)"
   ]
  },
  {
   "cell_type": "code",
   "execution_count": 74,
   "id": "d412ee5c-0fed-4780-b708-4089707a3aef",
   "metadata": {},
   "outputs": [
    {
     "name": "stdout",
     "output_type": "stream",
     "text": [
      "['Jane', 'Sally', 'Jenifer']\n"
     ]
    }
   ],
   "source": [
    "# Sort using the key parameter.\n",
    "\n",
    "# To sort a list by length, we can use the built-in len function.\n",
    "\n",
    "a = (\"Jenifer\", \"Sally\", \"Jane\")\n",
    "x = sorted(a, key=len)\n",
    "print(x)\n"
   ]
  },
  {
   "cell_type": "code",
   "execution_count": 78,
   "id": "230759cc-6ff4-46c7-9214-1c5210db645c",
   "metadata": {},
   "outputs": [
    {
     "name": "stdout",
     "output_type": "stream",
     "text": [
      "[11, 12, 5, 3, 17, 2, 1]\n"
     ]
    }
   ],
   "source": [
    "# Sort by a self made function for the key parameter.\n",
    "\n",
    "# Sort the list by the number closest to 10:\n",
    "\n",
    "def myfunc(n):\n",
    "  return abs(10-n)\n",
    "\n",
    "a = (5, 3, 1, 11, 2, 12, 17)\n",
    "x = sorted(a, key=myfunc)\n",
    "print(x)"
   ]
  },
  {
   "cell_type": "markdown",
   "id": "a7550ecd-1ad8-4618-9c6a-fce1646f161d",
   "metadata": {
    "jp-MarkdownHeadingCollapsed": true
   },
   "source": [
    "## staticmethod() -- Converts a method into a static method"
   ]
  },
  {
   "cell_type": "code",
   "execution_count": 83,
   "id": "628b22d6-9e57-449f-8eda-bfb51c1e9157",
   "metadata": {},
   "outputs": [
    {
     "name": "stdout",
     "output_type": "stream",
     "text": [
      "Sum: 12\n"
     ]
    }
   ],
   "source": [
    "class Calculator:\n",
    "\n",
    "  def add_numbers(num1, num2):\n",
    "    return num1 + num2\n",
    "\n",
    "# convert add_numbers() to static method\n",
    "Calculator.add_numbers = staticmethod(Calculator.add_numbers)\n",
    "\n",
    "sum = Calculator.add_numbers(5, 7)\n",
    "print('Sum:', sum)"
   ]
  },
  {
   "cell_type": "code",
   "execution_count": 82,
   "id": "3e4a87fe-c53b-4c95-8822-bd5cd9876ee2",
   "metadata": {},
   "outputs": [
    {
     "name": "stdout",
     "output_type": "stream",
     "text": [
      "The sum is: 15\n"
     ]
    }
   ],
   "source": [
    "class Mathematics:\n",
    "\n",
    "    def addNumbers(x, y):\n",
    "        return x + y\n",
    "\n",
    "# create addNumbers static method\n",
    "mathematics_sum = staticmethod(Mathematics.addNumbers)\n",
    "\n",
    "print('The sum is:', mathematics_sum(5, 10))"
   ]
  },
  {
   "cell_type": "code",
   "execution_count": 84,
   "id": "5fb14a96-9b38-4ffa-ac0d-c03b8c25751a",
   "metadata": {},
   "outputs": [
    {
     "name": "stdout",
     "output_type": "stream",
     "text": [
      "Equal\n"
     ]
    }
   ],
   "source": [
    "# Create a utility function as a static method\n",
    "\n",
    "class Dates:\n",
    "    def __init__(self, date):\n",
    "        self.date = date\n",
    "        \n",
    "    def getDate(self):\n",
    "        return self.date\n",
    "\n",
    "    @staticmethod\n",
    "    def toDashDate(date):\n",
    "        return date.replace(\"/\", \"-\")\n",
    "\n",
    "date = Dates(\"15-12-2016\")\n",
    "dateFromDB = \"15/12/2016\"\n",
    "dateWithDash = Dates.toDashDate(dateFromDB)\n",
    "\n",
    "if(date.getDate() == dateWithDash):\n",
    "    print(\"Equal\")\n",
    "else:\n",
    "    print(\"Unequal\")"
   ]
  },
  {
   "cell_type": "markdown",
   "id": "ff1d3093-8eef-4287-a29a-317957f9255d",
   "metadata": {
    "jp-MarkdownHeadingCollapsed": true
   },
   "source": [
    "## str() -- Returns a string object"
   ]
  },
  {
   "cell_type": "code",
   "execution_count": 1,
   "id": "bc447a66-178f-46b8-99af-2faf9ca83388",
   "metadata": {},
   "outputs": [
    {
     "name": "stdout",
     "output_type": "stream",
     "text": [
      "3.5\n"
     ]
    }
   ],
   "source": [
    "# Convert the number 3.5 into an string:\n",
    "\n",
    "x = str(3.5)\n",
    "\n",
    "print(x)"
   ]
  },
  {
   "cell_type": "code",
   "execution_count": 88,
   "id": "47775520-57d9-4acf-9bc4-f2db13bbea0d",
   "metadata": {},
   "outputs": [
    {
     "name": "stdout",
     "output_type": "stream",
     "text": [
      "12\n"
     ]
    }
   ],
   "source": [
    "# Convert a string into an integer:\n",
    "\n",
    "x = int(\"12\")\n",
    "\n",
    "print(x)"
   ]
  },
  {
   "cell_type": "markdown",
   "id": "378d0b3a-4574-4f80-8d75-e31458f11caa",
   "metadata": {
    "jp-MarkdownHeadingCollapsed": true
   },
   "source": [
    "## sum() -- Sums the items of an iterator"
   ]
  },
  {
   "cell_type": "code",
   "execution_count": 2,
   "id": "75c4a3d7-e028-4ba6-9602-e546b1b98eda",
   "metadata": {},
   "outputs": [
    {
     "name": "stdout",
     "output_type": "stream",
     "text": [
      "15\n"
     ]
    }
   ],
   "source": [
    "# Add all items in a tuple, and return the result:\n",
    "\n",
    "a = (1, 2, 3, 4, 5)\n",
    "x = sum(a)\n",
    "\n",
    "print(x)"
   ]
  },
  {
   "cell_type": "code",
   "execution_count": 3,
   "id": "6e86a1d5-6a9e-4e09-a2af-ad284de35d73",
   "metadata": {},
   "outputs": [
    {
     "name": "stdout",
     "output_type": "stream",
     "text": [
      "22\n"
     ]
    }
   ],
   "source": [
    "# Start with the number 7, and add all the items in a tuple to this number:\n",
    "\n",
    "a = (1, 2, 3, 4, 5)\n",
    "x = sum(a, 7)\n",
    "\n",
    "print(x)"
   ]
  },
  {
   "cell_type": "markdown",
   "id": "aac063de-63e8-40e3-877d-6e0d2c614a83",
   "metadata": {
    "jp-MarkdownHeadingCollapsed": true
   },
   "source": [
    "## super() -- Returns an object that represents the parent class"
   ]
  },
  {
   "cell_type": "code",
   "execution_count": 6,
   "id": "9adfc3d5-fbd7-4f8e-9cfb-69780e630cea",
   "metadata": {},
   "outputs": [
    {
     "name": "stdout",
     "output_type": "stream",
     "text": [
      "Hello, and welcome!\n"
     ]
    }
   ],
   "source": [
    "# Create a class that will inherit all the methods and properties from another class:\n",
    "\n",
    "class Parent:\n",
    "  def __init__(self, txt):\n",
    "    self.message = txt\n",
    "\n",
    "  def printmessage(self):\n",
    "    print(self.message)\n",
    "\n",
    "class Child(Parent):\n",
    "  def __init__(self, txt):\n",
    "    super().__init__(txt)\n",
    "\n",
    "x = Child(\"Hello, and welcome!\")\n",
    "\n",
    "x.printmessage()"
   ]
  },
  {
   "cell_type": "markdown",
   "id": "d675b74c-2bc1-46e7-a76e-913ee28fda7c",
   "metadata": {
    "jp-MarkdownHeadingCollapsed": true
   },
   "source": [
    "## tuple() -- Returns a tuple"
   ]
  },
  {
   "cell_type": "code",
   "execution_count": 7,
   "id": "e0a62b69-01a9-44fc-b0b5-3c301a8634a7",
   "metadata": {},
   "outputs": [
    {
     "name": "stdout",
     "output_type": "stream",
     "text": [
      "('apple', 'banana', 'cherry')\n"
     ]
    }
   ],
   "source": [
    "# Create a tuple containing fruit names:\n",
    "\n",
    "x = tuple(('apple', 'banana', 'cherry'))\n",
    "\n",
    "print(x)"
   ]
  },
  {
   "cell_type": "markdown",
   "id": "014af7f3-a385-48a2-baee-4b4ca879019e",
   "metadata": {
    "jp-MarkdownHeadingCollapsed": true
   },
   "source": [
    "## type() -- Returns the type of an object"
   ]
  },
  {
   "cell_type": "code",
   "execution_count": 9,
   "id": "bf551b80-1956-46e6-a683-8f3ad98c7662",
   "metadata": {},
   "outputs": [
    {
     "name": "stdout",
     "output_type": "stream",
     "text": [
      "<class 'tuple'>\n",
      "<class 'str'>\n",
      "<class 'int'>\n"
     ]
    }
   ],
   "source": [
    "# Return the type of these objects:\n",
    "\n",
    "a = ('apple', 'banana', 'cherry')\n",
    "b = \"Hello World\"\n",
    "c = 33\n",
    "\n",
    "x = type(a)\n",
    "y = type(b)\n",
    "z = type(c)\n",
    "\n",
    "print(x)\n",
    "print(y)\n",
    "print(z)"
   ]
  },
  {
   "cell_type": "markdown",
   "id": "81fa72e6-ea83-443e-b230-83ee7b40ee93",
   "metadata": {
    "jp-MarkdownHeadingCollapsed": true
   },
   "source": [
    "## vars() -- Returns the __dict__ property of an object"
   ]
  },
  {
   "cell_type": "raw",
   "id": "d42f7a5b-ee83-4753-9bbd-19e020d359f4",
   "metadata": {},
   "source": [
    "-- The vars() function returns the __dict__ attribute of an object.\n",
    "\n",
    "-- The __dict__ attribute is a dictionary containing the object's changeable attributes."
   ]
  },
  {
   "cell_type": "code",
   "execution_count": 11,
   "id": "a5981110-c777-442a-b3f2-e6bc655c614b",
   "metadata": {},
   "outputs": [
    {
     "name": "stdout",
     "output_type": "stream",
     "text": [
      "{'__module__': '__main__', 'name': 'John', 'age': 36, 'country': 'norway', '__dict__': <attribute '__dict__' of 'Person' objects>, '__weakref__': <attribute '__weakref__' of 'Person' objects>, '__doc__': None}\n"
     ]
    }
   ],
   "source": [
    "# Return the __dict__ atribute of an object called Person:\n",
    "\n",
    "class Person:\n",
    "  name = \"John\"\n",
    "  age = 36\n",
    "  country = \"norway\"\n",
    "\n",
    "x = vars(Person)\n",
    "\n",
    "print(x)"
   ]
  },
  {
   "cell_type": "markdown",
   "id": "7c1e6a6f-6b56-48b9-9a3c-b8726c57face",
   "metadata": {
    "jp-MarkdownHeadingCollapsed": true
   },
   "source": [
    "## zip() -- Returns an iterator, from two or more iterators"
   ]
  },
  {
   "cell_type": "code",
   "execution_count": 12,
   "id": "b60879c4-74e2-44eb-b4db-26d62b9b4984",
   "metadata": {},
   "outputs": [
    {
     "name": "stdout",
     "output_type": "stream",
     "text": [
      "(('John', 'Jenny'), ('Charles', 'Christy'), ('Mike', 'Monica'))\n"
     ]
    }
   ],
   "source": [
    "# Join two tuples together:\n",
    "\n",
    "a = (\"John\", \"Charles\", \"Mike\")\n",
    "b = (\"Jenny\", \"Christy\", \"Monica\")\n",
    "\n",
    "x = zip(a, b)\n",
    "\n",
    "# use the tuple() function to display a readable version of the result:\n",
    "\n",
    "print(tuple(x))"
   ]
  },
  {
   "cell_type": "code",
   "execution_count": 13,
   "id": "be5514fd-537f-4dff-a2c5-7814ea984241",
   "metadata": {},
   "outputs": [
    {
     "name": "stdout",
     "output_type": "stream",
     "text": [
      "(('John', 'Jenny'), ('Charles', 'Christy'), ('Mike', 'Monica'))\n"
     ]
    }
   ],
   "source": [
    "# If one tuple contains more items, these items are ignored:\n",
    "\n",
    "a = (\"John\", \"Charles\", \"Mike\")\n",
    "b = (\"Jenny\", \"Christy\", \"Monica\", \"Vicky\")\n",
    "\n",
    "x = zip(a, b)\n",
    "\n",
    "#use the tuple() function to display a readable version of the result:\n",
    "\n",
    "print(tuple(x))"
   ]
  },
  {
   "cell_type": "code",
   "execution_count": null,
   "id": "2b2c85b7-7b93-4269-9b45-9fa9b4038923",
   "metadata": {},
   "outputs": [],
   "source": []
  }
 ],
 "metadata": {
  "kernelspec": {
   "display_name": "Python 3 (ipykernel)",
   "language": "python",
   "name": "python3"
  },
  "language_info": {
   "codemirror_mode": {
    "name": "ipython",
    "version": 3
   },
   "file_extension": ".py",
   "mimetype": "text/x-python",
   "name": "python",
   "nbconvert_exporter": "python",
   "pygments_lexer": "ipython3",
   "version": "3.11.7"
  }
 },
 "nbformat": 4,
 "nbformat_minor": 5
}
