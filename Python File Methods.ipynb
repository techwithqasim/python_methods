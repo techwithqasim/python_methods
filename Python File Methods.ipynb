{
 "cells": [
  {
   "cell_type": "markdown",
   "id": "93bd2532",
   "metadata": {},
   "source": [
    "# Python File Methods"
   ]
  },
  {
   "cell_type": "markdown",
   "id": "275e16d0",
   "metadata": {},
   "source": [
    "## close() -- Closes the file"
   ]
  },
  {
   "cell_type": "code",
   "execution_count": 3,
   "id": "f98d93b6",
   "metadata": {},
   "outputs": [
    {
     "name": "stdout",
     "output_type": "stream",
     "text": [
      "1\n",
      "2\n",
      "3\n",
      "4\n",
      "5\n"
     ]
    }
   ],
   "source": [
    "# Close a file after it has been opened:\n",
    "\n",
    "f = open(\"./dataset/demofile.txt\", \"r\")\n",
    "print(f.read())\n",
    "f.close()"
   ]
  },
  {
   "cell_type": "markdown",
   "id": "e4bcdd04",
   "metadata": {},
   "source": [
    "## detach() -- Returns the separated raw stream from the buffer"
   ]
  },
  {
   "cell_type": "code",
   "execution_count": 50,
   "id": "8f0be8b0",
   "metadata": {},
   "outputs": [
    {
     "name": "stdout",
     "output_type": "stream",
     "text": [
      "b'1\\n2\\n3\\n4\\n5'\n"
     ]
    }
   ],
   "source": [
    "# The detach() method separates the underlying raw stream from the io.TextIOBase and returns it.\n",
    "\n",
    "f = open(\"./dataset/demofile.txt\", 'r')\n",
    "raw_stream = f.detach()\n",
    "print(raw_stream.read(9))"
   ]
  },
  {
   "cell_type": "code",
   "execution_count": 53,
   "id": "489e23c2",
   "metadata": {},
   "outputs": [
    {
     "ename": "ValueError",
     "evalue": "underlying buffer has been detached",
     "output_type": "error",
     "traceback": [
      "\u001b[1;31m---------------------------------------------------------------------------\u001b[0m",
      "\u001b[1;31mValueError\u001b[0m                                Traceback (most recent call last)",
      "Cell \u001b[1;32mIn[53], line 6\u001b[0m\n\u001b[0;32m      4\u001b[0m f \u001b[38;5;241m=\u001b[39m \u001b[38;5;28mopen\u001b[39m(\u001b[38;5;124m\"\u001b[39m\u001b[38;5;124m./dataset/demofile.txt\u001b[39m\u001b[38;5;124m\"\u001b[39m, \u001b[38;5;124m'\u001b[39m\u001b[38;5;124mr\u001b[39m\u001b[38;5;124m'\u001b[39m)\n\u001b[0;32m      5\u001b[0m raw_stream \u001b[38;5;241m=\u001b[39m f\u001b[38;5;241m.\u001b[39mdetach()\n\u001b[1;32m----> 6\u001b[0m \u001b[38;5;28mprint\u001b[39m(f\u001b[38;5;241m.\u001b[39mread())\n",
      "\u001b[1;31mValueError\u001b[0m: underlying buffer has been detached"
     ]
    }
   ],
   "source": [
    "# After using detach(), the TextIOBase object will be in an unusable state (closed), \n",
    "# and further operations on it will raise ValueError.\n",
    "\n",
    "f = open(\"./dataset/demofile.txt\", 'r')\n",
    "raw_stream = f.detach()\n",
    "print(f.read())  # This will raise ValueError"
   ]
  },
  {
   "cell_type": "markdown",
   "id": "a920764b",
   "metadata": {},
   "source": [
    "## fileno() -- Returns a number that represents the stream, from the operating system's perspective"
   ]
  },
  {
   "cell_type": "code",
   "execution_count": 54,
   "id": "023c2c07",
   "metadata": {},
   "outputs": [
    {
     "name": "stdout",
     "output_type": "stream",
     "text": [
      "3\n"
     ]
    }
   ],
   "source": [
    "# Return the file descriptor of the stream:\n",
    "\n",
    "f = open(\"./dataset/demofile.txt\", \"r\")\n",
    "print(f.fileno())"
   ]
  },
  {
   "cell_type": "markdown",
   "id": "0446cbea",
   "metadata": {},
   "source": [
    "## flush() -- Flushes the internal buffer"
   ]
  },
  {
   "cell_type": "code",
   "execution_count": 70,
   "id": "4cf91930",
   "metadata": {},
   "outputs": [
    {
     "data": {
      "text/plain": [
       "19"
      ]
     },
     "execution_count": 70,
     "metadata": {},
     "output_type": "execute_result"
    }
   ],
   "source": [
    "# You can clear the buffer when writing to a file:\n",
    "\n",
    "f = open(\"./dataset/myfile.txt\", \"a\")\n",
    "f.write(\"Now the file has one more line!\")\n",
    "f.flush()\n",
    "f.write(\"...and another one!\")"
   ]
  },
  {
   "cell_type": "code",
   "execution_count": 71,
   "id": "8e02de2a",
   "metadata": {},
   "outputs": [
    {
     "name": "stdout",
     "output_type": "stream",
     "text": [
      "\n",
      "Before flush():\n",
      " Geeks 4 geeks !\n",
      "\n",
      "After flush():\n",
      " \n"
     ]
    }
   ],
   "source": [
    "# program to demonstrate the use of flush()\n",
    "\n",
    "# creating a file\n",
    "fileObject = open(\"./dataset/nfile.txt\", \"w+\")\n",
    "\n",
    "# writing into the file\n",
    "fileObject.write(\"Geeks 4 geeks !\")\n",
    "\n",
    "# closing the file\n",
    "fileObject.close()\n",
    "\n",
    "\n",
    "# opening the file to read its content\n",
    "fileObject = open(\"./dataset/nfile.txt\", \"r\")\n",
    "\n",
    "# reading the contents before flush()\n",
    "fileContent = fileObject.read()\n",
    "\n",
    "# displaying the contents\n",
    "print(\"\\nBefore flush():\\n\", fileContent)\n",
    "\n",
    "\n",
    "# clearing the input buffer\n",
    "fileObject.flush()\n",
    "\n",
    "# reading the contents after flush()\n",
    "# reads nothing as the internal buffer is cleared\n",
    "fileContent = fileObject.read()\n",
    "\n",
    "# displaying the contents\n",
    "print(\"\\nAfter flush():\\n\", fileContent)\n",
    "\n",
    "# closing the file\n",
    "fileObject.close()"
   ]
  },
  {
   "cell_type": "markdown",
   "id": "99d183b5",
   "metadata": {},
   "source": [
    "## isatty() -- Returns whether the file stream is interactive (example: connected to a terminal device) or not"
   ]
  },
  {
   "cell_type": "code",
   "execution_count": 72,
   "id": "08745419",
   "metadata": {},
   "outputs": [
    {
     "name": "stdout",
     "output_type": "stream",
     "text": [
      "False\n"
     ]
    }
   ],
   "source": [
    "# Check if the file is connected to a terminal device:\n",
    "\n",
    "f = open(\"./dataset/demofile.txt\", \"r\")\n",
    "print(f.isatty())"
   ]
  },
  {
   "cell_type": "markdown",
   "id": "f9d73458",
   "metadata": {},
   "source": [
    "## read() -- Returns the file content"
   ]
  },
  {
   "cell_type": "code",
   "execution_count": 73,
   "id": "ef3f9f47",
   "metadata": {},
   "outputs": [
    {
     "name": "stdout",
     "output_type": "stream",
     "text": [
      "1\n",
      "2\n",
      "3\n",
      "4\n",
      "5\n"
     ]
    }
   ],
   "source": [
    "# Read the content of the file \"demofile.txt\":\n",
    "\n",
    "f = open(\"./dataset/demofile.txt\", \"r\")\n",
    "print(f.read())"
   ]
  },
  {
   "cell_type": "code",
   "execution_count": 79,
   "id": "7654c2ad",
   "metadata": {},
   "outputs": [
    {
     "name": "stdout",
     "output_type": "stream",
     "text": [
      "1\n",
      "2\n",
      "3\n",
      "4\n",
      "5\n"
     ]
    }
   ],
   "source": [
    "# Read the content of the file \"demofile.txt\":\n",
    "\n",
    "f = open(\"./dataset/demofile.txt\", \"r\")\n",
    "print(f.read(33))"
   ]
  },
  {
   "cell_type": "markdown",
   "id": "a1190d73",
   "metadata": {},
   "source": [
    "## readable() -- Returns whether the file stream can be read or not"
   ]
  },
  {
   "cell_type": "code",
   "execution_count": 80,
   "id": "9c6f041a",
   "metadata": {},
   "outputs": [
    {
     "name": "stdout",
     "output_type": "stream",
     "text": [
      "True\n"
     ]
    }
   ],
   "source": [
    "# Check if the file is readable:\n",
    "\n",
    "f = open(\"./dataset/demofile.txt\", \"r\")\n",
    "print(f.readable())"
   ]
  },
  {
   "cell_type": "markdown",
   "id": "1a83ab31",
   "metadata": {},
   "source": [
    "## readline() -- Returns one line from the file"
   ]
  },
  {
   "cell_type": "code",
   "execution_count": 81,
   "id": "bf4f9f1d",
   "metadata": {},
   "outputs": [
    {
     "name": "stdout",
     "output_type": "stream",
     "text": [
      "1\n",
      "\n"
     ]
    }
   ],
   "source": [
    "# Read the first line of the file \"demofile.txt\":\n",
    "\n",
    "f = open(\"./dataset/demofile.txt\", \"r\")\n",
    "print(f.readline())"
   ]
  },
  {
   "cell_type": "code",
   "execution_count": 82,
   "id": "c3f9f91e",
   "metadata": {},
   "outputs": [
    {
     "name": "stdout",
     "output_type": "stream",
     "text": [
      "1\n",
      "\n",
      "2\n",
      "\n"
     ]
    }
   ],
   "source": [
    "# Call readline() twice to return both the first and the second line:\n",
    "\n",
    "f = open(\"./dataset/demofile.txt\", \"r\")\n",
    "print(f.readline())\n",
    "print(f.readline())"
   ]
  },
  {
   "cell_type": "code",
   "execution_count": 83,
   "id": "d2f56ee6",
   "metadata": {},
   "outputs": [
    {
     "name": "stdout",
     "output_type": "stream",
     "text": [
      "1\n",
      "\n"
     ]
    }
   ],
   "source": [
    "# Return only the five first bytes from the first line:\n",
    "\n",
    "f = open(\"./dataset/demofile.txt\", \"r\")\n",
    "print(f.readline(5))"
   ]
  },
  {
   "cell_type": "markdown",
   "id": "00c8fc0a",
   "metadata": {},
   "source": [
    "## readlines() -- Returns a list of lines from the file"
   ]
  },
  {
   "cell_type": "code",
   "execution_count": 84,
   "id": "afc2efda",
   "metadata": {},
   "outputs": [
    {
     "name": "stdout",
     "output_type": "stream",
     "text": [
      "['1\\n', '2\\n', '3\\n', '4\\n', '5']\n"
     ]
    }
   ],
   "source": [
    "# Return all lines in the file, as a list where each line is an item in the list object:\n",
    "\n",
    "f = open(\"./dataset/demofile.txt\", \"r\")\n",
    "print(f.readlines())"
   ]
  },
  {
   "cell_type": "code",
   "execution_count": 85,
   "id": "8fa0e438",
   "metadata": {},
   "outputs": [
    {
     "name": "stdout",
     "output_type": "stream",
     "text": [
      "['1\\n', '2\\n', '3\\n', '4\\n', '5']\n"
     ]
    }
   ],
   "source": [
    "# Do not return the next line if the total number of returned bytes are more than 33:\n",
    "\n",
    "f = open(\"./dataset/demofile.txt\", \"r\")\n",
    "print(f.readlines(33))"
   ]
  },
  {
   "cell_type": "markdown",
   "id": "fc3b1ef3",
   "metadata": {},
   "source": [
    "## seek() -- Change the file position"
   ]
  },
  {
   "cell_type": "code",
   "execution_count": 104,
   "id": "6359c333",
   "metadata": {},
   "outputs": [
    {
     "name": "stdout",
     "output_type": "stream",
     "text": [
      "3\n",
      "\n"
     ]
    }
   ],
   "source": [
    "# Change the current file position to 4, and return the rest of the line:\n",
    "\n",
    "f = open(\"./dataset/demofile.txt\", \"r\")\n",
    "f.seek(4)\n",
    "print(f.readline())"
   ]
  },
  {
   "cell_type": "code",
   "execution_count": 103,
   "id": "047b28f8",
   "metadata": {},
   "outputs": [
    {
     "name": "stdout",
     "output_type": "stream",
     "text": [
      "4\n"
     ]
    }
   ],
   "source": [
    "# Return the new position:\n",
    "\n",
    "f = open(\"./dataset/demofile.txt\", \"r\")\n",
    "print(f.seek(4))"
   ]
  },
  {
   "cell_type": "code",
   "execution_count": 106,
   "id": "1213d7e4",
   "metadata": {},
   "outputs": [
    {
     "name": "stdout",
     "output_type": "stream",
     "text": [
      "20\n",
      "When you have to explain it, its bad.\n"
     ]
    }
   ],
   "source": [
    "# Python program to demonstrate\n",
    "# seek() method\n",
    "\n",
    "\n",
    "# Opening \"GfG.txt\" text file\n",
    "f = open(\"./dataset/data1.txt\", \"r\")\n",
    "\n",
    "# Second parameter is by default 0\n",
    "# sets Reference point to twentieth \n",
    "# index position from the beginning\n",
    "f.seek(20)\n",
    "\n",
    "# prints current position\n",
    "print(f.tell())\n",
    "\n",
    "print(f.readline()) \n",
    "f.close()"
   ]
  },
  {
   "cell_type": "code",
   "execution_count": 111,
   "id": "56197fdc",
   "metadata": {},
   "outputs": [
    {
     "name": "stdout",
     "output_type": "stream",
     "text": [
      "47\n",
      ", its bad.\n"
     ]
    }
   ],
   "source": [
    "# Python code to demonstrate \n",
    "# use of seek() function\n",
    "\n",
    "\n",
    "# Opening \"GfG.txt\" text file \n",
    "# in binary mode\n",
    "f = open(\"./dataset/data2.txt\", \"rb\")\n",
    "\n",
    "# sets Reference point to tenth\n",
    "# position to the left from end\n",
    "f.seek(-10, 2)\n",
    "\n",
    "# prints current position\n",
    "print(f.tell())\n",
    "\n",
    "# Converting binary to string and \n",
    "# printing\n",
    "print(f.readline().decode('utf-8'))\n",
    "\n",
    "f.close()"
   ]
  },
  {
   "cell_type": "markdown",
   "id": "348f3154",
   "metadata": {},
   "source": [
    "## seekable() -- Returns whether the file allows us to change the file position"
   ]
  },
  {
   "cell_type": "code",
   "execution_count": 112,
   "id": "5aaef8f4",
   "metadata": {},
   "outputs": [
    {
     "name": "stdout",
     "output_type": "stream",
     "text": [
      "True\n"
     ]
    }
   ],
   "source": [
    "# Check if the file is seekable:\n",
    "\n",
    "f = open(\"./dataset/demofile.txt\", \"r\")\n",
    "print(f.seekable())"
   ]
  },
  {
   "cell_type": "markdown",
   "id": "816476e1",
   "metadata": {},
   "source": [
    "## tell() -- Returns the current file position"
   ]
  },
  {
   "cell_type": "code",
   "execution_count": 113,
   "id": "b30c6785",
   "metadata": {},
   "outputs": [
    {
     "name": "stdout",
     "output_type": "stream",
     "text": [
      "0\n"
     ]
    }
   ],
   "source": [
    "# Find the current file position:\n",
    "\n",
    "f = open(\"./dataset/demofile.txt\", \"r\")\n",
    "print(f.tell())"
   ]
  },
  {
   "cell_type": "code",
   "execution_count": 119,
   "id": "3e7dc484",
   "metadata": {},
   "outputs": [
    {
     "name": "stdout",
     "output_type": "stream",
     "text": [
      "1\n",
      "\n",
      "2\n"
     ]
    }
   ],
   "source": [
    "# Return the current file position after reading the first line:\n",
    "\n",
    "f = open(\"./dataset/demofile.txt\", \"r\")\n",
    "print(f.readline())\n",
    "print(f.tell())"
   ]
  },
  {
   "cell_type": "markdown",
   "id": "7ed478be",
   "metadata": {},
   "source": [
    "## truncate() -- Resizes the file to a specified size"
   ]
  },
  {
   "cell_type": "code",
   "execution_count": 125,
   "id": "432e212c",
   "metadata": {},
   "outputs": [
    {
     "name": "stdout",
     "output_type": "stream",
     "text": [
      "Code is like humor. W\n"
     ]
    }
   ],
   "source": [
    "# Open the file with \"a\" for appending, then truncate the file to 21 bytes:\n",
    "\n",
    "f = open(\"./dataset/demofile2.txt\", \"a\")\n",
    "f.truncate(21)\n",
    "f.close()\n",
    "\n",
    "#open and read the file after the truncate:\n",
    "f = open(\"./dataset/demofile2.txt\", \"r\")\n",
    "print(f.read())"
   ]
  },
  {
   "cell_type": "markdown",
   "id": "20799ecf",
   "metadata": {},
   "source": [
    "## writable() -- Returns whether the file can be written to or not"
   ]
  },
  {
   "cell_type": "code",
   "execution_count": 126,
   "id": "4eb761c2",
   "metadata": {},
   "outputs": [
    {
     "name": "stdout",
     "output_type": "stream",
     "text": [
      "True\n"
     ]
    }
   ],
   "source": [
    "# Check if the file is writable:\n",
    "\n",
    "f = open(\"./dataset/demofile.txt\", \"a\")\n",
    "print(f.writable())"
   ]
  },
  {
   "cell_type": "markdown",
   "id": "329911a8",
   "metadata": {},
   "source": [
    "## write() -- Writes the specified string to the file"
   ]
  },
  {
   "cell_type": "code",
   "execution_count": 127,
   "id": "877e1e72",
   "metadata": {},
   "outputs": [
    {
     "name": "stdout",
     "output_type": "stream",
     "text": [
      "See you soon!\n"
     ]
    }
   ],
   "source": [
    "# Open the file with \"a\" for appending, then add some text to the file:\n",
    "\n",
    "f = open(\"./dataset/demofile3.txt\", \"a\")\n",
    "f.write(\"See you soon!\")\n",
    "f.close()\n",
    "\n",
    "#open and read the file after the appending:\n",
    "f = open(\"./dataset/demofile3.txt\", \"r\")\n",
    "print(f.read())"
   ]
  },
  {
   "cell_type": "code",
   "execution_count": 128,
   "id": "1e42eff8",
   "metadata": {},
   "outputs": [
    {
     "name": "stdout",
     "output_type": "stream",
     "text": [
      "\n",
      "See you soon!\n"
     ]
    }
   ],
   "source": [
    "# The same example as above, but inserting a line break before the inserted text:\n",
    "\n",
    "f = open(\"./dataset/demofile4.txt\", \"a\")\n",
    "f.write(\"\\nSee you soon!\")\n",
    "f.close()\n",
    "\n",
    "#open and read the file after the appending:\n",
    "f = open(\"./dataset/demofile4.txt\", \"r\")\n",
    "print(f.read())"
   ]
  },
  {
   "cell_type": "markdown",
   "id": "04e1f8eb",
   "metadata": {},
   "source": [
    "## writelines() -- Writes a list of strings to the file"
   ]
  },
  {
   "cell_type": "code",
   "execution_count": 129,
   "id": "adec4993",
   "metadata": {},
   "outputs": [
    {
     "name": "stdout",
     "output_type": "stream",
     "text": [
      "See you soon!Over and out.\n"
     ]
    }
   ],
   "source": [
    "# Open the file with \"a\" for appending, then add a list of texts to append to the file:\n",
    "\n",
    "f = open(\"./dataset/demofile5.txt\", \"a\")\n",
    "f.writelines([\"See you soon!\", \"Over and out.\"])\n",
    "f.close()\n",
    "\n",
    "#open and read the file after the appending:\n",
    "f = open(\"./dataset/demofile5.txt\", \"r\")\n",
    "print(f.read())"
   ]
  },
  {
   "cell_type": "code",
   "execution_count": 130,
   "id": "1e6c9612",
   "metadata": {},
   "outputs": [
    {
     "name": "stdout",
     "output_type": "stream",
     "text": [
      "\n",
      "See you soon!\n",
      "Over and out.\n"
     ]
    }
   ],
   "source": [
    "# The same example as above, but inserting line breaks for each list item:\n",
    "\n",
    "f = open(\"./dataset/demofile6.txt\", \"a\")\n",
    "f.writelines([\"\\nSee you soon!\", \"\\nOver and out.\"])\n",
    "f.close()\n",
    "\n",
    "#open and read the file after the appending:\n",
    "f = open(\"./dataset/demofile6.txt\", \"r\")\n",
    "print(f.read())"
   ]
  },
  {
   "cell_type": "code",
   "execution_count": null,
   "id": "409927dc",
   "metadata": {},
   "outputs": [],
   "source": []
  }
 ],
 "metadata": {
  "kernelspec": {
   "display_name": "Python 3 (ipykernel)",
   "language": "python",
   "name": "python3"
  },
  "language_info": {
   "codemirror_mode": {
    "name": "ipython",
    "version": 3
   },
   "file_extension": ".py",
   "mimetype": "text/x-python",
   "name": "python",
   "nbconvert_exporter": "python",
   "pygments_lexer": "ipython3",
   "version": "3.11.7"
  }
 },
 "nbformat": 4,
 "nbformat_minor": 5
}
