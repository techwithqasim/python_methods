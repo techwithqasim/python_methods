{
 "cells": [
  {
   "cell_type": "markdown",
   "id": "9d74bed2-1a90-49f0-a2b9-a66348e69fe4",
   "metadata": {},
   "source": [
    "# Python String Methods"
   ]
  },
  {
   "cell_type": "code",
   "execution_count": 10,
   "id": "d00fcd1c-f39c-44f4-8c19-a93d791c5781",
   "metadata": {},
   "outputs": [],
   "source": [
    "# first_name = \"Muhammad Qasim\"\n",
    "# last_name = \"Iqbal\""
   ]
  },
  {
   "cell_type": "markdown",
   "id": "0d389c77-c34b-470e-ba78-5fbbeb94767d",
   "metadata": {
    "jp-MarkdownHeadingCollapsed": true
   },
   "source": [
    "## capitalize() -- Converts the first character to upper case"
   ]
  },
  {
   "cell_type": "code",
   "execution_count": 11,
   "id": "891d6e2b-c505-480d-85eb-56806bc30bb2",
   "metadata": {
    "scrolled": true
   },
   "outputs": [
    {
     "name": "stdout",
     "output_type": "stream",
     "text": [
      "First Name Capitalized = \n",
      "Muhammad qasim\n",
      "\n",
      "Last Name Capitalized =  \n",
      "Iqbal\n"
     ]
    }
   ],
   "source": [
    "first_name = \"muhammad qasim\"\n",
    "last_name = \"iqbal\"\n",
    "\n",
    "capitalize_first_name = first_name.capitalize()\n",
    "capitalize_last_name = last_name.capitalize()\n",
    "\n",
    "print(f\"First Name Capitalized = \\n{capitalize_first_name}\\n\")\n",
    "print(f\"Last Name Capitalized =  \\n{capitalize_last_name}\")"
   ]
  },
  {
   "cell_type": "markdown",
   "id": "24a56fd9-19e9-4913-ac25-3e5d8aa01678",
   "metadata": {
    "jp-MarkdownHeadingCollapsed": true
   },
   "source": [
    "## casefold() -- Converts string into lower case"
   ]
  },
  {
   "cell_type": "code",
   "execution_count": 13,
   "id": "23af3b20-d811-460c-b464-0bf52a734d08",
   "metadata": {},
   "outputs": [
    {
     "name": "stdout",
     "output_type": "stream",
     "text": [
      "First Name Casefolded = \n",
      "muhammad qasim\n",
      "\n",
      "Last Name Casefolded =  \n",
      "iqbal\n"
     ]
    }
   ],
   "source": [
    "first_name = \"MUHAMMAD QASIM\"\n",
    "last_name = \"IQBAL\"\n",
    "\n",
    "casefold_first_name = first_name.casefold()\n",
    "casefold_last_name = last_name.casefold()\n",
    "\n",
    "print(f\"First Name Casefolded = \\n{casefold_first_name}\\n\")\n",
    "print(f\"Last Name Casefolded =  \\n{casefold_last_name}\")"
   ]
  },
  {
   "cell_type": "markdown",
   "id": "e0061e14-77e4-419a-b09f-7a05b6b9ffa7",
   "metadata": {
    "jp-MarkdownHeadingCollapsed": true
   },
   "source": [
    "## center() -- Returns a centered string"
   ]
  },
  {
   "cell_type": "markdown",
   "id": "048d1219-8cad-4ef7-a238-22229f3f2069",
   "metadata": {},
   "source": [
    "#### center() -- Return a centered string in total length provided"
   ]
  },
  {
   "cell_type": "code",
   "execution_count": 37,
   "id": "220db013-54c4-4fd8-92ea-fc43847ed3c6",
   "metadata": {},
   "outputs": [
    {
     "name": "stdout",
     "output_type": "stream",
     "text": [
      "First Name Centered = \n",
      "   MUHAMMAD QASIM   \n",
      "\n",
      "Last Name Centered =  \n",
      "     IQBAL     \n"
     ]
    }
   ],
   "source": [
    "first_name = \"MUHAMMAD QASIM\"\n",
    "last_name = \"IQBAL\"\n",
    "\n",
    "center_first_name = first_name.center(20)\n",
    "center_last_name = last_name.center(15)\n",
    "\n",
    "print(f\"First Name Centered = \\n{center_first_name}\\n\")\n",
    "print(f\"Last Name Centered =  \\n{center_last_name}\")"
   ]
  },
  {
   "cell_type": "markdown",
   "id": "03d7cba5-0326-40bf-b6dc-477fd2aea6ef",
   "metadata": {},
   "source": [
    "#### center() -- Return a centered string in total length provided and replaces white space with provided one character"
   ]
  },
  {
   "cell_type": "code",
   "execution_count": 28,
   "id": "5d24e6da-c869-49be-8c55-123ceec63c89",
   "metadata": {},
   "outputs": [
    {
     "name": "stdout",
     "output_type": "stream",
     "text": [
      "First Name Centered with WhiteSpace as + = \n",
      "+++MUHAMMAD QASIM+++\n",
      "\n",
      "Last Name Centered with WhiteSpace as - =  \n",
      "-----IQBAL-----\n"
     ]
    }
   ],
   "source": [
    "first_name = \"MUHAMMAD QASIM\"\n",
    "last_name = \"IQBAL\"\n",
    "\n",
    "center_first_name = first_name.center(20, \"+\")\n",
    "center_last_name = last_name.center(15, \"-\")\n",
    "\n",
    "print(f\"First Name Centered with WhiteSpace as + = \\n{center_first_name}\\n\")\n",
    "print(f\"Last Name Centered with WhiteSpace as - =  \\n{center_last_name}\")"
   ]
  },
  {
   "cell_type": "markdown",
   "id": "b7d6436f-3200-4823-8302-54dc70b02dc0",
   "metadata": {
    "jp-MarkdownHeadingCollapsed": true
   },
   "source": [
    "## count() -- Returns the number of times a specified value occurs in a string\n"
   ]
  },
  {
   "cell_type": "markdown",
   "id": "8ee7b30c-4a89-45d0-8a9c-e0894bc48e3c",
   "metadata": {},
   "source": [
    "#### count() -- Return the number of times a specified value occurs in a string"
   ]
  },
  {
   "cell_type": "code",
   "execution_count": 32,
   "id": "9623ea65-b982-4ce6-8510-1eb1373ffefc",
   "metadata": {},
   "outputs": [
    {
     "name": "stdout",
     "output_type": "stream",
     "text": [
      "Word Count 'mango' =  \n",
      "2\n"
     ]
    }
   ],
   "source": [
    "var_sentence = \"I love mangoes, mango are my favorite fruit\"\n",
    "\n",
    "word_count = var_sentence.count('mango')\n",
    "\n",
    "print(f\"Word Count 'mango' =  \\n{word_count}\")"
   ]
  },
  {
   "cell_type": "markdown",
   "id": "e60b584a-47c9-46d3-b6e1-8bf9838e555d",
   "metadata": {},
   "source": [
    "#### count() -- Return the number of times a specified value occurs in a string with start and end argument"
   ]
  },
  {
   "cell_type": "code",
   "execution_count": 38,
   "id": "7b5cc903-e68f-4316-b047-572f64158760",
   "metadata": {},
   "outputs": [
    {
     "name": "stdout",
     "output_type": "stream",
     "text": [
      "Word Count 'mango' =  \n",
      "1\n"
     ]
    }
   ],
   "source": [
    "var_sentence = \"I love mangoes, mango are my favorite fruit\"\n",
    "\n",
    "word_count = var_sentence.count(\"mango\", 10, 24)\n",
    "\n",
    "print(f\"Word Count 'mango' =  \\n{word_count}\")"
   ]
  },
  {
   "cell_type": "markdown",
   "id": "22ab2e8b-5fb2-49f1-bdd5-4247a5fc07ec",
   "metadata": {
    "jp-MarkdownHeadingCollapsed": true
   },
   "source": [
    "## encode() -- Returns an encoded version of the string\n"
   ]
  },
  {
   "cell_type": "markdown",
   "id": "df9e31d8-f4a4-41d2-b5f6-19be0d3bc128",
   "metadata": {},
   "source": [
    "#### encode() -- Return an encoded version of the string"
   ]
  },
  {
   "cell_type": "code",
   "execution_count": 40,
   "id": "0185b4d9-9101-4c9e-824f-19e8451b23a1",
   "metadata": {},
   "outputs": [
    {
     "name": "stdout",
     "output_type": "stream",
     "text": [
      "First Name Encoded = \n",
      "b'Muhammad Q\\xc3\\xa5sim'\n",
      "\n",
      "Last Name Encoded =  \n",
      "b'Iqbal'\n"
     ]
    }
   ],
   "source": [
    "first_name = \"Muhammad Qåsim\"\n",
    "last_name = \"Iqbal\"\n",
    "\n",
    "encode_first_name = first_name.encode()\n",
    "encode_last_name = last_name.encode()\n",
    "\n",
    "print(f\"First Name Encoded = \\n{encode_first_name}\\n\")\n",
    "print(f\"Last Name Encoded =  \\n{encode_last_name}\")"
   ]
  },
  {
   "cell_type": "markdown",
   "id": "231fa7d2-3731-4243-af64-ea4b4bb27796",
   "metadata": {},
   "source": [
    "#### encode() -- Return an encoded version of the string with encoding and errors arguments --> Default Encoding= 'utf-8', errors= 'strict'"
   ]
  },
  {
   "cell_type": "code",
   "execution_count": 49,
   "id": "b845f3a3-3c26-4faf-aee0-a37c42e68d4c",
   "metadata": {},
   "outputs": [
    {
     "name": "stdout",
     "output_type": "stream",
     "text": [
      "b'My Name is Muhammad Q\\\\xe5sim Iqbal' \n",
      "\n",
      "b'My Name is Muhammad Qsim Iqbal' \n",
      "\n",
      "b'My Name is Muhammad Q\\\\N{LATIN SMALL LETTER A WITH RING ABOVE}sim Iqbal' \n",
      "\n",
      "b'My Name is Muhammad Q?sim Iqbal' \n",
      "\n",
      "b'My Name is Muhammad Q&#229;sim Iqbal' \n",
      "\n"
     ]
    }
   ],
   "source": [
    "var_intro = \"My Name is Muhammad Qåsim Iqbal\"\n",
    "\n",
    "print(var_intro.encode(encoding=\"ascii\",errors=\"backslashreplace\"),'\\n')\n",
    "\n",
    "print(var_intro.encode(encoding=\"ascii\",errors=\"ignore\"),'\\n')\n",
    "\n",
    "print(var_intro.encode(encoding=\"ascii\",errors=\"namereplace\"),'\\n')\n",
    "\n",
    "print(var_intro.encode(encoding=\"ascii\",errors=\"replace\"),'\\n')\n",
    "\n",
    "print(var_intro.encode(encoding=\"ascii\",errors=\"xmlcharrefreplace\"),'\\n')"
   ]
  },
  {
   "cell_type": "markdown",
   "id": "d9b61736-95d7-4b46-99c6-936c1e64ee40",
   "metadata": {
    "jp-MarkdownHeadingCollapsed": true
   },
   "source": [
    "## endswith() -- Returns true if the string ends with the specified value"
   ]
  },
  {
   "cell_type": "markdown",
   "id": "ae8287c2-f819-462a-8b0a-c8051cf3dbe5",
   "metadata": {
    "jp-MarkdownHeadingCollapsed": true
   },
   "source": [
    "#### endswith() -- Returns true if the string ends with the specified value"
   ]
  },
  {
   "cell_type": "code",
   "execution_count": 1,
   "id": "1166302d-3e86-4062-a91d-e0c26d31a6c1",
   "metadata": {},
   "outputs": [
    {
     "name": "stdout",
     "output_type": "stream",
     "text": [
      "Sentence Ends with '.' : True\n"
     ]
    }
   ],
   "source": [
    "var = \"Hello, welcome to my world.\"\n",
    "\n",
    "var_endswith = var.endswith(\".\")\n",
    "\n",
    "print(f\"Sentence Ends with '.' : {var_endswith}\")"
   ]
  },
  {
   "cell_type": "markdown",
   "id": "9702abcb-fcfc-45ab-85f1-01b30d4efa17",
   "metadata": {
    "jp-MarkdownHeadingCollapsed": true
   },
   "source": [
    "#### endswith() -- Returns true if the string ends with the specified value and position start, end"
   ]
  },
  {
   "cell_type": "code",
   "execution_count": 3,
   "id": "a5983b8b-e233-4be7-9334-7d56453a7992",
   "metadata": {},
   "outputs": [
    {
     "name": "stdout",
     "output_type": "stream",
     "text": [
      "Sentence Ends with '.' : False\n"
     ]
    }
   ],
   "source": [
    "var = \"Hello, welcome to my world.\"\n",
    "\n",
    "var_endswith = var.endswith(\"my world.\", 5, 11)\n",
    "\n",
    "print(f\"Sentence Ends with '.' : {var_endswith}\")"
   ]
  },
  {
   "cell_type": "markdown",
   "id": "62de0bd7-f416-4ab3-a64a-2c08d53ef4f4",
   "metadata": {
    "jp-MarkdownHeadingCollapsed": true
   },
   "source": [
    "## expandtabs() --\tSets the tab size of the string"
   ]
  },
  {
   "cell_type": "code",
   "execution_count": 7,
   "id": "2fd805ed-b47f-413f-9a53-725e4eadcbcc",
   "metadata": {},
   "outputs": [
    {
     "name": "stdout",
     "output_type": "stream",
     "text": [
      "Plain Variable \n",
      "H\te\tl\tl\to\n",
      "\n",
      "Expand Tabs Variable with No Size \n",
      "H       e       l       l       o\n",
      "\n",
      "Expand Tabs Variable with Size 2 \n",
      "H e l l o\n",
      "\n",
      "Expand Tabs Variable with Size 4 \n",
      "H   e   l   l   o\n",
      "\n",
      "Expand Tabs Variable with Size 10 \n",
      "H         e         l         l         o\n",
      "\n"
     ]
    }
   ],
   "source": [
    "var = \"H\\te\\tl\\tl\\to\"\n",
    "\n",
    "print(f\"Plain Variable \\n{var}\\n\")\n",
    "print(f\"Expand Tabs Variable with No Size \\n{var.expandtabs()}\\n\")\n",
    "print(f\"Expand Tabs Variable with Size 2 \\n{var.expandtabs(2)}\\n\")\n",
    "print(f\"Expand Tabs Variable with Size 4 \\n{var.expandtabs(4)}\\n\")\n",
    "print(f\"Expand Tabs Variable with Size 10 \\n{var.expandtabs(10)}\\n\")"
   ]
  },
  {
   "cell_type": "markdown",
   "id": "df2351fc-97a9-4f79-81ef-10dd16977dab",
   "metadata": {
    "jp-MarkdownHeadingCollapsed": true
   },
   "source": [
    "## find() -- Searches the string for a specified value and returns the position of where it was found"
   ]
  },
  {
   "cell_type": "markdown",
   "id": "bea9e5c4-0da8-49f8-bb05-1955309bb67e",
   "metadata": {
    "jp-MarkdownHeadingCollapsed": true
   },
   "source": [
    "#### find() -- Searches the string for a specified value and returns the position(index) of where it was found"
   ]
  },
  {
   "cell_type": "code",
   "execution_count": 8,
   "id": "1884578d-8e55-4b1a-bcec-b617bd39d0a9",
   "metadata": {},
   "outputs": [
    {
     "name": "stdout",
     "output_type": "stream",
     "text": [
      "Word 'welcome' found at : 7\n"
     ]
    }
   ],
   "source": [
    "var = \"Hello, welcome to my world.\"\n",
    "\n",
    "var_find = var.find(\"welcome\")\n",
    "\n",
    "print(f\"Word 'welcome' found at : {var_find}\")"
   ]
  },
  {
   "cell_type": "markdown",
   "id": "9ad35332-4c65-4982-801e-9dc77559600b",
   "metadata": {
    "jp-MarkdownHeadingCollapsed": true
   },
   "source": [
    "#### find() -- Searches the string for a specified value and returns the position(index) of where it was found with position argument start,end"
   ]
  },
  {
   "cell_type": "code",
   "execution_count": 10,
   "id": "5ce783a4-84db-4ea2-aeb3-2a6db21fb997",
   "metadata": {},
   "outputs": [
    {
     "name": "stdout",
     "output_type": "stream",
     "text": [
      "Word found at : 8\n"
     ]
    }
   ],
   "source": [
    "var = \"Hello, welcome to my world.\"\n",
    "\n",
    "var_find = var.find(\"e\", 5, 10)\n",
    "\n",
    "print(f\"Word found at : {var_find}\")"
   ]
  },
  {
   "cell_type": "markdown",
   "id": "96e491de-d5fd-44ae-8755-b6b8b297061e",
   "metadata": {},
   "source": [
    "##### find() -- If the value is not found, the find() method returns -1, but the index() method will raise an exception"
   ]
  },
  {
   "cell_type": "code",
   "execution_count": 32,
   "id": "ff4f270e-ff70-40d4-bb6d-c12f8af3dcce",
   "metadata": {},
   "outputs": [
    {
     "name": "stdout",
     "output_type": "stream",
     "text": [
      "Word Position with Find \n",
      "-1\n",
      "\n"
     ]
    },
    {
     "ename": "ValueError",
     "evalue": "substring not found",
     "output_type": "error",
     "traceback": [
      "\u001b[1;31m---------------------------------------------------------------------------\u001b[0m",
      "\u001b[1;31mValueError\u001b[0m                                Traceback (most recent call last)",
      "Cell \u001b[1;32mIn[32], line 7\u001b[0m\n\u001b[0;32m      3\u001b[0m \u001b[38;5;28mprint\u001b[39m(\u001b[38;5;124mf\u001b[39m\u001b[38;5;124m\"\u001b[39m\u001b[38;5;124mWord Position with Find \u001b[39m\u001b[38;5;130;01m\\n\u001b[39;00m\u001b[38;5;132;01m{\u001b[39;00mvar\u001b[38;5;241m.\u001b[39mfind(\u001b[38;5;124m'\u001b[39m\u001b[38;5;124mq\u001b[39m\u001b[38;5;124m'\u001b[39m)\u001b[38;5;132;01m}\u001b[39;00m\u001b[38;5;130;01m\\n\u001b[39;00m\u001b[38;5;124m\"\u001b[39m)\n\u001b[0;32m      5\u001b[0m \u001b[38;5;66;03m#Index Method gives error if nothing found:\u001b[39;00m\n\u001b[1;32m----> 7\u001b[0m \u001b[38;5;28mprint\u001b[39m(\u001b[38;5;124mf\u001b[39m\u001b[38;5;124m\"\u001b[39m\u001b[38;5;124mWord Position with Index \u001b[39m\u001b[38;5;130;01m\\n\u001b[39;00m\u001b[38;5;132;01m{\u001b[39;00mvar\u001b[38;5;241m.\u001b[39mindex(\u001b[38;5;124m'\u001b[39m\u001b[38;5;124mq\u001b[39m\u001b[38;5;124m'\u001b[39m)\u001b[38;5;132;01m}\u001b[39;00m\u001b[38;5;124m\"\u001b[39m)\n",
      "\u001b[1;31mValueError\u001b[0m: substring not found"
     ]
    }
   ],
   "source": [
    "var = \"Hello, welcome to my world.\"\n",
    "\n",
    "print(f\"Word Position with Find \\n{var.find('q')}\\n\")\n",
    "\n",
    "#Index Method gives error if nothing found:\n",
    "\n",
    "print(f\"Word Position with Index \\n{var.index('q')}\")"
   ]
  },
  {
   "cell_type": "markdown",
   "id": "ba64bf27-6b9c-42cf-a5a3-dab18cbea7dc",
   "metadata": {},
   "source": [
    "## format() -- Formats specified values in a string"
   ]
  },
  {
   "cell_type": "markdown",
   "id": "d16537cd-d2d8-4da2-b58e-a1426ef40140",
   "metadata": {},
   "source": [
    "#### format() -- Formats specified values in a string within\n",
    "--The values in placeholder are defined using curly brackets: {}"
   ]
  },
  {
   "cell_type": "code",
   "execution_count": 27,
   "id": "ee68be70-6b78-4d58-99a6-cb05263ac87f",
   "metadata": {},
   "outputs": [
    {
     "name": "stdout",
     "output_type": "stream",
     "text": [
      "For only {price:.2f} dollars!\n",
      "For only 49.00 dollars!\n"
     ]
    }
   ],
   "source": [
    "var_1 = \"For only {price:.2f} dollars!\"\n",
    "\n",
    "print(f\"{var_1}\")\n",
    "print(f\"{var_1.format(price = 49)}\")"
   ]
  },
  {
   "cell_type": "code",
   "execution_count": 28,
   "id": "34c54030-a201-48a1-a178-2431cb45901c",
   "metadata": {},
   "outputs": [
    {
     "name": "stdout",
     "output_type": "stream",
     "text": [
      "My name is Qasim, I'm 25\n",
      "\n",
      "My name is Qasim, I'm 25\n",
      "\n",
      "My name is Qasim, I'm 25\n"
     ]
    }
   ],
   "source": [
    "var_1 = \"My name is {fname}, I'm {age}\".format(fname = \"Qasim\", age = 25)\n",
    "\n",
    "var_2 = \"My name is {0}, I'm {1}\".format(\"Qasim\",25)\n",
    "\n",
    "var_3 = \"My name is {}, I'm {}\".format(\"Qasim\",25)\n",
    "\n",
    "print(f\"{var_1}\\n\")\n",
    "print(f\"{var_2}\\n\")\n",
    "print(f\"{var_3}\")"
   ]
  },
  {
   "cell_type": "markdown",
   "id": "93b8b985-e43d-47ce-9f32-a1a25a32f27d",
   "metadata": {},
   "source": [
    "#### Formatting Types -- Inside the placeholders you can add a formatting type to format the result:"
   ]
  },
  {
   "cell_type": "raw",
   "id": "40a3ca33-ef00-4855-a9cd-e32b32428aa0",
   "metadata": {},
   "source": [
    "{:<}\t-->\tLeft aligns the result (within the available space)\n",
    "{:>}\t-->\tRight aligns the result (within the available space)\n",
    "{:^}\t-->\tCenter aligns the result (within the available space)\n",
    "{:=}\t-->\tPlaces the sign to the left most position\n",
    "{:+}\t-->\tUse a plus sign to indicate if the result is positive or negative\n",
    "{:-}\t-->\tUse a minus sign for negative values only\n",
    "{: }\t-->\tUse a space to insert an extra space before positive numbers (and a minus sign before negative numbers)\n",
    "{:,}\t-->\tUse a comma as a thousand separator\n",
    "{:_}\t-->\tUse a underscore as a thousand separator\n",
    "{:b}\t-->\tBinary format\n",
    "{:c}\t-->\tConverts the value into the corresponding unicode character\n",
    "{:d}\t-->\tDecimal format\n",
    "{:e}\t-->\tScientific format, with a lower case e\n",
    "{:E}\t-->\tScientific format, with an upper case E\n",
    "{:f}\t-->\tFix point number format\n",
    "{:F}\t-->\tFix point number format, in uppercase format (show inf and nan as INF and NAN)\n",
    "{:g}\t-->\tGeneral format\n",
    "{:G}\t-->\tGeneral format (using a upper case E for scientific notations)\n",
    "{:o}\t-->\tOctal format\n",
    "{:x}\t-->\tHex format, lower case\n",
    "{:X}\t-->\tHex format, upper case\n",
    "{:n}\t-->\tNumber format\n",
    "{:%}\t-->\tPercentage format"
   ]
  },
  {
   "cell_type": "code",
   "execution_count": 1,
   "id": "b01cf0d7-7286-4fc8-9812-eaf17d432d82",
   "metadata": {},
   "outputs": [
    {
     "name": "stdout",
     "output_type": "stream",
     "text": [
      "We have 49       chickens.\n"
     ]
    }
   ],
   "source": [
    "#To demonstrate, we insert the number 8 to set the available space for the value to 8 characters.\n",
    "\n",
    "#Use \"<\" to left-align the value:\n",
    "\n",
    "txt = \"We have {:<8} chickens.\"\n",
    "print(txt.format(49))"
   ]
  },
  {
   "cell_type": "code",
   "execution_count": 2,
   "id": "c0177f7f-dcbc-4850-a552-7c15bc507fee",
   "metadata": {},
   "outputs": [
    {
     "name": "stdout",
     "output_type": "stream",
     "text": [
      "We have       49 chickens.\n"
     ]
    }
   ],
   "source": [
    "#To demonstrate, we insert the number 8 to set the available space for the value to 8 characters.\n",
    "\n",
    "#Use \">\" to right-align the value:\n",
    "\n",
    "txt = \"We have {:>8} chickens.\"\n",
    "print(txt.format(49))"
   ]
  },
  {
   "cell_type": "code",
   "execution_count": 3,
   "id": "44713389-2fef-4995-a12d-233d5d16e700",
   "metadata": {},
   "outputs": [
    {
     "name": "stdout",
     "output_type": "stream",
     "text": [
      "We have    49    chickens.\n"
     ]
    }
   ],
   "source": [
    "#To demonstrate, we insert the number 8 to set the available space for the value to 8 characters.\n",
    "\n",
    "#Use \"^\" to center-align the value:\n",
    "\n",
    "txt = \"We have {:^8} chickens.\"\n",
    "print(txt.format(49))"
   ]
  },
  {
   "cell_type": "code",
   "execution_count": 4,
   "id": "55de367d-6495-4f38-929d-f25ca7666eed",
   "metadata": {},
   "outputs": [
    {
     "name": "stdout",
     "output_type": "stream",
     "text": [
      "The temperature is -      5 degrees celsius.\n"
     ]
    }
   ],
   "source": [
    "#To demonstrate, we insert the number 8 to specify the available space for the value.\n",
    "\n",
    "#Use \"=\" to place the plus/minus sign at the left most position:\n",
    "\n",
    "txt = \"The temperature is {:=8} degrees celsius.\"\n",
    "\n",
    "print(txt.format(-5))"
   ]
  },
  {
   "cell_type": "code",
   "execution_count": 5,
   "id": "595ac709-22da-4562-b081-b76f90982f2f",
   "metadata": {},
   "outputs": [
    {
     "name": "stdout",
     "output_type": "stream",
     "text": [
      "The temperature is between -3 and +7 degrees celsius.\n"
     ]
    }
   ],
   "source": [
    "#Use \"+\" to always indicate if the number is positive or negative:\n",
    "\n",
    "txt = \"The temperature is between {:+} and {:+} degrees celsius.\"\n",
    "\n",
    "print(txt.format(-3, 7))"
   ]
  },
  {
   "cell_type": "code",
   "execution_count": 6,
   "id": "d74006c7-092d-4755-a54e-a62b216067e0",
   "metadata": {},
   "outputs": [
    {
     "name": "stdout",
     "output_type": "stream",
     "text": [
      "The temperature is between -3 and 7 degrees celsius.\n"
     ]
    }
   ],
   "source": [
    "#Use \"-\" to always indicate if the number is negative (positive numbers are displayed without any sign):\n",
    "\n",
    "txt = \"The temperature is between {:-} and {:-} degrees celsius.\"\n",
    "\n",
    "print(txt.format(-3, 7))"
   ]
  },
  {
   "cell_type": "code",
   "execution_count": 7,
   "id": "1d057e38-b1bb-4ad9-8682-c88d0d4592a1",
   "metadata": {},
   "outputs": [
    {
     "name": "stdout",
     "output_type": "stream",
     "text": [
      "The temperature is between -3 and  7 degrees celsius.\n"
     ]
    }
   ],
   "source": [
    "#Use \" \" (a space) to insert a space before positive numbers and a minus sign before negative numbers:\n",
    "\n",
    "txt = \"The temperature is between {: } and {: } degrees celsius.\"\n",
    "\n",
    "print(txt.format(-3, 7))"
   ]
  },
  {
   "cell_type": "code",
   "execution_count": 8,
   "id": "9c247ae4-c688-4916-9ff1-43c2b83b288a",
   "metadata": {},
   "outputs": [
    {
     "name": "stdout",
     "output_type": "stream",
     "text": [
      "The universe is 13,800,000,000 years old.\n"
     ]
    }
   ],
   "source": [
    "#Use \",\" to add a comma as a thousand separator:\n",
    "\n",
    "txt = \"The universe is {:,} years old.\"\n",
    "\n",
    "print(txt.format(13800000000))"
   ]
  },
  {
   "cell_type": "code",
   "execution_count": 9,
   "id": "80bd4a12-3189-4944-bb50-1ec61ba582e5",
   "metadata": {},
   "outputs": [
    {
     "name": "stdout",
     "output_type": "stream",
     "text": [
      "The universe is 13_800_000_000 years old.\n"
     ]
    }
   ],
   "source": [
    "#Use \"_\" to add a underscore character as a thousand separator:\n",
    "\n",
    "txt = \"The universe is {:_} years old.\"\n",
    "\n",
    "print(txt.format(13800000000))"
   ]
  },
  {
   "cell_type": "code",
   "execution_count": 10,
   "id": "118e28c4-a0f3-4c6f-bd36-a2861d7d8d36",
   "metadata": {},
   "outputs": [
    {
     "name": "stdout",
     "output_type": "stream",
     "text": [
      "The binary version of 5 is 101\n"
     ]
    }
   ],
   "source": [
    "#Use \"b\" to convert the number into binary format:\n",
    "\n",
    "txt = \"The binary version of {0} is {0:b}\"\n",
    "\n",
    "print(txt.format(5))"
   ]
  },
  {
   "cell_type": "code",
   "execution_count": 12,
   "id": "fc3ea23f-cc70-47f4-8fdc-26d398641f3e",
   "metadata": {},
   "outputs": [
    {
     "name": "stdout",
     "output_type": "stream",
     "text": [
      "The unicode character of 115 is s\n"
     ]
    }
   ],
   "source": [
    "#Use \"c\" to convert the number into the corresponding unicode character:\n",
    "\n",
    "txt = \"The unicode character of {0} is {1:c}\"\n",
    "\n",
    "print(txt.format(115,115))"
   ]
  },
  {
   "cell_type": "code",
   "execution_count": 13,
   "id": "1049703f-be58-4015-90ee-ee1d8320a233",
   "metadata": {},
   "outputs": [
    {
     "name": "stdout",
     "output_type": "stream",
     "text": [
      "We have 5 chickens.\n"
     ]
    }
   ],
   "source": [
    "#Use \"d\" to convert a number, in this case a binary number, into decimal number format:\n",
    "\n",
    "txt = \"We have {:d} chickens.\"\n",
    "print(txt.format(0b101))"
   ]
  },
  {
   "cell_type": "code",
   "execution_count": 14,
   "id": "b4707408-a731-4f3d-9fa8-4b2aa02a622f",
   "metadata": {},
   "outputs": [
    {
     "name": "stdout",
     "output_type": "stream",
     "text": [
      "We have 5.000000e+00 chickens.\n"
     ]
    }
   ],
   "source": [
    "#Use \"e\" to convert a number into scientific number format (with a lower-case e):\n",
    "\n",
    "txt = \"We have {:e} chickens.\"\n",
    "print(txt.format(5))"
   ]
  },
  {
   "cell_type": "code",
   "execution_count": 15,
   "id": "6eb40a8a-5599-40d4-be4d-c0d910b10631",
   "metadata": {},
   "outputs": [
    {
     "name": "stdout",
     "output_type": "stream",
     "text": [
      "We have 5.000000E+00 chickens.\n"
     ]
    }
   ],
   "source": [
    "#Use \"E\" to convert a number into scientific number format (with an upper-case E):\n",
    "\n",
    "txt = \"We have {:E} chickens.\"\n",
    "print(txt.format(5))"
   ]
  },
  {
   "cell_type": "code",
   "execution_count": 22,
   "id": "3daef93d-679e-444e-80db-d492e7352c57",
   "metadata": {},
   "outputs": [
    {
     "name": "stdout",
     "output_type": "stream",
     "text": [
      "The price is 45.00 dollars.\n",
      "The price is 45.000000 dollars.\n"
     ]
    }
   ],
   "source": [
    "#Use \"f\" to convert a number into a fixed point number, default with 6 decimals,\n",
    "#but use a period followed by a number to specify the number of decimals:\n",
    "\n",
    "txt = \"The price is {:.2f} dollars.\"\n",
    "print(txt.format(45))\n",
    "\n",
    "#without the \".2\" inside the placeholder, this number will be displayed like this:\n",
    "\n",
    "txt = \"The price is {:f} dollars.\"\n",
    "print(txt.format(45))"
   ]
  },
  {
   "cell_type": "code",
   "execution_count": 17,
   "id": "30bf3119-92a8-4b12-9260-85f54d3f51a2",
   "metadata": {},
   "outputs": [
    {
     "name": "stdout",
     "output_type": "stream",
     "text": [
      "The price is INF dollars.\n",
      "The price is inf dollars.\n"
     ]
    }
   ],
   "source": [
    "#Use \"F\" to convert a number into a fixed point number, but display inf and nan as INF and NAN:\n",
    "\n",
    "x = float('inf')\n",
    "\n",
    "txt = \"The price is {:F} dollars.\"\n",
    "print(txt.format(x))\n",
    "\n",
    "#same example, but with a lower case f:\n",
    "\n",
    "txt = \"The price is {:f} dollars.\"\n",
    "print(txt.format(x))"
   ]
  },
  {
   "cell_type": "code",
   "execution_count": 18,
   "id": "8635c313-f3df-4187-8dd3-e03af1fe4c12",
   "metadata": {},
   "outputs": [
    {
     "name": "stdout",
     "output_type": "stream",
     "text": [
      "The price is 4.5e+15 dollars.\n",
      "The price is 4.5E+15 dollars.\n"
     ]
    }
   ],
   "source": [
    "#Use \"g\" for General format(Scientific Number Format):\n",
    "\n",
    "txt = \"The price is {:g} dollars.\"\n",
    "print(txt.format(4500000000000000))\n",
    "\n",
    "#Use \"G\" for General format (using a upper case E for scientific notations):\n",
    "\n",
    "txt = \"The price is {:G} dollars.\"\n",
    "print(txt.format(4500000000000000))"
   ]
  },
  {
   "cell_type": "code",
   "execution_count": 19,
   "id": "417fd452-ddf9-4162-9685-a5d5fc4982f1",
   "metadata": {},
   "outputs": [
    {
     "name": "stdout",
     "output_type": "stream",
     "text": [
      "The octal version of 10 is 12\n"
     ]
    }
   ],
   "source": [
    "#Use \"o\" to convert the number into octal format:\n",
    "\n",
    "txt = \"The octal version of {0} is {0:o}\"\n",
    "\n",
    "print(txt.format(10))"
   ]
  },
  {
   "cell_type": "code",
   "execution_count": 21,
   "id": "9eac7e95-84bb-475d-baff-0a5a231a1178",
   "metadata": {},
   "outputs": [
    {
     "name": "stdout",
     "output_type": "stream",
     "text": [
      "The Hexadecimal version of 255 is ff\n",
      "The Hexadecimal version of 50 is 32\n"
     ]
    }
   ],
   "source": [
    "#Use \"x\" to convert the number into Hex format:\n",
    "\n",
    "txt = \"The Hexadecimal version of {0} is {0:x}\"\n",
    "\n",
    "print(txt.format(255))\n",
    "\n",
    "#Use \"X\" to convert the number into upper-case Hex format:\n",
    "\n",
    "txt = \"The Hexadecimal version of {0} is {0:X}\"\n",
    "\n",
    "print(txt.format(50))"
   ]
  },
  {
   "cell_type": "code",
   "execution_count": 25,
   "id": "afb2424b-1c4b-40a1-8d13-1e03e55ee18b",
   "metadata": {},
   "outputs": [
    {
     "name": "stdout",
     "output_type": "stream",
     "text": [
      "You scored 75 marks.\n"
     ]
    }
   ],
   "source": [
    "#Use \"n\" Number format:\n",
    "\n",
    "txt = \"You scored {:n} marks.\"\n",
    "print(txt.format(75))"
   ]
  },
  {
   "cell_type": "code",
   "execution_count": 26,
   "id": "bec406c3-443d-4ec5-ac4e-271d75c129f8",
   "metadata": {},
   "outputs": [
    {
     "name": "stdout",
     "output_type": "stream",
     "text": [
      "You scored 25.000000%\n",
      "You scored 25%\n"
     ]
    }
   ],
   "source": [
    "#Use \"%\" to convert the number into a percentage format:\n",
    "\n",
    "txt = \"You scored {:%}\"\n",
    "print(txt.format(0.25))\n",
    "\n",
    "#Or, without any decimals:\n",
    "\n",
    "txt = \"You scored {:.0%}\"\n",
    "print(txt.format(0.25))"
   ]
  },
  {
   "cell_type": "markdown",
   "id": "4212feb7-3d47-44cc-b29f-72dce0cc36ab",
   "metadata": {},
   "source": [
    "## format_map() -- Formats specified values in a string"
   ]
  },
  {
   "cell_type": "code",
   "execution_count": 38,
   "id": "a641619f-98fc-45e7-8b31-f706b5a04364",
   "metadata": {},
   "outputs": [
    {
     "name": "stdout",
     "output_type": "stream",
     "text": [
      "John's last name is Wick\n"
     ]
    }
   ],
   "source": [
    "# input stored in variable a.\n",
    "a = {'x':'John', 'y':'Wick'}\n",
    "\n",
    "# Use of format_map() function\n",
    "print(\"{x}'s last name is {y}\".format_map(a))"
   ]
  },
  {
   "cell_type": "markdown",
   "id": "bbde2905-6e5f-4de3-893d-eb33a626c3f1",
   "metadata": {},
   "source": [
    "## index() -- Searches the string for a specified value and returns the position of where it was found"
   ]
  },
  {
   "cell_type": "code",
   "execution_count": 39,
   "id": "09f1f4f1-dddc-43ad-8c4d-78c2a4fe538f",
   "metadata": {},
   "outputs": [
    {
     "name": "stdout",
     "output_type": "stream",
     "text": [
      "Index of the Substring is : 12\n"
     ]
    }
   ],
   "source": [
    "var = \"Hello, welcome to my world.\"\n",
    "\n",
    "var_index = var.index('m')\n",
    "\n",
    "print(f\"Index of the Substring is : {var_index}\")"
   ]
  },
  {
   "cell_type": "code",
   "execution_count": 44,
   "id": "f5c7959b-8ee9-47f4-ba6e-1b9ff5436ff9",
   "metadata": {},
   "outputs": [
    {
     "name": "stdout",
     "output_type": "stream",
     "text": [
      "Index of the Substring Between 15 and 20 is : 18\n"
     ]
    }
   ],
   "source": [
    "var = \"Hello, welcome to my world.\"\n",
    "\n",
    "var_index = var.index('m', 15, 20)\n",
    "\n",
    "print(f\"Index of the Substring Between 15 and 20 is : {var_index}\")"
   ]
  },
  {
   "cell_type": "markdown",
   "id": "f034926b-b86e-45dc-ab7d-7ab00c55f118",
   "metadata": {
    "jp-MarkdownHeadingCollapsed": true
   },
   "source": [
    "## isalnum() -- Returns True if all characters in the string are alphanumeric"
   ]
  },
  {
   "cell_type": "code",
   "execution_count": 48,
   "id": "a6e86b02-82e1-4488-9f09-1ec151895a59",
   "metadata": {},
   "outputs": [
    {
     "name": "stdout",
     "output_type": "stream",
     "text": [
      "True\n"
     ]
    }
   ],
   "source": [
    "txt = \"Company12\"\n",
    "\n",
    "x = txt.isalnum()\n",
    "\n",
    "print(x)"
   ]
  },
  {
   "cell_type": "code",
   "execution_count": 47,
   "id": "de4b8fe5-a722-434a-93fc-f231df2b8d74",
   "metadata": {},
   "outputs": [
    {
     "name": "stdout",
     "output_type": "stream",
     "text": [
      "False\n"
     ]
    }
   ],
   "source": [
    "txt = \"Company 12\"\n",
    "\n",
    "x = txt.isalnum()\n",
    "\n",
    "print(x)"
   ]
  },
  {
   "cell_type": "markdown",
   "id": "7dced28a-cd04-40a7-8974-07481e09a845",
   "metadata": {
    "jp-MarkdownHeadingCollapsed": true
   },
   "source": [
    "## isalpha() -- Returns True if all characters in the string are in the alphabet"
   ]
  },
  {
   "cell_type": "code",
   "execution_count": 49,
   "id": "dd7a1f70-4498-4f02-9207-8b7194102a18",
   "metadata": {},
   "outputs": [
    {
     "name": "stdout",
     "output_type": "stream",
     "text": [
      "True\n"
     ]
    }
   ],
   "source": [
    "txt = \"CompanyX\"\n",
    "\n",
    "x = txt.isalpha()\n",
    "\n",
    "print(x)"
   ]
  },
  {
   "cell_type": "code",
   "execution_count": 50,
   "id": "e14928ae-17ad-4f13-a3f6-d82d11e88af0",
   "metadata": {},
   "outputs": [
    {
     "name": "stdout",
     "output_type": "stream",
     "text": [
      "False\n"
     ]
    }
   ],
   "source": [
    "txt = \"Company10\"\n",
    "\n",
    "x = txt.isalpha()\n",
    "\n",
    "print(x)"
   ]
  },
  {
   "cell_type": "markdown",
   "id": "87c8708a-797d-4c7d-8351-f7362b713da2",
   "metadata": {
    "jp-MarkdownHeadingCollapsed": true
   },
   "source": [
    "## isascii() -- Returns True if all characters in the string are ascii characters"
   ]
  },
  {
   "cell_type": "code",
   "execution_count": 55,
   "id": "9de88acd-1a94-41df-a46b-dc1d295acf28",
   "metadata": {},
   "outputs": [
    {
     "name": "stdout",
     "output_type": "stream",
     "text": [
      "True\n"
     ]
    }
   ],
   "source": [
    "txt = \"Company!@#123^\"\n",
    "\n",
    "# ascii = American Standard Code for Information Interchange\n",
    "# ascii all reference = https://www.w3schools.com/charsets/ref_html_ascii.asp\n",
    "\n",
    "x = txt.isascii()\n",
    "\n",
    "print(x)"
   ]
  },
  {
   "cell_type": "markdown",
   "id": "01938d49-ff37-4beb-9ffb-4e74992f80b2",
   "metadata": {
    "jp-MarkdownHeadingCollapsed": true
   },
   "source": [
    "## isdecimal() -- Returns True if all characters in the string are decimals"
   ]
  },
  {
   "cell_type": "code",
   "execution_count": 56,
   "id": "9b62915f-96f0-4124-9ece-1eb81bdfb499",
   "metadata": {},
   "outputs": [
    {
     "name": "stdout",
     "output_type": "stream",
     "text": [
      "True\n"
     ]
    }
   ],
   "source": [
    "txt = \"1234\"\n",
    "\n",
    "x = txt.isdecimal()\n",
    "\n",
    "print(x)"
   ]
  },
  {
   "cell_type": "code",
   "execution_count": 57,
   "id": "97771cc0-550a-45c9-94bc-13ff8cbb9283",
   "metadata": {},
   "outputs": [
    {
     "name": "stdout",
     "output_type": "stream",
     "text": [
      "True\n",
      "False\n"
     ]
    }
   ],
   "source": [
    "a = \"\\u0030\" #unicode for 0\n",
    "b = \"\\u0047\" #unicode for G\n",
    "\n",
    "print(a.isdecimal())\n",
    "print(b.isdecimal())"
   ]
  },
  {
   "cell_type": "markdown",
   "id": "70df5f75-94cb-422f-b5a0-2f685a697c0b",
   "metadata": {
    "jp-MarkdownHeadingCollapsed": true
   },
   "source": [
    "## isdigit() -- Returns True if all characters in the string are digits"
   ]
  },
  {
   "cell_type": "code",
   "execution_count": 58,
   "id": "9d62abe1-d82d-4ea4-9415-4659563bbc34",
   "metadata": {},
   "outputs": [
    {
     "name": "stdout",
     "output_type": "stream",
     "text": [
      "True\n"
     ]
    }
   ],
   "source": [
    "txt = \"50800\"\n",
    "\n",
    "x = txt.isdigit()\n",
    "\n",
    "print(x)"
   ]
  },
  {
   "cell_type": "code",
   "execution_count": 59,
   "id": "b86c41d7-649b-4588-b07b-b7aaa8a83ea3",
   "metadata": {},
   "outputs": [
    {
     "name": "stdout",
     "output_type": "stream",
     "text": [
      "True\n",
      "True\n"
     ]
    }
   ],
   "source": [
    "a = \"\\u0030\" #unicode for 0\n",
    "b = \"\\u00B2\" #unicode for ²\n",
    "\n",
    "print(a.isdigit())\n",
    "print(b.isdigit())"
   ]
  },
  {
   "cell_type": "markdown",
   "id": "1aa816ea-3eaa-4334-933b-58bbf36891fe",
   "metadata": {
    "jp-MarkdownHeadingCollapsed": true
   },
   "source": [
    "## isidentifier() -- Returns True if the string is an identifier"
   ]
  },
  {
   "cell_type": "code",
   "execution_count": 60,
   "id": "a1b162c4-bb5b-40b3-afdf-1f757e1998b5",
   "metadata": {},
   "outputs": [
    {
     "name": "stdout",
     "output_type": "stream",
     "text": [
      "True\n"
     ]
    }
   ],
   "source": [
    "txt = \"Demo\"\n",
    "\n",
    "x = txt.isidentifier()\n",
    "\n",
    "print(x)"
   ]
  },
  {
   "cell_type": "code",
   "execution_count": 61,
   "id": "ded13074-f07d-4aaf-aab9-0ea8489e5b08",
   "metadata": {},
   "outputs": [
    {
     "name": "stdout",
     "output_type": "stream",
     "text": [
      "True\n",
      "True\n",
      "False\n",
      "False\n"
     ]
    }
   ],
   "source": [
    "a = \"MyFolder\"\n",
    "b = \"Demo002\"\n",
    "c = \"2bring\"\n",
    "d = \"my demo\"\n",
    "\n",
    "print(a.isidentifier())\n",
    "print(b.isidentifier())\n",
    "print(c.isidentifier())\n",
    "print(d.isidentifier())"
   ]
  },
  {
   "cell_type": "markdown",
   "id": "586f1540-9e82-4715-be41-61554d721e2a",
   "metadata": {
    "jp-MarkdownHeadingCollapsed": true
   },
   "source": [
    "## islower() -- Returns True if all characters in the string are lower case"
   ]
  },
  {
   "cell_type": "code",
   "execution_count": 62,
   "id": "c0982819-892e-48db-9968-af4044e29ab7",
   "metadata": {},
   "outputs": [
    {
     "name": "stdout",
     "output_type": "stream",
     "text": [
      "True\n"
     ]
    }
   ],
   "source": [
    "txt = \"hello world!\"\n",
    "\n",
    "x = txt.islower()\n",
    "\n",
    "print(x)"
   ]
  },
  {
   "cell_type": "code",
   "execution_count": 63,
   "id": "4db96682-b089-4616-815b-0b7c74858e46",
   "metadata": {},
   "outputs": [
    {
     "name": "stdout",
     "output_type": "stream",
     "text": [
      "False\n",
      "True\n",
      "False\n"
     ]
    }
   ],
   "source": [
    "a = \"Hello world!\"\n",
    "b = \"hello 123\"\n",
    "c = \"mynameisPeter\"\n",
    "\n",
    "print(a.islower())\n",
    "print(b.islower())\n",
    "print(c.islower())"
   ]
  },
  {
   "cell_type": "markdown",
   "id": "81b6102e-e220-4593-978a-ced09fcf34e3",
   "metadata": {
    "jp-MarkdownHeadingCollapsed": true
   },
   "source": [
    "## isnumeric() -- Returns True if all characters in the string are numeric"
   ]
  },
  {
   "cell_type": "code",
   "execution_count": 64,
   "id": "c82b48f9-dd44-4383-b357-4dd5d1c39be5",
   "metadata": {},
   "outputs": [
    {
     "name": "stdout",
     "output_type": "stream",
     "text": [
      "True\n"
     ]
    }
   ],
   "source": [
    "txt = \"565543\"\n",
    "\n",
    "x = txt.isnumeric()\n",
    "\n",
    "print(x)"
   ]
  },
  {
   "cell_type": "code",
   "execution_count": 68,
   "id": "93377c12-35c7-4dbd-81d6-25a00b881d68",
   "metadata": {},
   "outputs": [
    {
     "name": "stdout",
     "output_type": "stream",
     "text": [
      "True\n",
      "True\n",
      "False\n",
      "False\n",
      "False\n"
     ]
    }
   ],
   "source": [
    "a = \"\\u0030\" #unicode for 0\n",
    "b = \"\\u00B2\" #unicode for &sup2;\n",
    "c = \"10km2\"\n",
    "d = \"-1\"\n",
    "e = \"1.5\"\n",
    "\n",
    "print(a.isnumeric())\n",
    "print(b.isnumeric())\n",
    "print(c.isnumeric())\n",
    "print(d.isnumeric())\n",
    "print(e.isnumeric())"
   ]
  },
  {
   "cell_type": "markdown",
   "id": "55fe4326-28bf-4795-bf89-c948fc850273",
   "metadata": {
    "jp-MarkdownHeadingCollapsed": true
   },
   "source": [
    "## isprintable() -- Returns True if all characters in the string are printable"
   ]
  },
  {
   "cell_type": "code",
   "execution_count": 69,
   "id": "8a60f93a-8b08-4c73-a168-6af00979b6b4",
   "metadata": {},
   "outputs": [
    {
     "name": "stdout",
     "output_type": "stream",
     "text": [
      "True\n"
     ]
    }
   ],
   "source": [
    "txt = \"Hello! Are you #1?\"\n",
    "\n",
    "x = txt.isprintable()\n",
    "\n",
    "print(x)"
   ]
  },
  {
   "cell_type": "code",
   "execution_count": 70,
   "id": "ddff5f1b-56ad-4dda-bcf9-9ccd6c6cbe5b",
   "metadata": {},
   "outputs": [
    {
     "name": "stdout",
     "output_type": "stream",
     "text": [
      "False\n"
     ]
    }
   ],
   "source": [
    "txt = \"Hello!\\nAre you #1?\"\n",
    "\n",
    "x = txt.isprintable()\n",
    "\n",
    "print(x)"
   ]
  },
  {
   "cell_type": "markdown",
   "id": "e2c1c163-a40e-4fda-9908-7ad0c771d26f",
   "metadata": {
    "jp-MarkdownHeadingCollapsed": true
   },
   "source": [
    "## isspace() -- Returns True if all characters in the string are whitespaces"
   ]
  },
  {
   "cell_type": "code",
   "execution_count": 71,
   "id": "2a2bf65e-6a1b-4971-aced-052c6f5d9212",
   "metadata": {},
   "outputs": [
    {
     "name": "stdout",
     "output_type": "stream",
     "text": [
      "True\n"
     ]
    }
   ],
   "source": [
    "txt = \"   \"\n",
    "\n",
    "x = txt.isspace()\n",
    "\n",
    "print(x)"
   ]
  },
  {
   "cell_type": "code",
   "execution_count": 72,
   "id": "3351b3af-32be-40b1-b2ca-d2cd16891495",
   "metadata": {},
   "outputs": [
    {
     "name": "stdout",
     "output_type": "stream",
     "text": [
      "False\n"
     ]
    }
   ],
   "source": [
    "txt = \"   s   \"\n",
    "\n",
    "x = txt.isspace()\n",
    "\n",
    "print(x)"
   ]
  },
  {
   "cell_type": "markdown",
   "id": "81fee452-1b43-4b1e-bb16-7d19536e2002",
   "metadata": {
    "jp-MarkdownHeadingCollapsed": true
   },
   "source": [
    "## istitle() -- Returns True if the string follows the rules of a title"
   ]
  },
  {
   "cell_type": "code",
   "execution_count": 73,
   "id": "d679fbb9-ff27-4192-b703-76b726c2ed1f",
   "metadata": {},
   "outputs": [
    {
     "name": "stdout",
     "output_type": "stream",
     "text": [
      "True\n"
     ]
    }
   ],
   "source": [
    "txt = \"Hello, And Welcome To My World!\"\n",
    "\n",
    "x = txt.istitle()\n",
    "\n",
    "print(x)"
   ]
  },
  {
   "cell_type": "code",
   "execution_count": 74,
   "id": "37664558-2a04-4cb3-9781-d1a391613795",
   "metadata": {},
   "outputs": [
    {
     "name": "stdout",
     "output_type": "stream",
     "text": [
      "False\n",
      "True\n",
      "True\n",
      "True\n"
     ]
    }
   ],
   "source": [
    "a = \"HELLO, AND WELCOME TO MY WORLD\"\n",
    "b = \"Hello\"\n",
    "c = \"22 Names\"\n",
    "d = \"This Is %'!?\"\n",
    "\n",
    "print(a.istitle())\n",
    "print(b.istitle())\n",
    "print(c.istitle())\n",
    "print(d.istitle())"
   ]
  },
  {
   "cell_type": "markdown",
   "id": "09e4c65f-d554-41f2-8caa-092108a205d0",
   "metadata": {
    "jp-MarkdownHeadingCollapsed": true
   },
   "source": [
    "## isupper() -- Returns True if all characters in the string are upper case"
   ]
  },
  {
   "cell_type": "code",
   "execution_count": 75,
   "id": "00a935e3-8365-43ce-b55d-81aab463e21f",
   "metadata": {},
   "outputs": [
    {
     "name": "stdout",
     "output_type": "stream",
     "text": [
      "True\n"
     ]
    }
   ],
   "source": [
    "txt = \"THIS IS NOW!\"\n",
    "\n",
    "x = txt.isupper()\n",
    "\n",
    "print(x)"
   ]
  },
  {
   "cell_type": "code",
   "execution_count": 76,
   "id": "980e533c-8a6a-4f72-bd34-fb86fd04c5de",
   "metadata": {},
   "outputs": [
    {
     "name": "stdout",
     "output_type": "stream",
     "text": [
      "False\n",
      "False\n",
      "True\n"
     ]
    }
   ],
   "source": [
    "a = \"Hello World!\"\n",
    "b = \"hello 123\"\n",
    "c = \"MY NAME IS PETER\"\n",
    "\n",
    "print(a.isupper())\n",
    "print(b.isupper())\n",
    "print(c.isupper())"
   ]
  },
  {
   "cell_type": "markdown",
   "id": "e617a386-1ec9-4b06-8f9f-786506f70da7",
   "metadata": {
    "jp-MarkdownHeadingCollapsed": true
   },
   "source": [
    "## join() -- Converts the elements of an iterable into a string"
   ]
  },
  {
   "cell_type": "code",
   "execution_count": 77,
   "id": "ede39459-ec64-48a2-b8b0-8d8b55b361cc",
   "metadata": {},
   "outputs": [
    {
     "name": "stdout",
     "output_type": "stream",
     "text": [
      "John#Peter#Vicky\n"
     ]
    }
   ],
   "source": [
    "myTuple = (\"John\", \"Peter\", \"Vicky\")\n",
    "\n",
    "x = \"#\".join(myTuple)\n",
    "\n",
    "print(x)"
   ]
  },
  {
   "cell_type": "code",
   "execution_count": 82,
   "id": "0e85350b-c572-4773-ba12-465a34a2e930",
   "metadata": {},
   "outputs": [
    {
     "name": "stdout",
     "output_type": "stream",
     "text": [
      "nameTESTcountry\n"
     ]
    }
   ],
   "source": [
    "myDict = {\"name\": \"John\", \"country\": \"Norway\"}\n",
    "mySeparator = \"TEST\"\n",
    "\n",
    "x = mySeparator.join(myDict)\n",
    "\n",
    "print(x)"
   ]
  },
  {
   "cell_type": "markdown",
   "id": "eb8ad2f8-4e90-456f-b2af-9e8f37da6636",
   "metadata": {
    "jp-MarkdownHeadingCollapsed": true
   },
   "source": [
    "## ljust() -- Returns a left justified version of the string"
   ]
  },
  {
   "cell_type": "code",
   "execution_count": 83,
   "id": "a7337efb-efa4-46da-8228-d46ce2088166",
   "metadata": {},
   "outputs": [
    {
     "name": "stdout",
     "output_type": "stream",
     "text": [
      "banana               is my favorite fruit.\n"
     ]
    }
   ],
   "source": [
    "txt = \"banana\"\n",
    "\n",
    "x = txt.ljust(20)\n",
    "\n",
    "print(x, \"is my favorite fruit.\")"
   ]
  },
  {
   "cell_type": "code",
   "execution_count": 84,
   "id": "43b152be-3d2b-49d4-b515-f9a641492e4f",
   "metadata": {},
   "outputs": [
    {
     "name": "stdout",
     "output_type": "stream",
     "text": [
      "bananaOOOOOOOOOOOOOO\n"
     ]
    }
   ],
   "source": [
    "txt = \"banana\"\n",
    "\n",
    "x = txt.ljust(20, \"O\")\n",
    "\n",
    "print(x)"
   ]
  },
  {
   "cell_type": "markdown",
   "id": "2fc9ea11-339a-4b27-a4b7-3d95d71e58f0",
   "metadata": {
    "jp-MarkdownHeadingCollapsed": true
   },
   "source": [
    "## lower() -- Converts a string into lower case"
   ]
  },
  {
   "cell_type": "code",
   "execution_count": 86,
   "id": "3b7fbfc4-d46c-4e3f-b0fe-c4d50441bb0c",
   "metadata": {},
   "outputs": [
    {
     "name": "stdout",
     "output_type": "stream",
     "text": [
      "hello my friends\n"
     ]
    }
   ],
   "source": [
    "txt = \"Hello my FRIENDS\"\n",
    "\n",
    "x = txt.lower()\n",
    "\n",
    "print(x)"
   ]
  },
  {
   "cell_type": "markdown",
   "id": "0215a9ed-516a-429d-8e0e-28a09c17b435",
   "metadata": {
    "jp-MarkdownHeadingCollapsed": true
   },
   "source": [
    "## lstrip() -- Returns a left trim version of the string"
   ]
  },
  {
   "cell_type": "code",
   "execution_count": 87,
   "id": "7740c652-b0b6-4805-b946-3567cc2a2d74",
   "metadata": {},
   "outputs": [
    {
     "name": "stdout",
     "output_type": "stream",
     "text": [
      "of all fruits banana      is my favorite\n"
     ]
    }
   ],
   "source": [
    "txt = \"     banana     \"\n",
    "\n",
    "x = txt.lstrip()\n",
    "\n",
    "print(\"of all fruits\", x, \"is my favorite\")"
   ]
  },
  {
   "cell_type": "code",
   "execution_count": 88,
   "id": "1cb75204-147b-4cf3-8a44-24fdd651a51f",
   "metadata": {},
   "outputs": [
    {
     "name": "stdout",
     "output_type": "stream",
     "text": [
      "banana\n"
     ]
    }
   ],
   "source": [
    "txt = \",,,,,ssaaww.....banana\"\n",
    "\n",
    "x = txt.lstrip(\",.asw\")\n",
    "\n",
    "print(x)"
   ]
  },
  {
   "cell_type": "markdown",
   "id": "b9d78a92-dbd7-45db-b7ca-2148bdaee0e3",
   "metadata": {
    "jp-MarkdownHeadingCollapsed": true
   },
   "source": [
    "## maketrans() -- Returns a translation table to be used in translations"
   ]
  },
  {
   "cell_type": "code",
   "execution_count": 89,
   "id": "1c7eb642-42dc-4fc4-b732-2211578cdb2e",
   "metadata": {},
   "outputs": [
    {
     "name": "stdout",
     "output_type": "stream",
     "text": [
      "Hello Pam!\n"
     ]
    }
   ],
   "source": [
    "txt = \"Hello Sam!\"\n",
    "mytable = str.maketrans(\"S\", \"P\")\n",
    "print(txt.translate(mytable))"
   ]
  },
  {
   "cell_type": "code",
   "execution_count": 90,
   "id": "854e6437-9ded-4d3a-b547-aeff52f690a7",
   "metadata": {},
   "outputs": [
    {
     "name": "stdout",
     "output_type": "stream",
     "text": [
      "Hi Joe!\n"
     ]
    }
   ],
   "source": [
    "txt = \"Hi Sam!\"\n",
    "x = \"mSa\"\n",
    "y = \"eJo\"\n",
    "mytable = str.maketrans(x, y)\n",
    "print(txt.translate(mytable))"
   ]
  },
  {
   "cell_type": "code",
   "execution_count": 91,
   "id": "e05e720d-920d-4ecf-83f4-b7edc912fb91",
   "metadata": {},
   "outputs": [
    {
     "name": "stdout",
     "output_type": "stream",
     "text": [
      "G i Joe!\n"
     ]
    }
   ],
   "source": [
    "txt = \"Good night Sam!\"\n",
    "x = \"mSa\"\n",
    "y = \"eJo\"\n",
    "z = \"odnght\"\n",
    "mytable = str.maketrans(x, y, z)\n",
    "print(txt.translate(mytable))"
   ]
  },
  {
   "cell_type": "code",
   "execution_count": 92,
   "id": "4d567d49-4372-4094-a1d7-b2c396af2ff2",
   "metadata": {},
   "outputs": [
    {
     "name": "stdout",
     "output_type": "stream",
     "text": [
      "{109: 101, 83: 74, 97: 111, 111: None, 100: None, 110: None, 103: None, 104: None, 116: None}\n"
     ]
    }
   ],
   "source": [
    "txt = \"Good night Sam!\"\n",
    "x = \"mSa\"\n",
    "y = \"eJo\"\n",
    "z = \"odnght\"\n",
    "print(str.maketrans(x, y, z))"
   ]
  },
  {
   "cell_type": "markdown",
   "id": "7c799f87-66b0-4655-861c-20aff2faeef4",
   "metadata": {
    "jp-MarkdownHeadingCollapsed": true
   },
   "source": [
    "## partition() -- Returns a tuple where the string is parted into three parts"
   ]
  },
  {
   "cell_type": "code",
   "execution_count": 93,
   "id": "fcfbf5af-b83d-4d49-9356-beaca589efc5",
   "metadata": {},
   "outputs": [
    {
     "name": "stdout",
     "output_type": "stream",
     "text": [
      "('I could eat ', 'bananas', ' all day')\n"
     ]
    }
   ],
   "source": [
    "txt = \"I could eat bananas all day\"\n",
    "\n",
    "x = txt.partition(\"bananas\")\n",
    "\n",
    "print(x)"
   ]
  },
  {
   "cell_type": "code",
   "execution_count": 94,
   "id": "c612c1b9-7b75-4aeb-a66a-9cfc751e7fae",
   "metadata": {},
   "outputs": [
    {
     "name": "stdout",
     "output_type": "stream",
     "text": [
      "('I could eat bananas all day', '', '')\n"
     ]
    }
   ],
   "source": [
    "txt = \"I could eat bananas all day\"\n",
    "\n",
    "x = txt.partition(\"apples\")\n",
    "\n",
    "print(x)"
   ]
  },
  {
   "cell_type": "markdown",
   "id": "ad3ef949-9f89-4a6a-b964-00210700c239",
   "metadata": {
    "jp-MarkdownHeadingCollapsed": true
   },
   "source": [
    "## replace() -- Returns a string where a specified value is replaced with a specified value"
   ]
  },
  {
   "cell_type": "code",
   "execution_count": 95,
   "id": "54df5737-5a0a-4703-afc6-e0d91edc41cc",
   "metadata": {},
   "outputs": [
    {
     "name": "stdout",
     "output_type": "stream",
     "text": [
      "I like apples\n"
     ]
    }
   ],
   "source": [
    "txt = \"I like bananas\"\n",
    "\n",
    "x = txt.replace(\"bananas\", \"apples\")\n",
    "\n",
    "print(x)"
   ]
  },
  {
   "cell_type": "code",
   "execution_count": 96,
   "id": "5e0775e6-dfcb-4443-9490-b47620b4669c",
   "metadata": {},
   "outputs": [
    {
     "name": "stdout",
     "output_type": "stream",
     "text": [
      "three three was a race horse, two two was three too.\n"
     ]
    }
   ],
   "source": [
    "txt = \"one one was a race horse, two two was one too.\"\n",
    "\n",
    "x = txt.replace(\"one\", \"three\")\n",
    "\n",
    "print(x)"
   ]
  },
  {
   "cell_type": "code",
   "execution_count": 97,
   "id": "d7e0c03d-24c2-4574-bc57-665a579bfd1b",
   "metadata": {},
   "outputs": [
    {
     "name": "stdout",
     "output_type": "stream",
     "text": [
      "three three was a race horse, two two was one too.\n"
     ]
    }
   ],
   "source": [
    "txt = \"one one was a race horse, two two was one too.\"\n",
    "\n",
    "x = txt.replace(\"one\", \"three\", 2)\n",
    "\n",
    "print(x)"
   ]
  },
  {
   "cell_type": "markdown",
   "id": "55ffe74a-bf33-4876-9097-ebed3e5a8c66",
   "metadata": {
    "jp-MarkdownHeadingCollapsed": true
   },
   "source": [
    "## rfind() -- Searches the string for a specified value and returns the last position of where it was found"
   ]
  },
  {
   "cell_type": "code",
   "execution_count": 98,
   "id": "c8d973f7-82b3-421b-93a6-6607fc1b4c58",
   "metadata": {},
   "outputs": [
    {
     "name": "stdout",
     "output_type": "stream",
     "text": [
      "12\n"
     ]
    }
   ],
   "source": [
    "txt = \"Mi casa, su casa.\"\n",
    "\n",
    "x = txt.rfind(\"casa\")\n",
    "\n",
    "print(x)"
   ]
  },
  {
   "cell_type": "code",
   "execution_count": 99,
   "id": "fbacf710-80a3-472c-b27c-bbc368cff7c7",
   "metadata": {},
   "outputs": [
    {
     "name": "stdout",
     "output_type": "stream",
     "text": [
      "13\n"
     ]
    }
   ],
   "source": [
    "txt = \"Hello, welcome to my world.\"\n",
    "\n",
    "x = txt.rfind(\"e\")\n",
    "\n",
    "print(x)"
   ]
  },
  {
   "cell_type": "code",
   "execution_count": 100,
   "id": "5c81734a-61dc-45fd-b263-9ec5a860643f",
   "metadata": {},
   "outputs": [
    {
     "name": "stdout",
     "output_type": "stream",
     "text": [
      "8\n"
     ]
    }
   ],
   "source": [
    "txt = \"Hello, welcome to my world.\"\n",
    "\n",
    "x = txt.rfind(\"e\", 5, 10)\n",
    "\n",
    "print(x)"
   ]
  },
  {
   "cell_type": "code",
   "execution_count": 103,
   "id": "00ec98fb-4f4f-42ba-9e1f-61cb686643f2",
   "metadata": {},
   "outputs": [
    {
     "name": "stdout",
     "output_type": "stream",
     "text": [
      "-1\n"
     ]
    },
    {
     "ename": "ValueError",
     "evalue": "substring not found",
     "output_type": "error",
     "traceback": [
      "\u001b[1;31m---------------------------------------------------------------------------\u001b[0m",
      "\u001b[1;31mValueError\u001b[0m                                Traceback (most recent call last)",
      "Cell \u001b[1;32mIn[103], line 5\u001b[0m\n\u001b[0;32m      3\u001b[0m \u001b[38;5;28mprint\u001b[39m(txt\u001b[38;5;241m.\u001b[39mrfind(\u001b[38;5;124m\"\u001b[39m\u001b[38;5;124mq\u001b[39m\u001b[38;5;124m\"\u001b[39m))\n\u001b[0;32m      4\u001b[0m \u001b[38;5;66;03m# rindex gives error it not found\u001b[39;00m\n\u001b[1;32m----> 5\u001b[0m \u001b[38;5;28mprint\u001b[39m(txt\u001b[38;5;241m.\u001b[39mrindex(\u001b[38;5;124m\"\u001b[39m\u001b[38;5;124mq\u001b[39m\u001b[38;5;124m\"\u001b[39m))\n",
      "\u001b[1;31mValueError\u001b[0m: substring not found"
     ]
    }
   ],
   "source": [
    "txt = \"Hello, welcome to my world.\"\n",
    "\n",
    "print(txt.rfind(\"q\"))\n",
    "\n",
    "# rindex gives error it not found\n",
    "print(txt.rindex(\"q\"))"
   ]
  },
  {
   "cell_type": "markdown",
   "id": "819345c9-3c16-4322-8cb6-f1c0b614294f",
   "metadata": {
    "jp-MarkdownHeadingCollapsed": true
   },
   "source": [
    "## rindex() -- Searches the string for a specified value and returns the last position of where it was found"
   ]
  },
  {
   "cell_type": "code",
   "execution_count": 104,
   "id": "bccc03b8-cdfb-4753-908e-09d4ae517033",
   "metadata": {},
   "outputs": [
    {
     "name": "stdout",
     "output_type": "stream",
     "text": [
      "12\n"
     ]
    }
   ],
   "source": [
    "txt = \"Mi casa, su casa.\"\n",
    "\n",
    "x = txt.rindex(\"casa\")\n",
    "\n",
    "print(x)"
   ]
  },
  {
   "cell_type": "code",
   "execution_count": 105,
   "id": "9373d9db-7f92-4db5-8668-e7de6c3d7b1f",
   "metadata": {},
   "outputs": [
    {
     "name": "stdout",
     "output_type": "stream",
     "text": [
      "13\n"
     ]
    }
   ],
   "source": [
    "txt = \"Hello, welcome to my world.\"\n",
    "\n",
    "x = txt.rindex(\"e\")\n",
    "\n",
    "print(x)"
   ]
  },
  {
   "cell_type": "code",
   "execution_count": 106,
   "id": "72154736-2f43-41b6-b7dd-14d494c2b709",
   "metadata": {},
   "outputs": [
    {
     "name": "stdout",
     "output_type": "stream",
     "text": [
      "8\n"
     ]
    }
   ],
   "source": [
    "txt = \"Hello, welcome to my world.\"\n",
    "\n",
    "x = txt.rindex(\"e\", 5, 10)\n",
    "\n",
    "print(x)"
   ]
  },
  {
   "cell_type": "code",
   "execution_count": 107,
   "id": "985c90bc-65a9-4db1-955c-84054e3e65f7",
   "metadata": {},
   "outputs": [
    {
     "name": "stdout",
     "output_type": "stream",
     "text": [
      "-1\n"
     ]
    },
    {
     "ename": "ValueError",
     "evalue": "substring not found",
     "output_type": "error",
     "traceback": [
      "\u001b[1;31m---------------------------------------------------------------------------\u001b[0m",
      "\u001b[1;31mValueError\u001b[0m                                Traceback (most recent call last)",
      "Cell \u001b[1;32mIn[107], line 4\u001b[0m\n\u001b[0;32m      1\u001b[0m txt \u001b[38;5;241m=\u001b[39m \u001b[38;5;124m\"\u001b[39m\u001b[38;5;124mHello, welcome to my world.\u001b[39m\u001b[38;5;124m\"\u001b[39m\n\u001b[0;32m      3\u001b[0m \u001b[38;5;28mprint\u001b[39m(txt\u001b[38;5;241m.\u001b[39mrfind(\u001b[38;5;124m\"\u001b[39m\u001b[38;5;124mq\u001b[39m\u001b[38;5;124m\"\u001b[39m))\n\u001b[1;32m----> 4\u001b[0m \u001b[38;5;28mprint\u001b[39m(txt\u001b[38;5;241m.\u001b[39mrindex(\u001b[38;5;124m\"\u001b[39m\u001b[38;5;124mq\u001b[39m\u001b[38;5;124m\"\u001b[39m))\n",
      "\u001b[1;31mValueError\u001b[0m: substring not found"
     ]
    }
   ],
   "source": [
    "txt = \"Hello, welcome to my world.\"\n",
    "\n",
    "print(txt.rfind(\"q\"))\n",
    "print(txt.rindex(\"q\"))"
   ]
  },
  {
   "cell_type": "markdown",
   "id": "d43e9405-bf15-49ff-a29f-79650d38aac6",
   "metadata": {
    "jp-MarkdownHeadingCollapsed": true
   },
   "source": [
    "## rjust() -- Returns a right justified version of the string"
   ]
  },
  {
   "cell_type": "code",
   "execution_count": 108,
   "id": "3f981789-5525-4726-a21f-97f951a0e748",
   "metadata": {},
   "outputs": [
    {
     "name": "stdout",
     "output_type": "stream",
     "text": [
      "              banana is my favorite fruit.\n"
     ]
    }
   ],
   "source": [
    "txt = \"banana\"\n",
    "\n",
    "x = txt.rjust(20)\n",
    "\n",
    "print(x, \"is my favorite fruit.\")"
   ]
  },
  {
   "cell_type": "code",
   "execution_count": 109,
   "id": "960183bf-132a-4f98-b669-a040a62c275d",
   "metadata": {},
   "outputs": [
    {
     "name": "stdout",
     "output_type": "stream",
     "text": [
      "OOOOOOOOOOOOOObanana\n"
     ]
    }
   ],
   "source": [
    "txt = \"banana\"\n",
    "\n",
    "x = txt.rjust(20, \"O\")\n",
    "\n",
    "print(x)"
   ]
  },
  {
   "cell_type": "markdown",
   "id": "93829569-0e1c-482c-9ddc-cc5fbba07373",
   "metadata": {
    "jp-MarkdownHeadingCollapsed": true
   },
   "source": [
    "## rpartition() -- Returns a tuple where the string is parted into three parts"
   ]
  },
  {
   "cell_type": "code",
   "execution_count": 110,
   "id": "aaf38ef9-c99c-43d9-adb1-0650a4a86206",
   "metadata": {},
   "outputs": [
    {
     "name": "stdout",
     "output_type": "stream",
     "text": [
      "('I could eat bananas all day, ', 'bananas', ' are my favorite fruit')\n"
     ]
    }
   ],
   "source": [
    "txt = \"I could eat bananas all day, bananas are my favorite fruit\"\n",
    "\n",
    "x = txt.rpartition(\"bananas\")\n",
    "\n",
    "print(x)"
   ]
  },
  {
   "cell_type": "code",
   "execution_count": 111,
   "id": "7c6d3e26-d160-4393-9397-02126e5251e1",
   "metadata": {},
   "outputs": [
    {
     "name": "stdout",
     "output_type": "stream",
     "text": [
      "('', '', 'I could eat bananas all day, bananas are my favorite fruit')\n"
     ]
    }
   ],
   "source": [
    "txt = \"I could eat bananas all day, bananas are my favorite fruit\"\n",
    "\n",
    "x = txt.rpartition(\"apples\")\n",
    "\n",
    "print(x)"
   ]
  },
  {
   "cell_type": "markdown",
   "id": "c05eedb7-b1f1-43a0-9c9c-7e4085e4ec68",
   "metadata": {
    "jp-MarkdownHeadingCollapsed": true
   },
   "source": [
    "## rsplit() -- Splits the string at the specified separator, and returns a list"
   ]
  },
  {
   "cell_type": "code",
   "execution_count": 112,
   "id": "c46c6a01-0e0d-40bd-85cd-470b9a17e8a5",
   "metadata": {},
   "outputs": [
    {
     "name": "stdout",
     "output_type": "stream",
     "text": [
      "['apple', 'banana', 'cherry']\n"
     ]
    }
   ],
   "source": [
    "txt = \"apple, banana, cherry\"\n",
    "\n",
    "x = txt.rsplit(\", \")\n",
    "\n",
    "print(x)"
   ]
  },
  {
   "cell_type": "code",
   "execution_count": 113,
   "id": "b858fce3-3d8d-448f-9939-0705bbd681cd",
   "metadata": {},
   "outputs": [
    {
     "name": "stdout",
     "output_type": "stream",
     "text": [
      "['apple, banana', 'cherry']\n"
     ]
    }
   ],
   "source": [
    "txt = \"apple, banana, cherry\"\n",
    "\n",
    "# setting the maxsplit parameter to 1, will return a list with 2 elements!\n",
    "x = txt.rsplit(\", \", 1)\n",
    "\n",
    "print(x)"
   ]
  },
  {
   "cell_type": "markdown",
   "id": "0e8eeb41-e297-4c49-9382-ba99e3a88e93",
   "metadata": {
    "jp-MarkdownHeadingCollapsed": true
   },
   "source": [
    "## rstrip() -- Returns a right trim version of the string"
   ]
  },
  {
   "cell_type": "code",
   "execution_count": 114,
   "id": "910772fc-871a-48c3-b42c-00c9e498622b",
   "metadata": {},
   "outputs": [
    {
     "name": "stdout",
     "output_type": "stream",
     "text": [
      "of all fruits      banana is my favorite\n"
     ]
    }
   ],
   "source": [
    "txt = \"     banana     \"\n",
    "\n",
    "x = txt.rstrip()\n",
    "\n",
    "print(\"of all fruits\", x, \"is my favorite\")"
   ]
  },
  {
   "cell_type": "code",
   "execution_count": 115,
   "id": "a8e0c95a-a79e-4a3b-a916-fde688c11dd1",
   "metadata": {},
   "outputs": [
    {
     "name": "stdout",
     "output_type": "stream",
     "text": [
      "banana\n"
     ]
    }
   ],
   "source": [
    "txt = \"banana,,,,,ssqqqww.....\"\n",
    "\n",
    "x = txt.rstrip(\",.qsw\")\n",
    "\n",
    "print(x)"
   ]
  },
  {
   "cell_type": "markdown",
   "id": "d8f47863-893e-443a-9e4b-0711a961137a",
   "metadata": {
    "jp-MarkdownHeadingCollapsed": true
   },
   "source": [
    "## split() -- Splits the string at the specified separator, and returns a list"
   ]
  },
  {
   "cell_type": "code",
   "execution_count": 116,
   "id": "c5d0b798-12b4-44ab-83ef-77df052b45ea",
   "metadata": {},
   "outputs": [
    {
     "name": "stdout",
     "output_type": "stream",
     "text": [
      "['welcome', 'to', 'the', 'jungle']\n"
     ]
    }
   ],
   "source": [
    "txt = \"welcome to the jungle\"\n",
    "\n",
    "x = txt.split()\n",
    "\n",
    "print(x)"
   ]
  },
  {
   "cell_type": "code",
   "execution_count": 117,
   "id": "8db4c200-f284-4dc4-bd6f-849acb526849",
   "metadata": {},
   "outputs": [
    {
     "name": "stdout",
     "output_type": "stream",
     "text": [
      "['hello', 'my name is Peter', 'I am 26 years old']\n"
     ]
    }
   ],
   "source": [
    "txt = \"hello, my name is Peter, I am 26 years old\"\n",
    "\n",
    "x = txt.split(\", \")\n",
    "\n",
    "print(x)"
   ]
  },
  {
   "cell_type": "code",
   "execution_count": 118,
   "id": "189abb18-14ec-477d-b315-db1f171b17d6",
   "metadata": {},
   "outputs": [
    {
     "name": "stdout",
     "output_type": "stream",
     "text": [
      "['apple', 'banana', 'cherry', 'orange']\n"
     ]
    }
   ],
   "source": [
    "txt = \"apple#banana#cherry#orange\"\n",
    "\n",
    "x = txt.split(\"#\")\n",
    "\n",
    "print(x)"
   ]
  },
  {
   "cell_type": "code",
   "execution_count": 119,
   "id": "74b5a774-f259-4e15-b1c5-ca53b9d13645",
   "metadata": {},
   "outputs": [
    {
     "name": "stdout",
     "output_type": "stream",
     "text": [
      "['apple', 'banana#cherry#orange']\n"
     ]
    }
   ],
   "source": [
    "txt = \"apple#banana#cherry#orange\"\n",
    "\n",
    "# setting the maxsplit parameter to 1, will return a list with 2 elements!\n",
    "x = txt.split(\"#\", 1)\n",
    "\n",
    "print(x)"
   ]
  },
  {
   "cell_type": "markdown",
   "id": "2d762a43-446e-4700-bb84-f305a18ae483",
   "metadata": {
    "jp-MarkdownHeadingCollapsed": true
   },
   "source": [
    "## splitlines() -- Splits the string at line breaks and returns a list"
   ]
  },
  {
   "cell_type": "code",
   "execution_count": 120,
   "id": "300baa4c-eb19-4780-bbcb-281a00f0f342",
   "metadata": {},
   "outputs": [
    {
     "name": "stdout",
     "output_type": "stream",
     "text": [
      "['Thank you for the music', 'Welcome to the jungle']\n"
     ]
    }
   ],
   "source": [
    "txt = \"Thank you for the music\\nWelcome to the jungle\"\n",
    "\n",
    "x = txt.splitlines()\n",
    "\n",
    "print(x)"
   ]
  },
  {
   "cell_type": "code",
   "execution_count": 121,
   "id": "31100fd4-4246-4010-b4fd-95d9a6b9a5d0",
   "metadata": {},
   "outputs": [
    {
     "name": "stdout",
     "output_type": "stream",
     "text": [
      "['Thank you for the music\\n', 'Welcome to the jungle']\n"
     ]
    }
   ],
   "source": [
    "txt = \"Thank you for the music\\nWelcome to the jungle\"\n",
    "\n",
    "x = txt.splitlines(True)\n",
    "\n",
    "print(x)"
   ]
  },
  {
   "cell_type": "markdown",
   "id": "7b33e33d-a830-450e-a85f-da1e3bc3cb66",
   "metadata": {
    "jp-MarkdownHeadingCollapsed": true
   },
   "source": [
    "## startswith() -- Returns true if the string starts with the specified value"
   ]
  },
  {
   "cell_type": "code",
   "execution_count": 122,
   "id": "022bd4d3-5a43-4f03-b922-5f6cc8ea300f",
   "metadata": {},
   "outputs": [
    {
     "name": "stdout",
     "output_type": "stream",
     "text": [
      "True\n"
     ]
    }
   ],
   "source": [
    "txt = \"Hello, welcome to my world.\"\n",
    "\n",
    "x = txt.startswith(\"Hello\")\n",
    "\n",
    "print(x)"
   ]
  },
  {
   "cell_type": "code",
   "execution_count": 125,
   "id": "e99b57db-55dd-45c5-8616-28e7f1a8b870",
   "metadata": {},
   "outputs": [
    {
     "name": "stdout",
     "output_type": "stream",
     "text": [
      "True\n"
     ]
    }
   ],
   "source": [
    "txt = \"Hello, welcome to my world.\"\n",
    "\n",
    "x = txt.startswith(\"wel\", 7, 20)\n",
    "\n",
    "print(x)"
   ]
  },
  {
   "cell_type": "markdown",
   "id": "b35ee2c7-e75c-4574-9f27-812843b9effd",
   "metadata": {
    "jp-MarkdownHeadingCollapsed": true
   },
   "source": [
    "## strip() -- Returns a trimmed version of the string"
   ]
  },
  {
   "cell_type": "code",
   "execution_count": 126,
   "id": "3c80a427-1e40-490e-8c3a-215606cce2e6",
   "metadata": {},
   "outputs": [
    {
     "name": "stdout",
     "output_type": "stream",
     "text": [
      "of all fruits banana is my favorite\n"
     ]
    }
   ],
   "source": [
    "txt = \"     banana     \"\n",
    "\n",
    "x = txt.strip()\n",
    "\n",
    "print(\"of all fruits\", x, \"is my favorite\")"
   ]
  },
  {
   "cell_type": "code",
   "execution_count": 127,
   "id": "e963eb24-b511-42db-9553-9f8e2227f03a",
   "metadata": {},
   "outputs": [
    {
     "name": "stdout",
     "output_type": "stream",
     "text": [
      "banana\n"
     ]
    }
   ],
   "source": [
    "txt = \",,,,,rrttgg.....banana....rrr\"\n",
    "\n",
    "x = txt.strip(\",.grt\")\n",
    "\n",
    "print(x)"
   ]
  },
  {
   "cell_type": "markdown",
   "id": "e54b8014-6773-4eb0-a8d1-d46ade44b703",
   "metadata": {
    "jp-MarkdownHeadingCollapsed": true
   },
   "source": [
    "## swapcase() -- Swaps cases, lower case becomes upper case and vice versa"
   ]
  },
  {
   "cell_type": "code",
   "execution_count": 128,
   "id": "8f238fdc-16f6-4d11-9f0d-e78915806b25",
   "metadata": {},
   "outputs": [
    {
     "name": "stdout",
     "output_type": "stream",
     "text": [
      "hELLO mY nAME iS peter\n"
     ]
    }
   ],
   "source": [
    "txt = \"Hello My Name Is PETER\"\n",
    "\n",
    "x = txt.swapcase()\n",
    "\n",
    "print(x)"
   ]
  },
  {
   "cell_type": "markdown",
   "id": "d0b088c7-562d-4b6d-b48b-1c9e1bb9b361",
   "metadata": {
    "jp-MarkdownHeadingCollapsed": true
   },
   "source": [
    "## title() -- Converts the first character of each word to upper case"
   ]
  },
  {
   "cell_type": "code",
   "execution_count": 129,
   "id": "8c1c7cdd-39d1-4a76-b2c0-ca84ca64c408",
   "metadata": {},
   "outputs": [
    {
     "name": "stdout",
     "output_type": "stream",
     "text": [
      "Welcome To My World\n"
     ]
    }
   ],
   "source": [
    "txt = \"Welcome to my world\"\n",
    "\n",
    "x = txt.title()\n",
    "\n",
    "print(x)"
   ]
  },
  {
   "cell_type": "code",
   "execution_count": 130,
   "id": "7f7c378a-def0-4767-b35d-926176d04853",
   "metadata": {},
   "outputs": [
    {
     "name": "stdout",
     "output_type": "stream",
     "text": [
      "Welcome To My 2Nd World\n"
     ]
    }
   ],
   "source": [
    "txt = \"Welcome to my 2nd world\"\n",
    "\n",
    "x = txt.title()\n",
    "\n",
    "print(x)"
   ]
  },
  {
   "cell_type": "code",
   "execution_count": 131,
   "id": "281886af-8a67-45fd-8c72-6b2691e6bdca",
   "metadata": {},
   "outputs": [
    {
     "name": "stdout",
     "output_type": "stream",
     "text": [
      "Hello B2B2B2 And 3G3G3G\n"
     ]
    }
   ],
   "source": [
    "txt = \"hello b2b2b2 and 3g3g3g\"\n",
    "\n",
    "x = txt.title()\n",
    "\n",
    "print(x)"
   ]
  },
  {
   "cell_type": "markdown",
   "id": "ba72fad6-9a7f-448f-bd2f-65c83bf0d6df",
   "metadata": {
    "jp-MarkdownHeadingCollapsed": true
   },
   "source": [
    "## translate() -- Returns a translated string"
   ]
  },
  {
   "cell_type": "code",
   "execution_count": 132,
   "id": "6504c723-a25c-4b45-ba2b-06a371b70d87",
   "metadata": {},
   "outputs": [
    {
     "name": "stdout",
     "output_type": "stream",
     "text": [
      "Hello Pam!\n"
     ]
    }
   ],
   "source": [
    "#use a dictionary with ascii codes to replace 83 (S) with 80 (P):\n",
    "mydict = {83:  80}\n",
    "txt = \"Hello Sam!\"\n",
    "print(txt.translate(mydict))"
   ]
  },
  {
   "cell_type": "markdown",
   "id": "df464f0a-cf6d-4f59-947d-d8e3f61e3ba0",
   "metadata": {
    "jp-MarkdownHeadingCollapsed": true
   },
   "source": [
    "#### With Mapping Table -- maketrans()"
   ]
  },
  {
   "cell_type": "code",
   "execution_count": 133,
   "id": "5d369af9-6f56-47dd-95cc-f6639f4cdb34",
   "metadata": {},
   "outputs": [
    {
     "name": "stdout",
     "output_type": "stream",
     "text": [
      "Hello Pam!\n"
     ]
    }
   ],
   "source": [
    "txt = \"Hello Sam!\"\n",
    "mytable = str.maketrans(\"S\", \"P\")\n",
    "print(txt.translate(mytable))"
   ]
  },
  {
   "cell_type": "code",
   "execution_count": 134,
   "id": "ea2bb7d3-48d1-418e-a738-9b90aea1ebf5",
   "metadata": {},
   "outputs": [
    {
     "name": "stdout",
     "output_type": "stream",
     "text": [
      "Hi Joe!\n"
     ]
    }
   ],
   "source": [
    "txt = \"Hi Sam!\"\n",
    "x = \"mSa\"\n",
    "y = \"eJo\"\n",
    "mytable = str.maketrans(x, y)\n",
    "print(txt.translate(mytable))"
   ]
  },
  {
   "cell_type": "code",
   "execution_count": 135,
   "id": "15470c70-60a4-46f4-b1e2-317fcbeaedbf",
   "metadata": {},
   "outputs": [
    {
     "name": "stdout",
     "output_type": "stream",
     "text": [
      "G i Joe!\n"
     ]
    }
   ],
   "source": [
    "txt = \"Good night Sam!\"\n",
    "x = \"mSa\"\n",
    "y = \"eJo\"\n",
    "z = \"odnght\"\n",
    "mytable = str.maketrans(x, y, z)\n",
    "print(txt.translate(mytable))"
   ]
  },
  {
   "cell_type": "code",
   "execution_count": 136,
   "id": "2c9771ae-a3f7-44cf-9241-6f7b54f3ea30",
   "metadata": {},
   "outputs": [
    {
     "name": "stdout",
     "output_type": "stream",
     "text": [
      "G i Joe!\n"
     ]
    }
   ],
   "source": [
    "# Without Mapping Table -- maketrans\n",
    "txt = \"Good night Sam!\"\n",
    "mydict = {109: 101, 83: 74, 97: 111, 111: None, 100: None, 110: None, 103: None, 104: None, 116: None}\n",
    "print(txt.translate(mydict))"
   ]
  },
  {
   "cell_type": "markdown",
   "id": "91a1d0d4-e01f-4865-8fbd-6e579225bf78",
   "metadata": {
    "jp-MarkdownHeadingCollapsed": true
   },
   "source": [
    "## upper() -- Converts a string into upper case"
   ]
  },
  {
   "cell_type": "code",
   "execution_count": 137,
   "id": "d95fc8b7-d27e-4c90-8a6c-7b0c66b1bd5b",
   "metadata": {},
   "outputs": [
    {
     "name": "stdout",
     "output_type": "stream",
     "text": [
      "HELLO MY FRIENDS\n"
     ]
    }
   ],
   "source": [
    "txt = \"Hello my friends\"\n",
    "\n",
    "x = txt.upper()\n",
    "\n",
    "print(x)"
   ]
  },
  {
   "cell_type": "markdown",
   "id": "8bbdc1a3-ff25-45d4-8e24-d61c35662118",
   "metadata": {
    "jp-MarkdownHeadingCollapsed": true
   },
   "source": [
    "## zfill() -- Fills the string with a specified number of 0 values at the beginning"
   ]
  },
  {
   "cell_type": "code",
   "execution_count": 138,
   "id": "ff4de0cc-fda2-4d33-8c56-53c280c28319",
   "metadata": {},
   "outputs": [
    {
     "name": "stdout",
     "output_type": "stream",
     "text": [
      "0000000050\n"
     ]
    }
   ],
   "source": [
    "txt = \"50\"\n",
    "\n",
    "x = txt.zfill(10)\n",
    "\n",
    "print(x)"
   ]
  },
  {
   "cell_type": "code",
   "execution_count": 139,
   "id": "a40e1d52-8a94-417a-85f2-51872b7d5c16",
   "metadata": {},
   "outputs": [
    {
     "name": "stdout",
     "output_type": "stream",
     "text": [
      "00000hello\n",
      "welcome to the jungle\n",
      "000010.000\n"
     ]
    }
   ],
   "source": [
    "a = \"hello\"\n",
    "b = \"welcome to the jungle\"\n",
    "c = \"10.000\"\n",
    "\n",
    "print(a.zfill(10))\n",
    "print(b.zfill(10))\n",
    "print(c.zfill(10))"
   ]
  }
 ],
 "metadata": {
  "kernelspec": {
   "display_name": "Python 3 (ipykernel)",
   "language": "python",
   "name": "python3"
  },
  "language_info": {
   "codemirror_mode": {
    "name": "ipython",
    "version": 3
   },
   "file_extension": ".py",
   "mimetype": "text/x-python",
   "name": "python",
   "nbconvert_exporter": "python",
   "pygments_lexer": "ipython3",
   "version": "3.11.7"
  }
 },
 "nbformat": 4,
 "nbformat_minor": 5
}
